{
  "nbformat": 4,
  "nbformat_minor": 0,
  "metadata": {
    "colab": {
      "provenance": [],
      "gpuType": "T4"
    },
    "kernelspec": {
      "name": "python3",
      "display_name": "Python 3"
    },
    "language_info": {
      "name": "python"
    },
    "accelerator": "GPU"
  },
  "cells": [
    {
      "cell_type": "code",
      "execution_count": null,
      "metadata": {
        "colab": {
          "base_uri": "https://localhost:8080/"
        },
        "id": "ZU0otNutzZks",
        "outputId": "c931b729-7f2b-42db-b8a0-9dee755129e1"
      },
      "outputs": [
        {
          "output_type": "stream",
          "name": "stdout",
          "text": [
            "Reading package lists... Done\n",
            "Building dependency tree... Done\n",
            "Reading state information... Done\n",
            "unrar is already the newest version (1:6.1.5-1ubuntu0.1).\n",
            "0 upgraded, 0 newly installed, 0 to remove and 34 not upgraded.\n"
          ]
        }
      ],
      "source": [
        "!apt-get install unrar\n"
      ]
    },
    {
      "cell_type": "code",
      "source": [
        "!unrar x label.rar"
      ],
      "metadata": {
        "colab": {
          "base_uri": "https://localhost:8080/"
        },
        "id": "co5JgQafzt18",
        "outputId": "7d8104b7-e2d1-4af5-826f-f21808edfe6d"
      },
      "execution_count": null,
      "outputs": [
        {
          "output_type": "stream",
          "name": "stdout",
          "text": [
            "\n",
            "UNRAR 6.11 beta 1 freeware      Copyright (c) 1993-2022 Alexander Roshal\n",
            "\n",
            "\n",
            "Extracting from label.rar\n",
            "\n",
            "Creating    label                                                     OK\n",
            "Creating    label/train                                               OK\n",
            "Extracting  label/train/img-100_jpg.rf.233751cac3399aa80b5e58a2afbb753a.txt     \b\b\b\b  0%\b\b\b\b\b  OK \n",
            "Extracting  label/train/img-101_jpg.rf.f213d98946c4f8858a5bf3200c89e39c.txt     \b\b\b\b  0%\b\b\b\b\b  OK \n",
            "Extracting  label/train/img-102_jpg.rf.16c56ff8f761aec963d9b57aa1b2d3fd.txt     \b\b\b\b  0%\b\b\b\b\b  OK \n",
            "Extracting  label/train/img-103_jpg.rf.09abf1a8e3477718e143255af3534d29.txt     \b\b\b\b  0%\b\b\b\b\b  OK \n",
            "Extracting  label/train/img-108_jpg.rf.a35e86abc558a98f252bfc10e49fd6d9.txt     \b\b\b\b  0%\b\b\b\b\b  OK \n",
            "Extracting  label/train/img-109_jpg.rf.add373710d0d425bd9340c33878e7d42.txt     \b\b\b\b  0%\b\b\b\b\b  OK \n",
            "Extracting  label/train/img-10_jpg.rf.eaceaaa6f119cf6eb49edc1bc92efaa2.txt     \b\b\b\b  0%\b\b\b\b\b  OK \n",
            "Extracting  label/train/img-110_jpg.rf.0390f81a2c5b2ad5676a8eb5b043d743.txt     \b\b\b\b  0%\b\b\b\b\b  OK \n",
            "Extracting  label/train/img-111_jpg.rf.d7e58630e249c45d8c1d564d847dc236.txt     \b\b\b\b  0%\b\b\b\b\b  OK \n",
            "Extracting  label/train/img-113_jpg.rf.31b41591a5e0c7b0aa02e133e79e1e2a.txt     \b\b\b\b  0%\b\b\b\b\b  OK \n",
            "Extracting  label/train/img-114_jpg.rf.b58901654a45a559a41ffaa25f1bf741.txt     \b\b\b\b  0%\b\b\b\b\b  OK \n",
            "Extracting  label/train/img-115_jpg.rf.ebc1ec2d7bb5caf80d06511d74f9e2da.txt     \b\b\b\b  0%\b\b\b\b\b  OK \n",
            "Extracting  label/train/img-117_jpg.rf.56a7e3b29e60b28e25b3f4a3c7817605.txt     \b\b\b\b  0%\b\b\b\b\b  OK \n",
            "Extracting  label/train/img-119_jpg.rf.5df904c99a0e765190d9421a4bf04bc6.txt     \b\b\b\b  0%\b\b\b\b\b  OK \n",
            "Extracting  label/train/img-11_jpg.rf.b7a2e18571a53d7512f101f224b7c794.txt     \b\b\b\b  0%\b\b\b\b\b  OK \n",
            "Extracting  label/train/img-121_jpg.rf.d202af2960b0bb1928539a6fcb3cdbfd.txt     \b\b\b\b  0%\b\b\b\b\b  OK \n",
            "Extracting  label/train/img-123_jpg.rf.8ae4c2726246a3dea5d41f6ba3a64639.txt     \b\b\b\b  1%\b\b\b\b\b  OK \n",
            "Extracting  label/train/img-124_jpg.rf.fdc89fc9a29a16b57ad54dd3c63e7952.txt     \b\b\b\b  1%\b\b\b\b\b  OK \n",
            "Extracting  label/train/img-126_jpg.rf.eab9b684c8570533e5cd43517776eeec.txt     \b\b\b\b  1%\b\b\b\b\b  OK \n",
            "Extracting  label/train/img-127_jpg.rf.cda9134fdf2c217082118b38d27fd7ee.txt     \b\b\b\b  1%\b\b\b\b\b  OK \n",
            "Extracting  label/train/img-128_jpg.rf.6d1435fcdbcb19d4ff22f1d865026470.txt     \b\b\b\b  1%\b\b\b\b\b  OK \n",
            "Extracting  label/train/img-129_jpg.rf.fbd5c4841019062274b4e9d1daeab4c3.txt     \b\b\b\b  1%\b\b\b\b\b  OK \n",
            "Extracting  label/train/img-12_jpg.rf.473a95f653f8c7227e4bc5c73f8ed19b.txt     \b\b\b\b  1%\b\b\b\b\b  OK \n",
            "Extracting  label/train/img-131_jpg.rf.6bc87513d54494e92b56968b81d290b5.txt     \b\b\b\b  1%\b\b\b\b\b  OK \n",
            "Extracting  label/train/img-134_jpg.rf.833f57b2c592a23189208dcb656eaaa2.txt     \b\b\b\b  1%\b\b\b\b\b  OK \n",
            "Extracting  label/train/img-135_jpg.rf.5f0fb06ed79bee89c8378fc74adf59ec.txt     \b\b\b\b  1%\b\b\b\b\b  OK \n",
            "Extracting  label/train/img-136_jpg.rf.3372e97742e4ded8b208f90043981012.txt     \b\b\b\b  1%\b\b\b\b\b  OK \n",
            "Extracting  label/train/img-137_jpg.rf.5c3cf778bb884760e276baacc8372f66.txt     \b\b\b\b  1%\b\b\b\b\b  OK \n",
            "Extracting  label/train/img-138_jpg.rf.ec6549719f138be69aa49f6cdc068227.txt     \b\b\b\b  1%\b\b\b\b\b  OK \n",
            "Extracting  label/train/img-139_jpg.rf.af2a2cdcef3c3e01d9ad30e9f058e93e.txt     \b\b\b\b  1%\b\b\b\b\b  OK \n",
            "Extracting  label/train/img-13_jpg.rf.a4db51428d0461f9ed82e12eb6d87a03.txt     \b\b\b\b  1%\b\b\b\b\b  OK \n",
            "Extracting  label/train/img-141_jpg.rf.9fb75a7f4520090a669516f6c16c105e.txt     \b\b\b\b  1%\b\b\b\b\b  OK \n",
            "Extracting  label/train/img-142_jpg.rf.324ee78ee3122e5a751d32198a2e11cb.txt     \b\b\b\b  1%\b\b\b\b\b  OK \n",
            "Extracting  label/train/img-143_jpg.rf.b4553a89ca02d904d7d3d8b601d92033.txt     \b\b\b\b  2%\b\b\b\b\b  OK \n",
            "Extracting  label/train/img-144_jpg.rf.2e98a93812eee1ad65ad7e3f9f5620ad.txt     \b\b\b\b  2%\b\b\b\b\b  OK \n",
            "Extracting  label/train/img-148_jpg.rf.eddf84184c0a99958850113c36e7b754.txt     \b\b\b\b  2%\b\b\b\b\b  OK \n",
            "Extracting  label/train/img-149_jpg.rf.44eff0efcbd1ccfa08da8768642f71c9.txt     \b\b\b\b  2%\b\b\b\b\b  OK \n",
            "Extracting  label/train/img-150_jpg.rf.f3ebd01cb708363657a8f21645c06c39.txt     \b\b\b\b  2%\b\b\b\b\b  OK \n",
            "Extracting  label/train/img-151_jpg.rf.52e5bb5d308649772ceef0bfcde24f96.txt     \b\b\b\b  2%\b\b\b\b\b  OK \n",
            "Extracting  label/train/img-152_jpg.rf.621b5126c90ae5176bc3d2415fda4fe8.txt     \b\b\b\b  2%\b\b\b\b\b  OK \n",
            "Extracting  label/train/img-155_jpg.rf.7c1dd28f3db86d175cca8437cece1d08.txt     \b\b\b\b  2%\b\b\b\b\b  OK \n",
            "Extracting  label/train/img-156_jpg.rf.ff820d5c1ff5fc1a1fc27fa5647cc146.txt     \b\b\b\b  2%\b\b\b\b\b  OK \n",
            "Extracting  label/train/img-157_jpg.rf.764e348f9144fed2fd906c23ff15afe5.txt     \b\b\b\b  2%\b\b\b\b\b  OK \n",
            "Extracting  label/train/img-158_jpg.rf.80110529bda206547f2c5482abfca272.txt     \b\b\b\b  2%\b\b\b\b\b  OK \n",
            "Extracting  label/train/img-159_jpg.rf.9a2234e70393ae42ad518c7c34b031c5.txt     \b\b\b\b  2%\b\b\b\b\b  OK \n",
            "Extracting  label/train/img-15_jpg.rf.b937fa68f73a1ee37d832a279f432941.txt     \b\b\b\b  2%\b\b\b\b\b  OK \n",
            "Extracting  label/train/img-160_jpg.rf.ef4e05f9ef187938ab9bd0321c4dcf4d.txt     \b\b\b\b  2%\b\b\b\b\b  OK \n",
            "Extracting  label/train/img-162_jpg.rf.0459e44683fd65132e9e2558f7cfcc6a.txt     \b\b\b\b  2%\b\b\b\b\b  OK \n",
            "Extracting  label/train/img-163_jpg.rf.232bf43b16b71f5c5581f7d908e3e253.txt     \b\b\b\b  2%\b\b\b\b\b  OK \n",
            "Extracting  label/train/img-164_jpg.rf.cb6665fd71f9ea53c23dc545be31d2e1.txt     \b\b\b\b  3%\b\b\b\b\b  OK \n",
            "Extracting  label/train/img-165_jpg.rf.a4b4be5d004a62f1bbf126232edb2785.txt     \b\b\b\b  3%\b\b\b\b\b  OK \n",
            "Extracting  label/train/img-167_jpg.rf.a2c9b6a4a769135a8f5f7e671b636ac8.txt     \b\b\b\b  3%\b\b\b\b\b  OK \n",
            "Extracting  label/train/img-169_jpg.rf.9ad23ea6b668a59c48e362859efe3515.txt     \b\b\b\b  3%\b\b\b\b\b  OK \n",
            "Extracting  label/train/img-16_jpg.rf.3018a4883623e53e929435fc084c2200.txt     \b\b\b\b  3%\b\b\b\b\b  OK \n",
            "Extracting  label/train/img-170_jpg.rf.448c70ae76619d82c629389410701f9c.txt     \b\b\b\b  3%\b\b\b\b\b  OK \n",
            "Extracting  label/train/img-172_jpg.rf.d849de955bfb8608552f1adf347f3ef1.txt     \b\b\b\b  3%\b\b\b\b\b  OK \n",
            "Extracting  label/train/img-174_jpg.rf.63afee69864babbb4a21a4b8d2eff7d9.txt     \b\b\b\b  3%\b\b\b\b\b  OK \n",
            "Extracting  label/train/img-175_jpg.rf.edaa0f7c577755474ff285ff38eec09e.txt     \b\b\b\b  3%\b\b\b\b\b  OK \n",
            "Extracting  label/train/img-176_jpg.rf.36e2a3416c78152aeb6ea6f1a20e2ea9.txt     \b\b\b\b  3%\b\b\b\b\b  OK \n",
            "Extracting  label/train/img-177_jpg.rf.218561bceb58b04e0bf46a7c297179a0.txt     \b\b\b\b  3%\b\b\b\b\b  OK \n",
            "Extracting  label/train/img-178_jpg.rf.d97b9cc2a1e25824ea668642fe4df36e.txt     \b\b\b\b  3%\b\b\b\b\b  OK \n",
            "Extracting  label/train/img-17_jpg.rf.66c2a0fce4e0de3bf1d6d6c6101b1d2e.txt     \b\b\b\b  3%\b\b\b\b\b  OK \n",
            "Extracting  label/train/img-180_jpg.rf.23e2fffafadf7ef2741d68402213261b.txt     \b\b\b\b  3%\b\b\b\b\b  OK \n",
            "Extracting  label/train/img-181_jpg.rf.27e6333bebd7c84f8b89871c21b1608b.txt     \b\b\b\b  3%\b\b\b\b\b  OK \n",
            "Extracting  label/train/img-182_jpg.rf.4a3748ca6898a245a5474d963734c12f.txt     \b\b\b\b  3%\b\b\b\b\b  OK \n",
            "Extracting  label/train/img-183_jpg.rf.4358b5ae9b05895a41d00d84a0e17ec7.txt     \b\b\b\b  3%\b\b\b\b\b  OK \n",
            "Extracting  label/train/img-185_jpg.rf.98a5add77bc81de0d192cd6c6a50f933.txt     \b\b\b\b  4%\b\b\b\b\b  OK \n",
            "Extracting  label/train/img-186_jpg.rf.c354a07266904a6e8212056359600aec.txt     \b\b\b\b  4%\b\b\b\b\b  OK \n",
            "Extracting  label/train/img-187_jpg.rf.a5d70ec1463db2d5d0c48ef494605977.txt     \b\b\b\b  4%\b\b\b\b\b  OK \n",
            "Extracting  label/train/img-188_jpg.rf.e25310df0413037e398729953a4e8240.txt     \b\b\b\b  4%\b\b\b\b\b  OK \n",
            "Extracting  label/train/img-189_jpg.rf.2afafdf425170ac8e1cbb58c488c4c4a.txt     \b\b\b\b  4%\b\b\b\b\b  OK \n",
            "Extracting  label/train/img-18_jpg.rf.f79a657ff81d70927c469283a9e0a262.txt     \b\b\b\b  4%\b\b\b\b\b  OK \n",
            "Extracting  label/train/img-191_jpg.rf.e82152e059f62a6559daedf1d1ae62a3.txt     \b\b\b\b  4%\b\b\b\b\b  OK \n",
            "Extracting  label/train/img-192_jpg.rf.41da280cd625ff7e2b15dde2afb0c11a.txt     \b\b\b\b  4%\b\b\b\b\b  OK \n",
            "Extracting  label/train/img-193_jpg.rf.d2949c3bad35af6229b470554825cd54.txt     \b\b\b\b  4%\b\b\b\b\b  OK \n",
            "Extracting  label/train/img-194_jpg.rf.fe81115eda78ee8dcefcbc08dcdc17ef.txt     \b\b\b\b  4%\b\b\b\b\b  OK \n",
            "Extracting  label/train/img-197_jpg.rf.f9b2583df29a86d60bcfe3eea1dab4e9.txt     \b\b\b\b  4%\b\b\b\b\b  OK \n",
            "Extracting  label/train/img-198_jpg.rf.0b1cb1e07fefe54965584465087f960a.txt     \b\b\b\b  4%\b\b\b\b\b  OK \n",
            "Extracting  label/train/img-199_jpg.rf.6120711f954526a2c6fa1b94fd7bd4ec.txt     \b\b\b\b  4%\b\b\b\b\b  OK \n",
            "Extracting  label/train/img-19_jpg.rf.399478ab1a20c3fcb63dc9e3d5c425f5.txt     \b\b\b\b  4%\b\b\b\b\b  OK \n",
            "Extracting  label/train/img-1_jpg.rf.04766deb9036fc43721c26f431c3eb3d.txt     \b\b\b\b  4%\b\b\b\b\b  OK \n",
            "Extracting  label/train/img-202_jpg.rf.e0f6ad1db0c11daafb4625b1b6678faa.txt     \b\b\b\b  4%\b\b\b\b\b  OK \n",
            "Extracting  label/train/img-203_jpg.rf.29fcf9b56cd28acd7b8f97d171463785.txt     \b\b\b\b  5%\b\b\b\b\b  OK \n",
            "Extracting  label/train/img-205_jpg.rf.d1f737acba43ae7bf7374d2191904719.txt     \b\b\b\b  5%\b\b\b\b\b  OK \n",
            "Extracting  label/train/img-207_jpg.rf.7a8009c01c21717ead5486e01e2580b2.txt     \b\b\b\b  5%\b\b\b\b\b  OK \n",
            "Extracting  label/train/img-208_jpg.rf.137d967b7b8672f47e86429a98b89252.txt     \b\b\b\b  5%\b\b\b\b\b  OK \n",
            "Extracting  label/train/img-209_jpg.rf.50a35176830c86029ddfb4d3af626c08.txt     \b\b\b\b  5%\b\b\b\b\b  OK \n",
            "Extracting  label/train/img-211_jpg.rf.4aa6ae6b2af90b1fff1b5075a215641d.txt     \b\b\b\b  5%\b\b\b\b\b  OK \n",
            "Extracting  label/train/img-212_jpg.rf.5f7dc0f25419dc8a67116ce313c83707.txt     \b\b\b\b  5%\b\b\b\b\b  OK \n",
            "Extracting  label/train/img-213_jpg.rf.5a46fcca214ab83b01c26743a9dc3e72.txt     \b\b\b\b  5%\b\b\b\b\b  OK \n",
            "Extracting  label/train/img-214_jpg.rf.a35d0cd16266cfb261319a66b469ac89.txt     \b\b\b\b  5%\b\b\b\b\b  OK \n",
            "Extracting  label/train/img-215_jpg.rf.b5e67b3aafeb154d5c904a6c663718b7.txt     \b\b\b\b  5%\b\b\b\b\b  OK \n",
            "Extracting  label/train/img-216_jpg.rf.1a3dd495b3e6ba5f9cc43cec992021d7.txt     \b\b\b\b  5%\b\b\b\b\b  OK \n",
            "Extracting  label/train/img-218_jpg.rf.87be625afd1b1536ab3d9f5d0a000751.txt     \b\b\b\b  5%\b\b\b\b\b  OK \n",
            "Extracting  label/train/img-21_jpg.rf.4ae2f55eff42580278ecf92ee177fdd1.txt     \b\b\b\b  5%\b\b\b\b\b  OK \n",
            "Extracting  label/train/img-220_jpg.rf.4ffdf8738ac89d5fccf5d1e08c169af8.txt     \b\b\b\b  5%\b\b\b\b\b  OK \n",
            "Extracting  label/train/img-221_jpg.rf.9f0d03d552a78e97c74f75c74be35e38.txt     \b\b\b\b  5%\b\b\b\b\b  OK \n",
            "Extracting  label/train/img-222_jpg.rf.a00c413e9a6bafb705147f7534664ed3.txt     \b\b\b\b  5%\b\b\b\b\b  OK \n",
            "Extracting  label/train/img-223_jpg.rf.5ffeb123361acc79233a82037e058c4c.txt     \b\b\b\b  5%\b\b\b\b\b  OK \n",
            "Extracting  label/train/img-224_jpg.rf.9cdf248fe4332b59a353f0bc70a0ea01.txt     \b\b\b\b  6%\b\b\b\b\b  OK \n",
            "Extracting  label/train/img-226_jpg.rf.5f9874a019437b70987ae2aa665878b7.txt     \b\b\b\b  6%\b\b\b\b\b  OK \n",
            "Extracting  label/train/img-227_jpg.rf.4e7fd2692cefbe4e52f4198d7f8e89ff.txt     \b\b\b\b  6%\b\b\b\b\b  OK \n",
            "Extracting  label/train/img-228_jpg.rf.8170bf0af3eda9eb2c07bca7884a06a5.txt     \b\b\b\b  6%\b\b\b\b\b  OK \n",
            "Extracting  label/train/img-229_jpg.rf.d4582c3c84f78d8304ed684e4af48594.txt     \b\b\b\b  6%\b\b\b\b\b  OK \n",
            "Extracting  label/train/img-230_jpg.rf.39bac5bc33e3e0f64de17664289ec867.txt     \b\b\b\b  6%\b\b\b\b\b  OK \n",
            "Extracting  label/train/img-231_jpg.rf.1834b79b17ce894fbdc7c5334407d877.txt     \b\b\b\b  6%\b\b\b\b\b  OK \n",
            "Extracting  label/train/img-232_jpg.rf.e586c2966df762ffc459b84153da5380.txt     \b\b\b\b  6%\b\b\b\b\b  OK \n",
            "Extracting  label/train/img-233_jpg.rf.95f53597d4cd6932e86dce9fdbcc54c9.txt     \b\b\b\b  6%\b\b\b\b\b  OK \n",
            "Extracting  label/train/img-234_jpg.rf.cf4a8f8c19d33c53f38d6a19b3dd054b.txt     \b\b\b\b  6%\b\b\b\b\b  OK \n",
            "Extracting  label/train/img-235_jpg.rf.030dcf4264c55859ef30294c84f77482.txt     \b\b\b\b  6%\b\b\b\b\b  OK \n",
            "Extracting  label/train/img-236_jpg.rf.67dcb4e2f648c09a7c1bdc4e41fcb7ad.txt     \b\b\b\b  6%\b\b\b\b\b  OK \n",
            "Extracting  label/train/img-237_jpg.rf.d68dadf35426df3831bf5af536b2ebde.txt     \b\b\b\b  6%\b\b\b\b\b  OK \n",
            "Extracting  label/train/img-240_jpg.rf.06da3127a48b2f044201c9b2f9755109.txt     \b\b\b\b  6%\b\b\b\b\b  OK \n",
            "Extracting  label/train/img-241_jpg.rf.8d98e10538fa3d678b4af250991b8a94.txt     \b\b\b\b  6%\b\b\b\b\b  OK \n",
            "Extracting  label/train/img-242_jpg.rf.b18c9a478cd5489f76390ff90e9155dc.txt     \b\b\b\b  7%\b\b\b\b\b  OK \n",
            "Extracting  label/train/img-246_jpg.rf.5093ecb9a803a42964980674d3f5d2be.txt     \b\b\b\b  7%\b\b\b\b\b  OK \n",
            "Extracting  label/train/img-247_jpg.rf.506670aed39eb7dd2d892350788582fb.txt     \b\b\b\b  7%\b\b\b\b\b  OK \n",
            "Extracting  label/train/img-248_jpg.rf.372df8d99477b8990af9995308c81215.txt     \b\b\b\b  7%\b\b\b\b\b  OK \n",
            "Extracting  label/train/img-249_jpg.rf.9530479784ad79a1ede2b51e62c968b4.txt     \b\b\b\b  7%\b\b\b\b\b  OK \n",
            "Extracting  label/train/img-250_jpg.rf.7632980b590d300428e1072e1f13cef1.txt     \b\b\b\b  7%\b\b\b\b\b  OK \n",
            "Extracting  label/train/img-251_jpg.rf.2e205a42d00f6497563dedaba7387613.txt     \b\b\b\b  7%\b\b\b\b\b  OK \n",
            "Extracting  label/train/img-252_jpg.rf.7d99b08ebba1e9e530480e62891dbf54.txt     \b\b\b\b  7%\b\b\b\b\b  OK \n",
            "Extracting  label/train/img-253_jpg.rf.7465b1816c7c3025abb42dfb5d1430e1.txt     \b\b\b\b  7%\b\b\b\b\b  OK \n",
            "Extracting  label/train/img-255_jpg.rf.bfdc24d35627656fe644e3a7121c65fa.txt     \b\b\b\b  7%\b\b\b\b\b  OK \n",
            "Extracting  label/train/img-256_jpg.rf.c762541217b28d3470b203beabf29bf7.txt     \b\b\b\b  7%\b\b\b\b\b  OK \n",
            "Extracting  label/train/img-257_jpg.rf.48ba1caa7a209835d7b6d35a797b7088.txt     \b\b\b\b  7%\b\b\b\b\b  OK \n",
            "Extracting  label/train/img-258_jpg.rf.e8fb0662316d1be8867dd41fbee5ddde.txt     \b\b\b\b  7%\b\b\b\b\b  OK \n",
            "Extracting  label/train/img-259_jpg.rf.86aaa968ce87cb21d2649e95839c244d.txt     \b\b\b\b  7%\b\b\b\b\b  OK \n",
            "Extracting  label/train/img-260_jpg.rf.3acd135908f14f0e9f68192fa13ea465.txt     \b\b\b\b  7%\b\b\b\b\b  OK \n",
            "Extracting  label/train/img-261_jpg.rf.e3583096f4d7e2a182149ba9afbcfc92.txt     \b\b\b\b  7%\b\b\b\b\b  OK \n",
            "Extracting  label/train/img-262_jpg.rf.3db190e680343ed338296042b9f5e3a4.txt     \b\b\b\b  7%\b\b\b\b\b  OK \n",
            "Extracting  label/train/img-263_jpg.rf.892eb0397a70a352b0bc33f6a147d675.txt     \b\b\b\b  7%\b\b\b\b\b  OK \n",
            "Extracting  label/train/img-265_jpg.rf.e4c76dcfe49ab14372397a9ff5f153e8.txt     \b\b\b\b  8%\b\b\b\b\b  OK \n",
            "Extracting  label/train/img-266_jpg.rf.6240ac9750b2791bd481a0cb694b4a3d.txt     \b\b\b\b  8%\b\b\b\b\b  OK \n",
            "Extracting  label/train/img-267_jpg.rf.f50b4eccea93fe17ebcf2e4076140c88.txt     \b\b\b\b  8%\b\b\b\b\b  OK \n",
            "Extracting  label/train/img-268_jpg.rf.08736c012f711f24b023c914e4205149.txt     \b\b\b\b  8%\b\b\b\b\b  OK \n",
            "Extracting  label/train/img-26_jpg.rf.f941793f07a3bc5dda0723a0d30041ee.txt     \b\b\b\b  8%\b\b\b\b\b  OK \n",
            "Extracting  label/train/img-270_jpg.rf.ae32377ec34641192544670bf004739e.txt     \b\b\b\b  8%\b\b\b\b\b  OK \n",
            "Extracting  label/train/img-272_jpg.rf.8c1a71784795d3ee8535d76931594c9f.txt     \b\b\b\b  8%\b\b\b\b\b  OK \n",
            "Extracting  label/train/img-273_jpg.rf.473d6e156e61ed75a57253643ab0328f.txt     \b\b\b\b  8%\b\b\b\b\b  OK \n",
            "Extracting  label/train/img-274_jpg.rf.816b2e4bda9e51204bf2cd2aa209fe50.txt     \b\b\b\b  8%\b\b\b\b\b  OK \n",
            "Extracting  label/train/img-275_jpg.rf.59c68c48a12960c7ea86163d39f0ea4d.txt     \b\b\b\b  8%\b\b\b\b\b  OK \n",
            "Extracting  label/train/img-277_jpg.rf.70a35da45babe2c725dbe4fa639e89d2.txt     \b\b\b\b  8%\b\b\b\b\b  OK \n",
            "Extracting  label/train/img-278_jpg.rf.59aabb4c0e30640a912b669ebad9cd8d.txt     \b\b\b\b  8%\b\b\b\b\b  OK \n",
            "Extracting  label/train/img-279_jpg.rf.126ee458fab6a3983e7336bd4408e701.txt     \b\b\b\b  8%\b\b\b\b\b  OK \n",
            "Extracting  label/train/img-280_jpg.rf.53dd1da4cff0af87558cff72138794e9.txt     \b\b\b\b  8%\b\b\b\b\b  OK \n",
            "Extracting  label/train/img-281_jpg.rf.09e7fcea8709dc8bd7d799bd346b3d0f.txt     \b\b\b\b  8%\b\b\b\b\b  OK \n",
            "Extracting  label/train/img-283_jpg.rf.b8c7a6ea440f9683c3f76d5754599a4f.txt     \b\b\b\b  8%\b\b\b\b\b  OK \n",
            "Extracting  label/train/img-284_jpg.rf.56a1dfdd07c542ee7af63580db90c1fb.txt     \b\b\b\b  8%\b\b\b\b\b  OK \n",
            "Extracting  label/train/img-285_jpg.rf.7f7cf6ab5dad29d75936719c450faeed.txt     \b\b\b\b  9%\b\b\b\b\b  OK \n",
            "Extracting  label/train/img-287_jpg.rf.19a805e3a1845683bb4f47af51b8de37.txt     \b\b\b\b  9%\b\b\b\b\b  OK \n",
            "Extracting  label/train/img-288_jpg.rf.8067a6a9d79ea3dcb37e47e1e29ef88c.txt     \b\b\b\b  9%\b\b\b\b\b  OK \n",
            "Extracting  label/train/img-289_jpg.rf.39d1543a1cab281dc5febdc1a16c9a4b.txt     \b\b\b\b  9%\b\b\b\b\b  OK \n",
            "Extracting  label/train/img-290_jpg.rf.6942266560522f82066038b541027d9d.txt     \b\b\b\b  9%\b\b\b\b\b  OK \n",
            "Extracting  label/train/img-291_jpg.rf.0c1b9f687f136c9b1970efaa75d32231.txt     \b\b\b\b  9%\b\b\b\b\b  OK \n",
            "Extracting  label/train/img-292_jpg.rf.e4018e1f8e44152360a48e5232297f2a.txt     \b\b\b\b  9%\b\b\b\b\b  OK \n",
            "Extracting  label/train/img-293_jpg.rf.ca6c3ef3ac903d9e5263cc24099bbb61.txt     \b\b\b\b  9%\b\b\b\b\b  OK \n",
            "Extracting  label/train/img-295_jpg.rf.9cfbc106f3396aeb13d3f99c391ce64b.txt     \b\b\b\b  9%\b\b\b\b\b  OK \n",
            "Extracting  label/train/img-296_jpg.rf.3e33f2944f9d71c053850d09577d220d.txt     \b\b\b\b  9%\b\b\b\b\b  OK \n",
            "Extracting  label/train/img-297_jpg.rf.e43461bec653e71c229ca2c309aca359.txt     \b\b\b\b  9%\b\b\b\b\b  OK \n",
            "Extracting  label/train/img-298_jpg.rf.cf838b3dd4c5b5cc89710916246f3a87.txt     \b\b\b\b  9%\b\b\b\b\b  OK \n",
            "Extracting  label/train/img-299_jpg.rf.175bd48885a00ca91af2cde359d324ba.txt     \b\b\b\b  9%\b\b\b\b\b  OK \n",
            "Extracting  label/train/img-2_jpg.rf.962d887972144063f0280f7969d29c23.txt     \b\b\b\b  9%\b\b\b\b\b  OK \n",
            "Extracting  label/train/img-301_jpg.rf.51e9d06820d0d552e497d66f5981e7a1.txt     \b\b\b\b 10%\b\b\b\b\b  OK \n",
            "Extracting  label/train/img-302_jpg.rf.c7375ad32e8d0337bd7d27034f3764eb.txt     \b\b\b\b 10%\b\b\b\b\b  OK \n",
            "Extracting  label/train/img-304_jpg.rf.766574a013cc869e66df180f60295457.txt     \b\b\b\b 10%\b\b\b\b\b  OK \n",
            "Extracting  label/train/img-305_jpg.rf.564405f2ae91fe75f3f54639e295f1e2.txt     \b\b\b\b 10%\b\b\b\b\b  OK \n",
            "Extracting  label/train/img-306_jpg.rf.67a9eb5c5890617d59e58e98a0a86d69.txt     \b\b\b\b 10%\b\b\b\b\b  OK \n",
            "Extracting  label/train/img-309_jpg.rf.e8b8a5e1969e8e71b448aa7c83206264.txt     \b\b\b\b 10%\b\b\b\b\b  OK \n",
            "Extracting  label/train/img-30_jpg.rf.57889ecb807059b4adc0032995228d2a.txt     \b\b\b\b 10%\b\b\b\b\b  OK \n",
            "Extracting  label/train/img-310_jpg.rf.30a2a42ac01cf4b630874592f4d801ef.txt     \b\b\b\b 10%\b\b\b\b\b  OK \n",
            "Extracting  label/train/img-313_jpg.rf.9ba7cf2cdf11c9fe19b4ad52db2ecac7.txt     \b\b\b\b 10%\b\b\b\b\b  OK \n",
            "Extracting  label/train/img-314_jpg.rf.a3e7ac0036589996b9c9eb1eb44fb1ad.txt     \b\b\b\b 10%\b\b\b\b\b  OK \n",
            "Extracting  label/train/img-315_jpg.rf.654c8e0f66209d380f063ed5bf9d5187.txt     \b\b\b\b 10%\b\b\b\b\b  OK \n",
            "Extracting  label/train/img-316_jpg.rf.c144f8327780a2f710a79c3c2b5d0f07.txt     \b\b\b\b 10%\b\b\b\b\b  OK \n",
            "Extracting  label/train/img-317_jpg.rf.770d0c5b7340eea3208d88b0800066da.txt     \b\b\b\b 10%\b\b\b\b\b  OK \n",
            "Extracting  label/train/img-318_jpg.rf.3cdda5b6cffa77075c11b9bdfd8cf26f.txt     \b\b\b\b 10%\b\b\b\b\b  OK \n",
            "Extracting  label/train/img-319_jpg.rf.22b65d4f7c9aa300d0878e9424a40d67.txt     \b\b\b\b 10%\b\b\b\b\b  OK \n",
            "Extracting  label/train/img-31_jpg.rf.04f6a2c9ec048f70c2faeb7e4193784d.txt     \b\b\b\b 10%\b\b\b\b\b  OK \n",
            "Extracting  label/train/img-320_jpg.rf.0765b31c7ff97bf3c391782c13bb9818.txt     \b\b\b\b 10%\b\b\b\b\b  OK \n",
            "Extracting  label/train/img-321_jpg.rf.663ad0ed3ef90b48f212d451aa82aba9.txt     \b\b\b\b 11%\b\b\b\b\b  OK \n",
            "Extracting  label/train/img-322_jpg.rf.9fd7d306b3ecd5ae42cdff1b02b0db99.txt     \b\b\b\b 11%\b\b\b\b\b  OK \n",
            "Extracting  label/train/img-324_jpg.rf.74f09e96882cde7edbd59f92e7ecdf02.txt     \b\b\b\b 11%\b\b\b\b\b  OK \n",
            "Extracting  label/train/img-325_jpg.rf.fc14997c5d5d229bcb148997947b64b5.txt     \b\b\b\b 11%\b\b\b\b\b  OK \n",
            "Extracting  label/train/img-326_jpg.rf.25f754ec5e29d2861ed7c05c1129a4dc.txt     \b\b\b\b 11%\b\b\b\b\b  OK \n",
            "Extracting  label/train/img-327_jpg.rf.42714a663bc342d0dc175ebab152356d.txt     \b\b\b\b 11%\b\b\b\b\b  OK \n",
            "Extracting  label/train/img-328_jpg.rf.ac423267e0e078bbc60d0e6960c5167c.txt     \b\b\b\b 11%\b\b\b\b\b  OK \n",
            "Extracting  label/train/img-329_jpg.rf.622561b6e0873d93eeedcb6770b851da.txt     \b\b\b\b 11%\b\b\b\b\b  OK \n",
            "Extracting  label/train/img-330_jpg.rf.d9de506be8be5a379c88f7fe78ca8253.txt     \b\b\b\b 11%\b\b\b\b\b  OK \n",
            "Extracting  label/train/img-331_jpg.rf.7e9a42665269c16ef3a3fde22dd626b9.txt     \b\b\b\b 11%\b\b\b\b\b  OK \n",
            "Extracting  label/train/img-332_jpg.rf.edbf67c28f12aff498f83cff3736dd97.txt     \b\b\b\b 11%\b\b\b\b\b  OK \n",
            "Extracting  label/train/img-333_jpg.rf.a795e5b4a275dca433e557d9dfd6acec.txt     \b\b\b\b 11%\b\b\b\b\b  OK \n",
            "Extracting  label/train/img-339_jpg.rf.774e42a110ef70cd2e176956b9a25254.txt     \b\b\b\b 11%\b\b\b\b\b  OK \n",
            "Extracting  label/train/img-340_jpg.rf.dc85eeca2369ccd5e0f6e81ae6a9482a.txt     \b\b\b\b 12%\b\b\b\b\b  OK \n",
            "Extracting  label/train/img-341_jpg.rf.7e6dcbcdf1805587819dc6cdcab56ac6.txt     \b\b\b\b 12%\b\b\b\b\b  OK \n",
            "Extracting  label/train/img-342_jpg.rf.a635f2b522f97763152361b6b7e92ab5.txt     \b\b\b\b 12%\b\b\b\b\b  OK \n",
            "Extracting  label/train/img-345_jpg.rf.cb2f7a70ab689aee871ec218ca2a1c17.txt     \b\b\b\b 12%\b\b\b\b\b  OK \n",
            "Extracting  label/train/img-346_jpg.rf.7579261f0cdfffb527ad924a9cf86279.txt     \b\b\b\b 12%\b\b\b\b\b  OK \n",
            "Extracting  label/train/img-348_jpg.rf.7f69a937375f8585653476522d546025.txt     \b\b\b\b 12%\b\b\b\b\b  OK \n",
            "Extracting  label/train/img-349_jpg.rf.6641cef8561560b1437a093be86abf1e.txt     \b\b\b\b 12%\b\b\b\b\b  OK \n",
            "Extracting  label/train/img-351_jpg.rf.123b3f4e806dcfb111186da693c996c9.txt     \b\b\b\b 12%\b\b\b\b\b  OK \n",
            "Extracting  label/train/img-352_jpg.rf.7071e9840456e2ef41927696dddb3a5a.txt     \b\b\b\b 12%\b\b\b\b\b  OK \n",
            "Extracting  label/train/img-354_jpg.rf.a4fcd1798fe466fa035172521e93fe6d.txt     \b\b\b\b 12%\b\b\b\b\b  OK \n",
            "Extracting  label/train/img-355_jpg.rf.9cddc7f638d211138c7f3d79550da363.txt     \b\b\b\b 12%\b\b\b\b\b  OK \n",
            "Extracting  label/train/img-356_jpg.rf.4b2038d60de2fe914265bcb23cf05f89.txt     \b\b\b\b 12%\b\b\b\b\b  OK \n",
            "Extracting  label/train/img-357_jpg.rf.3fa531a04a46be8fbe22849b9bceead6.txt     \b\b\b\b 12%\b\b\b\b\b  OK \n",
            "Extracting  label/train/img-358_jpg.rf.443b2ea93c68765f0fe6722fa937cd6c.txt     \b\b\b\b 12%\b\b\b\b\b  OK \n",
            "Extracting  label/train/img-359_jpg.rf.6d9d100005eb3f84f3de55b14b854b18.txt     \b\b\b\b 12%\b\b\b\b\b  OK \n",
            "Extracting  label/train/img-360_jpg.rf.c4d38dde7ae1c773e6b3fb8e5d75bb77.txt     \b\b\b\b 13%\b\b\b\b\b  OK \n",
            "Extracting  label/train/img-361_jpg.rf.be4588f913f1e787f897058202e2b1c6.txt     \b\b\b\b 13%\b\b\b\b\b  OK \n",
            "Extracting  label/train/img-365_jpg.rf.164b210367824d2f385b0619f236abf4.txt     \b\b\b\b 13%\b\b\b\b\b  OK \n",
            "Extracting  label/train/img-366_jpg.rf.d13288366b0bb14beace0ba289956039.txt     \b\b\b\b 13%\b\b\b\b\b  OK \n",
            "Extracting  label/train/img-367_jpg.rf.299c5300a46524bfd3b2ae5e2a7398e8.txt     \b\b\b\b 13%\b\b\b\b\b  OK \n",
            "Extracting  label/train/img-372_jpg.rf.b3b86d6dfb24732444b95825c42f9422.txt     \b\b\b\b 13%\b\b\b\b\b  OK \n",
            "Extracting  label/train/img-374_jpg.rf.9ec3835feb04e376c4bc09ab1c1dde32.txt     \b\b\b\b 13%\b\b\b\b\b  OK \n",
            "Extracting  label/train/img-375_jpg.rf.bf26033ba64d588063cee3a0c97616db.txt     \b\b\b\b 13%\b\b\b\b\b  OK \n",
            "Extracting  label/train/img-376_jpg.rf.39c24ad78c32a6c855e8bbe60ad04d1f.txt     \b\b\b\b 13%\b\b\b\b\b  OK \n",
            "Extracting  label/train/img-377_jpg.rf.f7a5ae59d67aa24154dbe3931405fc57.txt     \b\b\b\b 13%\b\b\b\b\b  OK \n",
            "Extracting  label/train/img-379_jpg.rf.53d08ef1089264ceb2229544ec31f988.txt     \b\b\b\b 13%\b\b\b\b\b  OK \n",
            "Extracting  label/train/img-380_jpg.rf.0211b9d66b12bdee8d05b9ba890573dc.txt     \b\b\b\b 13%\b\b\b\b\b  OK \n",
            "Extracting  label/train/img-381_jpg.rf.69479c9b59804c60e3e0c7c2269d3712.txt     \b\b\b\b 13%\b\b\b\b\b  OK \n",
            "Extracting  label/train/img-383_jpg.rf.abedcd4fce7e8e17889e1bd4274447ba.txt     \b\b\b\b 13%\b\b\b\b\b  OK \n",
            "Extracting  label/train/img-384_jpg.rf.52f9bf925832084c3778e4d0de4dfb56.txt     \b\b\b\b 13%\b\b\b\b\b  OK \n",
            "Extracting  label/train/img-385_jpg.rf.3e1cef7e8251f4c7a1abbafd5ec599bc.txt     \b\b\b\b 13%\b\b\b\b\b  OK \n",
            "Extracting  label/train/img-388_jpg.rf.7ceda8808d1df8e7568c123af5bca8bf.txt     \b\b\b\b 14%\b\b\b\b\b  OK \n",
            "Extracting  label/train/img-389_jpg.rf.14f171b109308eeab6e83e7795c11016.txt     \b\b\b\b 14%\b\b\b\b\b  OK \n",
            "Extracting  label/train/img-38_jpg.rf.afd62a6bd8518395cf339db67500b1e1.txt     \b\b\b\b 14%\b\b\b\b\b  OK \n",
            "Extracting  label/train/img-391_jpg.rf.27e945dce7258e1d272a2a273b02ef08.txt     \b\b\b\b 14%\b\b\b\b\b  OK \n",
            "Extracting  label/train/img-392_jpg.rf.a74441b6f7c2332e3e553548670a315b.txt     \b\b\b\b 14%\b\b\b\b\b  OK \n",
            "Extracting  label/train/img-393_jpg.rf.9b0541a344853293e9ea03214f6619ce.txt     \b\b\b\b 14%\b\b\b\b\b  OK \n",
            "Extracting  label/train/img-395_jpg.rf.84ca6b6e04caa7480cfa0287417576b1.txt     \b\b\b\b 14%\b\b\b\b\b  OK \n",
            "Extracting  label/train/img-396_jpg.rf.af26b72d42bbf054aee8f62025ea2bf8.txt     \b\b\b\b 14%\b\b\b\b\b  OK \n",
            "Extracting  label/train/img-39_jpg.rf.a4ba4e9ad51da5bf7e864ca580d09931.txt     \b\b\b\b 14%\b\b\b\b\b  OK \n",
            "Extracting  label/train/img-3_jpg.rf.64d155e488ceaac83020a728ca1f70d1.txt     \b\b\b\b 14%\b\b\b\b\b  OK \n",
            "Extracting  label/train/img-401_jpg.rf.e3fe79f6f1c41b1dd0ce8ea904b39401.txt     \b\b\b\b 14%\b\b\b\b\b  OK \n",
            "Extracting  label/train/img-403_jpg.rf.8357bd90d082e6c78a660f605c08ad2e.txt     \b\b\b\b 14%\b\b\b\b\b  OK \n",
            "Extracting  label/train/img-404_jpg.rf.be12da25b2c38b58291a3a7fe817ef57.txt     \b\b\b\b 14%\b\b\b\b\b  OK \n",
            "Extracting  label/train/img-405_jpg.rf.d5138c07ca2b4fc213fc12a978cbf6f8.txt     \b\b\b\b 14%\b\b\b\b\b  OK \n",
            "Extracting  label/train/img-406_jpg.rf.39cc95c25d12800f852e45989ec1803e.txt     \b\b\b\b 14%\b\b\b\b\b  OK \n",
            "Extracting  label/train/img-407_jpg.rf.b30b42dfc9436ec4303a76932d9387cb.txt     \b\b\b\b 14%\b\b\b\b\b  OK \n",
            "Extracting  label/train/img-408_jpg.rf.633d54163fde7adb41cbac7bc690b34f.txt     \b\b\b\b 15%\b\b\b\b\b  OK \n",
            "Extracting  label/train/img-409_jpg.rf.5cdc33b00522ed3ddf0e43a2f1720c83.txt     \b\b\b\b 15%\b\b\b\b\b  OK \n",
            "Extracting  label/train/img-40_jpg.rf.bbdba0361130b13cc0e77e2f80b6e3d7.txt     \b\b\b\b 15%\b\b\b\b\b  OK \n",
            "Extracting  label/train/img-412_jpg.rf.c3344901cc1646179c93d2e8cd1b4444.txt     \b\b\b\b 15%\b\b\b\b\b  OK \n",
            "Extracting  label/train/img-413_jpg.rf.a81aa42a7782099f9921156e3161a2a9.txt     \b\b\b\b 15%\b\b\b\b\b  OK \n",
            "Extracting  label/train/img-414_jpg.rf.7dc1ae061e468ac362211f99e8f9c274.txt     \b\b\b\b 15%\b\b\b\b\b  OK \n",
            "Extracting  label/train/img-416_jpg.rf.dbafb3032c842862507a7c18c2df2b7d.txt     \b\b\b\b 15%\b\b\b\b\b  OK \n",
            "Extracting  label/train/img-418_jpg.rf.9c8b8c7bb6b6b0bd055e00e59bdd8914.txt     \b\b\b\b 15%\b\b\b\b\b  OK \n",
            "Extracting  label/train/img-419_jpg.rf.afba61803c37a1b0e4e3232dafb7be72.txt     \b\b\b\b 15%\b\b\b\b\b  OK \n",
            "Extracting  label/train/img-420_jpg.rf.3e311b9bdc9b3932e270f5402d4e4529.txt     \b\b\b\b 15%\b\b\b\b\b  OK \n",
            "Extracting  label/train/img-422_jpg.rf.8fa888de91dfb1a6c6980d3e8bf0252e.txt     \b\b\b\b 15%\b\b\b\b\b  OK \n",
            "Extracting  label/train/img-424_jpg.rf.5178a699e9c56cf7ba61ede4751b6696.txt     \b\b\b\b 15%\b\b\b\b\b  OK \n",
            "Extracting  label/train/img-425_jpg.rf.ff4c598bfc259fbbb8f8d0e3a6eff1fb.txt     \b\b\b\b 15%\b\b\b\b\b  OK \n",
            "Extracting  label/train/img-426_jpg.rf.18bab6ba48f960ed751cb35d1f628523.txt     \b\b\b\b 15%\b\b\b\b\b  OK \n",
            "Extracting  label/train/img-427_jpg.rf.2031f93af77c47391e2b6963f7536621.txt     \b\b\b\b 15%\b\b\b\b\b  OK \n",
            "Extracting  label/train/img-428_jpg.rf.087cca8e9d34735c3cd1289956c36b71.txt     \b\b\b\b 15%\b\b\b\b\b  OK \n",
            "Extracting  label/train/img-429_jpg.rf.388ca2fa7461b636f9a349bee8fcafbc.txt     \b\b\b\b 16%\b\b\b\b\b  OK \n",
            "Extracting  label/train/img-431_jpg.rf.0a68887499a4ed36c65f33a890a83afd.txt     \b\b\b\b 16%\b\b\b\b\b  OK \n",
            "Extracting  label/train/img-433_jpg.rf.3e3f8c9689f1e9f3068c86c1c0295c8f.txt     \b\b\b\b 16%\b\b\b\b\b  OK \n",
            "Extracting  label/train/img-435_jpg.rf.d9ff2d1d19d49c2a96663dcaa4a83330.txt     \b\b\b\b 16%\b\b\b\b\b  OK \n",
            "Extracting  label/train/img-436_jpg.rf.319891088041e59c31bb3d55aad586e3.txt     \b\b\b\b 16%\b\b\b\b\b  OK \n",
            "Extracting  label/train/img-437_jpg.rf.d2615be876ea3a1d9fa99d3039c97756.txt     \b\b\b\b 16%\b\b\b\b\b  OK \n",
            "Extracting  label/train/img-439_jpg.rf.e2750e5ed7bfd8910e9addda51e0c6dd.txt     \b\b\b\b 16%\b\b\b\b\b  OK \n",
            "Extracting  label/train/img-441_jpg.rf.f99cdb8fbd1cff1a5778200efd2e7b07.txt     \b\b\b\b 16%\b\b\b\b\b  OK \n",
            "Extracting  label/train/img-442_jpg.rf.d31f41baf9027c5d39e36f2a3403bc93.txt     \b\b\b\b 16%\b\b\b\b\b  OK \n",
            "Extracting  label/train/img-444_jpg.rf.d2c0751cc106650d2aac5fa76a15d521.txt     \b\b\b\b 16%\b\b\b\b\b  OK \n",
            "Extracting  label/train/img-445_jpg.rf.3ce61abb7f716b154c85baf505ebf533.txt     \b\b\b\b 16%\b\b\b\b\b  OK \n",
            "Extracting  label/train/img-446_jpg.rf.0f94b72ee4208b8b4b64ecb5bb046bda.txt     \b\b\b\b 16%\b\b\b\b\b  OK \n",
            "Extracting  label/train/img-447_jpg.rf.12ad904248518608161ea94123c2d60a.txt     \b\b\b\b 16%\b\b\b\b\b  OK \n",
            "Extracting  label/train/img-448_jpg.rf.3cd8bfd600d889108a52dedda6f617cc.txt     \b\b\b\b 17%\b\b\b\b\b  OK \n",
            "Extracting  label/train/img-450_jpg.rf.2a5241c5070556dedad85c9642d81858.txt     \b\b\b\b 17%\b\b\b\b\b  OK \n",
            "Extracting  label/train/img-451_jpg.rf.2a8100252c943091f22453f4d7793a28.txt     \b\b\b\b 17%\b\b\b\b\b  OK \n",
            "Extracting  label/train/img-453_jpg.rf.17e48aa652a50a8bc9d06d3ded580033.txt     \b\b\b\b 17%\b\b\b\b\b  OK \n",
            "Extracting  label/train/img-455_jpg.rf.a114dbe5360a6a272c43a2b4c7cb4bb1.txt     \b\b\b\b 17%\b\b\b\b\b  OK \n",
            "Extracting  label/train/img-456_jpg.rf.2907a3b901643efa6b8abd6d9d201b86.txt     \b\b\b\b 17%\b\b\b\b\b  OK \n",
            "Extracting  label/train/img-458_jpg.rf.72cb15a746ee92f6714f4ceed305738a.txt     \b\b\b\b 17%\b\b\b\b\b  OK \n",
            "Extracting  label/train/img-459_jpg.rf.d767fa292e69f79fbb81604f24209de2.txt     \b\b\b\b 17%\b\b\b\b\b  OK \n",
            "Extracting  label/train/img-45_jpg.rf.e872f0163ffadc7f06542bdf9d17d8bb.txt     \b\b\b\b 17%\b\b\b\b\b  OK \n",
            "Extracting  label/train/img-460_jpg.rf.7287edcc89d46ec826fd4a8d2301c3b1.txt     \b\b\b\b 17%\b\b\b\b\b  OK \n",
            "Extracting  label/train/img-462_jpg.rf.dc1cdd58947aa0f7d172ad76e4834de7.txt     \b\b\b\b 17%\b\b\b\b\b  OK \n",
            "Extracting  label/train/img-464_jpg.rf.c69c0cd9a27ebec152f2ca43dd39ddd2.txt     \b\b\b\b 17%\b\b\b\b\b  OK \n",
            "Extracting  label/train/img-465_jpg.rf.a4bc474c1391ceb5134993ddccf81723.txt     \b\b\b\b 17%\b\b\b\b\b  OK \n",
            "Extracting  label/train/img-466_jpg.rf.7048299d4afb9d58f9bdbb2ebc74ae85.txt     \b\b\b\b 17%\b\b\b\b\b  OK \n",
            "Extracting  label/train/img-467_jpg.rf.8e414b6ccee984d7bc43ec0a140616bb.txt     \b\b\b\b 17%\b\b\b\b\b  OK \n",
            "Extracting  label/train/img-470_jpg.rf.c1aa523b26fb96e39f98ab0eaef42516.txt     \b\b\b\b 17%\b\b\b\b\b  OK \n",
            "Extracting  label/train/img-471_jpg.rf.fbadb2fbf6289251aa19248169f4b835.txt     \b\b\b\b 18%\b\b\b\b\b  OK \n",
            "Extracting  label/train/img-473_jpg.rf.a2116db1425fc5a7c35a863735f3be83.txt     \b\b\b\b 18%\b\b\b\b\b  OK \n",
            "Extracting  label/train/img-475_jpg.rf.826d8251183c671da741c6bbdbc63b7f.txt     \b\b\b\b 18%\b\b\b\b\b  OK \n",
            "Extracting  label/train/img-476_jpg.rf.b7bf5047096c34127a33e35decef5680.txt     \b\b\b\b 18%\b\b\b\b\b  OK \n",
            "Extracting  label/train/img-478_jpg.rf.688b1641adf5ef0b085c25eb561c127f.txt     \b\b\b\b 18%\b\b\b\b\b  OK \n",
            "Extracting  label/train/img-479_jpg.rf.68af46ff65675c6673f7ab2b3ffffef5.txt     \b\b\b\b 18%\b\b\b\b\b  OK \n",
            "Extracting  label/train/img-480_jpg.rf.5878d6196e07fb3c99a93ed5dfe3f272.txt     \b\b\b\b 18%\b\b\b\b\b  OK \n",
            "Extracting  label/train/img-481_jpg.rf.a4d4dc14cb2e64612726574f736960bb.txt     \b\b\b\b 18%\b\b\b\b\b  OK \n",
            "Extracting  label/train/img-482_jpg.rf.6d284950634fb53dcaffdf5bc57777b2.txt     \b\b\b\b 18%\b\b\b\b\b  OK \n",
            "Extracting  label/train/img-483_jpg.rf.f6a3c845bd1d570af65d49dca73bc342.txt     \b\b\b\b 18%\b\b\b\b\b  OK \n",
            "Extracting  label/train/img-484_jpg.rf.a2c2b3415a901a7dd8b0e620a6d0978d.txt     \b\b\b\b 18%\b\b\b\b\b  OK \n",
            "Extracting  label/train/img-487_jpg.rf.86a0a33407773411060aea00d0e25298.txt     \b\b\b\b 18%\b\b\b\b\b  OK \n",
            "Extracting  label/train/img-488_jpg.rf.bc6f57054dc22bbd98ba111e8b50f154.txt     \b\b\b\b 18%\b\b\b\b\b  OK \n",
            "Extracting  label/train/img-489_jpg.rf.f4699ee74f2e8fb7170294124cc4fbb6.txt     \b\b\b\b 18%\b\b\b\b\b  OK \n",
            "Extracting  label/train/img-48_jpg.rf.80aab2de449196e47a920e6e3e1557ce.txt     \b\b\b\b 18%\b\b\b\b\b  OK \n",
            "Extracting  label/train/img-494_jpg.rf.93aaae7aa17f7a5e7c247cba12a1b73e.txt     \b\b\b\b 18%\b\b\b\b\b  OK \n",
            "Extracting  label/train/img-496_jpg.rf.2c704dcb336ff2900ab1082067367d75.txt     \b\b\b\b 18%\b\b\b\b\b  OK \n",
            "Extracting  label/train/img-498_jpg.rf.6cf9993e84ae2765ea83ad49216e51ca.txt     \b\b\b\b 19%\b\b\b\b\b  OK \n",
            "Extracting  label/train/img-49_jpg.rf.d01d16f6ca4e230e7b2e1e35f8288e02.txt     \b\b\b\b 19%\b\b\b\b\b  OK \n",
            "Extracting  label/train/img-4_jpg.rf.11ae6e7fa2785e9062e1dd8c234333d9.txt     \b\b\b\b 19%\b\b\b\b\b  OK \n",
            "Extracting  label/train/img-500_jpg.rf.5d3d23bc89581151be590a39424e1913.txt     \b\b\b\b 19%\b\b\b\b\b  OK \n",
            "Extracting  label/train/img-502_jpg.rf.6ca14a2dbbdbef79d541c9b3cd39f110.txt     \b\b\b\b 19%\b\b\b\b\b  OK \n",
            "Extracting  label/train/img-503_jpg.rf.78dc49524b5d013c7c3580e2f88ee8e1.txt     \b\b\b\b 19%\b\b\b\b\b  OK \n",
            "Extracting  label/train/img-504_jpg.rf.1525b6fecee461da4196b8e4c10cb555.txt     \b\b\b\b 19%\b\b\b\b\b  OK \n",
            "Extracting  label/train/img-505_jpg.rf.722ce02b299e455f7436b3ebbf0403b6.txt     \b\b\b\b 19%\b\b\b\b\b  OK \n",
            "Extracting  label/train/img-506_jpg.rf.f72b3b75b27b51787cb4db96b7e07ff0.txt     \b\b\b\b 19%\b\b\b\b\b  OK \n",
            "Extracting  label/train/img-507_jpg.rf.f161c791b6cc6f2f522aeacfb0b1d80d.txt     \b\b\b\b 19%\b\b\b\b\b  OK \n",
            "Extracting  label/train/img-508_jpg.rf.c5747e8e3af0ece987ca5af6d0819338.txt     \b\b\b\b 19%\b\b\b\b\b  OK \n",
            "Extracting  label/train/img-509_jpg.rf.5bcf3d06847c789c6ffddd4d68666c6e.txt     \b\b\b\b 19%\b\b\b\b\b  OK \n",
            "Extracting  label/train/img-510_jpg.rf.123e51756929d8babd5c1cd39b0edcad.txt     \b\b\b\b 20%\b\b\b\b\b  OK \n",
            "Extracting  label/train/img-512_jpg.rf.4f5fad0146d35d6f920f53e3c42aff2b.txt     \b\b\b\b 20%\b\b\b\b\b  OK \n",
            "Extracting  label/train/img-513_jpg.rf.2d62e3be85f489e3bc9060023ee2ea8f.txt     \b\b\b\b 20%\b\b\b\b\b  OK \n",
            "Extracting  label/train/img-514_jpg.rf.1420b37cfd4c94e8f691c667c989a5f4.txt     \b\b\b\b 20%\b\b\b\b\b  OK \n",
            "Extracting  label/train/img-515_jpg.rf.3067bb2cb196b47aae9fbfa1af6261e4.txt     \b\b\b\b 20%\b\b\b\b\b  OK \n",
            "Extracting  label/train/img-517_jpg.rf.4d6d0c5487798a48b5f6008f90a5b768.txt     \b\b\b\b 20%\b\b\b\b\b  OK \n",
            "Extracting  label/train/img-518_jpg.rf.d8c4c35beb02b2b9c58b348b1a18227c.txt     \b\b\b\b 20%\b\b\b\b\b  OK \n",
            "Extracting  label/train/img-519_jpg.rf.6ba359e3644a97cd8bffee4cf4a10ea2.txt     \b\b\b\b 20%\b\b\b\b\b  OK \n",
            "Extracting  label/train/img-51_jpg.rf.e76dba0e33058fcd7ac509c0e2fbf0ce.txt     \b\b\b\b 20%\b\b\b\b\b  OK \n",
            "Extracting  label/train/img-521_jpg.rf.fa689c56eb3cd78ed57d84143cbe8d25.txt     \b\b\b\b 20%\b\b\b\b\b  OK \n",
            "Extracting  label/train/img-523_jpg.rf.c78c71adc175d5e3eb103a96a87b7dbb.txt     \b\b\b\b 20%\b\b\b\b\b  OK \n",
            "Extracting  label/train/img-524_jpg.rf.57fb2d4f1029263048a398c620968aad.txt     \b\b\b\b 20%\b\b\b\b\b  OK \n",
            "Extracting  label/train/img-526_jpg.rf.cfd028e96dd550e97745603cab99f3fe.txt     \b\b\b\b 21%\b\b\b\b\b  OK \n",
            "Extracting  label/train/img-527_jpg.rf.865da999fbb4399a1124e21bd313a958.txt     \b\b\b\b 21%\b\b\b\b\b  OK \n",
            "Extracting  label/train/img-52_jpg.rf.f95bed5b5d7b75aca48be59a17751be5.txt     \b\b\b\b 21%\b\b\b\b\b  OK \n",
            "Extracting  label/train/img-530_jpg.rf.cbb192f42b0fcae349cd1e320c1ab748.txt     \b\b\b\b 21%\b\b\b\b\b  OK \n",
            "Extracting  label/train/img-531_jpg.rf.336a27c3846e69f905fb235a9a58a4bc.txt     \b\b\b\b 21%\b\b\b\b\b  OK \n",
            "Extracting  label/train/img-532_jpg.rf.b99ffab41211fcaa201cbdf921f29b5c.txt     \b\b\b\b 21%\b\b\b\b\b  OK \n",
            "Extracting  label/train/img-533_jpg.rf.0a1292d1f04bbf45d8846532b3ad0eb8.txt     \b\b\b\b 21%\b\b\b\b\b  OK \n",
            "Extracting  label/train/img-534_jpg.rf.0e6dc3d1cfb351bc4a784ef45b77e29b.txt     \b\b\b\b 21%\b\b\b\b\b  OK \n",
            "Extracting  label/train/img-537_jpg.rf.800a6a93bc8d87ba0889f1706b5e1622.txt     \b\b\b\b 21%\b\b\b\b\b  OK \n",
            "Extracting  label/train/img-538_jpg.rf.14ed12805bf86f1eb7a5cb9da970b755.txt     \b\b\b\b 21%\b\b\b\b\b  OK \n",
            "Extracting  label/train/img-539_jpg.rf.94298de0d2207c7b4cd2bfe4f7e1cb72.txt     \b\b\b\b 21%\b\b\b\b\b  OK \n",
            "Extracting  label/train/img-53_jpg.rf.0a3288162e47d617b9108c8b7027f362.txt     \b\b\b\b 21%\b\b\b\b\b  OK \n",
            "Extracting  label/train/img-545_jpg.rf.786788c516d06b428e6c4fbe57a8a703.txt     \b\b\b\b 21%\b\b\b\b\b  OK \n",
            "Extracting  label/train/img-546_jpg.rf.e5e035a777a3e271af95989cdc07132a.txt     \b\b\b\b 21%\b\b\b\b\b  OK \n",
            "Extracting  label/train/img-547_jpg.rf.8dd4b5b2099318a1bb39ad348cbe0576.txt     \b\b\b\b 22%\b\b\b\b\b  OK \n",
            "Extracting  label/train/img-548_jpg.rf.ba5c7c94f831b7c84f8e41d7d30530fc.txt     \b\b\b\b 22%\b\b\b\b\b  OK \n",
            "Extracting  label/train/img-549_jpg.rf.d04eac44dedf21eed1fe6c98d095ac60.txt     \b\b\b\b 22%\b\b\b\b\b  OK \n",
            "Extracting  label/train/img-54_jpg.rf.f2eb8e6eddfbada99ebc025c400123b6.txt     \b\b\b\b 22%\b\b\b\b\b  OK \n",
            "Extracting  label/train/img-551_jpg.rf.2b6aca4deb8d05243dbefe85f26bbcf3.txt     \b\b\b\b 22%\b\b\b\b\b  OK \n",
            "Extracting  label/train/img-552_jpg.rf.ec9f1bee01c43e917639e624ebacc332.txt     \b\b\b\b 22%\b\b\b\b\b  OK \n",
            "Extracting  label/train/img-553_jpg.rf.3d751837334ee73ff7a2450529875ff1.txt     \b\b\b\b 22%\b\b\b\b\b  OK \n",
            "Extracting  label/train/img-554_jpg.rf.bd50fd0a9719bf9dc5a1e028c7a74b5a.txt     \b\b\b\b 22%\b\b\b\b\b  OK \n",
            "Extracting  label/train/img-555_jpg.rf.dba58c9ee204b9fe294a6b780157c109.txt     \b\b\b\b 22%\b\b\b\b\b  OK \n",
            "Extracting  label/train/img-557_jpg.rf.a5b8313b9acd22b69d558f6f3c46d433.txt     \b\b\b\b 22%\b\b\b\b\b  OK \n",
            "Extracting  label/train/img-559_jpg.rf.b1a2ceed9c2d8dc113f4ee9c8fff530c.txt     \b\b\b\b 22%\b\b\b\b\b  OK \n",
            "Extracting  label/train/img-55_jpg.rf.1b8af76b80e22349171b71e533fa126d.txt     \b\b\b\b 22%\b\b\b\b\b  OK \n",
            "Extracting  label/train/img-560_jpg.rf.6d7310e15cca82d248f956890f2d5185.txt     \b\b\b\b 22%\b\b\b\b\b  OK \n",
            "Extracting  label/train/img-561_jpg.rf.00e55aff1b67a607a6631ac6a05bf7af.txt     \b\b\b\b 23%\b\b\b\b\b  OK \n",
            "Extracting  label/train/img-562_jpg.rf.ab7bdf89e5af687b9314b09ddcd3830d.txt     \b\b\b\b 23%\b\b\b\b\b  OK \n",
            "Extracting  label/train/img-563_jpg.rf.49bd84d4290d0c5e02175c91364b6b3e.txt     \b\b\b\b 23%\b\b\b\b\b  OK \n",
            "Extracting  label/train/img-564_jpg.rf.5698b398c84abd43b6fa425dd1613e78.txt     \b\b\b\b 23%\b\b\b\b\b  OK \n",
            "Extracting  label/train/img-565_jpg.rf.bd70802866f547c938d6d3107ac92f47.txt     \b\b\b\b 23%\b\b\b\b\b  OK \n",
            "Extracting  label/train/img-566_jpg.rf.04baef7f164a924d84511224f7b46b8a.txt     \b\b\b\b 23%\b\b\b\b\b  OK \n",
            "Extracting  label/train/img-568_jpg.rf.16fab8adbb7580a03dddd4f458212d4c.txt     \b\b\b\b 23%\b\b\b\b\b  OK \n",
            "Extracting  label/train/img-569_jpg.rf.2b1c4b01aeb0f3c6b2f853c7b121fa62.txt     \b\b\b\b 23%\b\b\b\b\b  OK \n",
            "Extracting  label/train/img-56_jpg.rf.f8fd2a331afb8baf1cd530144b8dcbf0.txt     \b\b\b\b 23%\b\b\b\b\b  OK \n",
            "Extracting  label/train/img-570_jpg.rf.23478ec934f8e2d0ff5838c3124d89f2.txt     \b\b\b\b 23%\b\b\b\b\b  OK \n",
            "Extracting  label/train/img-571_jpg.rf.df521aa0f45aa986a3e937de4083272e.txt     \b\b\b\b 23%\b\b\b\b\b  OK \n",
            "Extracting  label/train/img-572_jpg.rf.574ecb002f88fd6cff3bfe8801094ef4.txt     \b\b\b\b 23%\b\b\b\b\b  OK \n",
            "Extracting  label/train/img-573_jpg.rf.da9254336436b337c14edd7cb0bb7c39.txt     \b\b\b\b 23%\b\b\b\b\b  OK \n",
            "Extracting  label/train/img-574_jpg.rf.bb4440939828e45cfc00da0f7231dde8.txt     \b\b\b\b 24%\b\b\b\b\b  OK \n",
            "Extracting  label/train/img-575_jpg.rf.d6b69bda83c57f9464d9a9a7e6f972f7.txt     \b\b\b\b 24%\b\b\b\b\b  OK \n",
            "Extracting  label/train/img-577_jpg.rf.0b2614262552a9d5aef5b1c24ac4d748.txt     \b\b\b\b 24%\b\b\b\b\b  OK \n",
            "Extracting  label/train/img-578_jpg.rf.5debbb9d599b351e32b855f0a443b0a1.txt     \b\b\b\b 24%\b\b\b\b\b  OK \n",
            "Extracting  label/train/img-579_jpg.rf.8ee8008110728a0b1d1198a9f4bbdc74.txt     \b\b\b\b 24%\b\b\b\b\b  OK \n",
            "Extracting  label/train/img-57_jpg.rf.9992e945c7131d09ceb361ef353dc560.txt     \b\b\b\b 24%\b\b\b\b\b  OK \n",
            "Extracting  label/train/img-580_jpg.rf.ef207bf01374eb491f8d0145ce0a76a4.txt     \b\b\b\b 24%\b\b\b\b\b  OK \n",
            "Extracting  label/train/img-581_jpg.rf.8c5c82afd59e6af22ff5a3e3c72aff1f.txt     \b\b\b\b 24%\b\b\b\b\b  OK \n",
            "Extracting  label/train/img-582_jpg.rf.5a67b2d4a4085a2d227651c26648dd80.txt     \b\b\b\b 24%\b\b\b\b\b  OK \n",
            "Extracting  label/train/img-583_jpg.rf.1bc1beae7fba61be76c754940edf7c6a.txt     \b\b\b\b 24%\b\b\b\b\b  OK \n",
            "Extracting  label/train/img-584_jpg.rf.fc44d8fdba9c7b8af37faaa753133602.txt     \b\b\b\b 24%\b\b\b\b\b  OK \n",
            "Extracting  label/train/img-585_jpg.rf.5affd0b2859d074e9e52f8540e31ce8d.txt     \b\b\b\b 24%\b\b\b\b\b  OK \n",
            "Extracting  label/train/img-587_jpg.rf.728787c37c5255b92d547db8e9effa4e.txt     \b\b\b\b 24%\b\b\b\b\b  OK \n",
            "Extracting  label/train/img-589_jpg.rf.f5c99c482282385a102f43a01d51cbc6.txt     \b\b\b\b 25%\b\b\b\b\b  OK \n",
            "Extracting  label/train/img-58_jpg.rf.e1472bdd09e11193dfe82afc2a0b6e9f.txt     \b\b\b\b 25%\b\b\b\b\b  OK \n",
            "Extracting  label/train/img-592_jpg.rf.6187cc73be9786a0826c78f03b69e072.txt     \b\b\b\b 25%\b\b\b\b\b  OK \n",
            "Extracting  label/train/img-593_jpg.rf.9ecc7604e866912e7cddc0ea1c65d412.txt     \b\b\b\b 25%\b\b\b\b\b  OK \n",
            "Extracting  label/train/img-594_jpg.rf.3d9a20acdc1aea9ccb25d694f7cdbbec.txt     \b\b\b\b 25%\b\b\b\b\b  OK \n",
            "Extracting  label/train/img-595_jpg.rf.f7d0b11ae9ac53ec52b154e001c576e1.txt     \b\b\b\b 25%\b\b\b\b\b  OK \n",
            "Extracting  label/train/img-599_jpg.rf.c4e70e02e8afab3aa00ef5e1b88950ba.txt     \b\b\b\b 25%\b\b\b\b\b  OK \n",
            "Extracting  label/train/img-59_jpg.rf.5b0be5064b3641271cd16f2fc35f840f.txt     \b\b\b\b 25%\b\b\b\b\b  OK \n",
            "Extracting  label/train/img-5_jpg.rf.22d6ac3fcee8b8da274f6c1d625215e2.txt     \b\b\b\b 25%\b\b\b\b\b  OK \n",
            "Extracting  label/train/img-600_jpg.rf.75935912aecbd55fa5a0807ceceb02e8.txt     \b\b\b\b 25%\b\b\b\b\b  OK \n",
            "Extracting  label/train/img-602_jpg.rf.7ea8b9efa93431daf8b5d93df22620ac.txt     \b\b\b\b 25%\b\b\b\b\b  OK \n",
            "Extracting  label/train/img-605_jpg.rf.dcd6b582a432a5bbce6b276057ef3660.txt     \b\b\b\b 25%\b\b\b\b\b  OK \n",
            "Extracting  label/train/img-606_jpg.rf.d525667a91c953bc458519a76afc2ca2.txt     \b\b\b\b 26%\b\b\b\b\b  OK \n",
            "Extracting  label/train/img-607_jpg.rf.72e1f367a8ef39c033eafac3b66f7ea4.txt     \b\b\b\b 26%\b\b\b\b\b  OK \n",
            "Extracting  label/train/img-608_jpg.rf.6a019b85298c5fdcc6d1cc1377eb42a0.txt     \b\b\b\b 26%\b\b\b\b\b  OK \n",
            "Extracting  label/train/img-609_jpg.rf.e036fb262fec0db3c7c37622e7fcbcfd.txt     \b\b\b\b 26%\b\b\b\b\b  OK \n",
            "Extracting  label/train/img-610_jpg.rf.303b62652c5bf84b706fe1002f863b2f.txt     \b\b\b\b 26%\b\b\b\b\b  OK \n",
            "Extracting  label/train/img-612_jpg.rf.246d9a359d2add666e99da37d8590d5c.txt     \b\b\b\b 26%\b\b\b\b\b  OK \n",
            "Extracting  label/train/img-613_jpg.rf.ab3099bb3ff23deff31985fc9ffd1fc0.txt     \b\b\b\b 26%\b\b\b\b\b  OK \n",
            "Extracting  label/train/img-614_jpg.rf.727f9c1d1159709fea21d916f1a85d66.txt     \b\b\b\b 26%\b\b\b\b\b  OK \n",
            "Extracting  label/train/img-616_jpg.rf.4d03aeb93b953e520bcaf53615ff9651.txt     \b\b\b\b 26%\b\b\b\b\b  OK \n",
            "Extracting  label/train/img-617_jpg.rf.fa415edc42afffb71b94117a8200b43a.txt     \b\b\b\b 26%\b\b\b\b\b  OK \n",
            "Extracting  label/train/img-618_jpg.rf.cc7c6c35a47a453b2b1347c6525691bb.txt     \b\b\b\b 26%\b\b\b\b\b  OK \n",
            "Extracting  label/train/img-619_jpg.rf.5456a9e84bd2369e8f206f5c19410127.txt     \b\b\b\b 26%\b\b\b\b\b  OK \n",
            "Extracting  label/train/img-61_jpg.rf.2000a63661f2976215d740c84a7fa546.txt     \b\b\b\b 26%\b\b\b\b\b  OK \n",
            "Extracting  label/train/img-620_jpg.rf.077f5547cc7daeccf1aa61fd6ca2f0a4.txt     \b\b\b\b 26%\b\b\b\b\b  OK \n",
            "Extracting  label/train/img-622_jpg.rf.0de72c0dc080b1c68cc7573ef9e7d9aa.txt     \b\b\b\b 27%\b\b\b\b\b  OK \n",
            "Extracting  label/train/img-623_jpg.rf.53d9491f77118c981d2204bc45323cf8.txt     \b\b\b\b 27%\b\b\b\b\b  OK \n",
            "Extracting  label/train/img-624_jpg.rf.502c75a86b1dad5430ad53cb148b40cd.txt     \b\b\b\b 27%\b\b\b\b\b  OK \n",
            "Extracting  label/train/img-625_jpg.rf.8c9886bd3fb9566b5dbd3d1edaa3879a.txt     \b\b\b\b 27%\b\b\b\b\b  OK \n",
            "Extracting  label/train/img-626_jpg.rf.9b8b117edc1728bf995873525c2b7ad5.txt     \b\b\b\b 27%\b\b\b\b\b  OK \n",
            "Extracting  label/train/img-627_jpg.rf.4a7f140a3fdb2b92c552c1fe3361b5a4.txt     \b\b\b\b 27%\b\b\b\b\b  OK \n",
            "Extracting  label/train/img-628_jpg.rf.42b86eabd12459c1fcdde71b964b4513.txt     \b\b\b\b 27%\b\b\b\b\b  OK \n",
            "Extracting  label/train/img-62_jpg.rf.8c5233a41dc5fe17412129d1e9b7ad88.txt     \b\b\b\b 27%\b\b\b\b\b  OK \n",
            "Extracting  label/train/img-630_jpg.rf.daa4c95b49226642dd5f9fa9d0d5b857.txt     \b\b\b\b 27%\b\b\b\b\b  OK \n",
            "Extracting  label/train/img-632_jpg.rf.53a3e09948261d887eeda01c232773be.txt     \b\b\b\b 27%\b\b\b\b\b  OK \n",
            "Extracting  label/train/img-633_jpg.rf.3a6adcebf0215036565a568ea9d8a870.txt     \b\b\b\b 27%\b\b\b\b\b  OK \n",
            "Extracting  label/train/img-636_jpg.rf.a6173bddbf7d20589954172debd64256.txt     \b\b\b\b 27%\b\b\b\b\b  OK \n",
            "Extracting  label/train/img-637_jpg.rf.423e2e41b34b195a5c91a86f3fcad9e1.txt     \b\b\b\b 27%\b\b\b\b\b  OK \n",
            "Extracting  label/train/img-638_jpg.rf.2a8faf540acd84c4eba228bf828631be.txt     \b\b\b\b 27%\b\b\b\b\b  OK \n",
            "Extracting  label/train/img-639_jpg.rf.b8377ab028151caa99b7ec0164b1e1cc.txt     \b\b\b\b 28%\b\b\b\b\b  OK \n",
            "Extracting  label/train/img-63_jpg.rf.9aa76f7292d30d50dd111ad2e580b6fd.txt     \b\b\b\b 28%\b\b\b\b\b  OK \n",
            "Extracting  label/train/img-640_jpg.rf.07e03157df4d66c761b4b8c3a4418cb9.txt     \b\b\b\b 28%\b\b\b\b\b  OK \n",
            "Extracting  label/train/img-641_jpg.rf.c5579ea692508c43b5c0cd56cb9bbca1.txt     \b\b\b\b 28%\b\b\b\b\b  OK \n",
            "Extracting  label/train/img-642_jpg.rf.d948fea937b446e71e3c93417aad9211.txt     \b\b\b\b 28%\b\b\b\b\b  OK \n",
            "Extracting  label/train/img-644_jpg.rf.c846835a4c152cbd22581385edfc421a.txt     \b\b\b\b 28%\b\b\b\b\b  OK \n",
            "Extracting  label/train/img-645_jpg.rf.3bc2572b38ae76168880ecd94fc970c5.txt     \b\b\b\b 28%\b\b\b\b\b  OK \n",
            "Extracting  label/train/img-646_jpg.rf.26acf4b2f9f7b0e0935e30c10b22de66.txt     \b\b\b\b 28%\b\b\b\b\b  OK \n",
            "Extracting  label/train/img-647_jpg.rf.47741041990f3eb84cbc316d5d91642d.txt     \b\b\b\b 28%\b\b\b\b\b  OK \n",
            "Extracting  label/train/img-649_jpg.rf.7af50c8bd2d8f17c431910142ef8a569.txt     \b\b\b\b 28%\b\b\b\b\b  OK \n",
            "Extracting  label/train/img-64_jpg.rf.87f8620de24096f7cceb3e1a38ca2bdf.txt     \b\b\b\b 28%\b\b\b\b\b  OK \n",
            "Extracting  label/train/img-652_jpg.rf.0590f1d28a51cd3ae140c3b7c8a35e19.txt     \b\b\b\b 28%\b\b\b\b\b  OK \n",
            "Extracting  label/train/img-653_jpg.rf.0f72804027539a5d8568596a63951912.txt     \b\b\b\b 28%\b\b\b\b\b  OK \n",
            "Extracting  label/train/img-654_jpg.rf.5b1781ad998ed69777161157b3edebff.txt     \b\b\b\b 28%\b\b\b\b\b  OK \n",
            "Extracting  label/train/img-655_jpg.rf.2a815e4e1eacc4b38e0f61a883f60211.txt     \b\b\b\b 28%\b\b\b\b\b  OK \n",
            "Extracting  label/train/img-657_jpg.rf.746593ccbdcc4662febd1f520098249a.txt     \b\b\b\b 28%\b\b\b\b\b  OK \n",
            "Extracting  label/train/img-659_jpg.rf.e4113ec56c93406c8d26fde5a8d88a73.txt     \b\b\b\b 29%\b\b\b\b\b  OK \n",
            "Extracting  label/train/img-660_jpg.rf.136a06754370aa1b86ee084c9ae6da5f.txt     \b\b\b\b 29%\b\b\b\b\b  OK \n",
            "Extracting  label/train/img-661_jpg.rf.59e9415bda27ef166e9e0fa652a14b22.txt     \b\b\b\b 29%\b\b\b\b\b  OK \n",
            "Extracting  label/train/img-662_jpg.rf.f3cd9beffc2c8a24cae595095d375a19.txt     \b\b\b\b 29%\b\b\b\b\b  OK \n",
            "Extracting  label/train/img-663_jpg.rf.eacecce4c5b4615ad0dbe455777e1547.txt     \b\b\b\b 29%\b\b\b\b\b  OK \n",
            "Extracting  label/train/img-664_jpg.rf.0392cc4f0a63d256e7c42f057345f8b5.txt     \b\b\b\b 29%\b\b\b\b\b  OK \n",
            "Extracting  label/train/img-665_jpg.rf.f1b7ae957b1b1d8c1da0a36309e1f6e2.txt     \b\b\b\b 29%\b\b\b\b\b  OK \n",
            "Extracting  label/train/img-66_jpg.rf.356b50eb43676369ecee335108c3709f.txt     \b\b\b\b 29%\b\b\b\b\b  OK \n",
            "Extracting  label/train/img-6_jpg.rf.a961e413341cc4216cddc1c46e76d13f.txt     \b\b\b\b 29%\b\b\b\b\b  OK \n",
            "Extracting  label/train/img-70_jpg.rf.c64a3fa4382e8482aa49dd4c38c7012b.txt     \b\b\b\b 29%\b\b\b\b\b  OK \n",
            "Extracting  label/train/img-71_jpg.rf.cdf11db31e4a7deb2eb646717b72088f.txt     \b\b\b\b 29%\b\b\b\b\b  OK \n",
            "Extracting  label/train/img-73_jpg.rf.b63f566c3ddb5514f3fc2a1dd9ba40ec.txt     \b\b\b\b 29%\b\b\b\b\b  OK \n",
            "Extracting  label/train/img-74_jpg.rf.bbb7822c260ad0c8f9f4e361c534329c.txt     \b\b\b\b 29%\b\b\b\b\b  OK \n",
            "Extracting  label/train/img-75_jpg.rf.9a3c8716c1ae12e2c698c1ff62d8aa4c.txt     \b\b\b\b 29%\b\b\b\b\b  OK \n",
            "Extracting  label/train/img-76_jpg.rf.b2486fa34ebf8ebbee2850ff4c02be4a.txt     \b\b\b\b 29%\b\b\b\b\b  OK \n",
            "Extracting  label/train/img-78_jpg.rf.01130ebf73370c115ee9de4fc1f29be5.txt     \b\b\b\b 29%\b\b\b\b\b  OK \n",
            "Extracting  label/train/img-80_jpg.rf.02752f42e0f4bc24481a8d9d938a7569.txt     \b\b\b\b 30%\b\b\b\b\b  OK \n",
            "Extracting  label/train/img-81_jpg.rf.3cde6b9acba84f64ef59722240cb6fd6.txt     \b\b\b\b 30%\b\b\b\b\b  OK \n",
            "Extracting  label/train/img-83_jpg.rf.1c7a57b033ede2a3e95532df258578d4.txt     \b\b\b\b 30%\b\b\b\b\b  OK \n",
            "Extracting  label/train/img-84_jpg.rf.220a0bb7cdb0d030acdaaeb8724ed36d.txt     \b\b\b\b 30%\b\b\b\b\b  OK \n",
            "Extracting  label/train/img-85_jpg.rf.3d157a70f444d84a006039b9114b726b.txt     \b\b\b\b 30%\b\b\b\b\b  OK \n",
            "Extracting  label/train/img-86_jpg.rf.dbe8b3ed795b7a898d4fd37b08227003.txt     \b\b\b\b 30%\b\b\b\b\b  OK \n",
            "Extracting  label/train/img-87_jpg.rf.d1b29f2a180c61b7f586070108949c9e.txt     \b\b\b\b 30%\b\b\b\b\b  OK \n",
            "Extracting  label/train/img-88_jpg.rf.5f67c703ef1d55215e9362d5496fe1ec.txt     \b\b\b\b 30%\b\b\b\b\b  OK \n",
            "Extracting  label/train/img-90_jpg.rf.b470c7ecb31eaa9a524688e45287351f.txt     \b\b\b\b 30%\b\b\b\b\b  OK \n",
            "Extracting  label/train/img-95_jpg.rf.88e456640460ae2424d7881caa5d1f86.txt     \b\b\b\b 30%\b\b\b\b\b  OK \n",
            "Extracting  label/train/img-96_jpg.rf.62cddedc415c7b5c50c459bce49adcc9.txt     \b\b\b\b 30%\b\b\b\b\b  OK \n",
            "Extracting  label/train/img-97_jpg.rf.4289b6d75214d9d3dcbf17f94867a0f0.txt     \b\b\b\b 30%\b\b\b\b\b  OK \n",
            "Extracting  label/train/img-99_jpg.rf.e4e00fb5fb002d3813a2acb346473620.txt     \b\b\b\b 30%\b\b\b\b\b  OK \n",
            "Extracting  label/train/img-9_jpg.rf.de0e0920eee97f99bfa4d5a2ed29d82e.txt     \b\b\b\b 30%\b\b\b\b\b  OK \n",
            "Extracting  label/train/IMG_0020_JPG_jpg.rf.967f9deadfeb756e406e4810d29841c1.txt     \b\b\b\b 30%\b\b\b\b\b  OK \n",
            "Extracting  label/train/IMG_0026_JPG_jpg.rf.39032d44565d601bc760a263dda881d8.txt     \b\b\b\b 30%\b\b\b\b\b  OK \n",
            "Extracting  label/train/IMG_0030_JPG_jpg.rf.3eecdd810a70c955fec2e9d7ec84c484.txt     \b\b\b\b 31%\b\b\b\b\b  OK \n",
            "Extracting  label/train/IMG_0031_JPG_jpg.rf.d5a0e2854dd7dd23db3c601b7ac9f849.txt     \b\b\b\b 31%\b\b\b\b\b  OK \n",
            "Extracting  label/train/IMG_0034_JPG_jpg.rf.cb59ec336cb702fc406cb2df5694d9d7.txt     \b\b\b\b 31%\b\b\b\b\b  OK \n",
            "Extracting  label/train/IMG_0035_JPG_jpg.rf.954d958ab95d15cde5b8765cbdc2b7c3.txt     \b\b\b\b 31%\b\b\b\b\b  OK \n",
            "Extracting  label/train/IMG_0036_JPG_jpg.rf.bb75356d7a2ea0c852ac786226bfc11f.txt     \b\b\b\b 31%\b\b\b\b\b  OK \n",
            "Extracting  label/train/IMG_0037_JPG_jpg.rf.58295bd12cff9b5710a632df77c13672.txt     \b\b\b\b 31%\b\b\b\b\b  OK \n",
            "Extracting  label/train/IMG_0039_JPG_jpg.rf.c81524cf599477b50f7be0c659b4f79f.txt     \b\b\b\b 31%\b\b\b\b\b  OK \n",
            "Extracting  label/train/IMG_0056_JPG_jpg.rf.0757acb2823b2ff4fc27eebf2077aec8.txt     \b\b\b\b 31%\b\b\b\b\b  OK \n",
            "Extracting  label/train/IMG_0058_JPG_jpg.rf.2d1fa34db3284e98be14ecd80a1a752b.txt     \b\b\b\b 31%\b\b\b\b\b  OK \n",
            "Extracting  label/train/IMG_0061_JPG_jpg.rf.73e8b97ebdf8512052832adb6cbc15a8.txt     \b\b\b\b 31%\b\b\b\b\b  OK \n",
            "Extracting  label/train/IMG_0063_JPG_jpg.rf.e8d961f0c201b4c8409e483a47cdbf04.txt     \b\b\b\b 31%\b\b\b\b\b  OK \n",
            "Extracting  label/train/IMG_0065_JPG_jpg.rf.384cf6ebd38848ad5f010cd52ec0a8e8.txt     \b\b\b\b 31%\b\b\b\b\b  OK \n",
            "Extracting  label/train/IMG_0074_JPG_jpg.rf.067e43e2e13048a54bfec8ee72a0fd3f.txt     \b\b\b\b 31%\b\b\b\b\b  OK \n",
            "Extracting  label/train/IMG_0076_JPG_jpg.rf.cc7ffabebd1da4c8af36feca7b968466.txt     \b\b\b\b 31%\b\b\b\b\b  OK \n",
            "Extracting  label/train/IMG_0078_JPG_jpg.rf.312e81dad33b3cbe03815c9b4000f952.txt     \b\b\b\b 31%\b\b\b\b\b  OK \n",
            "Extracting  label/train/IMG_0089_JPG_jpg.rf.f9a5bed732d93a93b076886d924b2df4.txt     \b\b\b\b 32%\b\b\b\b\b  OK \n",
            "Extracting  label/train/IMG_0124_JPG_jpg.rf.5d33e98572ba6c47ad0dac73682b45a7.txt     \b\b\b\b 32%\b\b\b\b\b  OK \n",
            "Extracting  label/train/IMG_0130_JPG_jpg.rf.f79cd5ecf1ea2a441e5d76062b67eff3.txt     \b\b\b\b 32%\b\b\b\b\b  OK \n",
            "Extracting  label/train/IMG_0136_JPG_jpg.rf.4220b1f1315c9b6e2fed080eb76211b4.txt     \b\b\b\b 32%\b\b\b\b\b  OK \n",
            "Extracting  label/train/IMG_0157_JPG_jpg.rf.bb6f04e017e3923131808942ba5e55dd.txt     \b\b\b\b 32%\b\b\b\b\b  OK \n",
            "Extracting  label/train/IMG_0158_JPG_jpg.rf.0da9dab52d9c38aa50056a50e9cfae6c.txt     \b\b\b\b 32%\b\b\b\b\b  OK \n",
            "Extracting  label/train/IMG_0160_JPG_jpg.rf.9dd4bd5a3f353a571e26602700691513.txt     \b\b\b\b 32%\b\b\b\b\b  OK \n",
            "Extracting  label/train/IMG_0162_JPG_jpg.rf.e37fb3ad5d3bf1b981da9af379522cde.txt     \b\b\b\b 32%\b\b\b\b\b  OK \n",
            "Extracting  label/train/IMG_0166_JPG_jpg.rf.6727c36fe6c87fca8433ecfee0f665b0.txt     \b\b\b\b 32%\b\b\b\b\b  OK \n",
            "Extracting  label/train/IMG_0167_JPG_jpg.rf.91882104bf711b21a45c18831ce260f4.txt     \b\b\b\b 32%\b\b\b\b\b  OK \n",
            "Extracting  label/train/IMG_0168_JPG_jpg.rf.467f3a431af55d418560fd15ec48c4e0.txt     \b\b\b\b 32%\b\b\b\b\b  OK \n",
            "Extracting  label/train/IMG_0169_JPG_jpg.rf.e1c0af04fd1d1c2d368c20f5bba101db.txt     \b\b\b\b 32%\b\b\b\b\b  OK \n",
            "Extracting  label/train/IMG_0204_JPG_jpg.rf.ffd407109d804ee8ca83b71a3ac9eaad.txt     \b\b\b\b 32%\b\b\b\b\b  OK \n",
            "Extracting  label/train/IMG_0207_JPG_jpg.rf.90ed44a6d9f7c3b73b09a86be36eb98a.txt     \b\b\b\b 33%\b\b\b\b\b  OK \n",
            "Extracting  label/train/IMG_0211_JPG_jpg.rf.636ade84215b8e9cd020292cbdd3f155.txt     \b\b\b\b 33%\b\b\b\b\b  OK \n",
            "Extracting  label/train/IMG_0212_JPG_jpg.rf.eddf0dd36fce50852b8dbc5b37767f3d.txt     \b\b\b\b 33%\b\b\b\b\b  OK \n",
            "Extracting  label/train/IMG_0221_JPG_jpg.rf.439520f837d9901be94a6688fa7e5e75.txt     \b\b\b\b 33%\b\b\b\b\b  OK \n",
            "Extracting  label/train/IMG_0225_JPG_jpg.rf.01e0d4479d94900232bfef3fdcb84998.txt     \b\b\b\b 33%\b\b\b\b\b  OK \n",
            "Extracting  label/train/IMG_0227_JPG_jpg.rf.98321da4c1e60d6efff79a82411563b4.txt     \b\b\b\b 33%\b\b\b\b\b  OK \n",
            "Extracting  label/train/IMG_0228_JPG_jpg.rf.1bea4f743b513ed8f4d44d22ece7a6d0.txt     \b\b\b\b 33%\b\b\b\b\b  OK \n",
            "Extracting  label/train/IMG_0229_JPG_jpg.rf.274df07c5a476a8031309d8e38409403.txt     \b\b\b\b 33%\b\b\b\b\b  OK \n",
            "Extracting  label/train/IMG_0230_JPG_jpg.rf.fb6acc03e00fbfdb3f4797ae186aa917.txt     \b\b\b\b 33%\b\b\b\b\b  OK \n",
            "Extracting  label/train/IMG_0232_JPG_jpg.rf.769fba9beda561ae7072383bf9ba7151.txt     \b\b\b\b 33%\b\b\b\b\b  OK \n",
            "Extracting  label/train/IMG_0234_JPG_jpg.rf.861bb704dd582a9993f23f9bbab4bcff.txt     \b\b\b\b 33%\b\b\b\b\b  OK \n",
            "Extracting  label/train/IMG_1228_jpg.rf.cfddc3ceda05a1de60f6fdc5ae9150ed.txt     \b\b\b\b 33%\b\b\b\b\b  OK \n",
            "Extracting  label/train/IMG_1230_jpg.rf.21762a6af1ec2de545b8130119726d48.txt     \b\b\b\b 33%\b\b\b\b\b  OK \n",
            "Extracting  label/train/IMG_1231_jpg.rf.c7f1ee7494f70142c6b9844d9607d621.txt     \b\b\b\b 33%\b\b\b\b\b  OK \n",
            "Extracting  label/train/IMG_1233_jpg.rf.92603fe531bd77fdf623938ab516a3e3.txt     \b\b\b\b 33%\b\b\b\b\b  OK \n",
            "Extracting  label/train/IMG_1237_jpg.rf.3c7d1654727e996884e75e69a19942af.txt     \b\b\b\b 34%\b\b\b\b\b  OK \n",
            "Extracting  label/train/IMG_1239_jpg.rf.e8b0a7af65fb551aec338fc74902c378.txt     \b\b\b\b 34%\b\b\b\b\b  OK \n",
            "Extracting  label/train/IMG_1240_jpg.rf.f8817a58ea2f8d6d13ba92d6ff15b41c.txt     \b\b\b\b 34%\b\b\b\b\b  OK \n",
            "Extracting  label/train/IMG_1241_jpg.rf.1ed18bb8852cd2f9d2de513915aeff10.txt     \b\b\b\b 34%\b\b\b\b\b  OK \n",
            "Extracting  label/train/IMG_1242_jpg.rf.690037c51d5b21afdfdb5304acc44007.txt     \b\b\b\b 34%\b\b\b\b\b  OK \n",
            "Extracting  label/train/IMG_1243_jpg.rf.338450ebbd83a61bee655aada6922fe4.txt     \b\b\b\b 34%\b\b\b\b\b  OK \n",
            "Extracting  label/train/IMG_1245_jpg.rf.27178501c56fce2abe151628baa6c360.txt     \b\b\b\b 34%\b\b\b\b\b  OK \n",
            "Extracting  label/train/IMG_1246_jpg.rf.196c646d2cd83a257a3d6c51b015d5da.txt     \b\b\b\b 34%\b\b\b\b\b  OK \n",
            "Extracting  label/train/IMG_1247_jpg.rf.8d1e234003356ef8604864fd9a3174b8.txt     \b\b\b\b 34%\b\b\b\b\b  OK \n",
            "Extracting  label/train/IMG_1248_jpg.rf.a0d68b19dfec975eb07d45d6c872541c.txt     \b\b\b\b 34%\b\b\b\b\b  OK \n",
            "Extracting  label/train/IMG_1250_jpg.rf.9daa4eb7b358ff8e8178f118c53609b0.txt     \b\b\b\b 34%\b\b\b\b\b  OK \n",
            "Extracting  label/train/IMG_1251_jpg.rf.d1f914d58cc92ecfd3b340273aec4ffb.txt     \b\b\b\b 34%\b\b\b\b\b  OK \n",
            "Extracting  label/train/IMG_1252_jpg.rf.7caa069d03f0375b86b92152d413f44f.txt     \b\b\b\b 34%\b\b\b\b\b  OK \n",
            "Extracting  label/train/IMG_1253_jpg.rf.1ddedac8039e42d103f3c2357e900160.txt     \b\b\b\b 34%\b\b\b\b\b  OK \n",
            "Extracting  label/train/IMG_1254_jpg.rf.962781dfe7943bc001a25aa77bb80263.txt     \b\b\b\b 34%\b\b\b\b\b  OK \n",
            "Extracting  label/train/IMG_1255_jpg.rf.b6de40d34c645a2fd9624b27c46893e2.txt     \b\b\b\b 34%\b\b\b\b\b  OK \n",
            "Extracting  label/train/IMG_1256_jpg.rf.84a65689603a3c3d600e12c87cbfcc7b.txt     \b\b\b\b 35%\b\b\b\b\b  OK \n",
            "Extracting  label/train/IMG_1257_jpg.rf.0b4585fecce29306fa623fb5a90209db.txt     \b\b\b\b 35%\b\b\b\b\b  OK \n",
            "Extracting  label/train/IMG_1258_jpg.rf.f455666ab113145a584f3fa88c0453ba.txt     \b\b\b\b 35%\b\b\b\b\b  OK \n",
            "Extracting  label/train/IMG_1260_jpg.rf.c958df55979142a6656327ff60be57e1.txt     \b\b\b\b 35%\b\b\b\b\b  OK \n",
            "Extracting  label/train/IMG_1261_jpg.rf.a92e2dd2ef9071f3d01758af4012bb90.txt     \b\b\b\b 35%\b\b\b\b\b  OK \n",
            "Extracting  label/train/IMG_1262_jpg.rf.5123cff988f6bd59d979d669b78e848f.txt     \b\b\b\b 35%\b\b\b\b\b  OK \n",
            "Extracting  label/train/IMG_1263_jpg.rf.b249d88e1992ae53fd09c5ee2abd1775.txt     \b\b\b\b 35%\b\b\b\b\b  OK \n",
            "Extracting  label/train/IMG_1266_jpg.rf.573c2645c076187d5cc9cb5d2beec29b.txt     \b\b\b\b 35%\b\b\b\b\b  OK \n",
            "Extracting  label/train/IMG_1284_jpg.rf.d5c8302034554d891672fe89f36e5033.txt     \b\b\b\b 35%\b\b\b\b\b  OK \n",
            "Extracting  label/train/IMG_1285_jpg.rf.ed2fe2090618081839314dfa194c8293.txt     \b\b\b\b 35%\b\b\b\b\b  OK \n",
            "Extracting  label/train/IMG_1286_jpg.rf.f1c6ad8f8ddb822187b325b5dda50573.txt     \b\b\b\b 35%\b\b\b\b\b  OK \n",
            "Extracting  label/train/IMG_1288_jpg.rf.eda15de26330a547c4420b4aac894d14.txt     \b\b\b\b 35%\b\b\b\b\b  OK \n",
            "Extracting  label/train/IMG_1290_jpg.rf.44f9b1566a853a91350049eac32af5dc.txt     \b\b\b\b 35%\b\b\b\b\b  OK \n",
            "Extracting  label/train/IMG_1292_jpg.rf.836a50c7a6a605b10c335f5706349319.txt     \b\b\b\b 35%\b\b\b\b\b  OK \n",
            "Extracting  label/train/IMG_1294_jpg.rf.c50d294e99a8409bd926a8044a9805af.txt     \b\b\b\b 35%\b\b\b\b\b  OK \n",
            "Extracting  label/train/IMG_1296_jpg.rf.6321fd98b4ff26c43722e2a6553181bc.txt     \b\b\b\b 35%\b\b\b\b\b  OK \n",
            "Extracting  label/train/IMG_1299_jpg.rf.b110b5e43dfff1b0c1e6b5c2178b5a8f.txt     \b\b\b\b 36%\b\b\b\b\b  OK \n",
            "Extracting  label/train/IMG_1311_jpg.rf.ec4e0e71508f8fef17a3c9dc6e158c2b.txt     \b\b\b\b 36%\b\b\b\b\b  OK \n",
            "Extracting  label/train/IMG_1315_jpg.rf.c269d582773bca61f01ad07df4339cc6.txt     \b\b\b\b 36%\b\b\b\b\b  OK \n",
            "Extracting  label/train/IMG_1317_jpg.rf.317a3175e9494af136bb593f5923b901.txt     \b\b\b\b 36%\b\b\b\b\b  OK \n",
            "Extracting  label/train/IMG_20100101_021455_jpg.rf.9a19dd9df18fa6150021ad3317c76709.txt     \b\b\b\b 36%\b\b\b\b\b  OK \n",
            "Extracting  label/train/IMG_20100101_021505_jpg.rf.02dcc0538d294f45d7e10c20c4f1ff62.txt     \b\b\b\b 36%\b\b\b\b\b  OK \n",
            "Extracting  label/train/IMG_20100101_021612_jpg.rf.37f0409cc655408a1ac7f4bba7496af3.txt     \b\b\b\b 36%\b\b\b\b\b  OK \n",
            "Extracting  label/train/IMG_20100101_021624_jpg.rf.05de9c19052dcdebd5cccc9fcb4b87e1.txt     \b\b\b\b 36%\b\b\b\b\b  OK \n",
            "Extracting  label/train/IMG_20100101_021651_jpg.rf.62e70a7475bc416f27901d9d94751895.txt     \b\b\b\b 36%\b\b\b\b\b  OK \n",
            "Extracting  label/train/IMG_20100101_021715_jpg.rf.44edb01482d614f5ff102f0905624150.txt     \b\b\b\b 36%\b\b\b\b\b  OK \n",
            "Extracting  label/train/IMG_20100101_021749_jpg.rf.097a8b373afdf266f4ae4626c75bf6a5.txt     \b\b\b\b 36%\b\b\b\b\b  OK \n",
            "Extracting  label/train/IMG_20100101_021758_jpg.rf.2cd494a3bc233b5e7dc67db154a03697.txt     \b\b\b\b 36%\b\b\b\b\b  OK \n",
            "Extracting  label/train/IMG_20100101_021826_jpg.rf.a5e590edcdfbd23a48be6aab3aaabf4c.txt     \b\b\b\b 36%\b\b\b\b\b  OK \n",
            "Extracting  label/train/IMG_20100101_021949_jpg.rf.efde479035d20e9bc76fb800d2a3ab17.txt     \b\b\b\b 36%\b\b\b\b\b  OK \n",
            "Extracting  label/train/IMG_20100101_022113_jpg.rf.a015c43f887e8fa8c1188bad92d15ad8.txt     \b\b\b\b 36%\b\b\b\b\b  OK \n",
            "Extracting  label/train/IMG_20100101_022131_jpg.rf.b5f91e3f9cd39c6883a75fcdff211a36.txt     \b\b\b\b 36%\b\b\b\b\b  OK \n",
            "Extracting  label/train/IMG_20100101_022226_jpg.rf.5f15e36da8a2832f48e522f447146cf9.txt     \b\b\b\b 37%\b\b\b\b\b  OK \n",
            "Extracting  label/train/IMG_20100101_022529_jpg.rf.33baa5debbd2b9fb936647b45f3dfca3.txt     \b\b\b\b 37%\b\b\b\b\b  OK \n",
            "Extracting  label/train/IMG_20100101_022658_jpg.rf.5d956753b96f1090850041fbee8c79ab.txt     \b\b\b\b 37%\b\b\b\b\b  OK \n",
            "Extracting  label/train/IMG_20100101_022751_jpg.rf.3c9d63aabf0924b8ef824b9b70ec2dfe.txt     \b\b\b\b 37%\b\b\b\b\b  OK \n",
            "Extracting  label/train/IMG_20100101_022907_jpg.rf.5041e966e43ce960afa9291a71b08484.txt     \b\b\b\b 37%\b\b\b\b\b  OK \n",
            "Extracting  label/train/IMG_20100101_022957_jpg.rf.c44e2ffdfcd956a7f54fe9bd2301d50c.txt     \b\b\b\b 37%\b\b\b\b\b  OK \n",
            "Extracting  label/train/IMG_20100101_023024_jpg.rf.221fe2909d2b9b9dd7de92c419992615.txt     \b\b\b\b 37%\b\b\b\b\b  OK \n",
            "Extracting  label/train/IMG_20100101_023206_jpg.rf.b38075c1af1f07352c4e15bfc6408d9c.txt     \b\b\b\b 37%\b\b\b\b\b  OK \n",
            "Extracting  label/train/IMG_20100101_023250_jpg.rf.b835bc3f33418802cf4e636d7cecd25d.txt     \b\b\b\b 37%\b\b\b\b\b  OK \n",
            "Extracting  label/train/IMG_20100101_030140_jpg.rf.6a6dc9c24656dc991ab6bbb1b45495d7.txt     \b\b\b\b 37%\b\b\b\b\b  OK \n",
            "Extracting  label/train/IMG_20100101_030359_jpg.rf.00087775095b74724bfc213c6ef61421.txt     \b\b\b\b 37%\b\b\b\b\b  OK \n",
            "Extracting  label/train/IMG_20100101_030428_jpg.rf.56fa8cc284b604544acf9bb7b0e03deb.txt     \b\b\b\b 37%\b\b\b\b\b  OK \n",
            "Extracting  label/train/IMG_20100101_030701_jpg.rf.2d1d68aae978df7d78edeed8308b57c5.txt     \b\b\b\b 37%\b\b\b\b\b  OK \n",
            "Extracting  label/train/IMG_20100101_030741_jpg.rf.8ca1c8c578ac20112a5fb8e57183ac3a.txt     \b\b\b\b 37%\b\b\b\b\b  OK \n",
            "Extracting  label/train/IMG_20100101_030848_jpg.rf.cb7f16469647fd1ee0e569cd66907a17.txt     \b\b\b\b 37%\b\b\b\b\b  OK \n",
            "Extracting  label/train/IMG_20100101_031000_jpg.rf.fc471657fbace0e95fdf8ac4ea0c7032.txt     \b\b\b\b 38%\b\b\b\b\b  OK \n",
            "Extracting  label/train/IMG_20100101_031126_jpg.rf.63b09e91f0d033ade8feec19ec1c3714.txt     \b\b\b\b 38%\b\b\b\b\b  OK \n",
            "Extracting  label/train/IMG_20100101_031404_jpg.rf.94c660ae8bb8b347c5e0a71104a96cad.txt     \b\b\b\b 38%\b\b\b\b\b  OK \n",
            "Extracting  label/train/IMG_20100101_031423_jpg.rf.0974805bd7bd4e87643a8b31efa8f6e2.txt     \b\b\b\b 38%\b\b\b\b\b  OK \n",
            "Extracting  label/train/IMG_20100101_031506_jpg.rf.f1a2f8baf4d8d60353a254d258d70613.txt     \b\b\b\b 38%\b\b\b\b\b  OK \n",
            "Extracting  label/train/IMG_20100101_031519_jpg.rf.dbdd65810b87a2c23639b0d037f71d8b.txt     \b\b\b\b 38%\b\b\b\b\b  OK \n",
            "Extracting  label/train/IMG_20100101_031606_jpg.rf.19329446c8bf008f0e165b45b3b2c68b.txt     \b\b\b\b 38%\b\b\b\b\b  OK \n",
            "Extracting  label/train/IMG_20100101_031702_jpg.rf.9d612c3af9d78dcfcdcaa641968ebfe5.txt     \b\b\b\b 38%\b\b\b\b\b  OK \n",
            "Extracting  label/train/IMG_20100101_031717_jpg.rf.a0d49aa13635a88f77a737b2f9b92346.txt     \b\b\b\b 38%\b\b\b\b\b  OK \n",
            "Extracting  label/train/IMG_20100101_031744_jpg.rf.13c04e42f4d62bdc895161f1e30e4a37.txt     \b\b\b\b 38%\b\b\b\b\b  OK \n",
            "Extracting  label/train/IMG_20100101_031811_jpg.rf.4cd88da606d878134940b25b2c137236.txt     \b\b\b\b 38%\b\b\b\b\b  OK \n",
            "Extracting  label/train/IMG_20100101_031820_jpg.rf.0f7feb69621f41f4ac658542614dbd4d.txt     \b\b\b\b 38%\b\b\b\b\b  OK \n",
            "Extracting  label/train/IMG_20100101_031918_jpg.rf.8dbb135864f78667e3d8e314c59eea3a.txt     \b\b\b\b 38%\b\b\b\b\b  OK \n",
            "Extracting  label/train/IMG_20100101_031929_jpg.rf.d443a906985c639012e3b81a14a96883.txt     \b\b\b\b 38%\b\b\b\b\b  OK \n",
            "Extracting  label/train/IMG_20100101_031947_jpg.rf.a81d6fbffc8696e7c670d7a180b85d66.txt     \b\b\b\b 38%\b\b\b\b\b  OK \n",
            "Extracting  label/train/IMG_20100101_032130_jpg.rf.e1bddecb8e0697b1fb8ed1c4cd4d6b95.txt     \b\b\b\b 38%\b\b\b\b\b  OK \n",
            "Extracting  label/train/IMG_20100101_032147_jpg.rf.2171ab429c60214a96fdb89f5686d199.txt     \b\b\b\b 38%\b\b\b\b\b  OK \n",
            "Extracting  label/train/IMG_20100101_032203_jpg.rf.a7246337c4622d375a462725c055d71d.txt     \b\b\b\b 39%\b\b\b\b\b  OK \n",
            "Extracting  label/train/IMG_20100101_032210_jpg.rf.c52eadecf40471697b2dff277d402181.txt     \b\b\b\b 39%\b\b\b\b\b  OK \n",
            "Extracting  label/train/IMG_20100101_032219_jpg.rf.ed98d6c61386362be400e0782667ec37.txt     \b\b\b\b 39%\b\b\b\b\b  OK \n",
            "Extracting  label/train/IMG_20100101_032301_jpg.rf.d340955eec05e87240b148864786d3e0.txt     \b\b\b\b 39%\b\b\b\b\b  OK \n",
            "Extracting  label/train/IMG_20100101_032407_jpg.rf.33db63c87dbf8a533fb7d99c9eb50118.txt     \b\b\b\b 39%\b\b\b\b\b  OK \n",
            "Extracting  label/train/IMG_20100101_032415_jpg.rf.09133416b9876e7b21270ce6bbf1ed71.txt     \b\b\b\b 39%\b\b\b\b\b  OK \n",
            "Extracting  label/train/IMG_20100101_032423_jpg.rf.8624937afe29cb032fda5fafa1038a86.txt     \b\b\b\b 39%\b\b\b\b\b  OK \n",
            "Extracting  label/train/IMG_20100101_032532_jpg.rf.c9a1691a65bd9a5b934677eefdf07131.txt     \b\b\b\b 39%\b\b\b\b\b  OK \n",
            "Extracting  label/train/IMG_20100101_032553_jpg.rf.5c090fa1b7ebad8d3969e79fbf311674.txt     \b\b\b\b 39%\b\b\b\b\b  OK \n",
            "Extracting  label/train/IMG_20100101_032618_jpg.rf.7c4e67155b859ca97059748b7dcf5bbd.txt     \b\b\b\b 39%\b\b\b\b\b  OK \n",
            "Extracting  label/train/IMG_20100101_032707_jpg.rf.c9dfe5183caf291a7057f11810c5a289.txt     \b\b\b\b 39%\b\b\b\b\b  OK \n",
            "Extracting  label/train/IMG_20100101_032744_jpg.rf.315e0b21bf3982314871d71976f35fd5.txt     \b\b\b\b 39%\b\b\b\b\b  OK \n",
            "Extracting  label/train/IMG_20100101_032941_jpg.rf.84f06f2ef82400238236d01e0608af5e.txt     \b\b\b\b 39%\b\b\b\b\b  OK \n",
            "Extracting  label/train/IMG_20100101_032949_jpg.rf.af5f257c4527ca1ea2f2feb637ff6fa3.txt     \b\b\b\b 39%\b\b\b\b\b  OK \n",
            "Extracting  label/train/IMG_20100101_033101_jpg.rf.d8fb144cfc1a45138bddee2946d4312a.txt     \b\b\b\b 39%\b\b\b\b\b  OK \n",
            "Extracting  label/train/IMG_20100101_033117_jpg.rf.f2b09c015e2f65fea1c03d6f19caf33c.txt     \b\b\b\b 39%\b\b\b\b\b  OK \n",
            "Extracting  label/train/IMG_20100101_033158_jpg.rf.fe253e9ca7ef5a2b61bcfa5f5b0a2545.txt     \b\b\b\b 39%\b\b\b\b\b  OK \n",
            "Extracting  label/train/IMG_20100101_033207_jpg.rf.bba5272b9e954d3461f29f3286e21e6c.txt     \b\b\b\b 40%\b\b\b\b\b  OK \n",
            "Extracting  label/train/IMG_20100101_033259_jpg.rf.6deca07627fe0b60f430814a2f358b46.txt     \b\b\b\b 40%\b\b\b\b\b  OK \n",
            "Extracting  label/train/IMG_20100101_033320_jpg.rf.95b73d16af9cd31f39c4257045ccf301.txt     \b\b\b\b 40%\b\b\b\b\b  OK \n",
            "Extracting  label/train/IMG_20100101_033353_jpg.rf.fb7195514f9e2894c495baac4f7c4c4e.txt     \b\b\b\b 40%\b\b\b\b\b  OK \n",
            "Extracting  label/train/IMG_20100101_033537_jpg.rf.54471cf5b2e224f1083fd71d261b0243.txt     \b\b\b\b 40%\b\b\b\b\b  OK \n",
            "Extracting  label/train/IMG_20100101_033551_jpg.rf.8a58772b07ccae3f6dbbcc81b5d1e47c.txt     \b\b\b\b 40%\b\b\b\b\b  OK \n",
            "Extracting  label/train/IMG_20100101_033559_jpg.rf.c47a0283600a2880d03598199550803b.txt     \b\b\b\b 40%\b\b\b\b\b  OK \n",
            "Extracting  label/train/IMG_20100101_033637_jpg.rf.7668c596ce03112c0eb1dcaa9ec6ead6.txt     \b\b\b\b 40%\b\b\b\b\b  OK \n",
            "Extracting  label/train/IMG_20180712_221713_jpg.rf.2a4a8575d853db1ddad4ecb268cda6c4.txt     \b\b\b\b 40%\b\b\b\b\b  OK \n",
            "Extracting  label/train/IMG_20180713_104837_jpg.rf.1ae376b735a3117170d40e627d17f386.txt     \b\b\b\b 40%\b\b\b\b\b  OK \n",
            "Extracting  label/train/IMG_20180713_104842_jpg.rf.65b18970cf75e8c10bd1526888c4de1b.txt     \b\b\b\b 40%\b\b\b\b\b  OK \n",
            "Extracting  label/train/IMG_20180713_104900_jpg.rf.456449576bb98534d1fe91ba415ee8b2.txt     \b\b\b\b 40%\b\b\b\b\b  OK \n",
            "Extracting  label/train/IMG_20180713_105056_jpg.rf.9f83404239ebae963c27480e75feba3e.txt     \b\b\b\b 40%\b\b\b\b\b  OK \n",
            "Extracting  label/train/IMG_20180713_110053_jpg.rf.98d36b4300998a074d70af2376b82c33.txt     \b\b\b\b 40%\b\b\b\b\b  OK \n",
            "Extracting  label/train/IMG_20180713_110059_jpg.rf.db42162e2907a7440845e6fe016bafdd.txt     \b\b\b\b 40%\b\b\b\b\b  OK \n",
            "Extracting  label/train/IMG_20180713_110216_jpg.rf.408fdf6ed2de726493661cbe74024b5f.txt     \b\b\b\b 40%\b\b\b\b\b  OK \n",
            "Extracting  label/train/IMG_20180713_110542_jpg.rf.81fd6568d17d8eb85088fa310d7868c0.txt     \b\b\b\b 40%\b\b\b\b\b  OK \n",
            "Extracting  label/train/IMG_20180713_110546_jpg.rf.de959846c262c461a366ef8b90be3be0.txt     \b\b\b\b 41%\b\b\b\b\b  OK \n",
            "Extracting  label/train/IMG_20180713_111345_jpg.rf.b91ddf4670a958bc7bdec50e97c75ef5.txt     \b\b\b\b 41%\b\b\b\b\b  OK \n",
            "Extracting  label/train/IMG_20180713_111359_jpg.rf.5ba4791233b5d8426bb8c3ce377216d6.txt     \b\b\b\b 41%\b\b\b\b\b  OK \n",
            "Extracting  label/train/IMG_20180713_111419_jpg.rf.68eeea3c8ef7b452ed117563256a8657.txt     \b\b\b\b 41%\b\b\b\b\b  OK \n",
            "Extracting  label/train/IMG_20180713_111439_jpg.rf.b6f41ea3403298216d5d2f09253f4f5e.txt     \b\b\b\b 41%\b\b\b\b\b  OK \n",
            "Extracting  label/train/IMG_20180713_111457_jpg.rf.9b9a397969c21280aefb7fa577be38f5.txt     \b\b\b\b 41%\b\b\b\b\b  OK \n",
            "Extracting  label/train/IMG_20180713_111504_jpg.rf.eed60ee60632c152d75a32afd172d78d.txt     \b\b\b\b 41%\b\b\b\b\b  OK \n",
            "Extracting  label/train/IMG_20180713_111517_jpg.rf.c1c0c85808f7c4c70237bda1e24eeeb5.txt     \b\b\b\b 41%\b\b\b\b\b  OK \n",
            "Extracting  label/train/IMG_20180713_111539_jpg.rf.0f4a55afa554f024519afd49df5aaf15.txt     \b\b\b\b 41%\b\b\b\b\b  OK \n",
            "Extracting  label/train/IMG_20180714_094920_jpg.rf.6fc139c9c948ed8d34cf2910bc1d5e56.txt     \b\b\b\b 41%\b\b\b\b\b  OK \n",
            "Extracting  label/train/IMG_20180714_094934_jpg.rf.98ff7f6f02f4e177a5a1624db54cedf6.txt     \b\b\b\b 42%\b\b\b\b\b  OK \n",
            "Extracting  label/train/IMG_20180714_095301_jpg.rf.52fb30b9017da0d971474cfd38827a02.txt     \b\b\b\b 42%\b\b\b\b\b  OK \n",
            "Extracting  label/train/IMG_20180714_095902_jpg.rf.6493533d83eda6e8e737139dd460d5a6.txt     \b\b\b\b 42%\b\b\b\b\b  OK \n",
            "Extracting  label/train/IMG_20180714_102330_jpg.rf.81c4f1a61e92d81965f5940f5e5e693c.txt     \b\b\b\b 42%\b\b\b\b\b  OK \n",
            "Extracting  label/train/IMG_20180714_102407_jpg.rf.dcad65fa19d4193158eafd58636cb338.txt     \b\b\b\b 42%\b\b\b\b\b  OK \n",
            "Extracting  label/train/IMG_20180714_102413_jpg.rf.ef505b649ebd3a24be4badb6edf0f8c9.txt     \b\b\b\b 42%\b\b\b\b\b  OK \n",
            "Extracting  label/train/IMG_20180714_102503_jpg.rf.9ff2524d38a11357b474f8ba1b8bdb81.txt     \b\b\b\b 42%\b\b\b\b\b  OK \n",
            "Extracting  label/train/IMG_20180714_102509_jpg.rf.29bd1302e87f28fc871238344dbf3877.txt     \b\b\b\b 42%\b\b\b\b\b  OK \n",
            "Extracting  label/train/IMG_20180714_102511_jpg.rf.169b39030a4e2e379478a81782d0f775.txt     \b\b\b\b 42%\b\b\b\b\b  OK \n",
            "Extracting  label/train/IMG_20180714_102521_jpg.rf.fe714650e9135d7592f7411a0582ba53.txt     \b\b\b\b 43%\b\b\b\b\b  OK \n",
            "Extracting  label/train/IMG_20180714_102617_jpg.rf.6e30ca02af76789a69b0c2dceb3d8cfe.txt     \b\b\b\b 43%\b\b\b\b\b  OK \n",
            "Extracting  label/train/IMG_20180714_102620_jpg.rf.4cac3b3797374a23de510ace650ed4c6.txt     \b\b\b\b 43%\b\b\b\b\b  OK \n",
            "Extracting  label/train/IMG_20180714_102623_jpg.rf.f886eede1abc1f2bfbe5e32496df99cf.txt     \b\b\b\b 43%\b\b\b\b\b  OK \n",
            "Extracting  label/train/IMG_20180714_102627_jpg.rf.f5565f4e2538d2997937a9c887e556ab.txt     \b\b\b\b 43%\b\b\b\b\b  OK \n",
            "Extracting  label/train/IMG_20180714_102644_jpg.rf.b7e9c62c43eaeb2a044f8acd392247d5.txt     \b\b\b\b 43%\b\b\b\b\b  OK \n",
            "Extracting  label/train/IMG_20180714_102729_jpg.rf.87d905a3472976353fe7fc8b803a1d00.txt     \b\b\b\b 43%\b\b\b\b\b  OK \n",
            "Extracting  label/train/IMG_20180714_102952_jpg.rf.e48f2a3eea4f973160231c8fe06e1a30.txt     \b\b\b\b 44%\b\b\b\b\b  OK \n",
            "Extracting  label/train/IMG_20180714_103024_jpg.rf.35872178c890348bf13a9a63719e5449.txt     \b\b\b\b 44%\b\b\b\b\b  OK \n",
            "Extracting  label/train/IMG_20180714_103033_jpg.rf.71a04d658f1440eac98500e8c05a2ea5.txt     \b\b\b\b 44%\b\b\b\b\b  OK \n",
            "Extracting  label/train/IMG_20180714_103038_jpg.rf.72464d00fb2040f9eddf07cfc01b2820.txt     \b\b\b\b 44%\b\b\b\b\b  OK \n",
            "Extracting  label/train/IMG_20180714_103055_jpg.rf.f5a4097d4067d5dfb766dfe64d18a9f6.txt     \b\b\b\b 44%\b\b\b\b\b  OK \n",
            "Extracting  label/train/IMG_20180714_103103_jpg.rf.fc97ac377fa817062d2b6c3c493920ee.txt     \b\b\b\b 44%\b\b\b\b\b  OK \n",
            "Extracting  label/train/IMG_20180714_103109_jpg.rf.ee854a483d52e82f41e0d8d4ec524039.txt     \b\b\b\b 44%\b\b\b\b\b  OK \n",
            "Extracting  label/train/IMG_20180714_103229_jpg.rf.ff51ed86dfbf1c680c67d98cdb3b4d78.txt     \b\b\b\b 45%\b\b\b\b\b  OK \n",
            "Extracting  label/train/IMG_20180714_103303_jpg.rf.9e925d16af1a243bef516e269b62ceca.txt     \b\b\b\b 45%\b\b\b\b\b  OK \n",
            "Extracting  label/train/IMG_20180714_103329_jpg.rf.d6536b7f238f608225fab3526e665343.txt     \b\b\b\b 45%\b\b\b\b\b  OK \n",
            "Extracting  label/train/IMG_20180714_103352_jpg.rf.e92f94aa3213dc5039b496a5fd4bf729.txt     \b\b\b\b 45%\b\b\b\b\b  OK \n",
            "Extracting  label/train/IMG_20180714_103417_jpg.rf.c0babfea4b607a59bec73aca1a46b896.txt     \b\b\b\b 45%\b\b\b\b\b  OK \n",
            "Extracting  label/train/IMG_20180714_103537_jpg.rf.2074f4ad7584cfd2d35f04a59bc2afdb.txt     \b\b\b\b 45%\b\b\b\b\b  OK \n",
            "Extracting  label/train/IMG_20180714_103542_jpg.rf.20fa64d4b1decbbd80da64a123c0c9f0.txt     \b\b\b\b 45%\b\b\b\b\b  OK \n",
            "Extracting  label/train/IMG_20180714_103621_jpg.rf.8c34aef066f13e3ad628f4dc289f6933.txt     \b\b\b\b 45%\b\b\b\b\b  OK \n",
            "Extracting  label/train/IMG_20180714_103632_jpg.rf.02cd105014b655293527fa5f33f03cc6.txt     \b\b\b\b 45%\b\b\b\b\b  OK \n",
            "Extracting  label/train/IMG_20180714_103808_jpg.rf.94c6efdf144ce90b1ea0b3991199a92f.txt     \b\b\b\b 45%\b\b\b\b\b  OK \n",
            "Extracting  label/train/IMG_20180714_103949_jpg.rf.a04b63f65fc2e2ff6d6285699fd5c230.txt     \b\b\b\b 45%\b\b\b\b\b  OK \n",
            "Extracting  label/train/IMG_20180714_104148_jpg.rf.4a74ce3071c17d6698d474f831847cfe.txt     \b\b\b\b 46%\b\b\b\b\b  OK \n",
            "Extracting  label/train/IMG_20180714_104443_jpg.rf.fa3a8acd5268e2be90b8208b10549bbf.txt     \b\b\b\b 46%\b\b\b\b\b  OK \n",
            "Extracting  label/train/IMG_20180714_104445_jpg.rf.980c5867a7526d676f725a43e22129eb.txt     \b\b\b\b 46%\b\b\b\b\b  OK \n",
            "Extracting  label/train/IMG_20180714_105021_jpg.rf.2fc0872e931cb2e9e6c0f13041810d54.txt     \b\b\b\b 46%\b\b\b\b\b  OK \n",
            "Extracting  label/train/IMG_20180714_105115_jpg.rf.008e708ce897329b5db300da0e11b7ea.txt     \b\b\b\b 46%\b\b\b\b\b  OK \n",
            "Extracting  label/train/IMG_20180714_105117_jpg.rf.3a2cde25be73bb1c1f20d63083fa672e.txt     \b\b\b\b 46%\b\b\b\b\b  OK \n",
            "Extracting  label/train/IMG_20180717_095144_jpg.rf.b7abf9957c1e27dfe3fcbce1c6e59aab.txt     \b\b\b\b 46%\b\b\b\b\b  OK \n",
            "Extracting  label/train/IMG_20180717_095153_jpg.rf.541727d133c2ccdcdca69bebb7818e7b.txt     \b\b\b\b 46%\b\b\b\b\b  OK \n",
            "Extracting  label/train/IMG_20180717_095534_jpg.rf.2797a9adc7ff89998d6bd9856d8a9c2a.txt     \b\b\b\b 46%\b\b\b\b\b  OK \n",
            "Extracting  label/train/IMG_20180717_095822_jpg.rf.97f10a5212daf8239db1e25a9d2e9fa0.txt     \b\b\b\b 46%\b\b\b\b\b  OK \n",
            "Extracting  label/train/IMG_20180717_100254_jpg.rf.8d2903e0f8cfd811b043bfdc5bff2af0.txt     \b\b\b\b 46%\b\b\b\b\b  OK \n",
            "Extracting  label/train/IMG_20180717_104224_jpg.rf.64276603292178c39284c6a7aa915125.txt     \b\b\b\b 46%\b\b\b\b\b  OK \n",
            "Extracting  label/train/IMG_20180717_104525_jpg.rf.029c79d733e7a65bac2e02d4c138d527.txt     \b\b\b\b 46%\b\b\b\b\b  OK \n",
            "Extracting  label/train/IMG_20180717_104631_jpg.rf.aef0f6b52464423970705d2e20f6024f.txt     \b\b\b\b 47%\b\b\b\b\b  OK \n",
            "Extracting  label/train/IMG_20180717_105032_jpg.rf.0c1ec1c52708bb92d7f0e7f44673aacd.txt     \b\b\b\b 47%\b\b\b\b\b  OK \n",
            "Extracting  label/train/IMG_20180717_105052_jpg.rf.caf2c47e72fd5a8ff80940b7f21b9901.txt     \b\b\b\b 47%\b\b\b\b\b  OK \n",
            "Extracting  label/train/IMG_20180717_105138_jpg.rf.42cbb955c4f416eeaab288973b0577da.txt     \b\b\b\b 47%\b\b\b\b\b  OK \n",
            "Extracting  label/train/IMG_20180717_105155_jpg.rf.5d714523655eb3e2240e777a4ab6149e.txt     \b\b\b\b 47%\b\b\b\b\b  OK \n",
            "Extracting  label/train/IMG_20180717_120747_jpg.rf.3776bdff8efeae000382d34068e51120.txt     \b\b\b\b 47%\b\b\b\b\b  OK \n",
            "Extracting  label/train/IMG_20180717_120802_jpg.rf.74e2cdac6873b55a553379013a955b4c.txt     \b\b\b\b 47%\b\b\b\b\b  OK \n",
            "Extracting  label/train/IMG_20180717_120957_jpg.rf.78ff84b9a2e6d03a789a62f0f6853ef6.txt     \b\b\b\b 47%\b\b\b\b\b  OK \n",
            "Extracting  label/train/IMG_20180717_121231_jpg.rf.c8b80f4a09ea0dfb55df61a43dc0f881.txt     \b\b\b\b 47%\b\b\b\b\b  OK \n",
            "Extracting  label/train/IMG_20180717_121240_jpg.rf.6b7eb958ca0ad4340d8ccfb9885026b4.txt     \b\b\b\b 47%\b\b\b\b\b  OK \n",
            "Extracting  label/train/IMG_20180717_121303_jpg.rf.50ff939434e7143421ff89c49bae4344.txt     \b\b\b\b 47%\b\b\b\b\b  OK \n",
            "Extracting  label/train/IMG_20180717_121404_jpg.rf.15c8a6fdcfe17f59493ba33dae65216b.txt     \b\b\b\b 47%\b\b\b\b\b  OK \n",
            "Extracting  label/train/IMG_20180717_121631_jpg.rf.0030d8f59e6306f1c274ff833b55caed.txt     \b\b\b\b 47%\b\b\b\b\b  OK \n",
            "Extracting  label/train/IMG_20180717_121822_jpg.rf.029a2855934acdac92af8c4bc6bb1e7c.txt     \b\b\b\b 47%\b\b\b\b\b  OK \n",
            "Extracting  label/train/IMG_20180717_121839_jpg.rf.23a0040377da8ef0a3c72be27808e485.txt     \b\b\b\b 47%\b\b\b\b\b  OK \n",
            "Extracting  label/train/IMG_20180717_121929_jpg.rf.c3a791dcb4fe8e187bf4984245a06e5f.txt     \b\b\b\b 48%\b\b\b\b\b  OK \n",
            "Extracting  label/train/IMG_20180717_122524_jpg.rf.7b0a5bef00e5732d0664ed3765ff1478.txt     \b\b\b\b 48%\b\b\b\b\b  OK \n",
            "Extracting  label/train/IMG_20180717_122646_jpg.rf.913cbc8d095f58349e518c234a4c6438.txt     \b\b\b\b 48%\b\b\b\b\b  OK \n",
            "Extracting  label/train/IMG_20180717_122754_jpg.rf.7b4d95d00bb4d92ac5d0bc7ae8af0eac.txt     \b\b\b\b 48%\b\b\b\b\b  OK \n",
            "Extracting  label/train/IMG_20180717_123537_jpg.rf.02cd8217c5945f2e5d0168e1c94c7eef.txt     \b\b\b\b 48%\b\b\b\b\b  OK \n",
            "Extracting  label/train/IMG_20180717_143333_jpg.rf.65a68dff88d342130f0b46762177aab9.txt     \b\b\b\b 48%\b\b\b\b\b  OK \n",
            "Extracting  label/train/IMG_20180717_143613_jpg.rf.7b4d8a0d46684e923e64ef60bddbaff7.txt     \b\b\b\b 48%\b\b\b\b\b  OK \n",
            "Extracting  label/train/IMG_20180717_144253_jpg.rf.eb25a8b10afc8f81f0558e6712503baa.txt     \b\b\b\b 48%\b\b\b\b\b  OK \n",
            "Extracting  label/train/IMG_20180718_105313_jpg.rf.4c13765a4e8c98206983341e3f62118e.txt     \b\b\b\b 48%\b\b\b\b\b  OK \n",
            "Extracting  label/train/IMG_20180718_105325_jpg.rf.0d337d582b9e314deae4657a229ad60c.txt     \b\b\b\b 48%\b\b\b\b\b  OK \n",
            "Extracting  label/train/IMG_20180719_123622_jpg.rf.844a85d622cf5f8b275c7748585c0672.txt     \b\b\b\b 48%\b\b\b\b\b  OK \n",
            "Extracting  label/train/IMG_20180719_123643_jpg.rf.d205582580b9644cb884aa43ec557baa.txt     \b\b\b\b 48%\b\b\b\b\b  OK \n",
            "Extracting  label/train/IMG_20180719_123656_jpg.rf.646be76626ea7b852840144096abf02e.txt     \b\b\b\b 48%\b\b\b\b\b  OK \n",
            "Extracting  label/train/IMG_20180719_123704_jpg.rf.185430dfc51f6bbd9cf5a5c6ac4d7f50.txt     \b\b\b\b 48%\b\b\b\b\b  OK \n",
            "Extracting  label/train/IMG_20180719_123752_jpg.rf.d9cbcf69ed6c68d122c8bed331a36b37.txt     \b\b\b\b 48%\b\b\b\b\b  OK \n",
            "Extracting  label/train/IMG_20180719_123848_jpg.rf.ab691aaebe9b57b9902b430ada623081.txt     \b\b\b\b 49%\b\b\b\b\b  OK \n",
            "Extracting  label/train/IMG_20180719_123927_jpg.rf.f60df709e02cabddc15a86c99dddd7ef.txt     \b\b\b\b 49%\b\b\b\b\b  OK \n",
            "Extracting  label/train/IMG_20180719_123953_jpg.rf.b8d1aa2f288d32b6bec84eb3d65fcb0c.txt     \b\b\b\b 49%\b\b\b\b\b  OK \n",
            "Extracting  label/train/IMG_20180719_124008_jpg.rf.b5f53080afc440acc679b41683a3a1de.txt     \b\b\b\b 49%\b\b\b\b\b  OK \n",
            "Extracting  label/train/IMG_20180719_124018_jpg.rf.7f8dee189ad3d0e5b1e5d034cd4c24a2.txt     \b\b\b\b 49%\b\b\b\b\b  OK \n",
            "Extracting  label/train/IMG_20180719_124132_jpg.rf.9245de369bcd21211934583ca03b84ce.txt     \b\b\b\b 49%\b\b\b\b\b  OK \n",
            "Extracting  label/train/IMG_20180719_124206_jpg.rf.f1ae3352a5ab9412d47408a48b1c6486.txt     \b\b\b\b 49%\b\b\b\b\b  OK \n",
            "Extracting  label/train/IMG_20180719_124213_jpg.rf.0228f463bc5570cf26e0073eb1f69fd0.txt     \b\b\b\b 49%\b\b\b\b\b  OK \n",
            "Extracting  label/train/IMG_20180719_124340_jpg.rf.dbf277eab723faab8a52dcbd4d124937.txt     \b\b\b\b 49%\b\b\b\b\b  OK \n",
            "Extracting  label/train/IMG_20180719_124405_jpg.rf.81ec158107db470a6beaf008f4ea8ecd.txt     \b\b\b\b 49%\b\b\b\b\b  OK \n",
            "Extracting  label/train/IMG_20180719_124442_jpg.rf.bc62d3da58315aa186329c1d85cd32c2.txt     \b\b\b\b 49%\b\b\b\b\b  OK \n",
            "Extracting  label/train/IMG_20180719_124458_jpg.rf.c3402531dfd7d9a36e88fe0b1e7d89d5.txt     \b\b\b\b 49%\b\b\b\b\b  OK \n",
            "Extracting  label/train/IMG_20180719_124517_jpg.rf.21f60e26fcda54eadee388997ca55fd1.txt     \b\b\b\b 49%\b\b\b\b\b  OK \n",
            "Extracting  label/train/IMG_20180719_124538_jpg.rf.51c4f9ae5cef05de60d1bfba51ea65ad.txt     \b\b\b\b 49%\b\b\b\b\b  OK \n",
            "Extracting  label/train/IMG_20180719_124553_jpg.rf.af3acaeee589bf97f375bfeee63e2577.txt     \b\b\b\b 49%\b\b\b\b\b  OK \n",
            "Extracting  label/train/IMG_20180719_124625_jpg.rf.2fdd94e745c6171bdec2af5d418e2d18.txt     \b\b\b\b 49%\b\b\b\b\b  OK \n",
            "Extracting  label/train/IMG_20180719_124805_jpg.rf.3757a05575dfc0045ab69400328775d7.txt     \b\b\b\b 49%\b\b\b\b\b  OK \n",
            "Extracting  label/train/IMG_20180719_124812_jpg.rf.0189b59a6072e7de667e92b5800ff80b.txt     \b\b\b\b 50%\b\b\b\b\b  OK \n",
            "Extracting  label/train/IMG_20180719_124852_jpg.rf.1b8d8f4fe0bac6aef8f9151cb0f7b0ba.txt     \b\b\b\b 50%\b\b\b\b\b  OK \n",
            "Extracting  label/train/IMG_20180719_124931_jpg.rf.b3546849eb19c978e6a532758890282e.txt     \b\b\b\b 50%\b\b\b\b\b  OK \n",
            "Extracting  label/train/IMG_20180719_124953_jpg.rf.28ec6c6b4014d2f908ab2f5b24ee8ed3.txt     \b\b\b\b 50%\b\b\b\b\b  OK \n",
            "Extracting  label/train/IMG_20180719_125049_jpg.rf.d0ad986fc60a799c0f21774b578d7c99.txt     \b\b\b\b 50%\b\b\b\b\b  OK \n",
            "Extracting  label/train/IMG_20180719_125134_jpg.rf.fbbbe89147617b72fa6f1e58786bedd4.txt     \b\b\b\b 50%\b\b\b\b\b  OK \n",
            "Extracting  label/train/IMG_20180719_125528_jpg.rf.aa769cebbe61319d9567dfc0d2443d40.txt     \b\b\b\b 50%\b\b\b\b\b  OK \n",
            "Extracting  label/train/IMG_20180719_141737_jpg.rf.7547db034cded0434f1b6e8ad67473fa.txt     \b\b\b\b 50%\b\b\b\b\b  OK \n",
            "Extracting  label/train/IMG_20180719_141754_jpg.rf.7bf37fd819707db7fe1d1e6e36fee85e.txt     \b\b\b\b 50%\b\b\b\b\b  OK \n",
            "Extracting  label/train/IMG_20180719_141933_jpg.rf.701ff4fe6b4e8774667dd1870eb8266a.txt     \b\b\b\b 50%\b\b\b\b\b  OK \n",
            "Extracting  label/train/IMG_20180719_142041_jpg.rf.702e25bc53b0df9ed0ebf6dba03d966c.txt     \b\b\b\b 50%\b\b\b\b\b  OK \n",
            "Extracting  label/train/IMG_20180719_142223_jpg.rf.11eb1b3b1ce4fead1930840b99c132ba.txt     \b\b\b\b 50%\b\b\b\b\b  OK \n",
            "Extracting  label/train/IMG_20180719_142232_jpg.rf.a8e958f698b44833ca5503ab57591d74.txt     \b\b\b\b 50%\b\b\b\b\b  OK \n",
            "Extracting  label/train/IMG_20180719_142627_jpg.rf.360f4ad970cac5eda57af0bf25fb6b48.txt     \b\b\b\b 50%\b\b\b\b\b  OK \n",
            "Extracting  label/train/IMG_20180719_142631_jpg.rf.07e5a6a2b5fea39d2f57bfd8c2b5e445.txt     \b\b\b\b 50%\b\b\b\b\b  OK \n",
            "Extracting  label/train/IMG_20180719_142820_jpg.rf.472761b37b5a6bd9a5d29fc092b30a37.txt     \b\b\b\b 50%\b\b\b\b\b  OK \n",
            "Extracting  label/train/IMG_20180719_142841_jpg.rf.5b3d1cedfe57361048c6f09472d4b0f8.txt     \b\b\b\b 51%\b\b\b\b\b  OK \n",
            "Extracting  label/train/IMG_20180719_142853_jpg.rf.c334f44b85062691ed05b40e50999701.txt     \b\b\b\b 51%\b\b\b\b\b  OK \n",
            "Extracting  label/train/IMG_20180719_142947_jpg.rf.a9a5b05070ee96aa5d81095cd0c594c2.txt     \b\b\b\b 51%\b\b\b\b\b  OK \n",
            "Extracting  label/train/IMG_20180719_142955_jpg.rf.4a0df8e81c2edc74fc222556a0e01ff1.txt     \b\b\b\b 51%\b\b\b\b\b  OK \n",
            "Extracting  label/train/IMG_20180719_143022_jpg.rf.28c1d1f5088acdb607ae5f57f50b7a97.txt     \b\b\b\b 51%\b\b\b\b\b  OK \n",
            "Extracting  label/train/IMG_20180719_143034_jpg.rf.0d609a7c0138742ff40f18a701244556.txt     \b\b\b\b 51%\b\b\b\b\b  OK \n",
            "Extracting  label/train/IMG_20180719_143049_jpg.rf.0accd7f075994acc1bdec66bc66b1893.txt     \b\b\b\b 51%\b\b\b\b\b  OK \n",
            "Extracting  label/train/IMG_20180719_143143_jpg.rf.e89233ac9df612146e6b0a865969cd46.txt     \b\b\b\b 51%\b\b\b\b\b  OK \n",
            "Extracting  label/train/IMG_20180719_143217_jpg.rf.ef84c37f37653ec2bc265a5688cec38b.txt     \b\b\b\b 51%\b\b\b\b\b  OK \n",
            "Extracting  label/train/IMG_20180719_143232_jpg.rf.37bbfe3c5e8cddc14875faa18b8e95b2.txt     \b\b\b\b 51%\b\b\b\b\b  OK \n",
            "Extracting  label/train/IMG_20180719_143326_jpg.rf.60b53da54bbb42af79a4f8194d3df1e6.txt     \b\b\b\b 51%\b\b\b\b\b  OK \n",
            "Extracting  label/train/IMG_20180719_143627_jpg.rf.6ca6fc15b25e35a8c8214ec6394823e6.txt     \b\b\b\b 51%\b\b\b\b\b  OK \n",
            "Extracting  label/train/IMG_20180719_143637_jpg.rf.bffa2fe16eb503d8d11296f1238a86c6.txt     \b\b\b\b 51%\b\b\b\b\b  OK \n",
            "Extracting  label/train/IMG_20180719_143849_jpg.rf.9b5694d9cd8a232f9290dfdd89f0aa73.txt     \b\b\b\b 51%\b\b\b\b\b  OK \n",
            "Extracting  label/train/IMG_20180719_143919_jpg.rf.ddea75d292e25a7b33d4971f7efae140.txt     \b\b\b\b 51%\b\b\b\b\b  OK \n",
            "Extracting  label/train/IMG_20180719_144000_jpg.rf.9a5e586e5b84b7abfbb62a11f8760e75.txt     \b\b\b\b 51%\b\b\b\b\b  OK \n",
            "Extracting  label/train/IMG_20180719_144116_jpg.rf.2f3a4e619298b807caed4e33cc7792be.txt     \b\b\b\b 52%\b\b\b\b\b  OK \n",
            "Extracting  label/train/IMG_20180719_144127_jpg.rf.13fb2ac276ab5eb4f6873eb1d5e84952.txt     \b\b\b\b 52%\b\b\b\b\b  OK \n",
            "Extracting  label/train/IMG_20180720_123359_jpg.rf.07f3caebc99215d38338bd57bdb0a2da.txt     \b\b\b\b 52%\b\b\b\b\b  OK \n",
            "Extracting  label/train/IMG_20180720_123409_jpg.rf.aaeaa9b7ac361b302d01d6f6225c935e.txt     \b\b\b\b 52%\b\b\b\b\b  OK \n",
            "Extracting  label/train/IMG_20180720_123433_jpg.rf.a44913c2d9911ae52f1186eb0481e634.txt     \b\b\b\b 52%\b\b\b\b\b  OK \n",
            "Extracting  label/train/IMG_20180720_123508_jpg.rf.11356ca42e6de0917dc0a070d9473d5e.txt     \b\b\b\b 52%\b\b\b\b\b  OK \n",
            "Extracting  label/train/IMG_20180720_123553_jpg.rf.c71c900aa2734078b4def2f331d76971.txt     \b\b\b\b 52%\b\b\b\b\b  OK \n",
            "Extracting  label/train/IMG_20180720_123624_jpg.rf.9b4be97bf17edc6e08fc01d672a623cb.txt     \b\b\b\b 52%\b\b\b\b\b  OK \n",
            "Extracting  label/train/IMG_20180720_123651_jpg.rf.64a67f71e02b3ed09aa8bf6707c519c2.txt     \b\b\b\b 52%\b\b\b\b\b  OK \n",
            "Extracting  label/train/IMG_20180720_123656_jpg.rf.87f004db3b20441eafd5a6119b4344b7.txt     \b\b\b\b 52%\b\b\b\b\b  OK \n",
            "Extracting  label/train/IMG_20180720_123828_jpg.rf.201b6d2f5c1a9f7a0e6b7f774bf81963.txt     \b\b\b\b 52%\b\b\b\b\b  OK \n",
            "Extracting  label/train/IMG_20180720_123932_jpg.rf.5c6ab9418d5879144474175d17894102.txt     \b\b\b\b 52%\b\b\b\b\b  OK \n",
            "Extracting  label/train/IMG_20180720_123954_jpg.rf.ff00f756fc249f7823e795a37c2445b0.txt     \b\b\b\b 52%\b\b\b\b\b  OK \n",
            "Extracting  label/train/IMG_20180720_124029_jpg.rf.74df2a4b36841ff4ac1e4a7066d5c750.txt     \b\b\b\b 52%\b\b\b\b\b  OK \n",
            "Extracting  label/train/IMG_20180720_124036_jpg.rf.961cebefa8ccf52aa8f856ce5cca6d7d.txt     \b\b\b\b 52%\b\b\b\b\b  OK \n",
            "Extracting  label/train/IMG_20180720_124107_jpg.rf.466497efe31f95ee06ef8f4bc3f15593.txt     \b\b\b\b 52%\b\b\b\b\b  OK \n",
            "Extracting  label/train/IMG_20180720_124123_jpg.rf.ebbe94b72560383c9f01f95914129206.txt     \b\b\b\b 53%\b\b\b\b\b  OK \n",
            "Extracting  label/train/IMG_20180720_124211_jpg.rf.f9f156e50adc1aa2627afa237db07058.txt     \b\b\b\b 53%\b\b\b\b\b  OK \n",
            "Extracting  label/train/IMG_20180720_124223_jpg.rf.ffeb850e0098974712b1e24bee49993f.txt     \b\b\b\b 53%\b\b\b\b\b  OK \n",
            "Extracting  label/train/IMG_20180720_124234_jpg.rf.f24c8a992a11e010714b03f7aab12f5d.txt     \b\b\b\b 53%\b\b\b\b\b  OK \n",
            "Extracting  label/train/IMG_20180720_124320_jpg.rf.cb2f44776ab97f3c2cdaa132f5b9473d.txt     \b\b\b\b 53%\b\b\b\b\b  OK \n",
            "Extracting  label/train/IMG_20180720_124444_jpg.rf.bd56ff6b15043737a3bd76030e4953d5.txt     \b\b\b\b 53%\b\b\b\b\b  OK \n",
            "Extracting  label/train/IMG_20180720_124457_jpg.rf.8c60a4a7e9d8c52cd2d75004f3a20b57.txt     \b\b\b\b 53%\b\b\b\b\b  OK \n",
            "Extracting  label/train/IMG_20180720_124553_jpg.rf.0b9135cd91f3b69bb2b8f5cc9df5a541.txt     \b\b\b\b 53%\b\b\b\b\b  OK \n",
            "Extracting  label/train/IMG_20180720_141225_jpg.rf.de08ffc3cbf60f11c547047aafff1968.txt     \b\b\b\b 53%\b\b\b\b\b  OK \n",
            "Extracting  label/train/IMG_20180720_141242_jpg.rf.77954854a51bcdd1309770f2f9fd19e1.txt     \b\b\b\b 53%\b\b\b\b\b  OK \n",
            "Extracting  label/train/IMG_20180720_141301_jpg.rf.3fb7be710a013a845bf1d50384f3ea74.txt     \b\b\b\b 53%\b\b\b\b\b  OK \n",
            "Extracting  label/train/IMG_20180720_141446_jpg.rf.895f5b6d52ad412f6340f82dda4101aa.txt     \b\b\b\b 53%\b\b\b\b\b  OK \n",
            "Extracting  label/train/IMG_20180720_141555_jpg.rf.dea722b2de6e47f4f6a39049aeccb324.txt     \b\b\b\b 53%\b\b\b\b\b  OK \n",
            "Extracting  label/train/IMG_20180720_141709_jpg.rf.2f76a14e300efd74ed218f972585f5ec.txt     \b\b\b\b 53%\b\b\b\b\b  OK \n",
            "Extracting  label/train/IMG_20180720_141721_jpg.rf.b7059067dd521d74dbc2d17e885721c6.txt     \b\b\b\b 53%\b\b\b\b\b  OK \n",
            "Extracting  label/train/IMG_20180720_141749_jpg.rf.791b080ec4d773dbadc9b3337bc73bd5.txt     \b\b\b\b 54%\b\b\b\b\b  OK \n",
            "Extracting  label/train/IMG_20180720_141907_jpg.rf.32285d1da7c6fb2a397bf7ff8f86f4de.txt     \b\b\b\b 54%\b\b\b\b\b  OK \n",
            "Extracting  label/train/IMG_20180720_141952_jpg.rf.05d96958e31b5fbd30a5908c5d83eee8.txt     \b\b\b\b 54%\b\b\b\b\b  OK \n",
            "Extracting  label/train/IMG_20180720_142017_jpg.rf.bba914d45168f89f977cb79b5235d50b.txt     \b\b\b\b 54%\b\b\b\b\b  OK \n",
            "Extracting  label/train/IMG_20180720_142038_jpg.rf.be2f56565145868b32e8c4db6f36599e.txt     \b\b\b\b 54%\b\b\b\b\b  OK \n",
            "Extracting  label/train/IMG_20180720_142048_jpg.rf.350bdd392570ef8be6544b89b725b46e.txt     \b\b\b\b 54%\b\b\b\b\b  OK \n",
            "Extracting  label/train/IMG_20180720_142104_jpg.rf.31a24b359df0e9e39c665d8bb153f4b1.txt     \b\b\b\b 54%\b\b\b\b\b  OK \n",
            "Extracting  label/train/IMG_20180720_142111_jpg.rf.b40baf699874c11056a121fccb63c33a.txt     \b\b\b\b 54%\b\b\b\b\b  OK \n",
            "Extracting  label/train/IMG_20180720_142131_jpg.rf.77821c1d2d05309ed7231d6b008d45d8.txt     \b\b\b\b 54%\b\b\b\b\b  OK \n",
            "Extracting  label/train/IMG_20180720_142141_jpg.rf.a4a3f78cff7d93bb8ee529f862e48c19.txt     \b\b\b\b 54%\b\b\b\b\b  OK \n",
            "Extracting  label/train/IMG_20180720_142202_jpg.rf.38286a4c6c16bace8f9c88e5ccccbe3b.txt     \b\b\b\b 54%\b\b\b\b\b  OK \n",
            "Extracting  label/train/IMG_20180720_142447_jpg.rf.c63445150851fdd9d1bdb7f96b8041aa.txt     \b\b\b\b 54%\b\b\b\b\b  OK \n",
            "Extracting  label/train/IMG_20180720_142509_jpg.rf.a63848809fc318419f519f7a48780ecc.txt     \b\b\b\b 54%\b\b\b\b\b  OK \n",
            "Extracting  label/train/IMG_20180720_142536_jpg.rf.911fab7e0afabb96e2502971c458873a.txt     \b\b\b\b 54%\b\b\b\b\b  OK \n",
            "Extracting  label/train/IMG_20180720_142558_jpg.rf.98d8eda6de2a8ef3fd18f38441a5bad4.txt     \b\b\b\b 54%\b\b\b\b\b  OK \n",
            "Extracting  label/train/IMG_20180720_142605_jpg.rf.fb0749bf2475fd07e92bcff26910dac0.txt     \b\b\b\b 55%\b\b\b\b\b  OK \n",
            "Extracting  label/train/IMG_20180720_142625_jpg.rf.6cc6f5d8a738c4fda7fb85db05272d07.txt     \b\b\b\b 55%\b\b\b\b\b  OK \n",
            "Extracting  label/train/IMG_20180720_142708_jpg.rf.7f87bb79996fab81f0cb5083a9203178.txt     \b\b\b\b 55%\b\b\b\b\b  OK \n",
            "Extracting  label/train/IMG_20180720_142751_jpg.rf.8a73605d5bb61f1bfa461df43fd7f28f.txt     \b\b\b\b 55%\b\b\b\b\b  OK \n",
            "Extracting  label/train/IMG_20180720_142814_jpg.rf.59494de3addcd85f40745bef7db2f044.txt     \b\b\b\b 55%\b\b\b\b\b  OK \n",
            "Extracting  label/train/IMG_20180720_142846_jpg.rf.13074bbacc8261d8425096cf62a5211d.txt     \b\b\b\b 55%\b\b\b\b\b  OK \n",
            "Extracting  label/train/IMG_20180720_142853_jpg.rf.96e3269a893e37b84f2c28c8baadc235.txt     \b\b\b\b 55%\b\b\b\b\b  OK \n",
            "Extracting  label/train/IMG_20180720_142912_jpg.rf.7f25298ffbcb22f636d8559b617a0f47.txt     \b\b\b\b 55%\b\b\b\b\b  OK \n",
            "Extracting  label/train/IMG_20180720_142920_jpg.rf.c483988b752b1600669deed2cffd547a.txt     \b\b\b\b 55%\b\b\b\b\b  OK \n",
            "Extracting  label/train/IMG_20180720_142949_jpg.rf.50112648a33c90b606c117544c9a0a25.txt     \b\b\b\b 55%\b\b\b\b\b  OK \n",
            "Extracting  label/train/IMG_20180720_143002_jpg.rf.c8c4fefd4353c899a0958f7d723b5633.txt     \b\b\b\b 55%\b\b\b\b\b  OK \n",
            "Extracting  label/train/IMG_20180720_143014_jpg.rf.60d097c3a82dd2a4a556890f6f8b03b3.txt     \b\b\b\b 55%\b\b\b\b\b  OK \n",
            "Extracting  label/train/IMG_20180720_143051_jpg.rf.e2f99c3a99be62050ad7ca5955603833.txt     \b\b\b\b 55%\b\b\b\b\b  OK \n",
            "Extracting  label/train/IMG_20180720_143100_jpg.rf.c836dc52a6adffc935f91abc6c2e01a3.txt     \b\b\b\b 55%\b\b\b\b\b  OK \n",
            "Extracting  label/train/IMG_20180720_143232_jpg.rf.d687cb355c51b71e429b2df298ea0336.txt     \b\b\b\b 55%\b\b\b\b\b  OK \n",
            "Extracting  label/train/IMG_20180720_143252_jpg.rf.0dfd8da3d3a4bc763aa7009894c0cd11.txt     \b\b\b\b 55%\b\b\b\b\b  OK \n",
            "Extracting  label/train/IMG_20180720_143255_jpg.rf.9aa969e188ffb8229433d44b7e53a4ff.txt     \b\b\b\b 55%\b\b\b\b\b  OK \n",
            "Extracting  label/train/IMG_20180721_090007_jpg.rf.f12a1b456e97c85033b7d49c345a882b.txt     \b\b\b\b 56%\b\b\b\b\b  OK \n",
            "Extracting  label/train/IMG_20180721_090047_jpg.rf.6ce8b42e51f1aed472aa85d41491648b.txt     \b\b\b\b 56%\b\b\b\b\b  OK \n",
            "Extracting  label/train/IMG_20180721_090102_jpg.rf.a7343c16c395445a3e614987c9ed4e14.txt     \b\b\b\b 56%\b\b\b\b\b  OK \n",
            "Extracting  label/train/IMG_20180721_090127_jpg.rf.e58fd678fd198e6414a1c0609cd9e8d5.txt     \b\b\b\b 56%\b\b\b\b\b  OK \n",
            "Extracting  label/train/IMG_20180721_090151_jpg.rf.a039ea2c1d784c1b00e2ead6a15e80b0.txt     \b\b\b\b 56%\b\b\b\b\b  OK \n",
            "Extracting  label/train/IMG_20180721_090210_jpg.rf.43a566a09b91baa2e23952433e60c167.txt     \b\b\b\b 56%\b\b\b\b\b  OK \n",
            "Extracting  label/train/IMG_20180721_090222_jpg.rf.7ac71a0867f276358eeeb216ed90411b.txt     \b\b\b\b 56%\b\b\b\b\b  OK \n",
            "Extracting  label/train/IMG_20180721_090244_jpg.rf.40e37c2b564eda149afbf60748e2e2b8.txt     \b\b\b\b 56%\b\b\b\b\b  OK \n",
            "Extracting  label/train/IMG_20180721_090259_jpg.rf.ce713336c9a947125d812c664a6c0162.txt     \b\b\b\b 56%\b\b\b\b\b  OK \n",
            "Extracting  label/train/IMG_20180721_090323_jpg.rf.5ca269288eb41e51933acbc68855f24d.txt     \b\b\b\b 56%\b\b\b\b\b  OK \n",
            "Extracting  label/train/IMG_20180721_090342_jpg.rf.21c63127bfa08c541dfaf85cd6459a7c.txt     \b\b\b\b 56%\b\b\b\b\b  OK \n",
            "Extracting  label/train/IMG_20180721_090352_jpg.rf.9dfad6d1644bdff5959b50325c5b0a99.txt     \b\b\b\b 56%\b\b\b\b\b  OK \n",
            "Extracting  label/train/IMG_20180721_090414_jpg.rf.19bd9775e6ac5b12e384d53752028788.txt     \b\b\b\b 56%\b\b\b\b\b  OK \n",
            "Extracting  label/train/IMG_20180721_090527_jpg.rf.78497e62d7437e13c59bda5243deab10.txt     \b\b\b\b 56%\b\b\b\b\b  OK \n",
            "Extracting  label/train/IMG_20180721_090532_jpg.rf.4a8880c23c0f28f29e5f0ff08b388c3b.txt     \b\b\b\b 56%\b\b\b\b\b  OK \n",
            "Extracting  label/train/IMG_20180721_090702_jpg.rf.981ddfcfcb67a48f89e15a8f39a59324.txt     \b\b\b\b 56%\b\b\b\b\b  OK \n",
            "Extracting  label/train/IMG_20180721_090858_jpg.rf.b7fa3cf96127814ea825bf28c297ce65.txt     \b\b\b\b 57%\b\b\b\b\b  OK \n",
            "Extracting  label/train/IMG_20180721_090911_jpg.rf.f1d672a68c72739dbbb9664f76b4a9fa.txt     \b\b\b\b 57%\b\b\b\b\b  OK \n",
            "Extracting  label/train/IMG_20180721_090927_jpg.rf.d73595d7231cc0336b295ea392f19fa1.txt     \b\b\b\b 57%\b\b\b\b\b  OK \n",
            "Extracting  label/train/IMG_20180721_090938_jpg.rf.2bcad7abf388ad9a98c42a85d029f815.txt     \b\b\b\b 57%\b\b\b\b\b  OK \n",
            "Extracting  label/train/IMG_20180721_091004_jpg.rf.381b9afa24e3953be5e58677d2884b3b.txt     \b\b\b\b 57%\b\b\b\b\b  OK \n",
            "Extracting  label/train/IMG_20180721_091015_jpg.rf.fb22e4c6e873ae85f4acd09a3db723cd.txt     \b\b\b\b 57%\b\b\b\b\b  OK \n",
            "Extracting  label/train/IMG_20180721_091154_jpg.rf.f2043d68edc44e0d313a6067ee89f85d.txt     \b\b\b\b 57%\b\b\b\b\b  OK \n",
            "Extracting  label/train/IMG_20180721_091207_jpg.rf.a056a58b3df19198fabd0d5c2df934df.txt     \b\b\b\b 57%\b\b\b\b\b  OK \n",
            "Extracting  label/train/IMG_20180721_091322_jpg.rf.c919fea4a958119260570a489d8e1863.txt     \b\b\b\b 57%\b\b\b\b\b  OK \n",
            "Extracting  label/train/IMG_20180721_091400_jpg.rf.b68c9b1653b68f053f448abf91efabaa.txt     \b\b\b\b 57%\b\b\b\b\b  OK \n",
            "Extracting  label/train/IMG_20180721_091412_jpg.rf.1dabb3e9fa20f61505e1aa4dc949612c.txt     \b\b\b\b 57%\b\b\b\b\b  OK \n",
            "Extracting  label/train/IMG_20180721_091441_jpg.rf.1de7b6d5a85a98330fe4cf0122039fca.txt     \b\b\b\b 57%\b\b\b\b\b  OK \n",
            "Extracting  label/train/IMG_20180721_091504_jpg.rf.4a2cf9c61e27d098658cbe43faf04c0c.txt     \b\b\b\b 57%\b\b\b\b\b  OK \n",
            "Extracting  label/train/IMG_20180721_091524_jpg.rf.8706c2cc9e649ae695600cd5f411bb0f.txt     \b\b\b\b 57%\b\b\b\b\b  OK \n",
            "Extracting  label/train/IMG_20180721_091732_jpg.rf.f51eac4f337a383e6ff097b855179767.txt     \b\b\b\b 57%\b\b\b\b\b  OK \n",
            "Extracting  label/train/IMG_20180721_091759_jpg.rf.c4910069cb97ebeba1b41411825ae81a.txt     \b\b\b\b 58%\b\b\b\b\b  OK \n",
            "Extracting  label/train/IMG_20180721_091815_jpg.rf.126996c64521299a02ecbdeb99d8addb.txt     \b\b\b\b 58%\b\b\b\b\b  OK \n",
            "Extracting  label/train/IMG_20180723_122347_jpg.rf.cf448e265a79da65da5a0771e11e853c.txt     \b\b\b\b 58%\b\b\b\b\b  OK \n",
            "Extracting  label/train/IMG_20180723_122353_jpg.rf.6aa45a9fad63441c74412a29b75a3c36.txt     \b\b\b\b 58%\b\b\b\b\b  OK \n",
            "Extracting  label/train/IMG_20180723_122404_jpg.rf.4c258952ad24a42ae845573b05d61993.txt     \b\b\b\b 58%\b\b\b\b\b  OK \n",
            "Extracting  label/train/IMG_20180723_122444_jpg.rf.878751baab2cfaec55bd49e531b6ba88.txt     \b\b\b\b 58%\b\b\b\b\b  OK \n",
            "Extracting  label/train/IMG_20180723_122511_jpg.rf.0cba580829eb9d890a07aa3b6f2f6329.txt     \b\b\b\b 58%\b\b\b\b\b  OK \n",
            "Extracting  label/train/IMG_20180723_122515_jpg.rf.a859c8c70bf27172bb214e19f8155f96.txt     \b\b\b\b 58%\b\b\b\b\b  OK \n",
            "Extracting  label/train/IMG_20180723_122614_jpg.rf.07be0a9847a4c7d77b4815d53ff009b1.txt     \b\b\b\b 58%\b\b\b\b\b  OK \n",
            "Extracting  label/train/IMG_20180723_122641_jpg.rf.3f33c0aa9cc7e4037bd0e9d16c6edc97.txt     \b\b\b\b 58%\b\b\b\b\b  OK \n",
            "Extracting  label/train/IMG_20180723_122707_jpg.rf.3abf8d4769562d5fa7401d45d36bebc2.txt     \b\b\b\b 58%\b\b\b\b\b  OK \n",
            "Extracting  label/train/IMG_20180723_122828_jpg.rf.4e448900bc5984ed46f36d2b7c79b9e6.txt     \b\b\b\b 58%\b\b\b\b\b  OK \n",
            "Extracting  label/train/IMG_20180723_122833_jpg.rf.3d1050eb467f4948e2033b9deaeded1a.txt     \b\b\b\b 58%\b\b\b\b\b  OK \n",
            "Extracting  label/train/IMG_20180723_122905_jpg.rf.6f8615541115c0e8c59978835abaabb2.txt     \b\b\b\b 58%\b\b\b\b\b  OK \n",
            "Extracting  label/train/IMG_20180723_122941_jpg.rf.8feebe1137d5c6fb06370508794480ed.txt     \b\b\b\b 58%\b\b\b\b\b  OK \n",
            "Extracting  label/train/IMG_20180723_122946_jpg.rf.a5b18deb1abc215f14341ac06cda2c9b.txt     \b\b\b\b 58%\b\b\b\b\b  OK \n",
            "Extracting  label/train/IMG_20180723_122952_jpg.rf.e5ee1857ce04905006fe3dde7d026ead.txt     \b\b\b\b 58%\b\b\b\b\b  OK \n",
            "Extracting  label/train/IMG_20180723_122959_jpg.rf.67354d0262a35fca4709539771adcfce.txt     \b\b\b\b 59%\b\b\b\b\b  OK \n",
            "Extracting  label/train/IMG_20180723_123015_jpg.rf.9a8106f4e5fed488feb6a889de39b3db.txt     \b\b\b\b 59%\b\b\b\b\b  OK \n",
            "Extracting  label/train/IMG_20180723_123055_jpg.rf.ec085c276808ee7e053e6ab71664965a.txt     \b\b\b\b 59%\b\b\b\b\b  OK \n",
            "Extracting  label/train/IMG_20180723_123106_jpg.rf.5849ee4e22ed95f4e50b90fd948646e7.txt     \b\b\b\b 59%\b\b\b\b\b  OK \n",
            "Extracting  label/train/IMG_20180723_123134_jpg.rf.f135b52e0b1fdd508b364586313622ac.txt     \b\b\b\b 59%\b\b\b\b\b  OK \n",
            "Extracting  label/train/IMG_20180723_123154_jpg.rf.b74e90efa894f48a114062ba8a12fce4.txt     \b\b\b\b 59%\b\b\b\b\b  OK \n",
            "Extracting  label/train/IMG_20180723_123209_jpg.rf.2879100e353bb015687662477cdcdf2f.txt     \b\b\b\b 59%\b\b\b\b\b  OK \n",
            "Extracting  label/train/IMG_20180723_123231_jpg.rf.b94e3c6dc0d302a3449e4c15a38c6c86.txt     \b\b\b\b 59%\b\b\b\b\b  OK \n",
            "Extracting  label/train/IMG_20180723_123254_jpg.rf.5506f43ef5e73edcfbd941ff16f49c6a.txt     \b\b\b\b 59%\b\b\b\b\b  OK \n",
            "Extracting  label/train/IMG_20180723_123302_jpg.rf.704e72c8e08ec5a97af644401098b9d1.txt     \b\b\b\b 59%\b\b\b\b\b  OK \n",
            "Extracting  label/train/IMG_20180723_123317_jpg.rf.043f47902739dae86362742e63bbbac0.txt     \b\b\b\b 59%\b\b\b\b\b  OK \n",
            "Extracting  label/train/IMG_20180723_123328_jpg.rf.54fc7e0656bc4ed5fbdea0321daab506.txt     \b\b\b\b 59%\b\b\b\b\b  OK \n",
            "Extracting  label/train/IMG_20180723_123340_jpg.rf.72b4be4b3c75dabdfb901f8c47e9ead8.txt     \b\b\b\b 59%\b\b\b\b\b  OK \n",
            "Extracting  label/train/IMG_20180723_123437_jpg.rf.9b69125c855b4a0c8ecb657a831c9128.txt     \b\b\b\b 59%\b\b\b\b\b  OK \n",
            "Extracting  label/train/IMG_20180723_123454_jpg.rf.84fe23aa68efb5f4df90993717038845.txt     \b\b\b\b 59%\b\b\b\b\b  OK \n",
            "Extracting  label/train/IMG_20180723_123522_jpg.rf.c65dc11c94a6dc91a8a8ae58a55bf68f.txt     \b\b\b\b 60%\b\b\b\b\b  OK \n",
            "Extracting  label/train/IMG_20180723_123534_jpg.rf.94807f5ae214fb7ef2677084e0baa0a6.txt     \b\b\b\b 60%\b\b\b\b\b  OK \n",
            "Extracting  label/train/IMG_20180723_123547_jpg.rf.f4432a5b4b058638df396f5e8afb1443.txt     \b\b\b\b 60%\b\b\b\b\b  OK \n",
            "Extracting  label/train/IMG_20180723_123611_jpg.rf.2ff5c7b0212f396178190ce1985efb53.txt     \b\b\b\b 60%\b\b\b\b\b  OK \n",
            "Extracting  label/train/IMG_20180723_123638_jpg.rf.833f97303c60ddc88e350b9a52a8c305.txt     \b\b\b\b 60%\b\b\b\b\b  OK \n",
            "Extracting  label/train/IMG_20180723_123653_jpg.rf.3a818308797c283e5a8dc15ce5c46edd.txt     \b\b\b\b 60%\b\b\b\b\b  OK \n",
            "Extracting  label/train/IMG_20180723_123708_jpg.rf.c381dc3eed07bd6f0bf9a56d66a0b27f.txt     \b\b\b\b 60%\b\b\b\b\b  OK \n",
            "Extracting  label/train/IMG_20180723_123720_jpg.rf.4e19a00a45518b1b92c0eb8877c1f837.txt     \b\b\b\b 60%\b\b\b\b\b  OK \n",
            "Extracting  label/train/IMG_20180723_123726_jpg.rf.aeaee967e37fb4e661002bcd74386047.txt     \b\b\b\b 60%\b\b\b\b\b  OK \n",
            "Extracting  label/train/IMG_20180723_123733_jpg.rf.d77dae06c2bb1abba27908d37c78723e.txt     \b\b\b\b 60%\b\b\b\b\b  OK \n",
            "Extracting  label/train/IMG_20180723_123744_jpg.rf.1249637b3ce73611c68f15fe68694c4d.txt     \b\b\b\b 60%\b\b\b\b\b  OK \n",
            "Extracting  label/train/IMG_20180723_123830_jpg.rf.65eef1d24e6a5db44b27d61a57a1232c.txt     \b\b\b\b 60%\b\b\b\b\b  OK \n",
            "Extracting  label/train/IMG_20180723_123906_jpg.rf.6aceae265bd1e04419e1b8a6aaf49dd6.txt     \b\b\b\b 60%\b\b\b\b\b  OK \n",
            "Extracting  label/train/IMG_20180723_123911_jpg.rf.803fd5da48968655cfd9b5e16d60fcbc.txt     \b\b\b\b 60%\b\b\b\b\b  OK \n",
            "Extracting  label/train/IMG_20180723_123915_jpg.rf.cec8653bb6bcfec39ce732afbe775b45.txt     \b\b\b\b 60%\b\b\b\b\b  OK \n",
            "Extracting  label/train/IMG_20180723_123939_jpg.rf.0b1f11034b38b96a6cd0e9da83b5e1da.txt     \b\b\b\b 60%\b\b\b\b\b  OK \n",
            "Extracting  label/train/IMG_20180723_123952_jpg.rf.d4bf3d42d6e3d362b32a683ec643e535.txt     \b\b\b\b 61%\b\b\b\b\b  OK \n",
            "Extracting  label/train/IMG_20180723_124006_jpg.rf.780dba00f74c95c50ae5c077d11039ec.txt     \b\b\b\b 61%\b\b\b\b\b  OK \n",
            "Extracting  label/train/IMG_20180723_124020_jpg.rf.219d8ea19cbaf34699a57ade3fd1b943.txt     \b\b\b\b 61%\b\b\b\b\b  OK \n",
            "Extracting  label/train/IMG_20180723_124116_jpg.rf.7c7beb555b8f1d2773052c5d5db332ec.txt     \b\b\b\b 61%\b\b\b\b\b  OK \n",
            "Extracting  label/train/IMG_20180723_124206_jpg.rf.b3c53b69bee6982837fdc175d4089e54.txt     \b\b\b\b 61%\b\b\b\b\b  OK \n",
            "Extracting  label/train/IMG_20180723_124215_jpg.rf.b8fd3aff14d08459e76aa60cfe0f677c.txt     \b\b\b\b 61%\b\b\b\b\b  OK \n",
            "Extracting  label/train/IMG_20180723_124233_jpg.rf.382327c89c42688f9eb6f143784da31a.txt     \b\b\b\b 61%\b\b\b\b\b  OK \n",
            "Extracting  label/train/IMG_20180723_124251_jpg.rf.776e3df3679b5cc23fa9d4dadbf96ccd.txt     \b\b\b\b 61%\b\b\b\b\b  OK \n",
            "Extracting  label/train/IMG_20180723_124259_jpg.rf.436ccf5dd3efc03a45fab45bc1984e69.txt     \b\b\b\b 61%\b\b\b\b\b  OK \n",
            "Extracting  label/train/IMG_20180723_124331_jpg.rf.8f53823d4bab87e23fe715aadb5ddc2f.txt     \b\b\b\b 61%\b\b\b\b\b  OK \n",
            "Extracting  label/train/IMG_20180723_124338_jpg.rf.fbd3a349e246521e80a520afa6b99d11.txt     \b\b\b\b 61%\b\b\b\b\b  OK \n",
            "Extracting  label/train/IMG_20180723_124450_jpg.rf.2c99cf8ba5655d92e2a94803d9e50a16.txt     \b\b\b\b 61%\b\b\b\b\b  OK \n",
            "Extracting  label/train/IMG_20180723_124501_jpg.rf.b06a40d863d2c3fe05f7ef6507fc0e9f.txt     \b\b\b\b 61%\b\b\b\b\b  OK \n",
            "Extracting  label/train/IMG_20180723_124643_jpg.rf.7b2e48be09b92603ff8ea4e8c6c4e4a4.txt     \b\b\b\b 61%\b\b\b\b\b  OK \n",
            "Extracting  label/train/IMG_20180723_124655_jpg.rf.3757ae5f2dd1ad6e933f32a98a1ff51c.txt     \b\b\b\b 61%\b\b\b\b\b  OK \n",
            "Extracting  label/train/IMG_20180723_124712_jpg.rf.eca4c5a73eaef60d0823e811bfcfb1ae.txt     \b\b\b\b 62%\b\b\b\b\b  OK \n",
            "Extracting  label/train/IMG_20180723_124738_jpg.rf.5873fa28278f934f0d0a5634146ccac3.txt     \b\b\b\b 62%\b\b\b\b\b  OK \n",
            "Extracting  label/train/IMG_20180723_124904_jpg.rf.192cf09e914afd37aee5fa2a230b6510.txt     \b\b\b\b 62%\b\b\b\b\b  OK \n",
            "Extracting  label/train/IMG_20180723_144816_jpg.rf.0880d50e92290ff410a0725318d7be05.txt     \b\b\b\b 62%\b\b\b\b\b  OK \n",
            "Extracting  label/train/IMG_20180723_144845_jpg.rf.f37b7acf9f929b72d598e7992876fa11.txt     \b\b\b\b 62%\b\b\b\b\b  OK \n",
            "Extracting  label/train/IMG_20180723_144902_jpg.rf.6b5cb7ca13643986cdc8109ea05afd0c.txt     \b\b\b\b 62%\b\b\b\b\b  OK \n",
            "Extracting  label/train/IMG_20180723_144939_jpg.rf.e0c6ce85e742f939cc2bfe39b61c9e86.txt     \b\b\b\b 62%\b\b\b\b\b  OK \n",
            "Extracting  label/train/IMG_20180723_145000_jpg.rf.c8e0e4504fbb73272c265699185b25e9.txt     \b\b\b\b 62%\b\b\b\b\b  OK \n",
            "Extracting  label/train/IMG_20180723_145104_jpg.rf.ca1fad739a2f0f9ed3b134961ad317ef.txt     \b\b\b\b 62%\b\b\b\b\b  OK \n",
            "Extracting  label/train/IMG_20180723_145121_jpg.rf.575cedefc672833dba7e0dd04136dba8.txt     \b\b\b\b 62%\b\b\b\b\b  OK \n",
            "Extracting  label/train/IMG_20180723_145150_jpg.rf.a0e9d91e2c45bc59e7f424c1b668dd74.txt     \b\b\b\b 62%\b\b\b\b\b  OK \n",
            "Extracting  label/train/IMG_20180723_145326_jpg.rf.aea840fba9c98195e63bb9770f75a6dc.txt     \b\b\b\b 62%\b\b\b\b\b  OK \n",
            "Extracting  label/train/IMG_20180723_145334_jpg.rf.3f130971879ed338179515e14e5c095b.txt     \b\b\b\b 62%\b\b\b\b\b  OK \n",
            "Extracting  label/train/IMG_20180723_145353_jpg.rf.76c73e5079a684c803ddc37bc70e4cac.txt     \b\b\b\b 62%\b\b\b\b\b  OK \n",
            "Extracting  label/train/IMG_20180723_145451_jpg.rf.5d8938b748c8b9084550024ca9d9f89c.txt     \b\b\b\b 62%\b\b\b\b\b  OK \n",
            "Extracting  label/train/IMG_20180723_145515_jpg.rf.94c87da69ae1c2d46d393ae7bc7ae8b5.txt     \b\b\b\b 62%\b\b\b\b\b  OK \n",
            "Extracting  label/train/IMG_20180723_145550_jpg.rf.bb15c32e18d7798304e460b7ba16a86f.txt     \b\b\b\b 63%\b\b\b\b\b  OK \n",
            "Extracting  label/train/IMG_20180723_145624_jpg.rf.dc078edf183245fabebe30948526db8f.txt     \b\b\b\b 63%\b\b\b\b\b  OK \n",
            "Extracting  label/train/IMG_20180723_145631_jpg.rf.b23afb570c6b637604c5ad10b6536b5e.txt     \b\b\b\b 63%\b\b\b\b\b  OK \n",
            "Extracting  label/train/IMG_20180723_145651_jpg.rf.92c153b7f52a9c3d01cb20d1b00fdbdf.txt     \b\b\b\b 63%\b\b\b\b\b  OK \n",
            "Extracting  label/train/IMG_20180723_145703_jpg.rf.4d4a7224e96bb5d8302a86b399868353.txt     \b\b\b\b 63%\b\b\b\b\b  OK \n",
            "Extracting  label/train/IMG_20180723_145753_jpg.rf.bcb60a65a53701f64a9953fb8047f5db.txt     \b\b\b\b 63%\b\b\b\b\b  OK \n",
            "Extracting  label/train/IMG_20180723_145811_jpg.rf.3d2acbb5e9034a13438d2316068ca99d.txt     \b\b\b\b 63%\b\b\b\b\b  OK \n",
            "Extracting  label/train/IMG_20180723_145854_jpg.rf.1497cd5334ecf523a2d40bcf3fa3ef9a.txt     \b\b\b\b 63%\b\b\b\b\b  OK \n",
            "Extracting  label/train/IMG_20180723_145937_jpg.rf.880725eb4f536f046e14481b3a62fa70.txt     \b\b\b\b 63%\b\b\b\b\b  OK \n",
            "Extracting  label/train/IMG_20180723_145947_jpg.rf.5c7eee10b265d17ba443dd1d91ecd959.txt     \b\b\b\b 63%\b\b\b\b\b  OK \n",
            "Extracting  label/train/IMG_20180723_150104_jpg.rf.a2a74546ba7decc97247daea2cbde9d3.txt     \b\b\b\b 63%\b\b\b\b\b  OK \n",
            "Extracting  label/train/IMG_20180723_150147_jpg.rf.60d39cb098b40ede12e6f323a561dcfa.txt     \b\b\b\b 63%\b\b\b\b\b  OK \n",
            "Extracting  label/train/IMG_20180723_150532_jpg.rf.8bc22342907de7240df15d5e9b2aabf5.txt     \b\b\b\b 63%\b\b\b\b\b  OK \n",
            "Extracting  label/train/IMG_20180723_150704_jpg.rf.c7728ea0e25523a25547b100b6fbc248.txt     \b\b\b\b 63%\b\b\b\b\b  OK \n",
            "Extracting  label/train/IMG_20180723_150941_jpg.rf.424d7a545732693f1e388b1fe9b5f47e.txt     \b\b\b\b 63%\b\b\b\b\b  OK \n",
            "Extracting  label/train/IMG_20180723_151257_jpg.rf.3125f49e20445b16530bea2f1e5ab4f0.txt     \b\b\b\b 64%\b\b\b\b\b  OK \n",
            "Extracting  label/train/IMG_20180723_151417_jpg.rf.09f2d815f4da7108e16932a93ced490d.txt     \b\b\b\b 64%\b\b\b\b\b  OK \n",
            "Extracting  label/train/IMG_20180723_151429_jpg.rf.1c838614ed64a91f1bdeb4db5eadd820.txt     \b\b\b\b 64%\b\b\b\b\b  OK \n",
            "Extracting  label/train/IMG_20180723_151534_jpg.rf.bd8ec37c82e94bc11d057b204c816a52.txt     \b\b\b\b 64%\b\b\b\b\b  OK \n",
            "Extracting  label/train/IMG_20180723_151713_jpg.rf.2f744708a0157750e60b8acd4676f2e5.txt     \b\b\b\b 64%\b\b\b\b\b  OK \n",
            "Extracting  label/train/IMG_20180723_152133_jpg.rf.b230ac50c29cedaaea959d46ea2069e8.txt     \b\b\b\b 64%\b\b\b\b\b  OK \n",
            "Extracting  label/train/IMG_20180723_152213_jpg.rf.5333bf91dcd2181c4f6cf5db1e57b4a9.txt     \b\b\b\b 64%\b\b\b\b\b  OK \n",
            "Extracting  label/train/IMG_20180723_152231_jpg.rf.ffa849e188a810fa8d7c47fa19f1e299.txt     \b\b\b\b 64%\b\b\b\b\b  OK \n",
            "Extracting  label/train/IMG_20180723_152239_jpg.rf.9e90c885970e916225ecdd52a5414085.txt     \b\b\b\b 64%\b\b\b\b\b  OK \n",
            "Extracting  label/train/IMG_20180724_120903_jpg.rf.b0da4dcf6850ee1448c6890594e34fba.txt     \b\b\b\b 64%\b\b\b\b\b  OK \n",
            "Extracting  label/train/IMG_20180724_120919_jpg.rf.dcd03f09bcabdd8fac56f011350c5080.txt     \b\b\b\b 64%\b\b\b\b\b  OK \n",
            "Extracting  label/train/IMG_20180724_120932_jpg.rf.05bea0228d8e34fe1f35c3f94acad0a2.txt     \b\b\b\b 64%\b\b\b\b\b  OK \n",
            "Extracting  label/train/IMG_20180724_120949_jpg.rf.64476433045c22dd349f01925d97f024.txt     \b\b\b\b 64%\b\b\b\b\b  OK \n",
            "Extracting  label/train/IMG_20180724_120959_jpg.rf.b23c1d296988baa47b8069c7ad0c08ec.txt     \b\b\b\b 64%\b\b\b\b\b  OK \n",
            "Extracting  label/train/IMG_20180724_121006_jpg.rf.06935c50f60f6ea7e0cb6d0b3493c651.txt     \b\b\b\b 64%\b\b\b\b\b  OK \n",
            "Extracting  label/train/IMG_20180724_121014_jpg.rf.f5dc710d875b3134e12f034e055f96df.txt     \b\b\b\b 64%\b\b\b\b\b  OK \n",
            "Extracting  label/train/IMG_20180724_121017_jpg.rf.07c918f05f5064a9d2fcdc931cd9f788.txt     \b\b\b\b 64%\b\b\b\b\b  OK \n",
            "Extracting  label/train/IMG_20180724_121053_jpg.rf.39dc237bd560c26d06d5ef29b7524d21.txt     \b\b\b\b 65%\b\b\b\b\b  OK \n",
            "Extracting  label/train/IMG_20180724_121102_jpg.rf.7adc14c2f21e44f38273fc2f1839dcdf.txt     \b\b\b\b 65%\b\b\b\b\b  OK \n",
            "Extracting  label/train/IMG_20180724_121113_jpg.rf.e4ba1311ff7c58ad22cdfaf103c3d02b.txt     \b\b\b\b 65%\b\b\b\b\b  OK \n",
            "Extracting  label/train/IMG_20180724_121149_jpg.rf.006de94044e9e9d899a2ebfd31a44adb.txt     \b\b\b\b 65%\b\b\b\b\b  OK \n",
            "Extracting  label/train/IMG_20180724_121206_jpg.rf.ab609b58e64e7ffe4ad319c61045a9b6.txt     \b\b\b\b 65%\b\b\b\b\b  OK \n",
            "Extracting  label/train/IMG_20180724_121229_jpg.rf.869efde58fb1a68ec8ef4c5b417a957c.txt     \b\b\b\b 65%\b\b\b\b\b  OK \n",
            "Extracting  label/train/IMG_20180724_121233_jpg.rf.b598af221a7c01276d854e881d675a31.txt     \b\b\b\b 65%\b\b\b\b\b  OK \n",
            "Extracting  label/train/IMG_20180724_121243_jpg.rf.fd226b07b16db8763914234416423137.txt     \b\b\b\b 65%\b\b\b\b\b  OK \n",
            "Extracting  label/train/IMG_20180724_121258_jpg.rf.cb622e1f89a6a89b2ae2dadc97ed90f8.txt     \b\b\b\b 65%\b\b\b\b\b  OK \n",
            "Extracting  label/train/IMG_20180724_121309_jpg.rf.462d59e1cd192b0e67241f0f3a02fff9.txt     \b\b\b\b 65%\b\b\b\b\b  OK \n",
            "Extracting  label/train/IMG_20180724_121315_jpg.rf.c0c124cad15d11647a775f8f32ac87b4.txt     \b\b\b\b 65%\b\b\b\b\b  OK \n",
            "Extracting  label/train/IMG_20180724_121334_jpg.rf.4e9083412aba9c41f38bcda787e90c23.txt     \b\b\b\b 65%\b\b\b\b\b  OK \n",
            "Extracting  label/train/IMG_20180724_121345_jpg.rf.438b49e3a136f25206ba54753413eed5.txt     \b\b\b\b 65%\b\b\b\b\b  OK \n",
            "Extracting  label/train/IMG_20180724_121351_jpg.rf.8b892957286402ce9d68d08137f68d94.txt     \b\b\b\b 65%\b\b\b\b\b  OK \n",
            "Extracting  label/train/IMG_20180724_121406_jpg.rf.8da8f6ea53ea5742866a8be9734827c3.txt     \b\b\b\b 65%\b\b\b\b\b  OK \n",
            "Extracting  label/train/IMG_20180724_121432_jpg.rf.b823ef4e30d95ce3a37bb521c96cc532.txt     \b\b\b\b 65%\b\b\b\b\b  OK \n",
            "Extracting  label/train/IMG_20180724_121502_jpg.rf.1c30ef249111e62fc77290c9811462fc.txt     \b\b\b\b 65%\b\b\b\b\b  OK \n",
            "Extracting  label/train/IMG_20180724_121553_jpg.rf.e0d094795b7930d749cb003ef3dd7c4f.txt     \b\b\b\b 66%\b\b\b\b\b  OK \n",
            "Extracting  label/train/IMG_20180724_121606_jpg.rf.304ee5ec7d300613fc1e3261e9c994cd.txt     \b\b\b\b 66%\b\b\b\b\b  OK \n",
            "Extracting  label/train/IMG_20180724_121614_jpg.rf.ce2d9a7787fd1eabd6dbe454a857bdf9.txt     \b\b\b\b 66%\b\b\b\b\b  OK \n",
            "Extracting  label/train/IMG_20180724_121629_jpg.rf.9cc01f6aaee3c6c4a39f3f5417894bdb.txt     \b\b\b\b 66%\b\b\b\b\b  OK \n",
            "Extracting  label/train/IMG_20180724_121657_jpg.rf.29a58479a263257ed9b1f0168f63f7e5.txt     \b\b\b\b 66%\b\b\b\b\b  OK \n",
            "Extracting  label/train/IMG_20180724_121704_jpg.rf.68d3e410c740c23106952abf91db023d.txt     \b\b\b\b 66%\b\b\b\b\b  OK \n",
            "Extracting  label/train/IMG_20180724_121759_jpg.rf.b1f8f59dce463c49a984c4046ed4851b.txt     \b\b\b\b 66%\b\b\b\b\b  OK \n",
            "Extracting  label/train/IMG_20180724_121819_jpg.rf.9dbc24574b5bceead8318e83ec654ad2.txt     \b\b\b\b 66%\b\b\b\b\b  OK \n",
            "Extracting  label/train/IMG_20180724_121832_jpg.rf.fa2d85ecf3b11e9e092ff3d03a698f26.txt     \b\b\b\b 66%\b\b\b\b\b  OK \n",
            "Extracting  label/train/IMG_20180724_121853_jpg.rf.263211b9d716dc6a6d9c7c61cce3e7ab.txt     \b\b\b\b 66%\b\b\b\b\b  OK \n",
            "Extracting  label/train/IMG_20180724_121905_jpg.rf.3b301224eb9f6785ec46ccf60b83d11c.txt     \b\b\b\b 66%\b\b\b\b\b  OK \n",
            "Extracting  label/train/IMG_20180724_121924_jpg.rf.ae05fb722b4f3bb13e51c5e33538ac88.txt     \b\b\b\b 66%\b\b\b\b\b  OK \n",
            "Extracting  label/train/IMG_20180724_121957_jpg.rf.0f5fb513d16b66eb5e14644ad17d47d9.txt     \b\b\b\b 66%\b\b\b\b\b  OK \n",
            "Extracting  label/train/IMG_20180724_122017_jpg.rf.32225bd451e5d78f0335ab0fa7fdc56c.txt     \b\b\b\b 66%\b\b\b\b\b  OK \n",
            "Extracting  label/train/IMG_20180724_122123_jpg.rf.2ca5a479ed18407538411a4b427d3207.txt     \b\b\b\b 66%\b\b\b\b\b  OK \n",
            "Extracting  label/train/IMG_20180724_122133_jpg.rf.f899870ea7ecaaae9ab2a1d76690e3d5.txt     \b\b\b\b 66%\b\b\b\b\b  OK \n",
            "Extracting  label/train/IMG_20180724_122241_jpg.rf.3aafdfc37b83d5b0952b9a88056b9716.txt     \b\b\b\b 67%\b\b\b\b\b  OK \n",
            "Extracting  label/train/IMG_20180724_122314_jpg.rf.078d5baab81e52e6d126fa5727dd5768.txt     \b\b\b\b 67%\b\b\b\b\b  OK \n",
            "Extracting  label/train/IMG_20180724_122327_jpg.rf.f6c05f941959e2b1c2afcf8cde8228f6.txt     \b\b\b\b 67%\b\b\b\b\b  OK \n",
            "Extracting  label/train/IMG_20180724_122345_jpg.rf.efdd36e29b50bca5d70e0463a1e3fa09.txt     \b\b\b\b 67%\b\b\b\b\b  OK \n",
            "Extracting  label/train/IMG_20180724_122357_jpg.rf.37303b1876f3798631cba1e7213ef036.txt     \b\b\b\b 67%\b\b\b\b\b  OK \n",
            "Extracting  label/train/IMG_20180724_122419_jpg.rf.7defc93bbb63c7a8acb35aefd7094d04.txt     \b\b\b\b 67%\b\b\b\b\b  OK \n",
            "Extracting  label/train/IMG_20180724_122446_jpg.rf.eab22b193400f588722a46cbdf4b4f2c.txt     \b\b\b\b 67%\b\b\b\b\b  OK \n",
            "Extracting  label/train/IMG_20180724_122509_jpg.rf.c410578fb4a8289d434489b6b3b1ff4e.txt     \b\b\b\b 67%\b\b\b\b\b  OK \n",
            "Extracting  label/train/IMG_20180724_122513_jpg.rf.f5e4ae0c64e095d8e6ffed8f948ec07e.txt     \b\b\b\b 67%\b\b\b\b\b  OK \n",
            "Extracting  label/train/IMG_20180724_122534_jpg.rf.c8620b85d686646d7d44ffb468891cef.txt     \b\b\b\b 67%\b\b\b\b\b  OK \n",
            "Extracting  label/train/IMG_20180724_122546_jpg.rf.9ad9e431c2aa037bd16bc9b695f54a3b.txt     \b\b\b\b 67%\b\b\b\b\b  OK \n",
            "Extracting  label/train/IMG_20180724_122601_jpg.rf.5e99f5f72866c88e278e3b6cc20da22c.txt     \b\b\b\b 67%\b\b\b\b\b  OK \n",
            "Extracting  label/train/IMG_20180724_122617_jpg.rf.00eb37c5b998e39154ea29773d74a76c.txt     \b\b\b\b 67%\b\b\b\b\b  OK \n",
            "Extracting  label/train/IMG_20180724_122638_jpg.rf.3eae55a7756a6d22487adb4d8ee05b06.txt     \b\b\b\b 67%\b\b\b\b\b  OK \n",
            "Extracting  label/train/IMG_20180724_122650_jpg.rf.0ed9d5755457b66a6cd5ac23927944fc.txt     \b\b\b\b 67%\b\b\b\b\b  OK \n",
            "Extracting  label/train/IMG_20180724_122823_jpg.rf.0bc05bd62901d23ef3fcabd23f059217.txt     \b\b\b\b 67%\b\b\b\b\b  OK \n",
            "Extracting  label/train/IMG_20180724_122831_jpg.rf.184c84f6a58608a653944b2203f88c1c.txt     \b\b\b\b 67%\b\b\b\b\b  OK \n",
            "Extracting  label/train/IMG_20180724_123530_jpg.rf.91d11abb41d2d19f6be2e1eac177b47a.txt     \b\b\b\b 68%\b\b\b\b\b  OK \n",
            "Extracting  label/train/IMG_20180724_123542_jpg.rf.4c70270a9c5b7e3ecc2c59672f626ccc.txt     \b\b\b\b 68%\b\b\b\b\b  OK \n",
            "Extracting  label/train/IMG_20180724_123557_jpg.rf.9d0807034b4b44adffb9bb3b71303936.txt     \b\b\b\b 68%\b\b\b\b\b  OK \n",
            "Extracting  label/train/IMG_20180724_123610_jpg.rf.5021a6201b8c0f6ba9bd5c05874643d2.txt     \b\b\b\b 68%\b\b\b\b\b  OK \n",
            "Extracting  label/train/IMG_20180724_123619_jpg.rf.cfc32b2be16402efbdbe4ce2ea29d2ed.txt     \b\b\b\b 68%\b\b\b\b\b  OK \n",
            "Extracting  label/train/IMG_20180724_123638_jpg.rf.1d424187ca85c09b1d5ef4d5aa6dfc75.txt     \b\b\b\b 68%\b\b\b\b\b  OK \n",
            "Extracting  label/train/IMG_20180724_123653_jpg.rf.09dc99127cab10ebc794d8ef7e8b78b4.txt     \b\b\b\b 68%\b\b\b\b\b  OK \n",
            "Extracting  label/train/IMG_20180724_123702_jpg.rf.2b180a9131993693576ff340032eadf8.txt     \b\b\b\b 68%\b\b\b\b\b  OK \n",
            "Extracting  label/train/IMG_20180724_123708_jpg.rf.cb83c8cd03e8db37d8f41d1b2d833930.txt     \b\b\b\b 68%\b\b\b\b\b  OK \n",
            "Extracting  label/train/IMG_20180724_123723_jpg.rf.e9d74c4bcc15a892b46080efed18d136.txt     \b\b\b\b 68%\b\b\b\b\b  OK \n",
            "Extracting  label/train/IMG_20180724_123732_jpg.rf.7f17bb4af22de34bd7bee24a5eccb773.txt     \b\b\b\b 68%\b\b\b\b\b  OK \n",
            "Extracting  label/train/IMG_20180724_123757_jpg.rf.a06332a1b3f2b2d54c015fa138bb9ab6.txt     \b\b\b\b 68%\b\b\b\b\b  OK \n",
            "Extracting  label/train/IMG_20180724_123829_jpg.rf.7fe4b9c02963f5f0efbdebdfaac11baa.txt     \b\b\b\b 68%\b\b\b\b\b  OK \n",
            "Extracting  label/train/IMG_20180724_123854_jpg.rf.a1136059f0f777804945d3bed6731235.txt     \b\b\b\b 68%\b\b\b\b\b  OK \n",
            "Extracting  label/train/IMG_20180724_123908_jpg.rf.cbf4efc08a84a0259e8e8bac1420ba86.txt     \b\b\b\b 68%\b\b\b\b\b  OK \n",
            "Extracting  label/train/IMG_20180724_124135_jpg.rf.631f0e7db615b417c63c11f0404cfb77.txt     \b\b\b\b 68%\b\b\b\b\b  OK \n",
            "Extracting  label/train/IMG_20180724_124150_jpg.rf.6a83fb534490c90f32118995f6df3d8a.txt     \b\b\b\b 69%\b\b\b\b\b  OK \n",
            "Extracting  label/train/IMG_20180724_124332_jpg.rf.4ec548c850f457f11f1dc422ccb8ade6.txt     \b\b\b\b 69%\b\b\b\b\b  OK \n",
            "Extracting  label/train/IMG_20180724_124339_jpg.rf.634ba08001fef75ed0c041a540f3ac32.txt     \b\b\b\b 69%\b\b\b\b\b  OK \n",
            "Extracting  label/train/IMG_20180724_124414_jpg.rf.f2639fd71550e3567cde9588b8090dc5.txt     \b\b\b\b 69%\b\b\b\b\b  OK \n",
            "Extracting  label/train/IMG_20180724_124449_jpg.rf.bf054be01b3e93f6ca42fcf6e2056d89.txt     \b\b\b\b 69%\b\b\b\b\b  OK \n",
            "Extracting  label/train/IMG_20180724_124508_jpg.rf.4c75fdfc87d6cbae056cd00f48468935.txt     \b\b\b\b 69%\b\b\b\b\b  OK \n",
            "Extracting  label/train/IMG_20180724_124521_jpg.rf.db5bb5f29cb121d64bc1ff527d358799.txt     \b\b\b\b 69%\b\b\b\b\b  OK \n",
            "Extracting  label/train/IMG_20180724_124526_jpg.rf.c25e727777d2183a4c28c8860c6e8a1d.txt     \b\b\b\b 69%\b\b\b\b\b  OK \n",
            "Extracting  label/train/IMG_20180724_124548_jpg.rf.702aa05057002b5e3c272c0bab2e9212.txt     \b\b\b\b 69%\b\b\b\b\b  OK \n",
            "Extracting  label/train/IMG_20180724_124557_jpg.rf.44d6996f5c495b6030dab8a428e47aef.txt     \b\b\b\b 69%\b\b\b\b\b  OK \n",
            "Extracting  label/train/IMG_20180724_124738_jpg.rf.8f7c83603c757c014172703d4b19ac42.txt     \b\b\b\b 69%\b\b\b\b\b  OK \n",
            "Extracting  label/train/IMG_20180724_124810_jpg.rf.38809ba490a2ad7f8c40f98b93925085.txt     \b\b\b\b 69%\b\b\b\b\b  OK \n",
            "Extracting  label/train/IMG_20180724_124946_jpg.rf.78cae50848f2e3cc85ceee1c344472b6.txt     \b\b\b\b 69%\b\b\b\b\b  OK \n",
            "Extracting  label/train/IMG_20180724_125116_jpg.rf.445c5f3e65b3338be50a521f70cd306b.txt     \b\b\b\b 69%\b\b\b\b\b  OK \n",
            "Extracting  label/train/IMG_20180724_125152_jpg.rf.3d1950fa24f40fd8e845487849922585.txt     \b\b\b\b 69%\b\b\b\b\b  OK \n",
            "Extracting  label/train/IMG_20180724_125230_jpg.rf.98ee59a7d175243d01a36932ce32c02b.txt     \b\b\b\b 69%\b\b\b\b\b  OK \n",
            "Extracting  label/train/IMG_20180724_125716_jpg.rf.e8c012f689603bd5409f21e7c28c03f5.txt     \b\b\b\b 69%\b\b\b\b\b  OK \n",
            "Extracting  label/train/IMG_20180724_125919_jpg.rf.74290d063a6ad633ef1ac430027671cc.txt     \b\b\b\b 70%\b\b\b\b\b  OK \n",
            "Extracting  label/train/IMG_20180724_145832_jpg.rf.6f697fde7d7d15990ab99c0f1077dcbd.txt     \b\b\b\b 70%\b\b\b\b\b  OK \n",
            "Extracting  label/train/IMG_20180724_150041_jpg.rf.699081f26d02f309035761b6663c0760.txt     \b\b\b\b 70%\b\b\b\b\b  OK \n",
            "Extracting  label/train/IMG_20180724_150602_jpg.rf.156fde98ffa484331de784375fe06a51.txt     \b\b\b\b 70%\b\b\b\b\b  OK \n",
            "Extracting  label/train/IMG_20180724_150758_jpg.rf.e3daad4b0d7968fa5b01b8e4b68442af.txt     \b\b\b\b 70%\b\b\b\b\b  OK \n",
            "Extracting  label/train/IMG_20180724_150828_jpg.rf.fb16c89804aa09532b022aed0c41ced8.txt     \b\b\b\b 70%\b\b\b\b\b  OK \n",
            "Extracting  label/train/IMG_20180724_150833_jpg.rf.5297f627dd27723f66eef9527298a550.txt     \b\b\b\b 70%\b\b\b\b\b  OK \n",
            "Extracting  label/train/IMG_20180724_150928_jpg.rf.ef05d1281bcbbdfeba026c201bd09378.txt     \b\b\b\b 70%\b\b\b\b\b  OK \n",
            "Extracting  label/train/IMG_20180724_150952_jpg.rf.98648a7f15dfb1021c2af8f21245e207.txt     \b\b\b\b 70%\b\b\b\b\b  OK \n",
            "Extracting  label/train/IMG_20180724_151727_jpg.rf.21092dc7fe64aac502000c16f4b25208.txt     \b\b\b\b 70%\b\b\b\b\b  OK \n",
            "Extracting  label/train/IMG_20180725_113901_jpg.rf.4be444cc86cbdd4e0f1728840436fa0b.txt     \b\b\b\b 70%\b\b\b\b\b  OK \n",
            "Extracting  label/train/IMG_20180725_113905_jpg.rf.f6a416a6c5fd68dffbbbde6635ddada0.txt     \b\b\b\b 70%\b\b\b\b\b  OK \n",
            "Extracting  label/train/IMG_20180725_114019_jpg.rf.2f4a04f9f6bca0309eefa96414868c94.txt     \b\b\b\b 70%\b\b\b\b\b  OK \n",
            "Extracting  label/train/IMG_20180725_114025_jpg.rf.c7a3cd298e6cf077d910eef7dbab5695.txt     \b\b\b\b 70%\b\b\b\b\b  OK \n",
            "Extracting  label/train/IMG_20180725_114228_jpg.rf.80219dff03efa925bcbaa91c87bd2acd.txt     \b\b\b\b 70%\b\b\b\b\b  OK \n",
            "Extracting  label/train/IMG_20180725_114304_jpg.rf.a1c447bd7574eccc68e57ca090e0ead3.txt     \b\b\b\b 70%\b\b\b\b\b  OK \n",
            "Extracting  label/train/IMG_20180725_114413_jpg.rf.b1358a9416a690ded3176e0203b524b2.txt     \b\b\b\b 71%\b\b\b\b\b  OK \n",
            "Extracting  label/train/IMG_20180725_114748_jpg.rf.320640d7fdc00f7e33ba8ae3c42da3b4.txt     \b\b\b\b 71%\b\b\b\b\b  OK \n",
            "Extracting  label/train/IMG_20180725_114849_jpg.rf.98ea868f30271bbd9c281d4e81359681.txt     \b\b\b\b 71%\b\b\b\b\b  OK \n",
            "Extracting  label/train/IMG_20180725_115024_jpg.rf.93bdb6ad2daba44ddeb3e860bc1def79.txt     \b\b\b\b 71%\b\b\b\b\b  OK \n",
            "Extracting  label/train/IMG_20180725_115203_jpg.rf.017d9cbb4a459ede9170bbddd078c2a3.txt     \b\b\b\b 71%\b\b\b\b\b  OK \n",
            "Extracting  label/train/IMG_20180725_115227_jpg.rf.ac112f76f685689dbf1e30a2e63ab15b.txt     \b\b\b\b 71%\b\b\b\b\b  OK \n",
            "Extracting  label/train/IMG_20180725_115234_jpg.rf.7b981e97fb2cf001b64967921d973de5.txt     \b\b\b\b 71%\b\b\b\b\b  OK \n",
            "Extracting  label/train/IMG_20180725_120120_jpg.rf.d69bfc890a6fea219cd0081dff3a7022.txt     \b\b\b\b 71%\b\b\b\b\b  OK \n",
            "Extracting  label/train/IMG_20180725_120143_jpg.rf.95cd749632f4e52f5825a37bff7b977f.txt     \b\b\b\b 71%\b\b\b\b\b  OK \n",
            "Extracting  label/train/IMG_20180725_120256_jpg.rf.0a0d1f61bbe1e60b7efc6a3b8a96557f.txt     \b\b\b\b 71%\b\b\b\b\b  OK \n",
            "Extracting  label/train/IMG_20180725_120313_jpg.rf.c35f6e1f35bdcfbc863ad06dbcd65f1b.txt     \b\b\b\b 71%\b\b\b\b\b  OK \n",
            "Extracting  label/train/IMG_20180725_120716_jpg.rf.8bec594c3b9c2655953d8fbc02d3716a.txt     \b\b\b\b 71%\b\b\b\b\b  OK \n",
            "Extracting  label/train/IMG_20180725_120722_jpg.rf.e7dc1a09bece5ca1b2f9f766d462f2bb.txt     \b\b\b\b 71%\b\b\b\b\b  OK \n",
            "Extracting  label/train/IMG_20180725_120946_jpg.rf.1993af1394fd4483703dfd2a057db841.txt     \b\b\b\b 71%\b\b\b\b\b  OK \n",
            "Extracting  label/train/IMG_20180725_121211_jpg.rf.5da03b281040bb95949804c435cba98c.txt     \b\b\b\b 71%\b\b\b\b\b  OK \n",
            "Extracting  label/train/IMG_20180725_121222_jpg.rf.3e178ec67cee653c9c5202c01e06c6e7.txt     \b\b\b\b 71%\b\b\b\b\b  OK \n",
            "Extracting  label/train/IMG_20180725_121228_jpg.rf.bc926518f89b207bfbd624571cb6db15.txt     \b\b\b\b 71%\b\b\b\b\b  OK \n",
            "Extracting  label/train/IMG_20180725_121240_jpg.rf.58256d4c99eecd888dfa9944d1fcf978.txt     \b\b\b\b 71%\b\b\b\b\b  OK \n",
            "Extracting  label/train/IMG_20180725_121324_jpg.rf.2c4222d05ad941cfe82be5bed8d71a3b.txt     \b\b\b\b 72%\b\b\b\b\b  OK \n",
            "Extracting  label/train/IMG_20180725_121405_jpg.rf.63085eedbd8922efe4aeec6198c3d2be.txt     \b\b\b\b 72%\b\b\b\b\b  OK \n",
            "Extracting  label/train/IMG_20180725_121427_jpg.rf.e76e88864e265809637954dd8ef4f0c0.txt     \b\b\b\b 72%\b\b\b\b\b  OK \n",
            "Extracting  label/train/IMG_20180725_121519_jpg.rf.cbfa3214821e736f0c83e0127b820114.txt     \b\b\b\b 72%\b\b\b\b\b  OK \n",
            "Extracting  label/train/IMG_20180725_121700_jpg.rf.d86514b90a1c71d502a269f868cb3d73.txt     \b\b\b\b 72%\b\b\b\b\b  OK \n",
            "Extracting  label/train/IMG_20180725_121845_jpg.rf.e74d16b609c4b55f785e59ff2a757d0a.txt     \b\b\b\b 72%\b\b\b\b\b  OK \n",
            "Extracting  label/train/IMG_20180725_121925_jpg.rf.62ca712f63879b0b7ac40c8cd32ce93a.txt     \b\b\b\b 72%\b\b\b\b\b  OK \n",
            "Extracting  label/train/IMG_20180725_121940_jpg.rf.68b4b673e16d117b8edecd752a914608.txt     \b\b\b\b 72%\b\b\b\b\b  OK \n",
            "Extracting  label/train/IMG_20180725_121946_jpg.rf.f9602c23a9526c402a0ecba42274704b.txt     \b\b\b\b 72%\b\b\b\b\b  OK \n",
            "Extracting  label/train/IMG_20180725_122016_jpg.rf.d7700ddfdb628fb13ffedc298aa02a3d.txt     \b\b\b\b 72%\b\b\b\b\b  OK \n",
            "Extracting  label/train/IMG_20180725_122039_jpg.rf.f8c359445e4bd82c2ac7d93c85523a3d.txt     \b\b\b\b 72%\b\b\b\b\b  OK \n",
            "Extracting  label/train/IMG_20180725_122106_jpg.rf.e654ac2d11edceac1931d4446254f13c.txt     \b\b\b\b 72%\b\b\b\b\b  OK \n",
            "Extracting  label/train/IMG_20180725_122231_jpg.rf.c15dbd1253662b80ab854cb3ba224a7a.txt     \b\b\b\b 72%\b\b\b\b\b  OK \n",
            "Extracting  label/train/IMG_20180725_122345_jpg.rf.7d49d8045cb84d612e84b1ea96e7fc46.txt     \b\b\b\b 72%\b\b\b\b\b  OK \n",
            "Extracting  label/train/IMG_20180725_122527_jpg.rf.d003139c0c5597cfec0d22c214b75b92.txt     \b\b\b\b 72%\b\b\b\b\b  OK \n",
            "Extracting  label/train/IMG_20180725_122605_jpg.rf.76362fd57bd48d24305fb6c4599a4ec8.txt     \b\b\b\b 72%\b\b\b\b\b  OK \n",
            "Extracting  label/train/IMG_20180726_122206_jpg.rf.25c63855e78961dfa5f1e3f1f1d0d07f.txt     \b\b\b\b 73%\b\b\b\b\b  OK \n",
            "Extracting  label/train/IMG_20180726_122215_jpg.rf.08f7a67a146f3f2bb50138324cc8965f.txt     \b\b\b\b 73%\b\b\b\b\b  OK \n",
            "Extracting  label/train/IMG_20180726_122238_jpg.rf.aeb0f3a5f9787879bb8edd8d723a5822.txt     \b\b\b\b 73%\b\b\b\b\b  OK \n",
            "Extracting  label/train/IMG_20180726_122306_jpg.rf.3c7a90de71888426efbf853f3235da93.txt     \b\b\b\b 73%\b\b\b\b\b  OK \n",
            "Extracting  label/train/IMG_20180726_122312_jpg.rf.f1f7f5b331e917a4de955e497a384b58.txt     \b\b\b\b 73%\b\b\b\b\b  OK \n",
            "Extracting  label/train/IMG_20180726_122332_jpg.rf.0729c9dcad40834fa70261ef3a9f2571.txt     \b\b\b\b 73%\b\b\b\b\b  OK \n",
            "Extracting  label/train/IMG_20180726_122342_jpg.rf.9264015506f95d48c170351662944147.txt     \b\b\b\b 73%\b\b\b\b\b  OK \n",
            "Extracting  label/train/IMG_20180726_122350_jpg.rf.17296d85f8d0a53094c97bf406523910.txt     \b\b\b\b 73%\b\b\b\b\b  OK \n",
            "Extracting  label/train/IMG_20180726_122400_jpg.rf.cf3c34eb2c7b87e9c25ff833624ea2b8.txt     \b\b\b\b 73%\b\b\b\b\b  OK \n",
            "Extracting  label/train/IMG_20180726_122542_jpg.rf.a170a2a0a3aae1f5907dbdab981d2063.txt     \b\b\b\b 73%\b\b\b\b\b  OK \n",
            "Extracting  label/train/IMG_20180726_122557_jpg.rf.9351ec2b0c93242f43b99f7369d56444.txt     \b\b\b\b 73%\b\b\b\b\b  OK \n",
            "Extracting  label/train/IMG_20180726_122619_jpg.rf.c62d0360b54d0e466677cba836e16b00.txt     \b\b\b\b 73%\b\b\b\b\b  OK \n",
            "Extracting  label/train/IMG_20180726_122638_jpg.rf.73192dc7d76d781509d6710f3d12b39c.txt     \b\b\b\b 73%\b\b\b\b\b  OK \n",
            "Extracting  label/train/IMG_20180726_122652_jpg.rf.5199e147b3a583a49bb35053da40b9c6.txt     \b\b\b\b 73%\b\b\b\b\b  OK \n",
            "Extracting  label/train/IMG_20180726_122732_jpg.rf.21499058cc03a81dd8af786bd2cabcfb.txt     \b\b\b\b 73%\b\b\b\b\b  OK \n",
            "Extracting  label/train/IMG_20180726_123013_jpg.rf.ca391f9e3df2eaad4f82c95e2d9f4ead.txt     \b\b\b\b 73%\b\b\b\b\b  OK \n",
            "Extracting  label/train/IMG_20180726_123154_jpg.rf.bd704201b5dad0c128a1eeb209d9fd24.txt     \b\b\b\b 73%\b\b\b\b\b  OK \n",
            "Extracting  label/train/IMG_20180726_123203_jpg.rf.02bc32c5dce3d288dd77cea99a6dde68.txt     \b\b\b\b 74%\b\b\b\b\b  OK \n",
            "Extracting  label/train/IMG_20180730_122522_jpg.rf.33b256d910747b62003301453978249c.txt     \b\b\b\b 74%\b\b\b\b\b  OK \n",
            "Extracting  label/train/IMG_20180805_082857_jpg.rf.27e448c626bcecfd4a3527f34b96e794.txt     \b\b\b\b 74%\b\b\b\b\b  OK \n",
            "Extracting  label/train/IMG_20180807_083115_jpg.rf.8f4351f07669ed49c800194e978f832e.txt     \b\b\b\b 74%\b\b\b\b\b  OK \n",
            "Extracting  label/train/IMG_20180810_085645_jpg.rf.8fca0381d3ad2d4a84482b2f711f3a73.txt     \b\b\b\b 74%\b\b\b\b\b  OK \n",
            "Extracting  label/train/IMG_20180810_090257_jpg.rf.dd8f954f26938c48c52793c951dbe83b.txt     \b\b\b\b 74%\b\b\b\b\b  OK \n",
            "Extracting  label/train/IMG_20180810_090309_jpg.rf.4ecbc77d8680ae651066f4fd04499335.txt     \b\b\b\b 74%\b\b\b\b\b  OK \n",
            "Extracting  label/train/IMG_20180810_090336_jpg.rf.e41df13c209ac059be36a8931c7feb0a.txt     \b\b\b\b 74%\b\b\b\b\b  OK \n",
            "Extracting  label/train/IMG_20180810_090521_jpg.rf.0bf083daa934c93c56586924ef2152c4.txt     \b\b\b\b 74%\b\b\b\b\b  OK \n",
            "Extracting  label/train/IMG_20180810_090555_jpg.rf.eaed8ee71390565d3d25044346b32419.txt     \b\b\b\b 74%\b\b\b\b\b  OK \n",
            "Extracting  label/train/IMG_20180810_090804_jpg.rf.91bf700f30091dcda8b5631f745b023f.txt     \b\b\b\b 74%\b\b\b\b\b  OK \n",
            "Extracting  label/train/IMG_20180810_091623_jpg.rf.87fa0001fa381e27b3e3519b5b2872e2.txt     \b\b\b\b 74%\b\b\b\b\b  OK \n",
            "Extracting  label/train/IMG_20180810_091707_jpg.rf.de8d16114e3ad9f8204c619f9ff15f4d.txt     \b\b\b\b 74%\b\b\b\b\b  OK \n",
            "Extracting  label/train/IMG_20180810_091808_jpg.rf.c3b2baf7087276fa0ce8005ac2e0c58d.txt     \b\b\b\b 74%\b\b\b\b\b  OK \n",
            "Extracting  label/train/IMG_20180810_091812_jpg.rf.3999a41a799049b21cac5c35d7c432d6.txt     \b\b\b\b 74%\b\b\b\b\b  OK \n",
            "Extracting  label/train/IMG_20180810_091819_jpg.rf.2ea6733f44f9a02e9534981ce3ad2bb9.txt     \b\b\b\b 74%\b\b\b\b\b  OK \n",
            "Extracting  label/train/IMG_20180810_092143_jpg.rf.62e3a430d7201b153d3f192064be8b4e.txt     \b\b\b\b 75%\b\b\b\b\b  OK \n",
            "Extracting  label/train/IMG_20180810_092151_jpg.rf.59b4ac5b7256d27c6b2d8ae71bdf8703.txt     \b\b\b\b 75%\b\b\b\b\b  OK \n",
            "Extracting  label/train/IMG_20180810_092204_jpg.rf.14bdcb0b4f5d3d5cd9b42178fd2836cf.txt     \b\b\b\b 75%\b\b\b\b\b  OK \n",
            "Extracting  label/train/IMG_20180810_092208_jpg.rf.e7a9be9d53114bc652aa03f2f282eae7.txt     \b\b\b\b 75%\b\b\b\b\b  OK \n",
            "Extracting  label/train/IMG_20180810_092223_jpg.rf.19289b01c3b1ab690cc4a9eb6f7e9ba2.txt     \b\b\b\b 75%\b\b\b\b\b  OK \n",
            "Extracting  label/train/IMG_20180810_092230_jpg.rf.d49d5ce492293fc9d9d8cc119b3b7ff3.txt     \b\b\b\b 75%\b\b\b\b\b  OK \n",
            "Extracting  label/train/IMG_20180810_092236_jpg.rf.1b513a92d27039d98cce61cceaa61648.txt     \b\b\b\b 75%\b\b\b\b\b  OK \n",
            "Extracting  label/train/IMG_20180810_092254_jpg.rf.19f3411b16137f486ec220e1db7f8fb8.txt     \b\b\b\b 75%\b\b\b\b\b  OK \n",
            "Extracting  label/train/IMG_20180810_092325_jpg.rf.6aa4d5103f0bf7a4ca5e4a1c8fe4d724.txt     \b\b\b\b 75%\b\b\b\b\b  OK \n",
            "Extracting  label/train/IMG_20180810_092723_jpg.rf.903dcc22bca21b7c10e49ccb6146cecd.txt     \b\b\b\b 75%\b\b\b\b\b  OK \n",
            "Extracting  label/train/IMG_20180810_092744_jpg.rf.1962a6f56a67d84b1e91be995bbb4681.txt     \b\b\b\b 75%\b\b\b\b\b  OK \n",
            "Extracting  label/train/IMG_20180810_092850_jpg.rf.87d97a5c2f76b2100a022d71ec9fd1f3.txt     \b\b\b\b 75%\b\b\b\b\b  OK \n",
            "Extracting  label/train/IMG_20180810_092900_jpg.rf.e65ca8e52c12480135de6bdd15a07878.txt     \b\b\b\b 75%\b\b\b\b\b  OK \n",
            "Extracting  label/train/IMG_20180810_092905_jpg.rf.902b69a15b20cd89f27f3cf540d05f6e.txt     \b\b\b\b 75%\b\b\b\b\b  OK \n",
            "Extracting  label/train/IMG_20180810_092948_jpg.rf.b47786ce5a88246067cb4c37c916da44.txt     \b\b\b\b 75%\b\b\b\b\b  OK \n",
            "Extracting  label/train/IMG_20180810_092957_jpg.rf.59dbb118a171a4855da411581b86376e.txt     \b\b\b\b 75%\b\b\b\b\b  OK \n",
            "Extracting  label/train/IMG_20180810_093312_jpg.rf.647260563332d6ed523423945e0a27fb.txt     \b\b\b\b 75%\b\b\b\b\b  OK \n",
            "Extracting  label/train/IMG_20180810_093330_jpg.rf.d21f4271b8001a90c7b1a96b0472a257.txt     \b\b\b\b 76%\b\b\b\b\b  OK \n",
            "Extracting  label/train/IMG_20180811_083436_jpg.rf.f640d2cada86c9668b9c41424b440fdb.txt     \b\b\b\b 76%\b\b\b\b\b  OK \n",
            "Extracting  label/train/IMG_20180811_083459_jpg.rf.95147280dd9d7345405c2d3746990f82.txt     \b\b\b\b 76%\b\b\b\b\b  OK \n",
            "Extracting  label/train/IMG_20180811_083513_jpg.rf.02016dd16bc97e0c29c967d504aaa784.txt     \b\b\b\b 76%\b\b\b\b\b  OK \n",
            "Extracting  label/train/IMG_20180811_083535_jpg.rf.7aa91ace1b68ff9bbc2d8166a11069cc.txt     \b\b\b\b 76%\b\b\b\b\b  OK \n",
            "Extracting  label/train/IMG_20180811_083542_jpg.rf.fd1d7e4e6d5eb22fe9a238248feeb0c1.txt     \b\b\b\b 76%\b\b\b\b\b  OK \n",
            "Extracting  label/train/IMG_20180811_083552_jpg.rf.cf1221be2309b3ba124edf74cbacf111.txt     \b\b\b\b 76%\b\b\b\b\b  OK \n",
            "Extracting  label/train/IMG_20180811_083610_jpg.rf.c151c0cfa4c86e88f31edb1401ad6182.txt     \b\b\b\b 76%\b\b\b\b\b  OK \n",
            "Extracting  label/train/IMG_20180811_083617_jpg.rf.8a000583f1cd4103ccb63b534cfe1643.txt     \b\b\b\b 76%\b\b\b\b\b  OK \n",
            "Extracting  label/train/IMG_20180811_083633_jpg.rf.0751c467b555fdeb969b312ac84bfac7.txt     \b\b\b\b 76%\b\b\b\b\b  OK \n",
            "Extracting  label/train/IMG_20180811_083713_jpg.rf.ee52fdd2104cd7eb1e02538bb719d969.txt     \b\b\b\b 76%\b\b\b\b\b  OK \n",
            "Extracting  label/train/IMG_20180811_083742_jpg.rf.4eec56688fd9f5466dee1feae23dd627.txt     \b\b\b\b 76%\b\b\b\b\b  OK \n",
            "Extracting  label/train/IMG_20180811_083816_jpg.rf.9f027c0abb0200bc90a2ae7ce6de7cea.txt     \b\b\b\b 76%\b\b\b\b\b  OK \n",
            "Extracting  label/train/IMG_20180811_083828_jpg.rf.a9ebb43a75caafc402753b72f9cb6dbd.txt     \b\b\b\b 76%\b\b\b\b\b  OK \n",
            "Extracting  label/train/IMG_20180811_083847_jpg.rf.b2f74158eec582a898bd733f406ab3e2.txt     \b\b\b\b 76%\b\b\b\b\b  OK \n",
            "Extracting  label/train/IMG_20180811_083849_jpg.rf.35d31b6b30884dc7e4c7fb69033a1f96.txt     \b\b\b\b 76%\b\b\b\b\b  OK \n",
            "Extracting  label/train/IMG_20180811_083912_jpg.rf.229ed196ae17e4297cfde076889f2c4e.txt     \b\b\b\b 77%\b\b\b\b\b  OK \n",
            "Extracting  label/train/IMG_20180811_083925_jpg.rf.8d1c3a8babe3bae289ae64f1d756bd0b.txt     \b\b\b\b 77%\b\b\b\b\b  OK \n",
            "Extracting  label/train/IMG_20180811_083939_jpg.rf.c8ec68aa8e325832b6fbcfe731ed2ee8.txt     \b\b\b\b 77%\b\b\b\b\b  OK \n",
            "Extracting  label/train/IMG_20180811_083942_jpg.rf.0a58671d71d4ca12b59fbd6b5c67e3ba.txt     \b\b\b\b 77%\b\b\b\b\b  OK \n",
            "Extracting  label/train/IMG_20180811_083951_jpg.rf.258562e2137575dbd5aa5aa52fbdfd96.txt     \b\b\b\b 77%\b\b\b\b\b  OK \n",
            "Extracting  label/train/IMG_20180811_083958_jpg.rf.c685505c8cd6d23eba28c791b5256bab.txt     \b\b\b\b 77%\b\b\b\b\b  OK \n",
            "Extracting  label/train/IMG_20180811_084006_jpg.rf.ed279ed4fbd67be299b932c37b9e760a.txt     \b\b\b\b 77%\b\b\b\b\b  OK \n",
            "Extracting  label/train/IMG_20180811_084012_jpg.rf.b269fa4970ae048fd4724f3586101d83.txt     \b\b\b\b 77%\b\b\b\b\b  OK \n",
            "Extracting  label/train/IMG_20180811_084101_jpg.rf.25b9cf4816fdf27130c79ad83f4c9855.txt     \b\b\b\b 77%\b\b\b\b\b  OK \n",
            "Extracting  label/train/IMG_20180811_084135_jpg.rf.5f7beb6afb41c1c1a7da92fce4004624.txt     \b\b\b\b 77%\b\b\b\b\b  OK \n",
            "Extracting  label/train/IMG_20180811_084200_jpg.rf.2ac5e0bc4932a6aa526c17289de60d6d.txt     \b\b\b\b 77%\b\b\b\b\b  OK \n",
            "Extracting  label/train/IMG_20180811_084218_jpg.rf.d1adcdeeb67d33ad123568c517a8d1fe.txt     \b\b\b\b 77%\b\b\b\b\b  OK \n",
            "Extracting  label/train/IMG_20180811_084236_jpg.rf.0b102101ee78cfc660855858118a199e.txt     \b\b\b\b 77%\b\b\b\b\b  OK \n",
            "Extracting  label/train/IMG_20180811_084250_jpg.rf.020fa34ab2c8539a90b3be86f74d7633.txt     \b\b\b\b 77%\b\b\b\b\b  OK \n",
            "Extracting  label/train/IMG_20180811_084321_jpg.rf.04d38993974014cc7d4091a9de8b1826.txt     \b\b\b\b 77%\b\b\b\b\b  OK \n",
            "Extracting  label/train/IMG_20180811_084341_jpg.rf.b182e3cf0adee59000eada3c98c42a36.txt     \b\b\b\b 77%\b\b\b\b\b  OK \n",
            "Extracting  label/train/IMG_20180811_084419_jpg.rf.283347f8596f3b7a97ab5df52a53ac7f.txt     \b\b\b\b 77%\b\b\b\b\b  OK \n",
            "Creating    label/val                                                 OK\n",
            "Extracting  label/val/img-104_jpg.rf.687b8858a9a79e92ea4b11024eafee62.txt     \b\b\b\b 78%\b\b\b\b\b  OK \n",
            "Extracting  label/val/img-106_jpg.rf.4e4d5cc9b01160ccfb18c911b34f3f98.txt     \b\b\b\b 78%\b\b\b\b\b  OK \n",
            "Extracting  label/val/img-112_jpg.rf.f2165fc7173878a7c1ad397c7ed595d9.txt     \b\b\b\b 78%\b\b\b\b\b  OK \n",
            "Extracting  label/val/img-116_jpg.rf.09abd4f4dd5161e4a14cdd87d23b2cab.txt     \b\b\b\b 78%\b\b\b\b\b  OK \n",
            "Extracting  label/val/img-118_jpg.rf.75b7bf6e55f6d7b25f190d74200033c8.txt     \b\b\b\b 78%\b\b\b\b\b  OK \n",
            "Extracting  label/val/img-120_jpg.rf.bc6b90a7439c1ed48339336ca52eda8c.txt     \b\b\b\b 78%\b\b\b\b\b  OK \n",
            "Extracting  label/val/img-122_jpg.rf.90260f1c979ae127d37bb26cf5d1b3cf.txt     \b\b\b\b 78%\b\b\b\b\b  OK \n",
            "Extracting  label/val/img-125_jpg.rf.31ca4f64f2a4205e38c28e30b21df509.txt     \b\b\b\b 78%\b\b\b\b\b  OK \n",
            "Extracting  label/val/img-130_jpg.rf.b82150559b44fc5ce3e062cad83338ca.txt     \b\b\b\b 78%\b\b\b\b\b  OK \n",
            "Extracting  label/val/img-132_jpg.rf.b50598eb1f2ec30f7fa20ec420ef15a9.txt     \b\b\b\b 78%\b\b\b\b\b  OK \n",
            "Extracting  label/val/img-133_jpg.rf.db229e7b5cac39dc8193af4ed4e0832d.txt     \b\b\b\b 78%\b\b\b\b\b  OK \n",
            "Extracting  label/val/img-140_jpg.rf.be70ab85a693043000968d9de23898df.txt     \b\b\b\b 78%\b\b\b\b\b  OK \n",
            "Extracting  label/val/img-145_jpg.rf.7cdce5ed92657f35fa1903635fa81c20.txt     \b\b\b\b 78%\b\b\b\b\b  OK \n",
            "Extracting  label/val/img-147_jpg.rf.fddcc7b6bec7550eb93fc7f4969e832e.txt     \b\b\b\b 78%\b\b\b\b\b  OK \n",
            "Extracting  label/val/img-14_jpg.rf.25bbae75a3871870c424e5fbc8e29945.txt     \b\b\b\b 78%\b\b\b\b\b  OK \n",
            "Extracting  label/val/img-153_jpg.rf.ba410ca055afdae3cb292f1cdede8c08.txt     \b\b\b\b 78%\b\b\b\b\b  OK \n",
            "Extracting  label/val/img-154_jpg.rf.fbdaac9fa48b69a15abd7475dad671da.txt     \b\b\b\b 78%\b\b\b\b\b  OK \n",
            "Extracting  label/val/img-166_jpg.rf.050636db204eec127218fd258a822c29.txt     \b\b\b\b 78%\b\b\b\b\b  OK \n",
            "Extracting  label/val/img-171_jpg.rf.b6db124be3dd5125e24e64d34ac89230.txt     \b\b\b\b 79%\b\b\b\b\b  OK \n",
            "Extracting  label/val/img-173_jpg.rf.d296bacc1e037ffd2add63f59488c735.txt     \b\b\b\b 79%\b\b\b\b\b  OK \n",
            "Extracting  label/val/img-184_jpg.rf.3cf4a6d99f9effd3cb75302d2bfe406e.txt     \b\b\b\b 79%\b\b\b\b\b  OK \n",
            "Extracting  label/val/img-190_jpg.rf.d2ae8264a842c03a2b1e58ebd5cabd74.txt     \b\b\b\b 79%\b\b\b\b\b  OK \n",
            "Extracting  label/val/img-200_jpg.rf.86169a83685199df71ea2bb82d844aa4.txt     \b\b\b\b 79%\b\b\b\b\b  OK \n",
            "Extracting  label/val/img-201_jpg.rf.5015efb01ff6fee25489ad442533a6b2.txt     \b\b\b\b 79%\b\b\b\b\b  OK \n",
            "Extracting  label/val/img-204_jpg.rf.9f0bd6fce321437c0ae1b972d37e491a.txt     \b\b\b\b 79%\b\b\b\b\b  OK \n",
            "Extracting  label/val/img-206_jpg.rf.989ffb693d448d8d80a62eb38b6f7106.txt     \b\b\b\b 79%\b\b\b\b\b  OK \n",
            "Extracting  label/val/img-20_jpg.rf.fe0915e38abca9ba6523c4a4fd8dc779.txt     \b\b\b\b 79%\b\b\b\b\b  OK \n",
            "Extracting  label/val/img-210_jpg.rf.6c7b0d13bdaf43eebd361179f11a3074.txt     \b\b\b\b 79%\b\b\b\b\b  OK \n",
            "Extracting  label/val/img-219_jpg.rf.43b460b042a123d5fbe0da630653b577.txt     \b\b\b\b 79%\b\b\b\b\b  OK \n",
            "Extracting  label/val/img-225_jpg.rf.571b61e05b958728376648a735ceaf57.txt     \b\b\b\b 79%\b\b\b\b\b  OK \n",
            "Extracting  label/val/img-22_jpg.rf.3bbe99353a39e5a103b4b081e006fcdd.txt     \b\b\b\b 79%\b\b\b\b\b  OK \n",
            "Extracting  label/val/img-239_jpg.rf.5c3973ade6d0c6d9cf264b60b2d6061d.txt     \b\b\b\b 79%\b\b\b\b\b  OK \n",
            "Extracting  label/val/img-243_jpg.rf.7157d31a68925d226ba29d6b1b9b1d75.txt     \b\b\b\b 79%\b\b\b\b\b  OK \n",
            "Extracting  label/val/img-244_jpg.rf.c05e5207f5b9294716e8ff5f10ba6a38.txt     \b\b\b\b 79%\b\b\b\b\b  OK \n",
            "Extracting  label/val/img-24_jpg.rf.42018f151db0049eda0c504eabced76b.txt     \b\b\b\b 80%\b\b\b\b\b  OK \n",
            "Extracting  label/val/img-254_jpg.rf.91854d4eadf02cc3bee6f1b23aeea57a.txt     \b\b\b\b 80%\b\b\b\b\b  OK \n",
            "Extracting  label/val/img-25_jpg.rf.06ba36f4b3e07cd7684b84722d00770a.txt     \b\b\b\b 80%\b\b\b\b\b  OK \n",
            "Extracting  label/val/img-271_jpg.rf.33fdc7d3a0d601e35462a9580b422bfe.txt     \b\b\b\b 80%\b\b\b\b\b  OK \n",
            "Extracting  label/val/img-27_jpg.rf.2e01f53922bf03d0715ddcf0ac3905ca.txt     \b\b\b\b 80%\b\b\b\b\b  OK \n",
            "Extracting  label/val/img-286_jpg.rf.b2d4b7a7abe91096baf42363567af589.txt     \b\b\b\b 80%\b\b\b\b\b  OK \n",
            "Extracting  label/val/img-28_jpg.rf.e2b0d01b73bfb3629afdab7dfa06198a.txt     \b\b\b\b 80%\b\b\b\b\b  OK \n",
            "Extracting  label/val/img-29_jpg.rf.755ed0156a7a863f9f304f3bc1e192ad.txt     \b\b\b\b 80%\b\b\b\b\b  OK \n",
            "Extracting  label/val/img-303_jpg.rf.4028fa8598017851778a5944165a953f.txt     \b\b\b\b 80%\b\b\b\b\b  OK \n",
            "Extracting  label/val/img-311_jpg.rf.8454a25910a149341a92ab116f831936.txt     \b\b\b\b 80%\b\b\b\b\b  OK \n",
            "Extracting  label/val/img-312_jpg.rf.0a6234042edc7a46cfb556423895c286.txt     \b\b\b\b 80%\b\b\b\b\b  OK \n",
            "Extracting  label/val/img-323_jpg.rf.33071b727a5a0048408cc83a2bf550a8.txt     \b\b\b\b 80%\b\b\b\b\b  OK \n",
            "Extracting  label/val/img-32_jpg.rf.3889f9f6223819080bb08c1149fb64d1.txt     \b\b\b\b 80%\b\b\b\b\b  OK \n",
            "Extracting  label/val/img-335_jpg.rf.2784b7f52fc84c400b8ede76eef98215.txt     \b\b\b\b 80%\b\b\b\b\b  OK \n",
            "Extracting  label/val/img-338_jpg.rf.74bf9432194dc28aad8176e7be66ca6f.txt     \b\b\b\b 80%\b\b\b\b\b  OK \n",
            "Extracting  label/val/img-33_jpg.rf.7132ce71f05e8f5ea94737f069801a58.txt     \b\b\b\b 80%\b\b\b\b\b  OK \n",
            "Extracting  label/val/img-347_jpg.rf.d75495d14817b150281a950981256e4e.txt     \b\b\b\b 80%\b\b\b\b\b  OK \n",
            "Extracting  label/val/img-34_jpg.rf.d9e0079bff5b554f1d9625689dd43075.txt     \b\b\b\b 81%\b\b\b\b\b  OK \n",
            "Extracting  label/val/img-353_jpg.rf.07d81ddfa3209fec50df7f1f595468d8.txt     \b\b\b\b 81%\b\b\b\b\b  OK \n",
            "Extracting  label/val/img-35_jpg.rf.68244fd62825f1f4d383ba257c1186b2.txt     \b\b\b\b 81%\b\b\b\b\b  OK \n",
            "Extracting  label/val/img-363_jpg.rf.c15cba9de3e14fd6aa8724bcf942b27d.txt     \b\b\b\b 81%\b\b\b\b\b  OK \n",
            "Extracting  label/val/img-368_jpg.rf.c0382efd9dad7c161542519561713a44.txt     \b\b\b\b 81%\b\b\b\b\b  OK \n",
            "Extracting  label/val/img-369_jpg.rf.14cb906802b8d8bda62d228f6d85cced.txt     \b\b\b\b 81%\b\b\b\b\b  OK \n",
            "Extracting  label/val/img-373_jpg.rf.e9b2fc295556d6755edf71ca30fa2f42.txt     \b\b\b\b 81%\b\b\b\b\b  OK \n",
            "Extracting  label/val/img-378_jpg.rf.7522f7e3aa83affc214e9e0a459cb446.txt     \b\b\b\b 81%\b\b\b\b\b  OK \n",
            "Extracting  label/val/img-37_jpg.rf.ce30d36ad9a13aa3599aeb57fcf6718a.txt     \b\b\b\b 81%\b\b\b\b\b  OK \n",
            "Extracting  label/val/img-382_jpg.rf.f150d3d57a37b68447bb670ba15cbd8f.txt     \b\b\b\b 81%\b\b\b\b\b  OK \n",
            "Extracting  label/val/img-386_jpg.rf.507aab7f7a725bbf8b21d6f55890b1cc.txt     \b\b\b\b 81%\b\b\b\b\b  OK \n",
            "Extracting  label/val/img-387_jpg.rf.fb14c6f21a50ad4a36957792a4c96792.txt     \b\b\b\b 81%\b\b\b\b\b  OK \n",
            "Extracting  label/val/img-399_jpg.rf.b905fce357b9f6bb39873b5f7559f4a0.txt     \b\b\b\b 81%\b\b\b\b\b  OK \n",
            "Extracting  label/val/img-400_jpg.rf.17fb956f0b6a7a41d821e45a832c6a71.txt     \b\b\b\b 81%\b\b\b\b\b  OK \n",
            "Extracting  label/val/img-402_jpg.rf.30440e31580690259343a9059a09695e.txt     \b\b\b\b 81%\b\b\b\b\b  OK \n",
            "Extracting  label/val/img-411_jpg.rf.2ab24c809788d2adfb2a3425aee22112.txt     \b\b\b\b 82%\b\b\b\b\b  OK \n",
            "Extracting  label/val/img-417_jpg.rf.2da468a97eb637dd8570d27094aa457b.txt     \b\b\b\b 82%\b\b\b\b\b  OK \n",
            "Extracting  label/val/img-41_jpg.rf.576ba21bc1fe67687dec58b7396ee09a.txt     \b\b\b\b 82%\b\b\b\b\b  OK \n",
            "Extracting  label/val/img-421_jpg.rf.9d0d1ef08ccf6432a5f506fb2ee6290c.txt     \b\b\b\b 82%\b\b\b\b\b  OK \n",
            "Extracting  label/val/img-423_jpg.rf.582474f0d68735adbfd7a496b4fbf159.txt     \b\b\b\b 82%\b\b\b\b\b  OK \n",
            "Extracting  label/val/img-432_jpg.rf.27188558d4a1d7b5c2075d64faf49977.txt     \b\b\b\b 82%\b\b\b\b\b  OK \n",
            "Extracting  label/val/img-438_jpg.rf.612382cb04813e29ee45d028fcbc6bd9.txt     \b\b\b\b 82%\b\b\b\b\b  OK \n",
            "Extracting  label/val/img-443_jpg.rf.7922db00bc35543191b2b6f3a5e307b1.txt     \b\b\b\b 82%\b\b\b\b\b  OK \n",
            "Extracting  label/val/img-454_jpg.rf.1bcae01cf1ebbca69046e65d35c69408.txt     \b\b\b\b 82%\b\b\b\b\b  OK \n",
            "Extracting  label/val/img-457_jpg.rf.ec4d7fc537d7170691c3c677bddc1ff4.txt     \b\b\b\b 82%\b\b\b\b\b  OK \n",
            "Extracting  label/val/img-468_jpg.rf.2b4c6e14c8c1bb5f760bb238892e3929.txt     \b\b\b\b 82%\b\b\b\b\b  OK \n",
            "Extracting  label/val/img-469_jpg.rf.a0f424db1106cf40f7cbbf56698ab5ba.txt     \b\b\b\b 82%\b\b\b\b\b  OK \n",
            "Extracting  label/val/img-46_jpg.rf.b479d9e82ab3f93117826289011004a9.txt     \b\b\b\b 82%\b\b\b\b\b  OK \n",
            "Extracting  label/val/img-474_jpg.rf.087e72d05f12bbc01d250db1e2e8343b.txt     \b\b\b\b 82%\b\b\b\b\b  OK \n",
            "Extracting  label/val/img-485_jpg.rf.7b6a34e38d89caf1f8d97f24298e67b2.txt     \b\b\b\b 83%\b\b\b\b\b  OK \n",
            "Extracting  label/val/img-490_jpg.rf.32377cf7b8ee68f6b7faf955aa30ab7b.txt     \b\b\b\b 83%\b\b\b\b\b  OK \n",
            "Extracting  label/val/img-491_jpg.rf.b6979774778537b494872c0a743070d6.txt     \b\b\b\b 83%\b\b\b\b\b  OK \n",
            "Extracting  label/val/img-492_jpg.rf.9e7685d521951604f29fe48175c0040e.txt     \b\b\b\b 83%\b\b\b\b\b  OK \n",
            "Extracting  label/val/img-493_jpg.rf.bb58a09287078393b132cd2b68fe6f29.txt     \b\b\b\b 83%\b\b\b\b\b  OK \n",
            "Extracting  label/val/img-495_jpg.rf.3f61bcb802633686f9ce58fe78841711.txt     \b\b\b\b 83%\b\b\b\b\b  OK \n",
            "Extracting  label/val/img-497_jpg.rf.2c64d54e6604c392b9fc468079a62835.txt     \b\b\b\b 83%\b\b\b\b\b  OK \n",
            "Extracting  label/val/img-499_jpg.rf.8cbc7c8dba292bbadcc34ce63112514c.txt     \b\b\b\b 83%\b\b\b\b\b  OK \n",
            "Extracting  label/val/img-50_jpg.rf.d6c31e4e1a8a7cf2821589d31caca674.txt     \b\b\b\b 83%\b\b\b\b\b  OK \n",
            "Extracting  label/val/img-511_jpg.rf.94ceff8a653e0f0a77c23165b0c593f9.txt     \b\b\b\b 83%\b\b\b\b\b  OK \n",
            "Extracting  label/val/img-516_jpg.rf.d9bff40a3244096755225e1efa7dfeba.txt     \b\b\b\b 83%\b\b\b\b\b  OK \n",
            "Extracting  label/val/img-522_jpg.rf.19bb1d8b2dbde293dc2db61b5beb29db.txt     \b\b\b\b 83%\b\b\b\b\b  OK \n",
            "Extracting  label/val/img-528_jpg.rf.c63149b7ef386bf6460eaa2554fec266.txt     \b\b\b\b 83%\b\b\b\b\b  OK \n",
            "Extracting  label/val/img-529_jpg.rf.395bedb53c0403cfb0f83578d822b6b8.txt     \b\b\b\b 83%\b\b\b\b\b  OK \n",
            "Extracting  label/val/img-535_jpg.rf.669fb50bbde250434e606615f9a7a8fa.txt     \b\b\b\b 83%\b\b\b\b\b  OK \n",
            "Extracting  label/val/img-540_jpg.rf.ae97ce521cfe27b4be4048ce3639006f.txt     \b\b\b\b 84%\b\b\b\b\b  OK \n",
            "Extracting  label/val/img-541_jpg.rf.a93d4341d13182b1ba189ce4caac5b95.txt     \b\b\b\b 84%\b\b\b\b\b  OK \n",
            "Extracting  label/val/img-542_jpg.rf.77644450590746c96376f073e2160d29.txt     \b\b\b\b 84%\b\b\b\b\b  OK \n",
            "Extracting  label/val/img-543_jpg.rf.38f8a9ae642555e814236470bd45ca06.txt     \b\b\b\b 84%\b\b\b\b\b  OK \n",
            "Extracting  label/val/img-544_jpg.rf.1696075b72562916060477389b97635d.txt     \b\b\b\b 84%\b\b\b\b\b  OK \n",
            "Extracting  label/val/img-550_jpg.rf.73963e09241885e0b95e88ea797011c9.txt     \b\b\b\b 84%\b\b\b\b\b  OK \n",
            "Extracting  label/val/img-556_jpg.rf.1c89285dfe3675fd0e4a7958c48a7a87.txt     \b\b\b\b 84%\b\b\b\b\b  OK \n",
            "Extracting  label/val/img-558_jpg.rf.8ea5bd335e315b5c35f3f933216a2fe8.txt     \b\b\b\b 84%\b\b\b\b\b  OK \n",
            "Extracting  label/val/img-567_jpg.rf.7fcd2254ecf1d37fbfd8d8d4c83fcc90.txt     \b\b\b\b 84%\b\b\b\b\b  OK \n",
            "Extracting  label/val/img-586_jpg.rf.c599e62337598393ee94ecae83a5328a.txt     \b\b\b\b 84%\b\b\b\b\b  OK \n",
            "Extracting  label/val/img-591_jpg.rf.fa268af30a7118608f2149617dd18a96.txt     \b\b\b\b 84%\b\b\b\b\b  OK \n",
            "Extracting  label/val/img-596_jpg.rf.9b1ad14e1432c973fe3224c2ef8794c3.txt     \b\b\b\b 84%\b\b\b\b\b  OK \n",
            "Extracting  label/val/img-597_jpg.rf.4ed3cb021048833cff70c9a21abfece2.txt     \b\b\b\b 84%\b\b\b\b\b  OK \n",
            "Extracting  label/val/img-598_jpg.rf.ba92e243f003cf5d3b7951504dc21c8e.txt     \b\b\b\b 84%\b\b\b\b\b  OK \n",
            "Extracting  label/val/img-601_jpg.rf.b388f8e7847e536a8d0b4bebf76f2f58.txt     \b\b\b\b 84%\b\b\b\b\b  OK \n",
            "Extracting  label/val/img-603_jpg.rf.e1f5bc76f3b1f37d4436652525cd776f.txt     \b\b\b\b 84%\b\b\b\b\b  OK \n",
            "Extracting  label/val/img-604_jpg.rf.becbd4b220417ce4d19186e23c348c41.txt     \b\b\b\b 85%\b\b\b\b\b  OK \n",
            "Extracting  label/val/img-60_jpg.rf.ab6e2152eae420b9d6ed72067c2d2de4.txt     \b\b\b\b 85%\b\b\b\b\b  OK \n",
            "Extracting  label/val/img-611_jpg.rf.b81a7dd560243d748bf81779d88578db.txt     \b\b\b\b 85%\b\b\b\b\b  OK \n",
            "Extracting  label/val/img-615_jpg.rf.c957d1dcba988649c6eabf98bae75a26.txt     \b\b\b\b 85%\b\b\b\b\b  OK \n",
            "Extracting  label/val/img-629_jpg.rf.fa98ba6e30797471aef7a9b74612cae4.txt     \b\b\b\b 85%\b\b\b\b\b  OK \n",
            "Extracting  label/val/img-635_jpg.rf.d927a354594cf6149884c5be3e1823b4.txt     \b\b\b\b 85%\b\b\b\b\b  OK \n",
            "Extracting  label/val/img-643_jpg.rf.1a2296e4ddd593550e1d0d142a1a5ea1.txt     \b\b\b\b 85%\b\b\b\b\b  OK \n",
            "Extracting  label/val/img-648_jpg.rf.d2a3c4bc4ed7c6677d3c2e333f800fdc.txt     \b\b\b\b 85%\b\b\b\b\b  OK \n",
            "Extracting  label/val/img-650_jpg.rf.e88805e59a7f1cc913add78a3fbc5021.txt     \b\b\b\b 85%\b\b\b\b\b  OK \n",
            "Extracting  label/val/img-651_jpg.rf.9d23181946069eea42305c4169bc983a.txt     \b\b\b\b 85%\b\b\b\b\b  OK \n",
            "Extracting  label/val/img-656_jpg.rf.493ebfd54572f357930a938084268c89.txt     \b\b\b\b 85%\b\b\b\b\b  OK \n",
            "Extracting  label/val/img-658_jpg.rf.285e10fe9cbc54d706df8bcc035af5b5.txt     \b\b\b\b 85%\b\b\b\b\b  OK \n",
            "Extracting  label/val/img-67_jpg.rf.d56a42fb8a3d344cca532389685a17d3.txt     \b\b\b\b 85%\b\b\b\b\b  OK \n",
            "Extracting  label/val/img-69_jpg.rf.5f71daebea71c55717d8ce7f923ba9b6.txt     \b\b\b\b 85%\b\b\b\b\b  OK \n",
            "Extracting  label/val/img-77_jpg.rf.34415fbad0c24da0e8f26f852895571b.txt     \b\b\b\b 85%\b\b\b\b\b  OK \n",
            "Extracting  label/val/img-7_jpg.rf.9eb7df0def00c9b67f311458e677ea64.txt     \b\b\b\b 86%\b\b\b\b\b  OK \n",
            "Extracting  label/val/img-89_jpg.rf.4cc9eb15fe4de48faa685770d8299408.txt     \b\b\b\b 86%\b\b\b\b\b  OK \n",
            "Extracting  label/val/img-8_jpg.rf.1476b59188eb2734b6729af69f5cb4dc.txt     \b\b\b\b 86%\b\b\b\b\b  OK \n",
            "Extracting  label/val/img-91_jpg.rf.1eba3ec5933f74ea41d434550d5cb3ca.txt     \b\b\b\b 86%\b\b\b\b\b  OK \n",
            "Extracting  label/val/img-92_jpg.rf.84aa5ec68c57d302a51b8b0938e4e1c7.txt     \b\b\b\b 86%\b\b\b\b\b  OK \n",
            "Extracting  label/val/img-93_jpg.rf.7dc83bef4593a070f4cea15ebec8a527.txt     \b\b\b\b 86%\b\b\b\b\b  OK \n",
            "Extracting  label/val/img-94_jpg.rf.26ce6c0878886e2b49b0191cf4f952bb.txt     \b\b\b\b 86%\b\b\b\b\b  OK \n",
            "Extracting  label/val/IMG_0028_JPG_jpg.rf.dfd268909f3d8da40aacda9be808aefa.txt     \b\b\b\b 86%\b\b\b\b\b  OK \n",
            "Extracting  label/val/IMG_0057_JPG_jpg.rf.deb60b3ee725fa1ace23e45ded99c845.txt     \b\b\b\b 86%\b\b\b\b\b  OK \n",
            "Extracting  label/val/IMG_0059_JPG_jpg.rf.e2f440d0ee6928076f9adf6a5e0a6cae.txt     \b\b\b\b 86%\b\b\b\b\b  OK \n",
            "Extracting  label/val/IMG_0070_JPG_jpg.rf.65a1fabcf1cd29d6342eaefef1f6b8d4.txt     \b\b\b\b 86%\b\b\b\b\b  OK \n",
            "Extracting  label/val/IMG_0129_JPG_jpg.rf.ec0f7fbd40f2c3e5523289e85283da3c.txt     \b\b\b\b 86%\b\b\b\b\b  OK \n",
            "Extracting  label/val/IMG_0165_JPG_jpg.rf.68a167fbcdb0e68231491b08cf2300b1.txt     \b\b\b\b 86%\b\b\b\b\b  OK \n",
            "Extracting  label/val/IMG_0171_JPG_jpg.rf.e5b94c91ed4b3e5446505a3ba615fd34.txt     \b\b\b\b 86%\b\b\b\b\b  OK \n",
            "Extracting  label/val/IMG_0216_JPG_jpg.rf.56b998abcd4085804d8047a5c8056e0f.txt     \b\b\b\b 86%\b\b\b\b\b  OK \n",
            "Extracting  label/val/IMG_0226_JPG_jpg.rf.7a33fe0e43bfabf7b6eb69ecc00d5636.txt     \b\b\b\b 87%\b\b\b\b\b  OK \n",
            "Extracting  label/val/IMG_0233_JPG_jpg.rf.30ae738f18e9c9a31406d94631d54d15.txt     \b\b\b\b 87%\b\b\b\b\b  OK \n",
            "Extracting  label/val/IMG_1232_jpg.rf.229a9662dbdef5d314965f9f739707ac.txt     \b\b\b\b 87%\b\b\b\b\b  OK \n",
            "Extracting  label/val/IMG_1234_jpg.rf.fb1b3dbea54e0926c02976ec0ee7ad6c.txt     \b\b\b\b 87%\b\b\b\b\b  OK \n",
            "Extracting  label/val/IMG_1235_jpg.rf.a8226dee2015da30d476b32f052e898f.txt     \b\b\b\b 87%\b\b\b\b\b  OK \n",
            "Extracting  label/val/IMG_1236_jpg.rf.573b9073ed9fecbede86e523c9553b89.txt     \b\b\b\b 87%\b\b\b\b\b  OK \n",
            "Extracting  label/val/IMG_1244_jpg.rf.5c39a4aac42c093a542af7011a953afa.txt     \b\b\b\b 87%\b\b\b\b\b  OK \n",
            "Extracting  label/val/IMG_1289_jpg.rf.19b072393d79a0d46f16e05ac0778f6c.txt     \b\b\b\b 87%\b\b\b\b\b  OK \n",
            "Extracting  label/val/IMG_1295_jpg.rf.06abe62cde6d5698eb18bf03f86fd795.txt     \b\b\b\b 87%\b\b\b\b\b  OK \n",
            "Extracting  label/val/IMG_1297_jpg.rf.eb1fae4ae17f30f6ead121e116fbdc49.txt     \b\b\b\b 87%\b\b\b\b\b  OK \n",
            "Extracting  label/val/IMG_1300_jpg.rf.2f93637fac586b22ccc7af5df3e956b6.txt     \b\b\b\b 87%\b\b\b\b\b  OK \n",
            "Extracting  label/val/IMG_1302_jpg.rf.806457a5a48c41c7e283b0fe9a500efb.txt     \b\b\b\b 87%\b\b\b\b\b  OK \n",
            "Extracting  label/val/IMG_1309_jpg.rf.a6818dccda716134ac4be47c9a9ce05b.txt     \b\b\b\b 87%\b\b\b\b\b  OK \n",
            "Extracting  label/val/IMG_1310_jpg.rf.51b186eaf50ded27444e29015d520ec2.txt     \b\b\b\b 87%\b\b\b\b\b  OK \n",
            "Extracting  label/val/IMG_1313_jpg.rf.83a4f54e489bdb4bc1f28fc3022a927c.txt     \b\b\b\b 87%\b\b\b\b\b  OK \n",
            "Extracting  label/val/IMG_20100101_021938_jpg.rf.bf024a5ecd8dda571b3e66b4ab904d70.txt     \b\b\b\b 88%\b\b\b\b\b  OK \n",
            "Extracting  label/val/IMG_20100101_022327_jpg.rf.d12175442792d62f53a35dba91efc11b.txt     \b\b\b\b 88%\b\b\b\b\b  OK \n",
            "Extracting  label/val/IMG_20100101_022449_jpg.rf.20cc55a943889801ab418af54d6af5aa.txt     \b\b\b\b 88%\b\b\b\b\b  OK \n",
            "Extracting  label/val/IMG_20100101_030622_jpg.rf.46d281623ac0c704466359d51ad3c92a.txt     \b\b\b\b 88%\b\b\b\b\b  OK \n",
            "Extracting  label/val/IMG_20100101_031055_jpg.rf.110aa7a4367a96e1da937a72de57b201.txt     \b\b\b\b 88%\b\b\b\b\b  OK \n",
            "Extracting  label/val/IMG_20100101_031419_jpg.rf.b36e89c48cb5cddb3a155908d8f46be5.txt     \b\b\b\b 88%\b\b\b\b\b  OK \n",
            "Extracting  label/val/IMG_20100101_031438_jpg.rf.15a7e302b224a26fb68c51de57ac8e95.txt     \b\b\b\b 88%\b\b\b\b\b  OK \n",
            "Extracting  label/val/IMG_20100101_031618_jpg.rf.ed2a303478a53dddb02d03bb1767d44b.txt     \b\b\b\b 88%\b\b\b\b\b  OK \n",
            "Extracting  label/val/IMG_20100101_031805_jpg.rf.fc8b66f6de9cec81cc211a55de355c6b.txt     \b\b\b\b 88%\b\b\b\b\b  OK \n",
            "Extracting  label/val/IMG_20100101_031841_jpg.rf.4e3ca899a584bbb38095616905d21cf6.txt     \b\b\b\b 88%\b\b\b\b\b  OK \n",
            "Extracting  label/val/IMG_20100101_032037_jpg.rf.b01736c6f72be3cd8fd5f44fdeb10494.txt     \b\b\b\b 88%\b\b\b\b\b  OK \n",
            "Extracting  label/val/IMG_20100101_032231_jpg.rf.c8dbfae7fec5d0ee74597b2041721e89.txt     \b\b\b\b 88%\b\b\b\b\b  OK \n",
            "Extracting  label/val/IMG_20100101_032317_jpg.rf.54461987a81cbb2bf672d05d8be5efb6.txt     \b\b\b\b 88%\b\b\b\b\b  OK \n",
            "Extracting  label/val/IMG_20100101_032347_jpg.rf.9f2ac9573e943fc58b5849ae6c699c02.txt     \b\b\b\b 88%\b\b\b\b\b  OK \n",
            "Extracting  label/val/IMG_20100101_032543_jpg.rf.c1464e534bda550140bd26df260d86e1.txt     \b\b\b\b 88%\b\b\b\b\b  OK \n",
            "Extracting  label/val/IMG_20100101_033033_jpg.rf.193f2b3a09191359d2d4c3cf73163efd.txt     \b\b\b\b 88%\b\b\b\b\b  OK \n",
            "Extracting  label/val/IMG_20100101_033046_jpg.rf.2f2716a78415007a558a499661dee109.txt     \b\b\b\b 89%\b\b\b\b\b  OK \n",
            "Extracting  label/val/IMG_20100101_033113_jpg.rf.abc57a49bf8d3c216e36c8f24b14274a.txt     \b\b\b\b 89%\b\b\b\b\b  OK \n",
            "Extracting  label/val/IMG_20100101_033139_jpg.rf.8b2cf5b01de7102c4a90145cda6dbda9.txt     \b\b\b\b 89%\b\b\b\b\b  OK \n",
            "Extracting  label/val/IMG_20100101_033541_jpg.rf.9703e7391b2c5bba03d3f20d0ca3d5bb.txt     \b\b\b\b 89%\b\b\b\b\b  OK \n",
            "Extracting  label/val/IMG_20100101_033626_jpg.rf.13f282ea821a2cea532f64b80fd4aa4d.txt     \b\b\b\b 89%\b\b\b\b\b  OK \n",
            "Extracting  label/val/IMG_20180712_221652_jpg.rf.e1110537d2fd48844b9a515848fcbf6e.txt     \b\b\b\b 89%\b\b\b\b\b  OK \n",
            "Extracting  label/val/IMG_20180712_221658_jpg.rf.1f0d7a99f9880e028dd28f652f24d9f9.txt     \b\b\b\b 89%\b\b\b\b\b  OK \n",
            "Extracting  label/val/IMG_20180713_104848_jpg.rf.d49d99cc4f481ae5b249be54e8719744.txt     \b\b\b\b 89%\b\b\b\b\b  OK \n",
            "Extracting  label/val/IMG_20180713_104906_jpg.rf.d9a2ae2b10ea39e0d6c6ad007ccb6846.txt     \b\b\b\b 89%\b\b\b\b\b  OK \n",
            "Extracting  label/val/IMG_20180713_105001_jpg.rf.94b83fc6f0cf06a7272144cbb2f8fac4.txt     \b\b\b\b 89%\b\b\b\b\b  OK \n",
            "Extracting  label/val/IMG_20180713_105046_jpg.rf.a10801495c6b40a1b7492a4286894b43.txt     \b\b\b\b 89%\b\b\b\b\b  OK \n",
            "Extracting  label/val/IMG_20180713_111112_jpg.rf.35f7950cda20eb18ead782dac30240ff.txt     \b\b\b\b 89%\b\b\b\b\b  OK \n",
            "Extracting  label/val/IMG_20180713_111144_jpg.rf.72446889fe7d03e4f2692db6db9f8044.txt     \b\b\b\b 89%\b\b\b\b\b  OK \n",
            "Extracting  label/val/IMG_20180713_111230_jpg.rf.b502298e574ba6e02cd52ec70d05414c.txt     \b\b\b\b 90%\b\b\b\b\b  OK \n",
            "Extracting  label/val/IMG_20180714_102636_jpg.rf.a65e855135406324f7a6f041e6f78471.txt     \b\b\b\b 90%\b\b\b\b\b  OK \n",
            "Extracting  label/val/IMG_20180714_102730_jpg.rf.ea20184f07af0a69f153bb8a62e9f332.txt     \b\b\b\b 90%\b\b\b\b\b  OK \n",
            "Extracting  label/val/IMG_20180714_102742_jpg.rf.e7780d83add0fc01bdee7919a45393ce.txt     \b\b\b\b 90%\b\b\b\b\b  OK \n",
            "Extracting  label/val/IMG_20180714_102747_jpg.rf.fb4160f5b6803e649569ac907dbdf2f7.txt     \b\b\b\b 90%\b\b\b\b\b  OK \n",
            "Extracting  label/val/IMG_20180714_103044_jpg.rf.7859da1352b973df10c87ab930a69d76.txt     \b\b\b\b 90%\b\b\b\b\b  OK \n",
            "Extracting  label/val/IMG_20180714_103056_jpg.rf.fc56a3d74ca2eb158183003365daeda1.txt     \b\b\b\b 90%\b\b\b\b\b  OK \n",
            "Extracting  label/val/IMG_20180714_103155_jpg.rf.9e55153d74353bf4ba5b4b61f4d060f4.txt     \b\b\b\b 90%\b\b\b\b\b  OK \n",
            "Extracting  label/val/IMG_20180714_103206_jpg.rf.60eee65dce1b5aaf6488a48759a74728.txt     \b\b\b\b 90%\b\b\b\b\b  OK \n",
            "Extracting  label/val/IMG_20180714_103316_jpg.rf.331bd5a9f452472163879a33487c57d4.txt     \b\b\b\b 90%\b\b\b\b\b  OK \n",
            "Extracting  label/val/IMG_20180714_103942_jpg.rf.2c52cc4bc72513839f6dbf5ef57e44b4.txt     \b\b\b\b 91%\b\b\b\b\b  OK \n",
            "Extracting  label/val/IMG_20180714_104444_jpg.rf.1d81ec22f1a434c4f4dc066b99376852.txt     \b\b\b\b 91%\b\b\b\b\b  OK \n",
            "Extracting  label/val/IMG_20180714_104448_jpg.rf.d9af5d862c2abb044d11f70610a9ae96.txt     \b\b\b\b 91%\b\b\b\b\b  OK \n",
            "Extracting  label/val/IMG_20180714_105011_jpg.rf.dcd51528d45a6e58a72d65927fd97105.txt     \b\b\b\b 91%\b\b\b\b\b  OK \n",
            "Extracting  label/val/IMG_20180714_105052_jpg.rf.1c3f1e89c47e54742ec2584fbbd32bb1.txt     \b\b\b\b 91%\b\b\b\b\b  OK \n",
            "Extracting  label/val/IMG_20180717_095109_jpg.rf.adb9fc3fb3a9cc14c1352c34025795ee.txt     \b\b\b\b 91%\b\b\b\b\b  OK \n",
            "Extracting  label/val/IMG_20180717_095345_jpg.rf.907b04634e424e16935859d0404f8f69.txt     \b\b\b\b 91%\b\b\b\b\b  OK \n",
            "Extracting  label/val/IMG_20180717_095953_jpg.rf.7ac2d09f4369d9e5bb5e643e288097a1.txt     \b\b\b\b 91%\b\b\b\b\b  OK \n",
            "Extracting  label/val/IMG_20180717_120936_jpg.rf.583800e40feb7cdc56f3f04d1820865b.txt     \b\b\b\b 91%\b\b\b\b\b  OK \n",
            "Extracting  label/val/IMG_20180717_121024_jpg.rf.974342e458cd656215d058c631b309c1.txt     \b\b\b\b 91%\b\b\b\b\b  OK \n",
            "Extracting  label/val/IMG_20180717_121252_jpg.rf.6ed4cff82e848c7fcead31fe93a7c40e.txt     \b\b\b\b 91%\b\b\b\b\b  OK \n",
            "Extracting  label/val/IMG_20180717_122322_jpg.rf.cd5d883c1bae30bef2a0f762f35026b9.txt     \b\b\b\b 91%\b\b\b\b\b  OK \n",
            "Extracting  label/val/IMG_20180717_122348_jpg.rf.d4b0cba159dd77140794484e89c0b761.txt     \b\b\b\b 91%\b\b\b\b\b  OK \n",
            "Extracting  label/val/IMG_20180717_122938_jpg.rf.597d91ad7ab2c9c1c953ab7f57b22a56.txt     \b\b\b\b 92%\b\b\b\b\b  OK \n",
            "Extracting  label/val/IMG_20180717_123003_jpg.rf.4792e05f5de1e93dc7b55acaf8bd3538.txt     \b\b\b\b 92%\b\b\b\b\b  OK \n",
            "Extracting  label/val/IMG_20180717_123156_jpg.rf.229347c41d8551377f72a111f160310a.txt     \b\b\b\b 92%\b\b\b\b\b  OK \n",
            "Extracting  label/val/IMG_20180717_123507_jpg.rf.b5e763659a64fd78cac497e223d939a6.txt     \b\b\b\b 92%\b\b\b\b\b  OK \n",
            "Extracting  label/val/IMG_20180718_105742_jpg.rf.88e836a08430bdf730ddf348984596da.txt     \b\b\b\b 92%\b\b\b\b\b  OK \n",
            "Extracting  label/val/IMG_20180719_123648_jpg.rf.82cd7a0262f2fed96ce9cc6b8d8f1328.txt     \b\b\b\b 92%\b\b\b\b\b  OK \n",
            "Extracting  label/val/IMG_20180719_123729_jpg.rf.65e339415d125c94bc706d1998f9c770.txt     \b\b\b\b 92%\b\b\b\b\b  OK \n",
            "Extracting  label/val/IMG_20180719_123900_jpg.rf.b76d143dee8f8365dd4571b0ef528435.txt     \b\b\b\b 92%\b\b\b\b\b  OK \n",
            "Extracting  label/val/IMG_20180719_124029_jpg.rf.a8e3a182e84c3c6d137bba2128734ca6.txt     \b\b\b\b 92%\b\b\b\b\b  OK \n",
            "Extracting  label/val/IMG_20180719_124040_jpg.rf.27da3cc558efe5d8f111c266ba38238f.txt     \b\b\b\b 92%\b\b\b\b\b  OK \n",
            "Extracting  label/val/IMG_20180719_124351_jpg.rf.4278444d9a2c8f2a82b14abfc45efff9.txt     \b\b\b\b 92%\b\b\b\b\b  OK \n",
            "Extracting  label/val/IMG_20180719_124416_jpg.rf.5a85637294246779ce8b6ade42a2d882.txt     \b\b\b\b 92%\b\b\b\b\b  OK \n",
            "Extracting  label/val/IMG_20180719_124651_jpg.rf.ad4a04ffd1ce6154517cafc6ceb524b1.txt     \b\b\b\b 92%\b\b\b\b\b  OK \n",
            "Extracting  label/val/IMG_20180719_124828_jpg.rf.8cffcc81940f4dd9cc1622bf8edfca0a.txt     \b\b\b\b 92%\b\b\b\b\b  OK \n",
            "Extracting  label/val/IMG_20180719_124903_jpg.rf.cbcbe13487b9f08eb5323108968dae3c.txt     \b\b\b\b 92%\b\b\b\b\b  OK \n",
            "Extracting  label/val/IMG_20180719_124906_jpg.rf.890e67916d106868c6b3cc73c656ed11.txt     \b\b\b\b 92%\b\b\b\b\b  OK \n",
            "Extracting  label/val/IMG_20180719_141917_jpg.rf.89abe188e645f54a17c25439a2c6f22e.txt     \b\b\b\b 93%\b\b\b\b\b  OK \n",
            "Extracting  label/val/IMG_20180719_142001_jpg.rf.7a57b63f36790fbaf65bff397f68c67a.txt     \b\b\b\b 93%\b\b\b\b\b  OK \n",
            "Extracting  label/val/IMG_20180719_142738_jpg.rf.b0d67b716e6de07ba0ea5fd5af246d27.txt     \b\b\b\b 93%\b\b\b\b\b  OK \n",
            "Extracting  label/val/IMG_20180719_142911_jpg.rf.64d8128441bde6e5e142feeb018c64ab.txt     \b\b\b\b 93%\b\b\b\b\b  OK \n",
            "Extracting  label/val/IMG_20180719_142920_jpg.rf.44a9f065342804725c6d38c5cc909a10.txt     \b\b\b\b 93%\b\b\b\b\b  OK \n",
            "Extracting  label/val/IMG_20180719_143203_jpg.rf.5dd1e1aa3c5ab246a09f280fe996d135.txt     \b\b\b\b 93%\b\b\b\b\b  OK \n",
            "Extracting  label/val/IMG_20180719_143623_jpg.rf.c7cfe1fabfd0283215bd2b5f5d42ae36.txt     \b\b\b\b 93%\b\b\b\b\b  OK \n",
            "Extracting  label/val/IMG_20180720_123404_jpg.rf.aca59f5245838e700b6ced6ec79075ad.txt     \b\b\b\b 93%\b\b\b\b\b  OK \n",
            "Extracting  label/val/IMG_20180720_124227_jpg.rf.6c6e76d10b61066a29bff2d397237800.txt     \b\b\b\b 93%\b\b\b\b\b  OK \n",
            "Extracting  label/val/IMG_20180720_124326_jpg.rf.24fa2270701f1163e2eaeac8f7b51cdc.txt     \b\b\b\b 93%\b\b\b\b\b  OK \n",
            "Extracting  label/val/IMG_20180720_124636_jpg.rf.ba61d52ed4cde2b48b3c6778657f600b.txt     \b\b\b\b 93%\b\b\b\b\b  OK \n",
            "Extracting  label/val/IMG_20180720_124841_jpg.rf.7ab5d85c2afe2352907613ac0c75ecd6.txt     \b\b\b\b 93%\b\b\b\b\b  OK \n",
            "Extracting  label/val/IMG_20180720_141121_jpg.rf.f2fac87819506a6b52b4614bfcf2d36c.txt     \b\b\b\b 93%\b\b\b\b\b  OK \n",
            "Extracting  label/val/IMG_20180720_141537_jpg.rf.dd693ab66ce9dd091f9c1b3ce6cfc9d3.txt     \b\b\b\b 93%\b\b\b\b\b  OK \n",
            "Extracting  label/val/IMG_20180720_142150_jpg.rf.28f78cd7cadb08ffe37ddf23cc7c21c7.txt     \b\b\b\b 93%\b\b\b\b\b  OK \n",
            "Extracting  label/val/IMG_20180720_142216_jpg.rf.0718a74f455ffd5c00a217942e774cad.txt     \b\b\b\b 93%\b\b\b\b\b  OK \n",
            "Extracting  label/val/IMG_20180720_142458_jpg.rf.f34052a2b1a46b984fda70d784ab9c8d.txt     \b\b\b\b 94%\b\b\b\b\b  OK \n",
            "Extracting  label/val/IMG_20180720_142545_jpg.rf.b6c139e7fb332b68c10b5f8a909c9fe2.txt     \b\b\b\b 94%\b\b\b\b\b  OK \n",
            "Extracting  label/val/IMG_20180720_143136_jpg.rf.dc00f04739fdd7345daba55b9d783cf4.txt     \b\b\b\b 94%\b\b\b\b\b  OK \n",
            "Extracting  label/val/IMG_20180720_143319_jpg.rf.c09b131dd47df35d5aa844928950759a.txt     \b\b\b\b 94%\b\b\b\b\b  OK \n",
            "Extracting  label/val/IMG_20180721_090036_jpg.rf.35d3279a9f92b19ce85c7dc601026c77.txt     \b\b\b\b 94%\b\b\b\b\b  OK \n",
            "Extracting  label/val/IMG_20180721_090331_jpg.rf.e42370df8425b46becb951cfcc53cbcb.txt     \b\b\b\b 94%\b\b\b\b\b  OK \n",
            "Extracting  label/val/IMG_20180721_090336_jpg.rf.3d35f3207b1660e911825bb45cbc291d.txt     \b\b\b\b 94%\b\b\b\b\b  OK \n",
            "Extracting  label/val/IMG_20180721_090501_jpg.rf.12455797f3760e147d80fe836b515176.txt     \b\b\b\b 94%\b\b\b\b\b  OK \n",
            "Extracting  label/val/IMG_20180721_090506_jpg.rf.d6d981ad3addbe122a5047b3528bd841.txt     \b\b\b\b 94%\b\b\b\b\b  OK \n",
            "Extracting  label/val/IMG_20180721_090612_jpg.rf.6add2475f7c266acb01e9474540e9154.txt     \b\b\b\b 94%\b\b\b\b\b  OK \n",
            "Extracting  label/val/IMG_20180721_090845_jpg.rf.5e472fc2b416786f1c78cadb82b441e9.txt     \b\b\b\b 94%\b\b\b\b\b  OK \n",
            "Extracting  label/val/IMG_20180721_090955_jpg.rf.63e6e1eb500238ed780edebbe22968e3.txt     \b\b\b\b 94%\b\b\b\b\b  OK \n",
            "Extracting  label/val/IMG_20180721_091241_jpg.rf.344d1cead9ccda7b8be081f4e0daeb56.txt     \b\b\b\b 94%\b\b\b\b\b  OK \n",
            "Extracting  label/val/IMG_20180721_091425_jpg.rf.03e8577a3d89e625dd1ab991ca143bc7.txt     \b\b\b\b 94%\b\b\b\b\b  OK \n",
            "Extracting  label/val/IMG_20180721_091705_jpg.rf.28e9a68796701f355eb34b4a2b136ec6.txt     \b\b\b\b 94%\b\b\b\b\b  OK \n",
            "Extracting  label/val/IMG_20180721_091749_jpg.rf.382f1f84236b91b812e8b847778c0ee9.txt     \b\b\b\b 95%\b\b\b\b\b  OK \n",
            "Extracting  label/val/IMG_20180723_122033_jpg.rf.104e7e927e7e1873bbbb93c3a49dea4b.txt     \b\b\b\b 95%\b\b\b\b\b  OK \n",
            "Extracting  label/val/IMG_20180723_122049_jpg.rf.2597b2bd3e9c0786f174bf9466ad7c88.txt     \b\b\b\b 95%\b\b\b\b\b  OK \n",
            "Extracting  label/val/IMG_20180723_122303_jpg.rf.d757851730a44005984dcb35e52661d8.txt     \b\b\b\b 95%\b\b\b\b\b  OK \n",
            "Extracting  label/val/IMG_20180723_122338_jpg.rf.c948b2719199517adef004e8b2fc32b7.txt     \b\b\b\b 95%\b\b\b\b\b  OK \n",
            "Extracting  label/val/IMG_20180723_122450_jpg.rf.5394ebd0f2dd8d4e3ab683eb46599e0c.txt     \b\b\b\b 95%\b\b\b\b\b  OK \n",
            "Extracting  label/val/IMG_20180723_122536_jpg.rf.85163e8d17a4299b7ca6984538ef2d66.txt     \b\b\b\b 95%\b\b\b\b\b  OK \n",
            "Extracting  label/val/IMG_20180723_122546_jpg.rf.7238f87e95653f05aeff62bba13112ae.txt     \b\b\b\b 95%\b\b\b\b\b  OK \n",
            "Extracting  label/val/IMG_20180723_122751_jpg.rf.5929c741377c2927052a49cee9f49363.txt     \b\b\b\b 95%\b\b\b\b\b  OK \n",
            "Extracting  label/val/IMG_20180723_122918_jpg.rf.21a7bffa27111f502aec6b7c850303f4.txt     \b\b\b\b 95%\b\b\b\b\b  OK \n",
            "Extracting  label/val/IMG_20180723_123119_jpg.rf.39bbf494537612330f7fb87b7589b6d5.txt     \b\b\b\b 95%\b\b\b\b\b  OK \n",
            "Extracting  label/val/IMG_20180723_123225_jpg.rf.ccd8fb8109af31a63335063c51513be0.txt     \b\b\b\b 95%\b\b\b\b\b  OK \n",
            "Extracting  label/val/IMG_20180723_123420_jpg.rf.1f3b2186069f2fb3a349f3c802bcb89b.txt     \b\b\b\b 95%\b\b\b\b\b  OK \n",
            "Extracting  label/val/IMG_20180723_123428_jpg.rf.ddb472b9799d7c8767c4e753b271e5ac.txt     \b\b\b\b 95%\b\b\b\b\b  OK \n",
            "Extracting  label/val/IMG_20180723_123624_jpg.rf.c5f90d8add63065a9e478992c105ef6b.txt     \b\b\b\b 95%\b\b\b\b\b  OK \n",
            "Extracting  label/val/IMG_20180723_124522_jpg.rf.5cec747fbc970087f8bbcb317fc6c3a5.txt     \b\b\b\b 95%\b\b\b\b\b  OK \n",
            "Extracting  label/val/IMG_20180723_144921_jpg.rf.4836ce7dd10d0a44cfe7a839652c64da.txt     \b\b\b\b 95%\b\b\b\b\b  OK \n",
            "Extracting  label/val/IMG_20180723_145027_jpg.rf.18dc26693cb64782d00c74be3e7e2c81.txt     \b\b\b\b 96%\b\b\b\b\b  OK \n",
            "Extracting  label/val/IMG_20180723_145350_jpg.rf.86a50f30927f0a3c4b9e7f3dea0bb67c.txt     \b\b\b\b 96%\b\b\b\b\b  OK \n",
            "Extracting  label/val/IMG_20180723_145733_jpg.rf.9ad75a5d306b4a94a56b98435322b8a1.txt     \b\b\b\b 96%\b\b\b\b\b  OK \n",
            "Extracting  label/val/IMG_20180723_145827_jpg.rf.62168f8cd1655957255947abdcf46322.txt     \b\b\b\b 96%\b\b\b\b\b  OK \n",
            "Extracting  label/val/IMG_20180723_145924_jpg.rf.20cfed15885d2700790ea33d6c526b72.txt     \b\b\b\b 96%\b\b\b\b\b  OK \n",
            "Extracting  label/val/IMG_20180723_150044_jpg.rf.388eb1e2223208158731705e32f8b907.txt     \b\b\b\b 96%\b\b\b\b\b  OK \n",
            "Extracting  label/val/IMG_20180723_150054_jpg.rf.620779539aab4de8db105b96b2ef1689.txt     \b\b\b\b 96%\b\b\b\b\b  OK \n",
            "Extracting  label/val/IMG_20180723_152110_jpg.rf.e9825da620d5741e032db5687f3cb2bc.txt     \b\b\b\b 96%\b\b\b\b\b  OK \n",
            "Extracting  label/val/IMG_20180724_120909_jpg.rf.63cb872ed138426a8d3351d086ea69ae.txt     \b\b\b\b 96%\b\b\b\b\b  OK \n",
            "Extracting  label/val/IMG_20180724_121144_jpg.rf.93d393c6031f1067e436edf1fe61d8d0.txt     \b\b\b\b 96%\b\b\b\b\b  OK \n",
            "Extracting  label/val/IMG_20180724_121910_jpg.rf.e551398d5dcfb1cb90a8ac52ca160610.txt     \b\b\b\b 96%\b\b\b\b\b  OK \n",
            "Extracting  label/val/IMG_20180724_122106_jpg.rf.cf6a616fe23d2d91f9e609c0096061f5.txt     \b\b\b\b 96%\b\b\b\b\b  OK \n",
            "Extracting  label/val/IMG_20180724_122143_jpg.rf.47f011e389420a11e1de71d534225404.txt     \b\b\b\b 96%\b\b\b\b\b  OK \n",
            "Extracting  label/val/IMG_20180724_122525_jpg.rf.61e648b6bad2f5a472543f11988d2287.txt     \b\b\b\b 96%\b\b\b\b\b  OK \n",
            "Extracting  label/val/IMG_20180724_122629_jpg.rf.5a539e090c30d079f4628ba23d2696f9.txt     \b\b\b\b 96%\b\b\b\b\b  OK \n",
            "Extracting  label/val/IMG_20180724_122659_jpg.rf.153c5a8af233da9cfcfa4e51d1565587.txt     \b\b\b\b 96%\b\b\b\b\b  OK \n",
            "Extracting  label/val/IMG_20180724_122840_jpg.rf.e44f6a21545c48b7d847cd0587659cda.txt     \b\b\b\b 96%\b\b\b\b\b  OK \n",
            "Extracting  label/val/IMG_20180724_123818_jpg.rf.fb5bd9cd1cf77f681f496f70bb7391ec.txt     \b\b\b\b 97%\b\b\b\b\b  OK \n",
            "Extracting  label/val/IMG_20180724_124210_jpg.rf.052b1d3961c73cb5314c7414d7b627a3.txt     \b\b\b\b 97%\b\b\b\b\b  OK \n",
            "Extracting  label/val/IMG_20180724_124239_jpg.rf.8011e806e5bf9cbe6969f395b2af9904.txt     \b\b\b\b 97%\b\b\b\b\b  OK \n",
            "Extracting  label/val/IMG_20180724_124532_jpg.rf.13a33f5016d36ef75664b93af19c21c8.txt     \b\b\b\b 97%\b\b\b\b\b  OK \n",
            "Extracting  label/val/IMG_20180724_124612_jpg.rf.3db018e5df81206d1791d5bfb8391594.txt     \b\b\b\b 97%\b\b\b\b\b  OK \n",
            "Extracting  label/val/IMG_20180724_124820_jpg.rf.d775e51d048feb499020aff1c862c6c0.txt     \b\b\b\b 97%\b\b\b\b\b  OK \n",
            "Extracting  label/val/IMG_20180724_124833_jpg.rf.b7ea489f96e9bba3398996207204d92c.txt     \b\b\b\b 97%\b\b\b\b\b  OK \n",
            "Extracting  label/val/IMG_20180724_124841_jpg.rf.ef19f4a37535c11268988e96a9911461.txt     \b\b\b\b 97%\b\b\b\b\b  OK \n",
            "Extracting  label/val/IMG_20180724_124918_jpg.rf.ff2f03ebe9c4b9cff73f8d5eb48bd0ab.txt     \b\b\b\b 97%\b\b\b\b\b  OK \n",
            "Extracting  label/val/IMG_20180724_125258_jpg.rf.9008e8c686d7e6abd799a7188da506a1.txt     \b\b\b\b 97%\b\b\b\b\b  OK \n",
            "Extracting  label/val/IMG_20180724_125339_jpg.rf.ee79fead55b1873a7f7314dacc605094.txt     \b\b\b\b 97%\b\b\b\b\b  OK \n",
            "Extracting  label/val/IMG_20180724_125420_jpg.rf.a4099bca7ddca2b1b526d8ee5dd5b2d3.txt     \b\b\b\b 97%\b\b\b\b\b  OK \n",
            "Extracting  label/val/IMG_20180724_130053_jpg.rf.5655c579156a8e758eb8460335f7e204.txt     \b\b\b\b 97%\b\b\b\b\b  OK \n",
            "Extracting  label/val/IMG_20180725_113912_jpg.rf.95e58e81d22ff8f0aaec4a4a2b09833c.txt     \b\b\b\b 97%\b\b\b\b\b  OK \n",
            "Extracting  label/val/IMG_20180725_114159_jpg.rf.a5ef79945a4490902931b5358b92babf.txt     \b\b\b\b 97%\b\b\b\b\b  OK \n",
            "Extracting  label/val/IMG_20180725_115651_jpg.rf.d51e57663a9f01411af05835f39d7f7d.txt     \b\b\b\b 97%\b\b\b\b\b  OK \n",
            "Extracting  label/val/IMG_20180725_120338_jpg.rf.0cb5290b5974ddd3cf2afcddec4d33b8.txt     \b\b\b\b 98%\b\b\b\b\b  OK \n",
            "Extracting  label/val/IMG_20180725_120349_jpg.rf.3466b74b55e2939ae31f289c095c2d4c.txt     \b\b\b\b 98%\b\b\b\b\b  OK \n",
            "Extracting  label/val/IMG_20180725_121811_jpg.rf.2324c24bc44e6ee0ec6bf48215dc6ef0.txt     \b\b\b\b 98%\b\b\b\b\b  OK \n",
            "Extracting  label/val/IMG_20180725_121952_jpg.rf.5a2837cd1a158bd1757eb57b775026f3.txt     \b\b\b\b 98%\b\b\b\b\b  OK \n",
            "Extracting  label/val/IMG_20180725_122025_jpg.rf.d6e2c120498452108a6ff8e056dae615.txt     \b\b\b\b 98%\b\b\b\b\b  OK \n",
            "Extracting  label/val/IMG_20180725_122619_jpg.rf.6cbd0f5eeb5b4279a02815ae18e9ea51.txt     \b\b\b\b 98%\b\b\b\b\b  OK \n",
            "Extracting  label/val/IMG_20180725_122754_jpg.rf.15f07d6829c26b1859df2f6ff1917ea3.txt     \b\b\b\b 98%\b\b\b\b\b  OK \n",
            "Extracting  label/val/IMG_20180725_142219_jpg.rf.bcf6c9f9205a19ea441ee4ab149722fa.txt     \b\b\b\b 98%\b\b\b\b\b  OK \n",
            "Extracting  label/val/IMG_20180726_122322_jpg.rf.b3d6d87dd3e218890d1fcdf477df9415.txt     \b\b\b\b 98%\b\b\b\b\b  OK \n",
            "Extracting  label/val/IMG_20180726_122552_jpg.rf.5d785bd8486c19c59c66b3ba350ac22d.txt     \b\b\b\b 98%\b\b\b\b\b  OK \n",
            "Extracting  label/val/IMG_20180726_122605_jpg.rf.82c8b348ba1ef55ea9dd06184e62a908.txt     \b\b\b\b 98%\b\b\b\b\b  OK \n",
            "Extracting  label/val/IMG_20180726_122706_jpg.rf.08058dcd99c9cb00844dbc508a7db209.txt     \b\b\b\b 98%\b\b\b\b\b  OK \n",
            "Extracting  label/val/IMG_20180726_123002_jpg.rf.b1569e009236b844f1ff94a2751c8a91.txt     \b\b\b\b 98%\b\b\b\b\b  OK \n",
            "Extracting  label/val/IMG_20180726_123103_jpg.rf.08d74ec3b8b17b7b83c720277249410e.txt     \b\b\b\b 98%\b\b\b\b\b  OK \n",
            "Extracting  label/val/IMG_20180727_122948_jpg.rf.b443c102bea9ed579c785861289e8455.txt     \b\b\b\b 98%\b\b\b\b\b  OK \n",
            "Extracting  label/val/IMG_20180804_110552_jpg.rf.93ba1d54208c0b6cc14782b19d353dad.txt     \b\b\b\b 98%\b\b\b\b\b  OK \n",
            "Extracting  label/val/IMG_20180806_075151_jpg.rf.51b94944af416e4b88624db342eec00f.txt     \b\b\b\b 99%\b\b\b\b\b  OK \n",
            "Extracting  label/val/IMG_20180810_082705_jpg.rf.cfd38184db22e46a72a69bc23e4027c5.txt     \b\b\b\b 99%\b\b\b\b\b  OK \n",
            "Extracting  label/val/IMG_20180810_090316_jpg.rf.b5de53a233a8db0b5825aad73c1311be.txt     \b\b\b\b 99%\b\b\b\b\b  OK \n",
            "Extracting  label/val/IMG_20180810_090415_jpg.rf.707fb2d22a9329b3841fd1483cf3e63d.txt     \b\b\b\b 99%\b\b\b\b\b  OK \n",
            "Extracting  label/val/IMG_20180810_090524_jpg.rf.088aca82b830f3ac5c1c247bb7ab7d39.txt     \b\b\b\b 99%\b\b\b\b\b  OK \n",
            "Extracting  label/val/IMG_20180810_090618_jpg.rf.77cabebb01d2cbfdc1ea12d587cf8b9d.txt     \b\b\b\b 99%\b\b\b\b\b  OK \n",
            "Extracting  label/val/IMG_20180810_091648_jpg.rf.c612bb1b62a804deed80e68c5c4ba9ac.txt     \b\b\b\b 99%\b\b\b\b\b  OK \n",
            "Extracting  label/val/IMG_20180810_092729_jpg.rf.4fb15945bba8ec6e19ffa6a5f68b8f79.txt     \b\b\b\b 99%\b\b\b\b\b  OK \n",
            "Extracting  label/val/IMG_20180811_083505_jpg.rf.d0721d190d00c3dff8f637fd0b4a71fc.txt     \b\b\b\b 99%\b\b\b\b\b  OK \n",
            "Extracting  label/val/IMG_20180811_083703_jpg.rf.c099dca361733838172076d9eb5d0ab1.txt     \b\b\b\b 99%\b\b\b\b\b  OK \n",
            "Extracting  label/val/IMG_20180811_083858_jpg.rf.af2d13be3dd50a280b7c59c9727085b2.txt     \b\b\b\b 99%\b\b\b\b\b  OK \n",
            "Extracting  label/val/IMG_20180811_083929_jpg.rf.804a0c4530e9e72167b68eec8df1e91e.txt     \b\b\b\b 99%\b\b\b\b\b  OK \n",
            "Extracting  label/val/IMG_20180811_083933_jpg.rf.d82c322415145247859723ea318a9ad3.txt     \b\b\b\b 99%\b\b\b\b\b  OK \n",
            "Extracting  label/val/IMG_20180811_083937_jpg.rf.d268598a32bc1d38cfd763f0162e3ba1.txt     \b\b\b\b 99%\b\b\b\b\b  OK \n",
            "Extracting  label/val/IMG_20180811_084022_jpg.rf.82a378e879ed8dc7a7b3a10b12419c22.txt     \b\b\b\b 99%\b\b\b\b\b  OK \n",
            "Extracting  label/val/IMG_20180811_084336_jpg.rf.f5881da63dfd174ddebd4f528c807a9f.txt     \b\b\b\b 99%\b\b\b\b\b  OK \n",
            "All OK\n"
          ]
        }
      ]
    },
    {
      "cell_type": "code",
      "source": [
        "!unrar x val.rar"
      ],
      "metadata": {
        "colab": {
          "base_uri": "https://localhost:8080/"
        },
        "id": "gz7ZDOHh3DRl",
        "outputId": "dff10a3b-c066-44b1-9006-21f61737109d"
      },
      "execution_count": null,
      "outputs": [
        {
          "output_type": "stream",
          "name": "stdout",
          "text": [
            "\n",
            "UNRAR 6.11 beta 1 freeware      Copyright (c) 1993-2022 Alexander Roshal\n",
            "\n",
            "\n",
            "Extracting from val.rar\n",
            "\n",
            "Creating    val                                                       OK\n",
            "Extracting  val/img-104_jpg.rf.687b8858a9a79e92ea4b11024eafee62.jpg      \b\b\b\b  0%\b\b\b\b\b  OK \n",
            "Extracting  val/img-106_jpg.rf.4e4d5cc9b01160ccfb18c911b34f3f98.jpg      \b\b\b\b  0%\b\b\b\b\b  OK \n",
            "Extracting  val/img-112_jpg.rf.f2165fc7173878a7c1ad397c7ed595d9.jpg      \b\b\b\b  1%\b\b\b\b\b  OK \n",
            "Extracting  val/img-116_jpg.rf.09abd4f4dd5161e4a14cdd87d23b2cab.jpg      \b\b\b\b  1%\b\b\b\b\b  OK \n",
            "Extracting  val/img-118_jpg.rf.75b7bf6e55f6d7b25f190d74200033c8.jpg      \b\b\b\b  1%\b\b\b\b\b  OK \n",
            "Extracting  val/img-120_jpg.rf.bc6b90a7439c1ed48339336ca52eda8c.jpg      \b\b\b\b  2%\b\b\b\b\b  OK \n",
            "Extracting  val/img-122_jpg.rf.90260f1c979ae127d37bb26cf5d1b3cf.jpg      \b\b\b\b  2%\b\b\b\b\b  OK \n",
            "Extracting  val/img-125_jpg.rf.31ca4f64f2a4205e38c28e30b21df509.jpg      \b\b\b\b  3%\b\b\b\b\b  OK \n",
            "Extracting  val/img-130_jpg.rf.b82150559b44fc5ce3e062cad83338ca.jpg      \b\b\b\b  3%\b\b\b\b\b  OK \n",
            "Extracting  val/img-132_jpg.rf.b50598eb1f2ec30f7fa20ec420ef15a9.jpg      \b\b\b\b  4%\b\b\b\b\b  OK \n",
            "Extracting  val/img-133_jpg.rf.db229e7b5cac39dc8193af4ed4e0832d.jpg      \b\b\b\b  4%\b\b\b\b\b  OK \n",
            "Extracting  val/img-140_jpg.rf.be70ab85a693043000968d9de23898df.jpg      \b\b\b\b  5%\b\b\b\b\b  OK \n",
            "Extracting  val/img-145_jpg.rf.7cdce5ed92657f35fa1903635fa81c20.jpg      \b\b\b\b  5%\b\b\b\b\b  OK \n",
            "Extracting  val/img-147_jpg.rf.fddcc7b6bec7550eb93fc7f4969e832e.jpg      \b\b\b\b  6%\b\b\b\b\b  OK \n",
            "Extracting  val/img-14_jpg.rf.25bbae75a3871870c424e5fbc8e29945.jpg       \b\b\b\b  6%\b\b\b\b\b  OK \n",
            "Extracting  val/img-153_jpg.rf.ba410ca055afdae3cb292f1cdede8c08.jpg      \b\b\b\b  7%\b\b\b\b\b  OK \n",
            "Extracting  val/img-154_jpg.rf.fbdaac9fa48b69a15abd7475dad671da.jpg      \b\b\b\b  7%\b\b\b\b\b  OK \n",
            "Extracting  val/img-166_jpg.rf.050636db204eec127218fd258a822c29.jpg      \b\b\b\b  8%\b\b\b\b\b  OK \n",
            "Extracting  val/img-171_jpg.rf.b6db124be3dd5125e24e64d34ac89230.jpg      \b\b\b\b  8%\b\b\b\b\b  OK \n",
            "Extracting  val/img-173_jpg.rf.d296bacc1e037ffd2add63f59488c735.jpg      \b\b\b\b  8%\b\b\b\b\b  OK \n",
            "Extracting  val/img-184_jpg.rf.3cf4a6d99f9effd3cb75302d2bfe406e.jpg      \b\b\b\b  8%\b\b\b\b\b  OK \n",
            "Extracting  val/img-190_jpg.rf.d2ae8264a842c03a2b1e58ebd5cabd74.jpg      \b\b\b\b  9%\b\b\b\b\b  OK \n",
            "Extracting  val/img-200_jpg.rf.86169a83685199df71ea2bb82d844aa4.jpg      \b\b\b\b  9%\b\b\b\b\b  OK \n",
            "Extracting  val/img-201_jpg.rf.5015efb01ff6fee25489ad442533a6b2.jpg      \b\b\b\b  9%\b\b\b\b\b  OK \n",
            "Extracting  val/img-204_jpg.rf.9f0bd6fce321437c0ae1b972d37e491a.jpg      \b\b\b\b 10%\b\b\b\b\b  OK \n",
            "Extracting  val/img-206_jpg.rf.989ffb693d448d8d80a62eb38b6f7106.jpg      \b\b\b\b 10%\b\b\b\b\b  OK \n",
            "Extracting  val/img-20_jpg.rf.fe0915e38abca9ba6523c4a4fd8dc779.jpg       \b\b\b\b 11%\b\b\b\b\b  OK \n",
            "Extracting  val/img-210_jpg.rf.6c7b0d13bdaf43eebd361179f11a3074.jpg      \b\b\b\b 11%\b\b\b\b\b  OK \n",
            "Extracting  val/img-219_jpg.rf.43b460b042a123d5fbe0da630653b577.jpg      \b\b\b\b 12%\b\b\b\b\b  OK \n",
            "Extracting  val/img-225_jpg.rf.571b61e05b958728376648a735ceaf57.jpg      \b\b\b\b 12%\b\b\b\b\b  OK \n",
            "Extracting  val/img-22_jpg.rf.3bbe99353a39e5a103b4b081e006fcdd.jpg       \b\b\b\b 12%\b\b\b\b\b  OK \n",
            "Extracting  val/img-239_jpg.rf.5c3973ade6d0c6d9cf264b60b2d6061d.jpg      \b\b\b\b 13%\b\b\b\b\b  OK \n",
            "Extracting  val/img-243_jpg.rf.7157d31a68925d226ba29d6b1b9b1d75.jpg      \b\b\b\b 13%\b\b\b\b\b  OK \n",
            "Extracting  val/img-244_jpg.rf.c05e5207f5b9294716e8ff5f10ba6a38.jpg      \b\b\b\b 13%\b\b\b\b\b  OK \n",
            "Extracting  val/img-24_jpg.rf.42018f151db0049eda0c504eabced76b.jpg       \b\b\b\b 14%\b\b\b\b\b  OK \n",
            "Extracting  val/img-254_jpg.rf.91854d4eadf02cc3bee6f1b23aeea57a.jpg      \b\b\b\b 14%\b\b\b\b\b  OK \n",
            "Extracting  val/img-25_jpg.rf.06ba36f4b3e07cd7684b84722d00770a.jpg       \b\b\b\b 15%\b\b\b\b\b  OK \n",
            "Extracting  val/img-271_jpg.rf.33fdc7d3a0d601e35462a9580b422bfe.jpg      \b\b\b\b 15%\b\b\b\b\b  OK \n",
            "Extracting  val/img-27_jpg.rf.2e01f53922bf03d0715ddcf0ac3905ca.jpg       \b\b\b\b 15%\b\b\b\b\b  OK \n",
            "Extracting  val/img-286_jpg.rf.b2d4b7a7abe91096baf42363567af589.jpg      \b\b\b\b 16%\b\b\b\b\b  OK \n",
            "Extracting  val/img-28_jpg.rf.e2b0d01b73bfb3629afdab7dfa06198a.jpg       \b\b\b\b 16%\b\b\b\b\b  OK \n",
            "Extracting  val/img-29_jpg.rf.755ed0156a7a863f9f304f3bc1e192ad.jpg       \b\b\b\b 16%\b\b\b\b\b  OK \n",
            "Extracting  val/img-303_jpg.rf.4028fa8598017851778a5944165a953f.jpg      \b\b\b\b 17%\b\b\b\b\b  OK \n",
            "Extracting  val/img-311_jpg.rf.8454a25910a149341a92ab116f831936.jpg      \b\b\b\b 17%\b\b\b\b\b  OK \n",
            "Extracting  val/img-312_jpg.rf.0a6234042edc7a46cfb556423895c286.jpg      \b\b\b\b 17%\b\b\b\b\b  OK \n",
            "Extracting  val/img-323_jpg.rf.33071b727a5a0048408cc83a2bf550a8.jpg      \b\b\b\b 17%\b\b\b\b\b  OK \n",
            "Extracting  val/img-32_jpg.rf.3889f9f6223819080bb08c1149fb64d1.jpg       \b\b\b\b 17%\b\b\b\b\b  OK \n",
            "Extracting  val/img-335_jpg.rf.2784b7f52fc84c400b8ede76eef98215.jpg      \b\b\b\b 18%\b\b\b\b\b  OK \n",
            "Extracting  val/img-338_jpg.rf.74bf9432194dc28aad8176e7be66ca6f.jpg      \b\b\b\b 18%\b\b\b\b\b  OK \n",
            "Extracting  val/img-33_jpg.rf.7132ce71f05e8f5ea94737f069801a58.jpg       \b\b\b\b 18%\b\b\b\b\b  OK \n",
            "Extracting  val/img-347_jpg.rf.d75495d14817b150281a950981256e4e.jpg      \b\b\b\b 18%\b\b\b\b\b  OK \n",
            "Extracting  val/img-34_jpg.rf.d9e0079bff5b554f1d9625689dd43075.jpg       \b\b\b\b 18%\b\b\b\b\b  OK \n",
            "Extracting  val/img-353_jpg.rf.07d81ddfa3209fec50df7f1f595468d8.jpg      \b\b\b\b 19%\b\b\b\b\b  OK \n",
            "Extracting  val/img-35_jpg.rf.68244fd62825f1f4d383ba257c1186b2.jpg       \b\b\b\b 19%\b\b\b\b\b  OK \n",
            "Extracting  val/img-363_jpg.rf.c15cba9de3e14fd6aa8724bcf942b27d.jpg      \b\b\b\b 19%\b\b\b\b\b  OK \n",
            "Extracting  val/img-368_jpg.rf.c0382efd9dad7c161542519561713a44.jpg      \b\b\b\b 19%\b\b\b\b\b  OK \n",
            "Extracting  val/img-369_jpg.rf.14cb906802b8d8bda62d228f6d85cced.jpg      \b\b\b\b 19%\b\b\b\b\b  OK \n",
            "Extracting  val/img-373_jpg.rf.e9b2fc295556d6755edf71ca30fa2f42.jpg      \b\b\b\b 19%\b\b\b\b\b  OK \n",
            "Extracting  val/img-378_jpg.rf.7522f7e3aa83affc214e9e0a459cb446.jpg      \b\b\b\b 20%\b\b\b\b\b  OK \n",
            "Extracting  val/img-37_jpg.rf.ce30d36ad9a13aa3599aeb57fcf6718a.jpg       \b\b\b\b 20%\b\b\b\b\b  OK \n",
            "Extracting  val/img-382_jpg.rf.f150d3d57a37b68447bb670ba15cbd8f.jpg      \b\b\b\b 20%\b\b\b\b\b  OK \n",
            "Extracting  val/img-386_jpg.rf.507aab7f7a725bbf8b21d6f55890b1cc.jpg      \b\b\b\b 20%\b\b\b\b\b  OK \n",
            "Extracting  val/img-387_jpg.rf.fb14c6f21a50ad4a36957792a4c96792.jpg      \b\b\b\b 21%\b\b\b\b\b  OK \n",
            "Extracting  val/img-399_jpg.rf.b905fce357b9f6bb39873b5f7559f4a0.jpg      \b\b\b\b 21%\b\b\b\b\b  OK \n",
            "Extracting  val/img-400_jpg.rf.17fb956f0b6a7a41d821e45a832c6a71.jpg      \b\b\b\b 21%\b\b\b\b\b  OK \n",
            "Extracting  val/img-402_jpg.rf.30440e31580690259343a9059a09695e.jpg      \b\b\b\b 21%\b\b\b\b\b  OK \n",
            "Extracting  val/img-411_jpg.rf.2ab24c809788d2adfb2a3425aee22112.jpg      \b\b\b\b 21%\b\b\b\b\b  OK \n",
            "Extracting  val/img-417_jpg.rf.2da468a97eb637dd8570d27094aa457b.jpg      \b\b\b\b 21%\b\b\b\b\b  OK \n",
            "Extracting  val/img-41_jpg.rf.576ba21bc1fe67687dec58b7396ee09a.jpg       \b\b\b\b 22%\b\b\b\b\b  OK \n",
            "Extracting  val/img-421_jpg.rf.9d0d1ef08ccf6432a5f506fb2ee6290c.jpg      \b\b\b\b 22%\b\b\b\b\b  OK \n",
            "Extracting  val/img-423_jpg.rf.582474f0d68735adbfd7a496b4fbf159.jpg      \b\b\b\b 22%\b\b\b\b\b  OK \n",
            "Extracting  val/img-432_jpg.rf.27188558d4a1d7b5c2075d64faf49977.jpg      \b\b\b\b 22%\b\b\b\b\b  OK \n",
            "Extracting  val/img-438_jpg.rf.612382cb04813e29ee45d028fcbc6bd9.jpg      \b\b\b\b 22%\b\b\b\b\b  OK \n",
            "Extracting  val/img-443_jpg.rf.7922db00bc35543191b2b6f3a5e307b1.jpg      \b\b\b\b 22%\b\b\b\b\b  OK \n",
            "Extracting  val/img-454_jpg.rf.1bcae01cf1ebbca69046e65d35c69408.jpg      \b\b\b\b 22%\b\b\b\b\b  OK \n",
            "Extracting  val/img-457_jpg.rf.ec4d7fc537d7170691c3c677bddc1ff4.jpg      \b\b\b\b 23%\b\b\b\b\b  OK \n",
            "Extracting  val/img-468_jpg.rf.2b4c6e14c8c1bb5f760bb238892e3929.jpg      \b\b\b\b 23%\b\b\b\b\b  OK \n",
            "Extracting  val/img-469_jpg.rf.a0f424db1106cf40f7cbbf56698ab5ba.jpg      \b\b\b\b 23%\b\b\b\b\b  OK \n",
            "Extracting  val/img-46_jpg.rf.b479d9e82ab3f93117826289011004a9.jpg       \b\b\b\b 23%\b\b\b\b\b  OK \n",
            "Extracting  val/img-474_jpg.rf.087e72d05f12bbc01d250db1e2e8343b.jpg      \b\b\b\b 23%\b\b\b\b\b  OK \n",
            "Extracting  val/img-485_jpg.rf.7b6a34e38d89caf1f8d97f24298e67b2.jpg      \b\b\b\b 23%\b\b\b\b\b  OK \n",
            "Extracting  val/img-490_jpg.rf.32377cf7b8ee68f6b7faf955aa30ab7b.jpg      \b\b\b\b 24%\b\b\b\b\b  OK \n",
            "Extracting  val/img-491_jpg.rf.b6979774778537b494872c0a743070d6.jpg      \b\b\b\b 24%\b\b\b\b\b  OK \n",
            "Extracting  val/img-492_jpg.rf.9e7685d521951604f29fe48175c0040e.jpg      \b\b\b\b 24%\b\b\b\b\b  OK \n",
            "Extracting  val/img-493_jpg.rf.bb58a09287078393b132cd2b68fe6f29.jpg      \b\b\b\b 24%\b\b\b\b\b  OK \n",
            "Extracting  val/img-495_jpg.rf.3f61bcb802633686f9ce58fe78841711.jpg      \b\b\b\b 24%\b\b\b\b\b  OK \n",
            "Extracting  val/img-497_jpg.rf.2c64d54e6604c392b9fc468079a62835.jpg      \b\b\b\b 24%\b\b\b\b\b  OK \n",
            "Extracting  val/img-499_jpg.rf.8cbc7c8dba292bbadcc34ce63112514c.jpg      \b\b\b\b 25%\b\b\b\b\b  OK \n",
            "Extracting  val/img-50_jpg.rf.d6c31e4e1a8a7cf2821589d31caca674.jpg       \b\b\b\b 25%\b\b\b\b\b  OK \n",
            "Extracting  val/img-511_jpg.rf.94ceff8a653e0f0a77c23165b0c593f9.jpg      \b\b\b\b 25%\b\b\b\b\b  OK \n",
            "Extracting  val/img-516_jpg.rf.d9bff40a3244096755225e1efa7dfeba.jpg      \b\b\b\b 25%\b\b\b\b\b  OK \n",
            "Extracting  val/img-522_jpg.rf.19bb1d8b2dbde293dc2db61b5beb29db.jpg      \b\b\b\b 25%\b\b\b\b\b  OK \n",
            "Extracting  val/img-528_jpg.rf.c63149b7ef386bf6460eaa2554fec266.jpg      \b\b\b\b 26%\b\b\b\b\b  OK \n",
            "Extracting  val/img-529_jpg.rf.395bedb53c0403cfb0f83578d822b6b8.jpg      \b\b\b\b 26%\b\b\b\b\b  OK \n",
            "Extracting  val/img-535_jpg.rf.669fb50bbde250434e606615f9a7a8fa.jpg      \b\b\b\b 26%\b\b\b\b\b  OK \n",
            "Extracting  val/img-540_jpg.rf.ae97ce521cfe27b4be4048ce3639006f.jpg      \b\b\b\b 26%\b\b\b\b\b  OK \n",
            "Extracting  val/img-541_jpg.rf.a93d4341d13182b1ba189ce4caac5b95.jpg      \b\b\b\b 26%\b\b\b\b\b  OK \n",
            "Extracting  val/img-542_jpg.rf.77644450590746c96376f073e2160d29.jpg      \b\b\b\b 26%\b\b\b\b\b  OK \n",
            "Extracting  val/img-543_jpg.rf.38f8a9ae642555e814236470bd45ca06.jpg      \b\b\b\b 26%\b\b\b\b\b  OK \n",
            "Extracting  val/img-544_jpg.rf.1696075b72562916060477389b97635d.jpg      \b\b\b\b 27%\b\b\b\b\b  OK \n",
            "Extracting  val/img-550_jpg.rf.73963e09241885e0b95e88ea797011c9.jpg      \b\b\b\b 27%\b\b\b\b\b  OK \n",
            "Extracting  val/img-556_jpg.rf.1c89285dfe3675fd0e4a7958c48a7a87.jpg      \b\b\b\b 27%\b\b\b\b\b  OK \n",
            "Extracting  val/img-558_jpg.rf.8ea5bd335e315b5c35f3f933216a2fe8.jpg      \b\b\b\b 27%\b\b\b\b\b  OK \n",
            "Extracting  val/img-567_jpg.rf.7fcd2254ecf1d37fbfd8d8d4c83fcc90.jpg      \b\b\b\b 27%\b\b\b\b\b  OK \n",
            "Extracting  val/img-586_jpg.rf.c599e62337598393ee94ecae83a5328a.jpg      \b\b\b\b 27%\b\b\b\b\b  OK \n",
            "Extracting  val/img-591_jpg.rf.fa268af30a7118608f2149617dd18a96.jpg      \b\b\b\b 27%\b\b\b\b\b  OK \n",
            "Extracting  val/img-596_jpg.rf.9b1ad14e1432c973fe3224c2ef8794c3.jpg      \b\b\b\b 27%\b\b\b\b\b  OK \n",
            "Extracting  val/img-597_jpg.rf.4ed3cb021048833cff70c9a21abfece2.jpg      \b\b\b\b 28%\b\b\b\b\b  OK \n",
            "Extracting  val/img-598_jpg.rf.ba92e243f003cf5d3b7951504dc21c8e.jpg      \b\b\b\b 28%\b\b\b\b\b  OK \n",
            "Extracting  val/img-601_jpg.rf.b388f8e7847e536a8d0b4bebf76f2f58.jpg      \b\b\b\b 28%\b\b\b\b\b  OK \n",
            "Extracting  val/img-603_jpg.rf.e1f5bc76f3b1f37d4436652525cd776f.jpg      \b\b\b\b 28%\b\b\b\b\b  OK \n",
            "Extracting  val/img-604_jpg.rf.becbd4b220417ce4d19186e23c348c41.jpg      \b\b\b\b 28%\b\b\b\b\b  OK \n",
            "Extracting  val/img-60_jpg.rf.ab6e2152eae420b9d6ed72067c2d2de4.jpg       \b\b\b\b 29%\b\b\b\b\b  OK \n",
            "Extracting  val/img-611_jpg.rf.b81a7dd560243d748bf81779d88578db.jpg      \b\b\b\b 29%\b\b\b\b\b  OK \n",
            "Extracting  val/img-615_jpg.rf.c957d1dcba988649c6eabf98bae75a26.jpg      \b\b\b\b 29%\b\b\b\b\b  OK \n",
            "Extracting  val/img-629_jpg.rf.fa98ba6e30797471aef7a9b74612cae4.jpg      \b\b\b\b 29%\b\b\b\b\b  OK \n",
            "Extracting  val/img-635_jpg.rf.d927a354594cf6149884c5be3e1823b4.jpg      \b\b\b\b 29%\b\b\b\b\b  OK \n",
            "Extracting  val/img-643_jpg.rf.1a2296e4ddd593550e1d0d142a1a5ea1.jpg      \b\b\b\b 29%\b\b\b\b\b  OK \n",
            "Extracting  val/img-648_jpg.rf.d2a3c4bc4ed7c6677d3c2e333f800fdc.jpg      \b\b\b\b 30%\b\b\b\b\b  OK \n",
            "Extracting  val/img-650_jpg.rf.e88805e59a7f1cc913add78a3fbc5021.jpg      \b\b\b\b 30%\b\b\b\b\b  OK \n",
            "Extracting  val/img-651_jpg.rf.9d23181946069eea42305c4169bc983a.jpg      \b\b\b\b 30%\b\b\b\b\b  OK \n",
            "Extracting  val/img-656_jpg.rf.493ebfd54572f357930a938084268c89.jpg      \b\b\b\b 30%\b\b\b\b\b  OK \n",
            "Extracting  val/img-658_jpg.rf.285e10fe9cbc54d706df8bcc035af5b5.jpg      \b\b\b\b 30%\b\b\b\b\b  OK \n",
            "Extracting  val/img-67_jpg.rf.d56a42fb8a3d344cca532389685a17d3.jpg       \b\b\b\b 30%\b\b\b\b\b  OK \n",
            "Extracting  val/img-69_jpg.rf.5f71daebea71c55717d8ce7f923ba9b6.jpg       \b\b\b\b 31%\b\b\b\b\b  OK \n",
            "Extracting  val/img-77_jpg.rf.34415fbad0c24da0e8f26f852895571b.jpg       \b\b\b\b 31%\b\b\b\b\b  OK \n",
            "Extracting  val/img-7_jpg.rf.9eb7df0def00c9b67f311458e677ea64.jpg        \b\b\b\b 32%\b\b\b\b\b  OK \n",
            "Extracting  val/img-89_jpg.rf.4cc9eb15fe4de48faa685770d8299408.jpg       \b\b\b\b 32%\b\b\b\b\b  OK \n",
            "Extracting  val/img-8_jpg.rf.1476b59188eb2734b6729af69f5cb4dc.jpg        \b\b\b\b 32%\b\b\b\b\b  OK \n",
            "Extracting  val/img-91_jpg.rf.1eba3ec5933f74ea41d434550d5cb3ca.jpg       \b\b\b\b 33%\b\b\b\b\b  OK \n",
            "Extracting  val/img-92_jpg.rf.84aa5ec68c57d302a51b8b0938e4e1c7.jpg       \b\b\b\b 33%\b\b\b\b\b  OK \n",
            "Extracting  val/img-93_jpg.rf.7dc83bef4593a070f4cea15ebec8a527.jpg       \b\b\b\b 34%\b\b\b\b\b  OK \n",
            "Extracting  val/img-94_jpg.rf.26ce6c0878886e2b49b0191cf4f952bb.jpg       \b\b\b\b 34%\b\b\b\b\b  OK \n",
            "Extracting  val/IMG_0028_JPG_jpg.rf.dfd268909f3d8da40aacda9be808aefa.jpg     \b\b\b\b 35%\b\b\b\b\b  OK \n",
            "Extracting  val/IMG_0057_JPG_jpg.rf.deb60b3ee725fa1ace23e45ded99c845.jpg     \b\b\b\b 35%\b\b\b\b\b  OK \n",
            "Extracting  val/IMG_0059_JPG_jpg.rf.e2f440d0ee6928076f9adf6a5e0a6cae.jpg     \b\b\b\b 35%\b\b\b\b\b  OK \n",
            "Extracting  val/IMG_0070_JPG_jpg.rf.65a1fabcf1cd29d6342eaefef1f6b8d4.jpg     \b\b\b\b 35%\b\b\b\b\b  OK \n",
            "Extracting  val/IMG_0129_JPG_jpg.rf.ec0f7fbd40f2c3e5523289e85283da3c.jpg     \b\b\b\b 35%\b\b\b\b\b  OK \n",
            "Extracting  val/IMG_0165_JPG_jpg.rf.68a167fbcdb0e68231491b08cf2300b1.jpg     \b\b\b\b 36%\b\b\b\b\b  OK \n",
            "Extracting  val/IMG_0171_JPG_jpg.rf.e5b94c91ed4b3e5446505a3ba615fd34.jpg     \b\b\b\b 36%\b\b\b\b\b  OK \n",
            "Extracting  val/IMG_0216_JPG_jpg.rf.56b998abcd4085804d8047a5c8056e0f.jpg     \b\b\b\b 36%\b\b\b\b\b  OK \n",
            "Extracting  val/IMG_0226_JPG_jpg.rf.7a33fe0e43bfabf7b6eb69ecc00d5636.jpg     \b\b\b\b 36%\b\b\b\b\b  OK \n",
            "Extracting  val/IMG_0233_JPG_jpg.rf.30ae738f18e9c9a31406d94631d54d15.jpg     \b\b\b\b 36%\b\b\b\b\b  OK \n",
            "Extracting  val/IMG_1232_jpg.rf.229a9662dbdef5d314965f9f739707ac.jpg     \b\b\b\b 37%\b\b\b\b\b  OK \n",
            "Extracting  val/IMG_1234_jpg.rf.fb1b3dbea54e0926c02976ec0ee7ad6c.jpg     \b\b\b\b 37%\b\b\b\b\b  OK \n",
            "Extracting  val/IMG_1235_jpg.rf.a8226dee2015da30d476b32f052e898f.jpg     \b\b\b\b 37%\b\b\b\b\b  OK \n",
            "Extracting  val/IMG_1236_jpg.rf.573b9073ed9fecbede86e523c9553b89.jpg     \b\b\b\b 37%\b\b\b\b\b  OK \n",
            "Extracting  val/IMG_1244_jpg.rf.5c39a4aac42c093a542af7011a953afa.jpg     \b\b\b\b 37%\b\b\b\b\b  OK \n",
            "Extracting  val/IMG_1289_jpg.rf.19b072393d79a0d46f16e05ac0778f6c.jpg     \b\b\b\b 38%\b\b\b\b\b  OK \n",
            "Extracting  val/IMG_1295_jpg.rf.06abe62cde6d5698eb18bf03f86fd795.jpg     \b\b\b\b 38%\b\b\b\b\b  OK \n",
            "Extracting  val/IMG_1297_jpg.rf.eb1fae4ae17f30f6ead121e116fbdc49.jpg     \b\b\b\b 38%\b\b\b\b\b  OK \n",
            "Extracting  val/IMG_1300_jpg.rf.2f93637fac586b22ccc7af5df3e956b6.jpg     \b\b\b\b 38%\b\b\b\b\b  OK \n",
            "Extracting  val/IMG_1302_jpg.rf.806457a5a48c41c7e283b0fe9a500efb.jpg     \b\b\b\b 39%\b\b\b\b\b  OK \n",
            "Extracting  val/IMG_1309_jpg.rf.a6818dccda716134ac4be47c9a9ce05b.jpg     \b\b\b\b 39%\b\b\b\b\b  OK \n",
            "Extracting  val/IMG_1310_jpg.rf.51b186eaf50ded27444e29015d520ec2.jpg     \b\b\b\b 39%\b\b\b\b\b  OK \n",
            "Extracting  val/IMG_1313_jpg.rf.83a4f54e489bdb4bc1f28fc3022a927c.jpg     \b\b\b\b 39%\b\b\b\b\b  OK \n",
            "Extracting  val/IMG_20100101_021938_jpg.rf.bf024a5ecd8dda571b3e66b4ab904d70.jpg     \b\b\b\b 40%\b\b\b\b\b  OK \n",
            "Extracting  val/IMG_20100101_022327_jpg.rf.d12175442792d62f53a35dba91efc11b.jpg     \b\b\b\b 40%\b\b\b\b\b  OK \n",
            "Extracting  val/IMG_20100101_022449_jpg.rf.20cc55a943889801ab418af54d6af5aa.jpg     \b\b\b\b 41%\b\b\b\b\b  OK \n",
            "Extracting  val/IMG_20100101_030622_jpg.rf.46d281623ac0c704466359d51ad3c92a.jpg     \b\b\b\b 41%\b\b\b\b\b  OK \n",
            "Extracting  val/IMG_20100101_031055_jpg.rf.110aa7a4367a96e1da937a72de57b201.jpg     \b\b\b\b 41%\b\b\b\b\b  OK \n",
            "Extracting  val/IMG_20100101_031419_jpg.rf.b36e89c48cb5cddb3a155908d8f46be5.jpg     \b\b\b\b 41%\b\b\b\b\b  OK \n",
            "Extracting  val/IMG_20100101_031438_jpg.rf.15a7e302b224a26fb68c51de57ac8e95.jpg     \b\b\b\b 42%\b\b\b\b\b  OK \n",
            "Extracting  val/IMG_20100101_031618_jpg.rf.ed2a303478a53dddb02d03bb1767d44b.jpg     \b\b\b\b 42%\b\b\b\b\b  OK \n",
            "Extracting  val/IMG_20100101_031805_jpg.rf.fc8b66f6de9cec81cc211a55de355c6b.jpg     \b\b\b\b 42%\b\b\b\b\b  OK \n",
            "Extracting  val/IMG_20100101_031841_jpg.rf.4e3ca899a584bbb38095616905d21cf6.jpg     \b\b\b\b 42%\b\b\b\b\b  OK \n",
            "Extracting  val/IMG_20100101_032037_jpg.rf.b01736c6f72be3cd8fd5f44fdeb10494.jpg     \b\b\b\b 43%\b\b\b\b\b  OK \n",
            "Extracting  val/IMG_20100101_032231_jpg.rf.c8dbfae7fec5d0ee74597b2041721e89.jpg     \b\b\b\b 43%\b\b\b\b\b  OK \n",
            "Extracting  val/IMG_20100101_032317_jpg.rf.54461987a81cbb2bf672d05d8be5efb6.jpg     \b\b\b\b 43%\b\b\b\b\b  OK \n",
            "Extracting  val/IMG_20100101_032347_jpg.rf.9f2ac9573e943fc58b5849ae6c699c02.jpg     \b\b\b\b 44%\b\b\b\b\b  OK \n",
            "Extracting  val/IMG_20100101_032543_jpg.rf.c1464e534bda550140bd26df260d86e1.jpg     \b\b\b\b 44%\b\b\b\b\b  OK \n",
            "Extracting  val/IMG_20100101_033033_jpg.rf.193f2b3a09191359d2d4c3cf73163efd.jpg     \b\b\b\b 44%\b\b\b\b\b  OK \n",
            "Extracting  val/IMG_20100101_033046_jpg.rf.2f2716a78415007a558a499661dee109.jpg     \b\b\b\b 44%\b\b\b\b\b  OK \n",
            "Extracting  val/IMG_20100101_033113_jpg.rf.abc57a49bf8d3c216e36c8f24b14274a.jpg     \b\b\b\b 45%\b\b\b\b\b  OK \n",
            "Extracting  val/IMG_20100101_033139_jpg.rf.8b2cf5b01de7102c4a90145cda6dbda9.jpg     \b\b\b\b 45%\b\b\b\b\b  OK \n",
            "Extracting  val/IMG_20100101_033541_jpg.rf.9703e7391b2c5bba03d3f20d0ca3d5bb.jpg     \b\b\b\b 45%\b\b\b\b\b  OK \n",
            "Extracting  val/IMG_20100101_033626_jpg.rf.13f282ea821a2cea532f64b80fd4aa4d.jpg     \b\b\b\b 46%\b\b\b\b\b  OK \n",
            "Extracting  val/IMG_20180712_221652_jpg.rf.e1110537d2fd48844b9a515848fcbf6e.jpg     \b\b\b\b 46%\b\b\b\b\b  OK \n",
            "Extracting  val/IMG_20180712_221658_jpg.rf.1f0d7a99f9880e028dd28f652f24d9f9.jpg     \b\b\b\b 46%\b\b\b\b\b  OK \n",
            "Extracting  val/IMG_20180713_104848_jpg.rf.d49d99cc4f481ae5b249be54e8719744.jpg     \b\b\b\b 46%\b\b\b\b\b  OK \n",
            "Extracting  val/IMG_20180713_104906_jpg.rf.d9a2ae2b10ea39e0d6c6ad007ccb6846.jpg     \b\b\b\b 46%\b\b\b\b\b  OK \n",
            "Extracting  val/IMG_20180713_105001_jpg.rf.94b83fc6f0cf06a7272144cbb2f8fac4.jpg     \b\b\b\b 47%\b\b\b\b\b  OK \n",
            "Extracting  val/IMG_20180713_105046_jpg.rf.a10801495c6b40a1b7492a4286894b43.jpg     \b\b\b\b 47%\b\b\b\b\b  OK \n",
            "Extracting  val/IMG_20180713_111112_jpg.rf.35f7950cda20eb18ead782dac30240ff.jpg     \b\b\b\b 47%\b\b\b\b\b  OK \n",
            "Extracting  val/IMG_20180713_111144_jpg.rf.72446889fe7d03e4f2692db6db9f8044.jpg     \b\b\b\b 48%\b\b\b\b\b  OK \n",
            "Extracting  val/IMG_20180713_111230_jpg.rf.b502298e574ba6e02cd52ec70d05414c.jpg     \b\b\b\b 48%\b\b\b\b\b  OK \n",
            "Extracting  val/IMG_20180714_102636_jpg.rf.a65e855135406324f7a6f041e6f78471.jpg     \b\b\b\b 49%\b\b\b\b\b  OK \n",
            "Extracting  val/IMG_20180714_102730_jpg.rf.ea20184f07af0a69f153bb8a62e9f332.jpg     \b\b\b\b 49%\b\b\b\b\b  OK \n",
            "Extracting  val/IMG_20180714_102742_jpg.rf.e7780d83add0fc01bdee7919a45393ce.jpg     \b\b\b\b 49%\b\b\b\b\b  OK \n",
            "Extracting  val/IMG_20180714_102747_jpg.rf.fb4160f5b6803e649569ac907dbdf2f7.jpg     \b\b\b\b 50%\b\b\b\b\b  OK \n",
            "Extracting  val/IMG_20180714_103044_jpg.rf.7859da1352b973df10c87ab930a69d76.jpg     \b\b\b\b 50%\b\b\b\b\b  OK \n",
            "Extracting  val/IMG_20180714_103056_jpg.rf.fc56a3d74ca2eb158183003365daeda1.jpg     \b\b\b\b 50%\b\b\b\b\b  OK \n",
            "Extracting  val/IMG_20180714_103155_jpg.rf.9e55153d74353bf4ba5b4b61f4d060f4.jpg     \b\b\b\b 51%\b\b\b\b\b  OK \n",
            "Extracting  val/IMG_20180714_103206_jpg.rf.60eee65dce1b5aaf6488a48759a74728.jpg     \b\b\b\b 51%\b\b\b\b\b  OK \n",
            "Extracting  val/IMG_20180714_103316_jpg.rf.331bd5a9f452472163879a33487c57d4.jpg     \b\b\b\b 52%\b\b\b\b\b  OK \n",
            "Extracting  val/IMG_20180714_103942_jpg.rf.2c52cc4bc72513839f6dbf5ef57e44b4.jpg     \b\b\b\b 52%\b\b\b\b\b  OK \n",
            "Extracting  val/IMG_20180714_104444_jpg.rf.1d81ec22f1a434c4f4dc066b99376852.jpg     \b\b\b\b 52%\b\b\b\b\b  OK \n",
            "Extracting  val/IMG_20180714_104448_jpg.rf.d9af5d862c2abb044d11f70610a9ae96.jpg     \b\b\b\b 53%\b\b\b\b\b  OK \n",
            "Extracting  val/IMG_20180714_105011_jpg.rf.dcd51528d45a6e58a72d65927fd97105.jpg     \b\b\b\b 53%\b\b\b\b\b  OK \n",
            "Extracting  val/IMG_20180714_105052_jpg.rf.1c3f1e89c47e54742ec2584fbbd32bb1.jpg     \b\b\b\b 54%\b\b\b\b\b  OK \n",
            "Extracting  val/IMG_20180717_095109_jpg.rf.adb9fc3fb3a9cc14c1352c34025795ee.jpg     \b\b\b\b 54%\b\b\b\b\b  OK \n",
            "Extracting  val/IMG_20180717_095345_jpg.rf.907b04634e424e16935859d0404f8f69.jpg     \b\b\b\b 54%\b\b\b\b\b  OK \n",
            "Extracting  val/IMG_20180717_095953_jpg.rf.7ac2d09f4369d9e5bb5e643e288097a1.jpg     \b\b\b\b 55%\b\b\b\b\b  OK \n",
            "Extracting  val/IMG_20180717_120936_jpg.rf.583800e40feb7cdc56f3f04d1820865b.jpg     \b\b\b\b 55%\b\b\b\b\b  OK \n",
            "Extracting  val/IMG_20180717_121024_jpg.rf.974342e458cd656215d058c631b309c1.jpg     \b\b\b\b 56%\b\b\b\b\b  OK \n",
            "Extracting  val/IMG_20180717_121252_jpg.rf.6ed4cff82e848c7fcead31fe93a7c40e.jpg     \b\b\b\b 56%\b\b\b\b\b  OK \n",
            "Extracting  val/IMG_20180717_122322_jpg.rf.cd5d883c1bae30bef2a0f762f35026b9.jpg     \b\b\b\b 56%\b\b\b\b\b  OK \n",
            "Extracting  val/IMG_20180717_122348_jpg.rf.d4b0cba159dd77140794484e89c0b761.jpg     \b\b\b\b 56%\b\b\b\b\b  OK \n",
            "Extracting  val/IMG_20180717_122938_jpg.rf.597d91ad7ab2c9c1c953ab7f57b22a56.jpg     \b\b\b\b 57%\b\b\b\b\b  OK \n",
            "Extracting  val/IMG_20180717_123003_jpg.rf.4792e05f5de1e93dc7b55acaf8bd3538.jpg     \b\b\b\b 57%\b\b\b\b\b  OK \n",
            "Extracting  val/IMG_20180717_123156_jpg.rf.229347c41d8551377f72a111f160310a.jpg     \b\b\b\b 57%\b\b\b\b\b  OK \n",
            "Extracting  val/IMG_20180717_123507_jpg.rf.b5e763659a64fd78cac497e223d939a6.jpg     \b\b\b\b 57%\b\b\b\b\b  OK \n",
            "Extracting  val/IMG_20180718_105742_jpg.rf.88e836a08430bdf730ddf348984596da.jpg     \b\b\b\b 57%\b\b\b\b\b  OK \n",
            "Extracting  val/IMG_20180719_123648_jpg.rf.82cd7a0262f2fed96ce9cc6b8d8f1328.jpg     \b\b\b\b 57%\b\b\b\b\b  OK \n",
            "Extracting  val/IMG_20180719_123729_jpg.rf.65e339415d125c94bc706d1998f9c770.jpg     \b\b\b\b 58%\b\b\b\b\b  OK \n",
            "Extracting  val/IMG_20180719_123900_jpg.rf.b76d143dee8f8365dd4571b0ef528435.jpg     \b\b\b\b 58%\b\b\b\b\b  OK \n",
            "Extracting  val/IMG_20180719_124029_jpg.rf.a8e3a182e84c3c6d137bba2128734ca6.jpg     \b\b\b\b 58%\b\b\b\b\b  OK \n",
            "Extracting  val/IMG_20180719_124040_jpg.rf.27da3cc558efe5d8f111c266ba38238f.jpg     \b\b\b\b 59%\b\b\b\b\b  OK \n",
            "Extracting  val/IMG_20180719_124351_jpg.rf.4278444d9a2c8f2a82b14abfc45efff9.jpg     \b\b\b\b 59%\b\b\b\b\b  OK \n",
            "Extracting  val/IMG_20180719_124416_jpg.rf.5a85637294246779ce8b6ade42a2d882.jpg     \b\b\b\b 59%\b\b\b\b\b  OK \n",
            "Extracting  val/IMG_20180719_124651_jpg.rf.ad4a04ffd1ce6154517cafc6ceb524b1.jpg     \b\b\b\b 60%\b\b\b\b\b  OK \n",
            "Extracting  val/IMG_20180719_124828_jpg.rf.8cffcc81940f4dd9cc1622bf8edfca0a.jpg     \b\b\b\b 60%\b\b\b\b\b  OK \n",
            "Extracting  val/IMG_20180719_124903_jpg.rf.cbcbe13487b9f08eb5323108968dae3c.jpg     \b\b\b\b 61%\b\b\b\b\b  OK \n",
            "Extracting  val/IMG_20180719_124906_jpg.rf.890e67916d106868c6b3cc73c656ed11.jpg     \b\b\b\b 61%\b\b\b\b\b  OK \n",
            "Extracting  val/IMG_20180719_141917_jpg.rf.89abe188e645f54a17c25439a2c6f22e.jpg     \b\b\b\b 61%\b\b\b\b\b  OK \n",
            "Extracting  val/IMG_20180719_142001_jpg.rf.7a57b63f36790fbaf65bff397f68c67a.jpg     \b\b\b\b 62%\b\b\b\b\b  OK \n",
            "Extracting  val/IMG_20180719_142738_jpg.rf.b0d67b716e6de07ba0ea5fd5af246d27.jpg     \b\b\b\b 62%\b\b\b\b\b  OK \n",
            "Extracting  val/IMG_20180719_142911_jpg.rf.64d8128441bde6e5e142feeb018c64ab.jpg     \b\b\b\b 62%\b\b\b\b\b  OK \n",
            "Extracting  val/IMG_20180719_142920_jpg.rf.44a9f065342804725c6d38c5cc909a10.jpg     \b\b\b\b 63%\b\b\b\b\b  OK \n",
            "Extracting  val/IMG_20180719_143203_jpg.rf.5dd1e1aa3c5ab246a09f280fe996d135.jpg     \b\b\b\b 63%\b\b\b\b\b  OK \n",
            "Extracting  val/IMG_20180719_143623_jpg.rf.c7cfe1fabfd0283215bd2b5f5d42ae36.jpg     \b\b\b\b 63%\b\b\b\b\b  OK \n",
            "Extracting  val/IMG_20180720_123404_jpg.rf.aca59f5245838e700b6ced6ec79075ad.jpg     \b\b\b\b 63%\b\b\b\b\b  OK \n",
            "Extracting  val/IMG_20180720_124227_jpg.rf.6c6e76d10b61066a29bff2d397237800.jpg     \b\b\b\b 64%\b\b\b\b\b  OK \n",
            "Extracting  val/IMG_20180720_124326_jpg.rf.24fa2270701f1163e2eaeac8f7b51cdc.jpg     \b\b\b\b 64%\b\b\b\b\b  OK \n",
            "Extracting  val/IMG_20180720_124636_jpg.rf.ba61d52ed4cde2b48b3c6778657f600b.jpg     \b\b\b\b 65%\b\b\b\b\b  OK \n",
            "Extracting  val/IMG_20180720_124841_jpg.rf.7ab5d85c2afe2352907613ac0c75ecd6.jpg     \b\b\b\b 65%\b\b\b\b\b  OK \n",
            "Extracting  val/IMG_20180720_141121_jpg.rf.f2fac87819506a6b52b4614bfcf2d36c.jpg     \b\b\b\b 65%\b\b\b\b\b  OK \n",
            "Extracting  val/IMG_20180720_141537_jpg.rf.dd693ab66ce9dd091f9c1b3ce6cfc9d3.jpg     \b\b\b\b 65%\b\b\b\b\b  OK \n",
            "Extracting  val/IMG_20180720_142150_jpg.rf.28f78cd7cadb08ffe37ddf23cc7c21c7.jpg     \b\b\b\b 66%\b\b\b\b\b  OK \n",
            "Extracting  val/IMG_20180720_142216_jpg.rf.0718a74f455ffd5c00a217942e774cad.jpg     \b\b\b\b 66%\b\b\b\b\b  OK \n",
            "Extracting  val/IMG_20180720_142458_jpg.rf.f34052a2b1a46b984fda70d784ab9c8d.jpg     \b\b\b\b 66%\b\b\b\b\b  OK \n",
            "Extracting  val/IMG_20180720_142545_jpg.rf.b6c139e7fb332b68c10b5f8a909c9fe2.jpg     \b\b\b\b 67%\b\b\b\b\b  OK \n",
            "Extracting  val/IMG_20180720_143136_jpg.rf.dc00f04739fdd7345daba55b9d783cf4.jpg     \b\b\b\b 67%\b\b\b\b\b  OK \n",
            "Extracting  val/IMG_20180720_143319_jpg.rf.c09b131dd47df35d5aa844928950759a.jpg     \b\b\b\b 68%\b\b\b\b\b  OK \n",
            "Extracting  val/IMG_20180721_090036_jpg.rf.35d3279a9f92b19ce85c7dc601026c77.jpg     \b\b\b\b 68%\b\b\b\b\b  OK \n",
            "Extracting  val/IMG_20180721_090331_jpg.rf.e42370df8425b46becb951cfcc53cbcb.jpg     \b\b\b\b 68%\b\b\b\b\b  OK \n",
            "Extracting  val/IMG_20180721_090336_jpg.rf.3d35f3207b1660e911825bb45cbc291d.jpg     \b\b\b\b 69%\b\b\b\b\b  OK \n",
            "Extracting  val/IMG_20180721_090501_jpg.rf.12455797f3760e147d80fe836b515176.jpg     \b\b\b\b 69%\b\b\b\b\b  OK \n",
            "Extracting  val/IMG_20180721_090506_jpg.rf.d6d981ad3addbe122a5047b3528bd841.jpg     \b\b\b\b 69%\b\b\b\b\b  OK \n",
            "Extracting  val/IMG_20180721_090612_jpg.rf.6add2475f7c266acb01e9474540e9154.jpg     \b\b\b\b 70%\b\b\b\b\b  OK \n",
            "Extracting  val/IMG_20180721_090845_jpg.rf.5e472fc2b416786f1c78cadb82b441e9.jpg     \b\b\b\b 70%\b\b\b\b\b  OK \n",
            "Extracting  val/IMG_20180721_090955_jpg.rf.63e6e1eb500238ed780edebbe22968e3.jpg     \b\b\b\b 71%\b\b\b\b\b  OK \n",
            "Extracting  val/IMG_20180721_091241_jpg.rf.344d1cead9ccda7b8be081f4e0daeb56.jpg     \b\b\b\b 71%\b\b\b\b\b  OK \n",
            "Extracting  val/IMG_20180721_091425_jpg.rf.03e8577a3d89e625dd1ab991ca143bc7.jpg     \b\b\b\b 71%\b\b\b\b\b  OK \n",
            "Extracting  val/IMG_20180721_091705_jpg.rf.28e9a68796701f355eb34b4a2b136ec6.jpg     \b\b\b\b 71%\b\b\b\b\b  OK \n",
            "Extracting  val/IMG_20180721_091749_jpg.rf.382f1f84236b91b812e8b847778c0ee9.jpg     \b\b\b\b 72%\b\b\b\b\b  OK \n",
            "Extracting  val/IMG_20180723_122033_jpg.rf.104e7e927e7e1873bbbb93c3a49dea4b.jpg     \b\b\b\b 72%\b\b\b\b\b  OK \n",
            "Extracting  val/IMG_20180723_122049_jpg.rf.2597b2bd3e9c0786f174bf9466ad7c88.jpg     \b\b\b\b 73%\b\b\b\b\b  OK \n",
            "Extracting  val/IMG_20180723_122303_jpg.rf.d757851730a44005984dcb35e52661d8.jpg     \b\b\b\b 73%\b\b\b\b\b  OK \n",
            "Extracting  val/IMG_20180723_122338_jpg.rf.c948b2719199517adef004e8b2fc32b7.jpg     \b\b\b\b 74%\b\b\b\b\b  OK \n",
            "Extracting  val/IMG_20180723_122450_jpg.rf.5394ebd0f2dd8d4e3ab683eb46599e0c.jpg     \b\b\b\b 74%\b\b\b\b\b  OK \n",
            "Extracting  val/IMG_20180723_122536_jpg.rf.85163e8d17a4299b7ca6984538ef2d66.jpg     \b\b\b\b 75%\b\b\b\b\b  OK \n",
            "Extracting  val/IMG_20180723_122546_jpg.rf.7238f87e95653f05aeff62bba13112ae.jpg     \b\b\b\b 75%\b\b\b\b\b  OK \n",
            "Extracting  val/IMG_20180723_122751_jpg.rf.5929c741377c2927052a49cee9f49363.jpg     \b\b\b\b 76%\b\b\b\b\b  OK \n",
            "Extracting  val/IMG_20180723_122918_jpg.rf.21a7bffa27111f502aec6b7c850303f4.jpg     \b\b\b\b 76%\b\b\b\b\b  OK \n",
            "Extracting  val/IMG_20180723_123119_jpg.rf.39bbf494537612330f7fb87b7589b6d5.jpg     \b\b\b\b 77%\b\b\b\b\b  OK \n",
            "Extracting  val/IMG_20180723_123225_jpg.rf.ccd8fb8109af31a63335063c51513be0.jpg     \b\b\b\b 77%\b\b\b\b\b  OK \n",
            "Extracting  val/IMG_20180723_123420_jpg.rf.1f3b2186069f2fb3a349f3c802bcb89b.jpg     \b\b\b\b 77%\b\b\b\b\b  OK \n",
            "Extracting  val/IMG_20180723_123428_jpg.rf.ddb472b9799d7c8767c4e753b271e5ac.jpg     \b\b\b\b 78%\b\b\b\b\b  OK \n",
            "Extracting  val/IMG_20180723_123624_jpg.rf.c5f90d8add63065a9e478992c105ef6b.jpg     \b\b\b\b 78%\b\b\b\b\b  OK \n",
            "Extracting  val/IMG_20180723_124522_jpg.rf.5cec747fbc970087f8bbcb317fc6c3a5.jpg     \b\b\b\b 78%\b\b\b\b\b  OK \n",
            "Extracting  val/IMG_20180723_144921_jpg.rf.4836ce7dd10d0a44cfe7a839652c64da.jpg     \b\b\b\b 79%\b\b\b\b\b  OK \n",
            "Extracting  val/IMG_20180723_145027_jpg.rf.18dc26693cb64782d00c74be3e7e2c81.jpg     \b\b\b\b 79%\b\b\b\b\b  OK \n",
            "Extracting  val/IMG_20180723_145350_jpg.rf.86a50f30927f0a3c4b9e7f3dea0bb67c.jpg     \b\b\b\b 79%\b\b\b\b\b  OK \n",
            "Extracting  val/IMG_20180723_145733_jpg.rf.9ad75a5d306b4a94a56b98435322b8a1.jpg     \b\b\b\b 80%\b\b\b\b\b  OK \n",
            "Extracting  val/IMG_20180723_145827_jpg.rf.62168f8cd1655957255947abdcf46322.jpg     \b\b\b\b 80%\b\b\b\b\b  OK \n",
            "Extracting  val/IMG_20180723_145924_jpg.rf.20cfed15885d2700790ea33d6c526b72.jpg     \b\b\b\b 80%\b\b\b\b\b  OK \n",
            "Extracting  val/IMG_20180723_150044_jpg.rf.388eb1e2223208158731705e32f8b907.jpg     \b\b\b\b 81%\b\b\b\b\b  OK \n",
            "Extracting  val/IMG_20180723_150054_jpg.rf.620779539aab4de8db105b96b2ef1689.jpg     \b\b\b\b 81%\b\b\b\b\b  OK \n",
            "Extracting  val/IMG_20180723_152110_jpg.rf.e9825da620d5741e032db5687f3cb2bc.jpg     \b\b\b\b 81%\b\b\b\b\b  OK \n",
            "Extracting  val/IMG_20180724_120909_jpg.rf.63cb872ed138426a8d3351d086ea69ae.jpg     \b\b\b\b 81%\b\b\b\b\b  OK \n",
            "Extracting  val/IMG_20180724_121144_jpg.rf.93d393c6031f1067e436edf1fe61d8d0.jpg     \b\b\b\b 82%\b\b\b\b\b  OK \n",
            "Extracting  val/IMG_20180724_121910_jpg.rf.e551398d5dcfb1cb90a8ac52ca160610.jpg     \b\b\b\b 82%\b\b\b\b\b  OK \n",
            "Extracting  val/IMG_20180724_122106_jpg.rf.cf6a616fe23d2d91f9e609c0096061f5.jpg     \b\b\b\b 82%\b\b\b\b\b  OK \n",
            "Extracting  val/IMG_20180724_122143_jpg.rf.47f011e389420a11e1de71d534225404.jpg     \b\b\b\b 83%\b\b\b\b\b  OK \n",
            "Extracting  val/IMG_20180724_122525_jpg.rf.61e648b6bad2f5a472543f11988d2287.jpg     \b\b\b\b 83%\b\b\b\b\b  OK \n",
            "Extracting  val/IMG_20180724_122629_jpg.rf.5a539e090c30d079f4628ba23d2696f9.jpg     \b\b\b\b 83%\b\b\b\b\b  OK \n",
            "Extracting  val/IMG_20180724_122659_jpg.rf.153c5a8af233da9cfcfa4e51d1565587.jpg     \b\b\b\b 83%\b\b\b\b\b  OK \n",
            "Extracting  val/IMG_20180724_122840_jpg.rf.e44f6a21545c48b7d847cd0587659cda.jpg     \b\b\b\b 84%\b\b\b\b\b  OK \n",
            "Extracting  val/IMG_20180724_123818_jpg.rf.fb5bd9cd1cf77f681f496f70bb7391ec.jpg     \b\b\b\b 84%\b\b\b\b\b  OK \n",
            "Extracting  val/IMG_20180724_124210_jpg.rf.052b1d3961c73cb5314c7414d7b627a3.jpg     \b\b\b\b 84%\b\b\b\b\b  OK \n",
            "Extracting  val/IMG_20180724_124239_jpg.rf.8011e806e5bf9cbe6969f395b2af9904.jpg     \b\b\b\b 85%\b\b\b\b\b  OK \n",
            "Extracting  val/IMG_20180724_124532_jpg.rf.13a33f5016d36ef75664b93af19c21c8.jpg     \b\b\b\b 85%\b\b\b\b\b  OK \n",
            "Extracting  val/IMG_20180724_124612_jpg.rf.3db018e5df81206d1791d5bfb8391594.jpg     \b\b\b\b 86%\b\b\b\b\b  OK \n",
            "Extracting  val/IMG_20180724_124820_jpg.rf.d775e51d048feb499020aff1c862c6c0.jpg     \b\b\b\b 86%\b\b\b\b\b  OK \n",
            "Extracting  val/IMG_20180724_124833_jpg.rf.b7ea489f96e9bba3398996207204d92c.jpg     \b\b\b\b 86%\b\b\b\b\b  OK \n",
            "Extracting  val/IMG_20180724_124841_jpg.rf.ef19f4a37535c11268988e96a9911461.jpg     \b\b\b\b 87%\b\b\b\b\b  OK \n",
            "Extracting  val/IMG_20180724_124918_jpg.rf.ff2f03ebe9c4b9cff73f8d5eb48bd0ab.jpg     \b\b\b\b 87%\b\b\b\b\b  OK \n",
            "Extracting  val/IMG_20180724_125258_jpg.rf.9008e8c686d7e6abd799a7188da506a1.jpg     \b\b\b\b 88%\b\b\b\b\b  OK \n",
            "Extracting  val/IMG_20180724_125339_jpg.rf.ee79fead55b1873a7f7314dacc605094.jpg     \b\b\b\b 88%\b\b\b\b\b  OK \n",
            "Extracting  val/IMG_20180724_125420_jpg.rf.a4099bca7ddca2b1b526d8ee5dd5b2d3.jpg     \b\b\b\b 88%\b\b\b\b\b  OK \n",
            "Extracting  val/IMG_20180724_130053_jpg.rf.5655c579156a8e758eb8460335f7e204.jpg     \b\b\b\b 89%\b\b\b\b\b  OK \n",
            "Extracting  val/IMG_20180725_113912_jpg.rf.95e58e81d22ff8f0aaec4a4a2b09833c.jpg     \b\b\b\b 89%\b\b\b\b\b  OK \n",
            "Extracting  val/IMG_20180725_114159_jpg.rf.a5ef79945a4490902931b5358b92babf.jpg     \b\b\b\b 89%\b\b\b\b\b  OK \n",
            "Extracting  val/IMG_20180725_115651_jpg.rf.d51e57663a9f01411af05835f39d7f7d.jpg     \b\b\b\b 90%\b\b\b\b\b  OK \n",
            "Extracting  val/IMG_20180725_120338_jpg.rf.0cb5290b5974ddd3cf2afcddec4d33b8.jpg     \b\b\b\b 90%\b\b\b\b\b  OK \n",
            "Extracting  val/IMG_20180725_120349_jpg.rf.3466b74b55e2939ae31f289c095c2d4c.jpg     \b\b\b\b 91%\b\b\b\b\b  OK \n",
            "Extracting  val/IMG_20180725_121811_jpg.rf.2324c24bc44e6ee0ec6bf48215dc6ef0.jpg     \b\b\b\b 91%\b\b\b\b\b  OK \n",
            "Extracting  val/IMG_20180725_121952_jpg.rf.5a2837cd1a158bd1757eb57b775026f3.jpg     \b\b\b\b 91%\b\b\b\b\b  OK \n",
            "Extracting  val/IMG_20180725_122025_jpg.rf.d6e2c120498452108a6ff8e056dae615.jpg     \b\b\b\b 92%\b\b\b\b\b  OK \n",
            "Extracting  val/IMG_20180725_122619_jpg.rf.6cbd0f5eeb5b4279a02815ae18e9ea51.jpg     \b\b\b\b 92%\b\b\b\b\b  OK \n",
            "Extracting  val/IMG_20180725_122754_jpg.rf.15f07d6829c26b1859df2f6ff1917ea3.jpg     \b\b\b\b 92%\b\b\b\b\b  OK \n",
            "Extracting  val/IMG_20180725_142219_jpg.rf.bcf6c9f9205a19ea441ee4ab149722fa.jpg     \b\b\b\b 92%\b\b\b\b\b  OK \n",
            "Extracting  val/IMG_20180726_122322_jpg.rf.b3d6d87dd3e218890d1fcdf477df9415.jpg     \b\b\b\b 93%\b\b\b\b\b  OK \n",
            "Extracting  val/IMG_20180726_122552_jpg.rf.5d785bd8486c19c59c66b3ba350ac22d.jpg     \b\b\b\b 93%\b\b\b\b\b  OK \n",
            "Extracting  val/IMG_20180726_122605_jpg.rf.82c8b348ba1ef55ea9dd06184e62a908.jpg     \b\b\b\b 93%\b\b\b\b\b  OK \n",
            "Extracting  val/IMG_20180726_122706_jpg.rf.08058dcd99c9cb00844dbc508a7db209.jpg     \b\b\b\b 94%\b\b\b\b\b  OK \n",
            "Extracting  val/IMG_20180726_123002_jpg.rf.b1569e009236b844f1ff94a2751c8a91.jpg     \b\b\b\b 94%\b\b\b\b\b  OK \n",
            "Extracting  val/IMG_20180726_123103_jpg.rf.08d74ec3b8b17b7b83c720277249410e.jpg     \b\b\b\b 94%\b\b\b\b\b  OK \n",
            "Extracting  val/IMG_20180727_122948_jpg.rf.b443c102bea9ed579c785861289e8455.jpg     \b\b\b\b 94%\b\b\b\b\b  OK \n",
            "Extracting  val/IMG_20180804_110552_jpg.rf.93ba1d54208c0b6cc14782b19d353dad.jpg     \b\b\b\b 95%\b\b\b\b\b  OK \n",
            "Extracting  val/IMG_20180806_075151_jpg.rf.51b94944af416e4b88624db342eec00f.jpg     \b\b\b\b 95%\b\b\b\b\b  OK \n",
            "Extracting  val/IMG_20180810_082705_jpg.rf.cfd38184db22e46a72a69bc23e4027c5.jpg     \b\b\b\b 95%\b\b\b\b\b  OK \n",
            "Extracting  val/IMG_20180810_090316_jpg.rf.b5de53a233a8db0b5825aad73c1311be.jpg     \b\b\b\b 96%\b\b\b\b\b  OK \n",
            "Extracting  val/IMG_20180810_090415_jpg.rf.707fb2d22a9329b3841fd1483cf3e63d.jpg     \b\b\b\b 96%\b\b\b\b\b  OK \n",
            "Extracting  val/IMG_20180810_090524_jpg.rf.088aca82b830f3ac5c1c247bb7ab7d39.jpg     \b\b\b\b 96%\b\b\b\b\b  OK \n",
            "Extracting  val/IMG_20180810_090618_jpg.rf.77cabebb01d2cbfdc1ea12d587cf8b9d.jpg     \b\b\b\b 97%\b\b\b\b\b  OK \n",
            "Extracting  val/IMG_20180810_091648_jpg.rf.c612bb1b62a804deed80e68c5c4ba9ac.jpg     \b\b\b\b 97%\b\b\b\b\b  OK \n",
            "Extracting  val/IMG_20180810_092729_jpg.rf.4fb15945bba8ec6e19ffa6a5f68b8f79.jpg     \b\b\b\b 97%\b\b\b\b\b  OK \n",
            "Extracting  val/IMG_20180811_083505_jpg.rf.d0721d190d00c3dff8f637fd0b4a71fc.jpg     \b\b\b\b 98%\b\b\b\b\b  OK \n",
            "Extracting  val/IMG_20180811_083703_jpg.rf.c099dca361733838172076d9eb5d0ab1.jpg     \b\b\b\b 98%\b\b\b\b\b  OK \n",
            "Extracting  val/IMG_20180811_083858_jpg.rf.af2d13be3dd50a280b7c59c9727085b2.jpg     \b\b\b\b 98%\b\b\b\b\b  OK \n",
            "Extracting  val/IMG_20180811_083929_jpg.rf.804a0c4530e9e72167b68eec8df1e91e.jpg     \b\b\b\b 99%\b\b\b\b\b  OK \n",
            "Extracting  val/IMG_20180811_083933_jpg.rf.d82c322415145247859723ea318a9ad3.jpg     \b\b\b\b 99%\b\b\b\b\b  OK \n",
            "Extracting  val/IMG_20180811_083937_jpg.rf.d268598a32bc1d38cfd763f0162e3ba1.jpg     \b\b\b\b 99%\b\b\b\b\b  OK \n",
            "Extracting  val/IMG_20180811_084022_jpg.rf.82a378e879ed8dc7a7b3a10b12419c22.jpg     \b\b\b\b 99%\b\b\b\b\b  OK \n",
            "Extracting  val/IMG_20180811_084336_jpg.rf.f5881da63dfd174ddebd4f528c807a9f.jpg     \b\b\b\b 99%\b\b\b\b\b  OK \n",
            "All OK\n"
          ]
        }
      ]
    },
    {
      "cell_type": "code",
      "source": [
        "!unrar x train.rar"
      ],
      "metadata": {
        "colab": {
          "base_uri": "https://localhost:8080/"
        },
        "id": "7wInTjeb6x_-",
        "outputId": "387a9b2c-2ad3-4c2a-9950-1718500d56c3"
      },
      "execution_count": null,
      "outputs": [
        {
          "output_type": "stream",
          "name": "stdout",
          "text": [
            "\n",
            "UNRAR 6.11 beta 1 freeware      Copyright (c) 1993-2022 Alexander Roshal\n",
            "\n",
            "\n",
            "Extracting from train.rar\n",
            "\n",
            "Creating    train                                                     OK\n",
            "Extracting  train/img-100_jpg.rf.233751cac3399aa80b5e58a2afbb753a.jpg     \b\b\b\b  0%\b\b\b\b\b  OK \n",
            "Extracting  train/img-101_jpg.rf.f213d98946c4f8858a5bf3200c89e39c.jpg     \b\b\b\b  0%\b\b\b\b\b  OK \n",
            "Extracting  train/img-102_jpg.rf.16c56ff8f761aec963d9b57aa1b2d3fd.jpg     \b\b\b\b  0%\b\b\b\b\b  OK \n",
            "Extracting  train/img-103_jpg.rf.09abf1a8e3477718e143255af3534d29.jpg     \b\b\b\b  0%\b\b\b\b\b  OK \n",
            "Extracting  train/img-108_jpg.rf.a35e86abc558a98f252bfc10e49fd6d9.jpg     \b\b\b\b  0%\b\b\b\b\b  OK \n",
            "Extracting  train/img-109_jpg.rf.add373710d0d425bd9340c33878e7d42.jpg     \b\b\b\b  0%\b\b\b\b\b  OK \n",
            "Extracting  train/img-10_jpg.rf.eaceaaa6f119cf6eb49edc1bc92efaa2.jpg     \b\b\b\b  0%\b\b\b\b\b  OK \n",
            "Extracting  train/img-110_jpg.rf.0390f81a2c5b2ad5676a8eb5b043d743.jpg     \b\b\b\b  0%\b\b\b\b\b  OK \n",
            "Extracting  train/img-111_jpg.rf.d7e58630e249c45d8c1d564d847dc236.jpg     \b\b\b\b  1%\b\b\b\b\b  OK \n",
            "Extracting  train/img-113_jpg.rf.31b41591a5e0c7b0aa02e133e79e1e2a.jpg     \b\b\b\b  1%\b\b\b\b\b  OK \n",
            "Extracting  train/img-114_jpg.rf.b58901654a45a559a41ffaa25f1bf741.jpg     \b\b\b\b  1%\b\b\b\b\b  OK \n",
            "Extracting  train/img-115_jpg.rf.ebc1ec2d7bb5caf80d06511d74f9e2da.jpg     \b\b\b\b  1%\b\b\b\b\b  OK \n",
            "Extracting  train/img-117_jpg.rf.56a7e3b29e60b28e25b3f4a3c7817605.jpg     \b\b\b\b  1%\b\b\b\b\b  OK \n",
            "Extracting  train/img-119_jpg.rf.5df904c99a0e765190d9421a4bf04bc6.jpg     \b\b\b\b  1%\b\b\b\b\b  OK \n",
            "Extracting  train/img-11_jpg.rf.b7a2e18571a53d7512f101f224b7c794.jpg     \b\b\b\b  1%\b\b\b\b\b  OK \n",
            "Extracting  train/img-121_jpg.rf.d202af2960b0bb1928539a6fcb3cdbfd.jpg     \b\b\b\b  1%\b\b\b\b\b  OK \n",
            "Extracting  train/img-123_jpg.rf.8ae4c2726246a3dea5d41f6ba3a64639.jpg     \b\b\b\b  2%\b\b\b\b\b  OK \n",
            "Extracting  train/img-124_jpg.rf.fdc89fc9a29a16b57ad54dd3c63e7952.jpg     \b\b\b\b  2%\b\b\b\b\b  OK \n",
            "Extracting  train/img-126_jpg.rf.eab9b684c8570533e5cd43517776eeec.jpg     \b\b\b\b  2%\b\b\b\b\b  OK \n",
            "Extracting  train/img-127_jpg.rf.cda9134fdf2c217082118b38d27fd7ee.jpg     \b\b\b\b  2%\b\b\b\b\b  OK \n",
            "Extracting  train/img-128_jpg.rf.6d1435fcdbcb19d4ff22f1d865026470.jpg     \b\b\b\b  2%\b\b\b\b\b  OK \n",
            "Extracting  train/img-129_jpg.rf.fbd5c4841019062274b4e9d1daeab4c3.jpg     \b\b\b\b  2%\b\b\b\b\b  OK \n",
            "Extracting  train/img-12_jpg.rf.473a95f653f8c7227e4bc5c73f8ed19b.jpg     \b\b\b\b  2%\b\b\b\b\b  OK \n",
            "Extracting  train/img-131_jpg.rf.6bc87513d54494e92b56968b81d290b5.jpg     \b\b\b\b  2%\b\b\b\b\b  OK \n",
            "Extracting  train/img-134_jpg.rf.833f57b2c592a23189208dcb656eaaa2.jpg     \b\b\b\b  2%\b\b\b\b\b  OK \n",
            "Extracting  train/img-135_jpg.rf.5f0fb06ed79bee89c8378fc74adf59ec.jpg     \b\b\b\b  3%\b\b\b\b\b  OK \n",
            "Extracting  train/img-136_jpg.rf.3372e97742e4ded8b208f90043981012.jpg     \b\b\b\b  3%\b\b\b\b\b  OK \n",
            "Extracting  train/img-137_jpg.rf.5c3cf778bb884760e276baacc8372f66.jpg     \b\b\b\b  3%\b\b\b\b\b  OK \n",
            "Extracting  train/img-138_jpg.rf.ec6549719f138be69aa49f6cdc068227.jpg     \b\b\b\b  3%\b\b\b\b\b  OK \n",
            "Extracting  train/img-139_jpg.rf.af2a2cdcef3c3e01d9ad30e9f058e93e.jpg     \b\b\b\b  3%\b\b\b\b\b  OK \n",
            "Extracting  train/img-13_jpg.rf.a4db51428d0461f9ed82e12eb6d87a03.jpg     \b\b\b\b  3%\b\b\b\b\b  OK \n",
            "Extracting  train/img-141_jpg.rf.9fb75a7f4520090a669516f6c16c105e.jpg     \b\b\b\b  3%\b\b\b\b\b  OK \n",
            "Extracting  train/img-142_jpg.rf.324ee78ee3122e5a751d32198a2e11cb.jpg     \b\b\b\b  3%\b\b\b\b\b  OK \n",
            "Extracting  train/img-143_jpg.rf.b4553a89ca02d904d7d3d8b601d92033.jpg     \b\b\b\b  3%\b\b\b\b\b  OK \n",
            "Extracting  train/img-144_jpg.rf.2e98a93812eee1ad65ad7e3f9f5620ad.jpg     \b\b\b\b  4%\b\b\b\b\b  OK \n",
            "Extracting  train/img-148_jpg.rf.eddf84184c0a99958850113c36e7b754.jpg     \b\b\b\b  4%\b\b\b\b\b  OK \n",
            "Extracting  train/img-149_jpg.rf.44eff0efcbd1ccfa08da8768642f71c9.jpg     \b\b\b\b  4%\b\b\b\b\b  OK \n",
            "Extracting  train/img-150_jpg.rf.f3ebd01cb708363657a8f21645c06c39.jpg     \b\b\b\b  4%\b\b\b\b\b  OK \n",
            "Extracting  train/img-151_jpg.rf.52e5bb5d308649772ceef0bfcde24f96.jpg     \b\b\b\b  4%\b\b\b\b\b  OK \n",
            "Extracting  train/img-152_jpg.rf.621b5126c90ae5176bc3d2415fda4fe8.jpg     \b\b\b\b  4%\b\b\b\b\b  OK \n",
            "Extracting  train/img-155_jpg.rf.7c1dd28f3db86d175cca8437cece1d08.jpg     \b\b\b\b  4%\b\b\b\b\b  OK \n",
            "Extracting  train/img-156_jpg.rf.ff820d5c1ff5fc1a1fc27fa5647cc146.jpg     \b\b\b\b  4%\b\b\b\b\b  OK \n",
            "Extracting  train/img-157_jpg.rf.764e348f9144fed2fd906c23ff15afe5.jpg     \b\b\b\b  4%\b\b\b\b\b  OK \n",
            "Extracting  train/img-158_jpg.rf.80110529bda206547f2c5482abfca272.jpg     \b\b\b\b  5%\b\b\b\b\b  OK \n",
            "Extracting  train/img-159_jpg.rf.9a2234e70393ae42ad518c7c34b031c5.jpg     \b\b\b\b  5%\b\b\b\b\b  OK \n",
            "Extracting  train/img-15_jpg.rf.b937fa68f73a1ee37d832a279f432941.jpg     \b\b\b\b  5%\b\b\b\b\b  OK \n",
            "Extracting  train/img-160_jpg.rf.ef4e05f9ef187938ab9bd0321c4dcf4d.jpg     \b\b\b\b  5%\b\b\b\b\b  OK \n",
            "Extracting  train/img-162_jpg.rf.0459e44683fd65132e9e2558f7cfcc6a.jpg     \b\b\b\b  5%\b\b\b\b\b  OK \n",
            "Extracting  train/img-163_jpg.rf.232bf43b16b71f5c5581f7d908e3e253.jpg     \b\b\b\b  5%\b\b\b\b\b  OK \n",
            "Extracting  train/img-164_jpg.rf.cb6665fd71f9ea53c23dc545be31d2e1.jpg     \b\b\b\b  5%\b\b\b\b\b  OK \n",
            "Extracting  train/img-165_jpg.rf.a4b4be5d004a62f1bbf126232edb2785.jpg     \b\b\b\b  5%\b\b\b\b\b  OK \n",
            "Extracting  train/img-167_jpg.rf.a2c9b6a4a769135a8f5f7e671b636ac8.jpg     \b\b\b\b  6%\b\b\b\b\b  OK \n",
            "Extracting  train/img-169_jpg.rf.9ad23ea6b668a59c48e362859efe3515.jpg     \b\b\b\b  6%\b\b\b\b\b  OK \n",
            "Extracting  train/img-16_jpg.rf.3018a4883623e53e929435fc084c2200.jpg     \b\b\b\b  6%\b\b\b\b\b  OK \n",
            "Extracting  train/img-170_jpg.rf.448c70ae76619d82c629389410701f9c.jpg     \b\b\b\b  6%\b\b\b\b\b  OK \n",
            "Extracting  train/img-172_jpg.rf.d849de955bfb8608552f1adf347f3ef1.jpg     \b\b\b\b  6%\b\b\b\b\b  OK \n",
            "Extracting  train/img-174_jpg.rf.63afee69864babbb4a21a4b8d2eff7d9.jpg     \b\b\b\b  6%\b\b\b\b\b  OK \n",
            "Extracting  train/img-175_jpg.rf.edaa0f7c577755474ff285ff38eec09e.jpg     \b\b\b\b  6%\b\b\b\b\b  OK \n",
            "Extracting  train/img-176_jpg.rf.36e2a3416c78152aeb6ea6f1a20e2ea9.jpg     \b\b\b\b  6%\b\b\b\b\b  OK \n",
            "Extracting  train/img-177_jpg.rf.218561bceb58b04e0bf46a7c297179a0.jpg     \b\b\b\b  6%\b\b\b\b\b  OK \n",
            "Extracting  train/img-178_jpg.rf.d97b9cc2a1e25824ea668642fe4df36e.jpg     \b\b\b\b  7%\b\b\b\b\b  OK \n",
            "Extracting  train/img-17_jpg.rf.66c2a0fce4e0de3bf1d6d6c6101b1d2e.jpg     \b\b\b\b  7%\b\b\b\b\b  OK \n",
            "Extracting  train/img-180_jpg.rf.23e2fffafadf7ef2741d68402213261b.jpg     \b\b\b\b  7%\b\b\b\b\b  OK \n",
            "Extracting  train/img-181_jpg.rf.27e6333bebd7c84f8b89871c21b1608b.jpg     \b\b\b\b  7%\b\b\b\b\b  OK \n",
            "Extracting  train/img-182_jpg.rf.4a3748ca6898a245a5474d963734c12f.jpg     \b\b\b\b  7%\b\b\b\b\b  OK \n",
            "Extracting  train/img-183_jpg.rf.4358b5ae9b05895a41d00d84a0e17ec7.jpg     \b\b\b\b  7%\b\b\b\b\b  OK \n",
            "Extracting  train/img-185_jpg.rf.98a5add77bc81de0d192cd6c6a50f933.jpg     \b\b\b\b  7%\b\b\b\b\b  OK \n",
            "Extracting  train/img-186_jpg.rf.c354a07266904a6e8212056359600aec.jpg     \b\b\b\b  7%\b\b\b\b\b  OK \n",
            "Extracting  train/img-187_jpg.rf.a5d70ec1463db2d5d0c48ef494605977.jpg     \b\b\b\b  7%\b\b\b\b\b  OK \n",
            "Extracting  train/img-188_jpg.rf.e25310df0413037e398729953a4e8240.jpg     \b\b\b\b  8%\b\b\b\b\b  OK \n",
            "Extracting  train/img-189_jpg.rf.2afafdf425170ac8e1cbb58c488c4c4a.jpg     \b\b\b\b  8%\b\b\b\b\b  OK \n",
            "Extracting  train/img-18_jpg.rf.f79a657ff81d70927c469283a9e0a262.jpg     \b\b\b\b  8%\b\b\b\b\b  OK \n",
            "Extracting  train/img-191_jpg.rf.e82152e059f62a6559daedf1d1ae62a3.jpg     \b\b\b\b  8%\b\b\b\b\b  OK \n",
            "Extracting  train/img-192_jpg.rf.41da280cd625ff7e2b15dde2afb0c11a.jpg     \b\b\b\b  8%\b\b\b\b\b  OK \n",
            "Extracting  train/img-193_jpg.rf.d2949c3bad35af6229b470554825cd54.jpg     \b\b\b\b  8%\b\b\b\b\b  OK \n",
            "Extracting  train/img-194_jpg.rf.fe81115eda78ee8dcefcbc08dcdc17ef.jpg     \b\b\b\b  8%\b\b\b\b\b  OK \n",
            "Extracting  train/img-197_jpg.rf.f9b2583df29a86d60bcfe3eea1dab4e9.jpg     \b\b\b\b  8%\b\b\b\b\b  OK \n",
            "Extracting  train/img-198_jpg.rf.0b1cb1e07fefe54965584465087f960a.jpg     \b\b\b\b  8%\b\b\b\b\b  OK \n",
            "Extracting  train/img-199_jpg.rf.6120711f954526a2c6fa1b94fd7bd4ec.jpg     \b\b\b\b  9%\b\b\b\b\b  OK \n",
            "Extracting  train/img-19_jpg.rf.399478ab1a20c3fcb63dc9e3d5c425f5.jpg     \b\b\b\b  9%\b\b\b\b\b  OK \n",
            "Extracting  train/img-1_jpg.rf.04766deb9036fc43721c26f431c3eb3d.jpg      \b\b\b\b  9%\b\b\b\b\b  OK \n",
            "Extracting  train/img-202_jpg.rf.e0f6ad1db0c11daafb4625b1b6678faa.jpg     \b\b\b\b  9%\b\b\b\b\b  OK \n",
            "Extracting  train/img-203_jpg.rf.29fcf9b56cd28acd7b8f97d171463785.jpg     \b\b\b\b  9%\b\b\b\b\b  OK \n",
            "Extracting  train/img-205_jpg.rf.d1f737acba43ae7bf7374d2191904719.jpg     \b\b\b\b  9%\b\b\b\b\b  OK \n",
            "Extracting  train/img-207_jpg.rf.7a8009c01c21717ead5486e01e2580b2.jpg     \b\b\b\b  9%\b\b\b\b\b  OK \n",
            "Extracting  train/img-208_jpg.rf.137d967b7b8672f47e86429a98b89252.jpg     \b\b\b\b  9%\b\b\b\b\b  OK \n",
            "Extracting  train/img-209_jpg.rf.50a35176830c86029ddfb4d3af626c08.jpg     \b\b\b\b  9%\b\b\b\b\b  OK \n",
            "Extracting  train/img-211_jpg.rf.4aa6ae6b2af90b1fff1b5075a215641d.jpg     \b\b\b\b 10%\b\b\b\b\b  OK \n",
            "Extracting  train/img-212_jpg.rf.5f7dc0f25419dc8a67116ce313c83707.jpg     \b\b\b\b 10%\b\b\b\b\b  OK \n",
            "Extracting  train/img-213_jpg.rf.5a46fcca214ab83b01c26743a9dc3e72.jpg     \b\b\b\b 10%\b\b\b\b\b  OK \n",
            "Extracting  train/img-214_jpg.rf.a35d0cd16266cfb261319a66b469ac89.jpg     \b\b\b\b 10%\b\b\b\b\b  OK \n",
            "Extracting  train/img-215_jpg.rf.b5e67b3aafeb154d5c904a6c663718b7.jpg     \b\b\b\b 10%\b\b\b\b\b  OK \n",
            "Extracting  train/img-216_jpg.rf.1a3dd495b3e6ba5f9cc43cec992021d7.jpg     \b\b\b\b 10%\b\b\b\b\b  OK \n",
            "Extracting  train/img-218_jpg.rf.87be625afd1b1536ab3d9f5d0a000751.jpg     \b\b\b\b 10%\b\b\b\b\b  OK \n",
            "Extracting  train/img-21_jpg.rf.4ae2f55eff42580278ecf92ee177fdd1.jpg     \b\b\b\b 10%\b\b\b\b\b  OK \n",
            "Extracting  train/img-220_jpg.rf.4ffdf8738ac89d5fccf5d1e08c169af8.jpg     \b\b\b\b 10%\b\b\b\b\b  OK \n",
            "Extracting  train/img-221_jpg.rf.9f0d03d552a78e97c74f75c74be35e38.jpg     \b\b\b\b 10%\b\b\b\b\b  OK \n",
            "Extracting  train/img-222_jpg.rf.a00c413e9a6bafb705147f7534664ed3.jpg     \b\b\b\b 11%\b\b\b\b\b  OK \n",
            "Extracting  train/img-223_jpg.rf.5ffeb123361acc79233a82037e058c4c.jpg     \b\b\b\b 11%\b\b\b\b\b  OK \n",
            "Extracting  train/img-224_jpg.rf.9cdf248fe4332b59a353f0bc70a0ea01.jpg     \b\b\b\b 11%\b\b\b\b\b  OK \n",
            "Extracting  train/img-226_jpg.rf.5f9874a019437b70987ae2aa665878b7.jpg     \b\b\b\b 11%\b\b\b\b\b  OK \n",
            "Extracting  train/img-227_jpg.rf.4e7fd2692cefbe4e52f4198d7f8e89ff.jpg     \b\b\b\b 11%\b\b\b\b\b  OK \n",
            "Extracting  train/img-228_jpg.rf.8170bf0af3eda9eb2c07bca7884a06a5.jpg     \b\b\b\b 11%\b\b\b\b\b  OK \n",
            "Extracting  train/img-229_jpg.rf.d4582c3c84f78d8304ed684e4af48594.jpg     \b\b\b\b 11%\b\b\b\b\b  OK \n",
            "Extracting  train/img-230_jpg.rf.39bac5bc33e3e0f64de17664289ec867.jpg     \b\b\b\b 11%\b\b\b\b\b  OK \n",
            "Extracting  train/img-231_jpg.rf.1834b79b17ce894fbdc7c5334407d877.jpg     \b\b\b\b 11%\b\b\b\b\b  OK \n",
            "Extracting  train/img-232_jpg.rf.e586c2966df762ffc459b84153da5380.jpg     \b\b\b\b 12%\b\b\b\b\b  OK \n",
            "Extracting  train/img-233_jpg.rf.95f53597d4cd6932e86dce9fdbcc54c9.jpg     \b\b\b\b 12%\b\b\b\b\b  OK \n",
            "Extracting  train/img-234_jpg.rf.cf4a8f8c19d33c53f38d6a19b3dd054b.jpg     \b\b\b\b 12%\b\b\b\b\b  OK \n",
            "Extracting  train/img-235_jpg.rf.030dcf4264c55859ef30294c84f77482.jpg     \b\b\b\b 12%\b\b\b\b\b  OK \n",
            "Extracting  train/img-236_jpg.rf.67dcb4e2f648c09a7c1bdc4e41fcb7ad.jpg     \b\b\b\b 12%\b\b\b\b\b  OK \n",
            "Extracting  train/img-237_jpg.rf.d68dadf35426df3831bf5af536b2ebde.jpg     \b\b\b\b 12%\b\b\b\b\b  OK \n",
            "Extracting  train/img-240_jpg.rf.06da3127a48b2f044201c9b2f9755109.jpg     \b\b\b\b 12%\b\b\b\b\b  OK \n",
            "Extracting  train/img-241_jpg.rf.8d98e10538fa3d678b4af250991b8a94.jpg     \b\b\b\b 12%\b\b\b\b\b  OK \n",
            "Extracting  train/img-242_jpg.rf.b18c9a478cd5489f76390ff90e9155dc.jpg     \b\b\b\b 13%\b\b\b\b\b  OK \n",
            "Extracting  train/img-246_jpg.rf.5093ecb9a803a42964980674d3f5d2be.jpg     \b\b\b\b 13%\b\b\b\b\b  OK \n",
            "Extracting  train/img-247_jpg.rf.506670aed39eb7dd2d892350788582fb.jpg     \b\b\b\b 13%\b\b\b\b\b  OK \n",
            "Extracting  train/img-248_jpg.rf.372df8d99477b8990af9995308c81215.jpg     \b\b\b\b 13%\b\b\b\b\b  OK \n",
            "Extracting  train/img-249_jpg.rf.9530479784ad79a1ede2b51e62c968b4.jpg     \b\b\b\b 13%\b\b\b\b\b  OK \n",
            "Extracting  train/img-250_jpg.rf.7632980b590d300428e1072e1f13cef1.jpg     \b\b\b\b 13%\b\b\b\b\b  OK \n",
            "Extracting  train/img-251_jpg.rf.2e205a42d00f6497563dedaba7387613.jpg     \b\b\b\b 13%\b\b\b\b\b  OK \n",
            "Extracting  train/img-252_jpg.rf.7d99b08ebba1e9e530480e62891dbf54.jpg     \b\b\b\b 13%\b\b\b\b\b  OK \n",
            "Extracting  train/img-253_jpg.rf.7465b1816c7c3025abb42dfb5d1430e1.jpg     \b\b\b\b 14%\b\b\b\b\b  OK \n",
            "Extracting  train/img-255_jpg.rf.bfdc24d35627656fe644e3a7121c65fa.jpg     \b\b\b\b 14%\b\b\b\b\b  OK \n",
            "Extracting  train/img-256_jpg.rf.c762541217b28d3470b203beabf29bf7.jpg     \b\b\b\b 14%\b\b\b\b\b  OK \n",
            "Extracting  train/img-257_jpg.rf.48ba1caa7a209835d7b6d35a797b7088.jpg     \b\b\b\b 14%\b\b\b\b\b  OK \n",
            "Extracting  train/img-258_jpg.rf.e8fb0662316d1be8867dd41fbee5ddde.jpg     \b\b\b\b 14%\b\b\b\b\b  OK \n",
            "Extracting  train/img-259_jpg.rf.86aaa968ce87cb21d2649e95839c244d.jpg     \b\b\b\b 14%\b\b\b\b\b  OK \n",
            "Extracting  train/img-260_jpg.rf.3acd135908f14f0e9f68192fa13ea465.jpg     \b\b\b\b 14%\b\b\b\b\b  OK \n",
            "Extracting  train/img-261_jpg.rf.e3583096f4d7e2a182149ba9afbcfc92.jpg     \b\b\b\b 14%\b\b\b\b\b  OK \n",
            "Extracting  train/img-262_jpg.rf.3db190e680343ed338296042b9f5e3a4.jpg     \b\b\b\b 15%\b\b\b\b\b  OK \n",
            "Extracting  train/img-263_jpg.rf.892eb0397a70a352b0bc33f6a147d675.jpg     \b\b\b\b 15%\b\b\b\b\b  OK \n",
            "Extracting  train/img-265_jpg.rf.e4c76dcfe49ab14372397a9ff5f153e8.jpg     \b\b\b\b 15%\b\b\b\b\b  OK \n",
            "Extracting  train/img-266_jpg.rf.6240ac9750b2791bd481a0cb694b4a3d.jpg     \b\b\b\b 15%\b\b\b\b\b  OK \n",
            "Extracting  train/img-267_jpg.rf.f50b4eccea93fe17ebcf2e4076140c88.jpg     \b\b\b\b 15%\b\b\b\b\b  OK \n",
            "Extracting  train/img-268_jpg.rf.08736c012f711f24b023c914e4205149.jpg     \b\b\b\b 15%\b\b\b\b\b  OK \n",
            "Extracting  train/img-26_jpg.rf.f941793f07a3bc5dda0723a0d30041ee.jpg     \b\b\b\b 15%\b\b\b\b\b  OK \n",
            "Extracting  train/img-270_jpg.rf.ae32377ec34641192544670bf004739e.jpg     \b\b\b\b 15%\b\b\b\b\b  OK \n",
            "Extracting  train/img-272_jpg.rf.8c1a71784795d3ee8535d76931594c9f.jpg     \b\b\b\b 15%\b\b\b\b\b  OK \n",
            "Extracting  train/img-273_jpg.rf.473d6e156e61ed75a57253643ab0328f.jpg     \b\b\b\b 16%\b\b\b\b\b  OK \n",
            "Extracting  train/img-274_jpg.rf.816b2e4bda9e51204bf2cd2aa209fe50.jpg     \b\b\b\b 16%\b\b\b\b\b  OK \n",
            "Extracting  train/img-275_jpg.rf.59c68c48a12960c7ea86163d39f0ea4d.jpg     \b\b\b\b 16%\b\b\b\b\b  OK \n",
            "Extracting  train/img-277_jpg.rf.70a35da45babe2c725dbe4fa639e89d2.jpg     \b\b\b\b 16%\b\b\b\b\b  OK \n",
            "Extracting  train/img-278_jpg.rf.59aabb4c0e30640a912b669ebad9cd8d.jpg     \b\b\b\b 16%\b\b\b\b\b  OK \n",
            "Extracting  train/img-279_jpg.rf.126ee458fab6a3983e7336bd4408e701.jpg     \b\b\b\b 16%\b\b\b\b\b  OK \n",
            "Extracting  train/img-280_jpg.rf.53dd1da4cff0af87558cff72138794e9.jpg     \b\b\b\b 16%\b\b\b\b\b  OK \n",
            "Extracting  train/img-281_jpg.rf.09e7fcea8709dc8bd7d799bd346b3d0f.jpg     \b\b\b\b 16%\b\b\b\b\b  OK \n",
            "Extracting  train/img-283_jpg.rf.b8c7a6ea440f9683c3f76d5754599a4f.jpg     \b\b\b\b 17%\b\b\b\b\b  OK \n",
            "Extracting  train/img-284_jpg.rf.56a1dfdd07c542ee7af63580db90c1fb.jpg     \b\b\b\b 17%\b\b\b\b\b  OK \n",
            "Extracting  train/img-285_jpg.rf.7f7cf6ab5dad29d75936719c450faeed.jpg     \b\b\b\b 17%\b\b\b\b\b  OK \n",
            "Extracting  train/img-287_jpg.rf.19a805e3a1845683bb4f47af51b8de37.jpg     \b\b\b\b 17%\b\b\b\b\b  OK \n",
            "Extracting  train/img-288_jpg.rf.8067a6a9d79ea3dcb37e47e1e29ef88c.jpg     \b\b\b\b 17%\b\b\b\b\b  OK \n",
            "Extracting  train/img-289_jpg.rf.39d1543a1cab281dc5febdc1a16c9a4b.jpg     \b\b\b\b 17%\b\b\b\b\b  OK \n",
            "Extracting  train/img-290_jpg.rf.6942266560522f82066038b541027d9d.jpg     \b\b\b\b 17%\b\b\b\b\b  OK \n",
            "Extracting  train/img-291_jpg.rf.0c1b9f687f136c9b1970efaa75d32231.jpg     \b\b\b\b 17%\b\b\b\b\b  OK \n",
            "Extracting  train/img-292_jpg.rf.e4018e1f8e44152360a48e5232297f2a.jpg     \b\b\b\b 17%\b\b\b\b\b  OK \n",
            "Extracting  train/img-293_jpg.rf.ca6c3ef3ac903d9e5263cc24099bbb61.jpg     \b\b\b\b 17%\b\b\b\b\b  OK \n",
            "Extracting  train/img-295_jpg.rf.9cfbc106f3396aeb13d3f99c391ce64b.jpg     \b\b\b\b 17%\b\b\b\b\b  OK \n",
            "Extracting  train/img-296_jpg.rf.3e33f2944f9d71c053850d09577d220d.jpg     \b\b\b\b 17%\b\b\b\b\b  OK \n",
            "Extracting  train/img-297_jpg.rf.e43461bec653e71c229ca2c309aca359.jpg     \b\b\b\b 17%\b\b\b\b\b  OK \n",
            "Extracting  train/img-298_jpg.rf.cf838b3dd4c5b5cc89710916246f3a87.jpg     \b\b\b\b 17%\b\b\b\b\b  OK \n",
            "Extracting  train/img-299_jpg.rf.175bd48885a00ca91af2cde359d324ba.jpg     \b\b\b\b 17%\b\b\b\b\b  OK \n",
            "Extracting  train/img-2_jpg.rf.962d887972144063f0280f7969d29c23.jpg      \b\b\b\b 17%\b\b\b\b\b  OK \n",
            "Extracting  train/img-301_jpg.rf.51e9d06820d0d552e497d66f5981e7a1.jpg     \b\b\b\b 17%\b\b\b\b\b  OK \n",
            "Extracting  train/img-302_jpg.rf.c7375ad32e8d0337bd7d27034f3764eb.jpg     \b\b\b\b 17%\b\b\b\b\b  OK \n",
            "Extracting  train/img-304_jpg.rf.766574a013cc869e66df180f60295457.jpg     \b\b\b\b 17%\b\b\b\b\b  OK \n",
            "Extracting  train/img-305_jpg.rf.564405f2ae91fe75f3f54639e295f1e2.jpg     \b\b\b\b 17%\b\b\b\b\b  OK \n",
            "Extracting  train/img-306_jpg.rf.67a9eb5c5890617d59e58e98a0a86d69.jpg     \b\b\b\b 18%\b\b\b\b\b  OK \n",
            "Extracting  train/img-309_jpg.rf.e8b8a5e1969e8e71b448aa7c83206264.jpg     \b\b\b\b 18%\b\b\b\b\b  OK \n",
            "Extracting  train/img-30_jpg.rf.57889ecb807059b4adc0032995228d2a.jpg     \b\b\b\b 18%\b\b\b\b\b  OK \n",
            "Extracting  train/img-310_jpg.rf.30a2a42ac01cf4b630874592f4d801ef.jpg     \b\b\b\b 18%\b\b\b\b\b  OK \n",
            "Extracting  train/img-313_jpg.rf.9ba7cf2cdf11c9fe19b4ad52db2ecac7.jpg     \b\b\b\b 18%\b\b\b\b\b  OK \n",
            "Extracting  train/img-314_jpg.rf.a3e7ac0036589996b9c9eb1eb44fb1ad.jpg     \b\b\b\b 18%\b\b\b\b\b  OK \n",
            "Extracting  train/img-315_jpg.rf.654c8e0f66209d380f063ed5bf9d5187.jpg     \b\b\b\b 18%\b\b\b\b\b  OK \n",
            "Extracting  train/img-316_jpg.rf.c144f8327780a2f710a79c3c2b5d0f07.jpg     \b\b\b\b 18%\b\b\b\b\b  OK \n",
            "Extracting  train/img-317_jpg.rf.770d0c5b7340eea3208d88b0800066da.jpg     \b\b\b\b 18%\b\b\b\b\b  OK \n",
            "Extracting  train/img-318_jpg.rf.3cdda5b6cffa77075c11b9bdfd8cf26f.jpg     \b\b\b\b 18%\b\b\b\b\b  OK \n",
            "Extracting  train/img-319_jpg.rf.22b65d4f7c9aa300d0878e9424a40d67.jpg     \b\b\b\b 18%\b\b\b\b\b  OK \n",
            "Extracting  train/img-31_jpg.rf.04f6a2c9ec048f70c2faeb7e4193784d.jpg     \b\b\b\b 18%\b\b\b\b\b  OK \n",
            "Extracting  train/img-320_jpg.rf.0765b31c7ff97bf3c391782c13bb9818.jpg     \b\b\b\b 18%\b\b\b\b\b  OK \n",
            "Extracting  train/img-321_jpg.rf.663ad0ed3ef90b48f212d451aa82aba9.jpg     \b\b\b\b 18%\b\b\b\b\b  OK \n",
            "Extracting  train/img-322_jpg.rf.9fd7d306b3ecd5ae42cdff1b02b0db99.jpg     \b\b\b\b 18%\b\b\b\b\b  OK \n",
            "Extracting  train/img-324_jpg.rf.74f09e96882cde7edbd59f92e7ecdf02.jpg     \b\b\b\b 18%\b\b\b\b\b  OK \n",
            "Extracting  train/img-325_jpg.rf.fc14997c5d5d229bcb148997947b64b5.jpg     \b\b\b\b 18%\b\b\b\b\b  OK \n",
            "Extracting  train/img-326_jpg.rf.25f754ec5e29d2861ed7c05c1129a4dc.jpg     \b\b\b\b 18%\b\b\b\b\b  OK \n",
            "Extracting  train/img-327_jpg.rf.42714a663bc342d0dc175ebab152356d.jpg     \b\b\b\b 18%\b\b\b\b\b  OK \n",
            "Extracting  train/img-328_jpg.rf.ac423267e0e078bbc60d0e6960c5167c.jpg     \b\b\b\b 19%\b\b\b\b\b  OK \n",
            "Extracting  train/img-329_jpg.rf.622561b6e0873d93eeedcb6770b851da.jpg     \b\b\b\b 19%\b\b\b\b\b  OK \n",
            "Extracting  train/img-330_jpg.rf.d9de506be8be5a379c88f7fe78ca8253.jpg     \b\b\b\b 19%\b\b\b\b\b  OK \n",
            "Extracting  train/img-331_jpg.rf.7e9a42665269c16ef3a3fde22dd626b9.jpg     \b\b\b\b 19%\b\b\b\b\b  OK \n",
            "Extracting  train/img-332_jpg.rf.edbf67c28f12aff498f83cff3736dd97.jpg     \b\b\b\b 19%\b\b\b\b\b  OK \n",
            "Extracting  train/img-333_jpg.rf.a795e5b4a275dca433e557d9dfd6acec.jpg     \b\b\b\b 19%\b\b\b\b\b  OK \n",
            "Extracting  train/img-339_jpg.rf.774e42a110ef70cd2e176956b9a25254.jpg     \b\b\b\b 19%\b\b\b\b\b  OK \n",
            "Extracting  train/img-340_jpg.rf.dc85eeca2369ccd5e0f6e81ae6a9482a.jpg     \b\b\b\b 19%\b\b\b\b\b  OK \n",
            "Extracting  train/img-341_jpg.rf.7e6dcbcdf1805587819dc6cdcab56ac6.jpg     \b\b\b\b 19%\b\b\b\b\b  OK \n",
            "Extracting  train/img-342_jpg.rf.a635f2b522f97763152361b6b7e92ab5.jpg     \b\b\b\b 19%\b\b\b\b\b  OK \n",
            "Extracting  train/img-345_jpg.rf.cb2f7a70ab689aee871ec218ca2a1c17.jpg     \b\b\b\b 19%\b\b\b\b\b  OK \n",
            "Extracting  train/img-346_jpg.rf.7579261f0cdfffb527ad924a9cf86279.jpg     \b\b\b\b 19%\b\b\b\b\b  OK \n",
            "Extracting  train/img-348_jpg.rf.7f69a937375f8585653476522d546025.jpg     \b\b\b\b 19%\b\b\b\b\b  OK \n",
            "Extracting  train/img-349_jpg.rf.6641cef8561560b1437a093be86abf1e.jpg     \b\b\b\b 19%\b\b\b\b\b  OK \n",
            "Extracting  train/img-351_jpg.rf.123b3f4e806dcfb111186da693c996c9.jpg     \b\b\b\b 19%\b\b\b\b\b  OK \n",
            "Extracting  train/img-352_jpg.rf.7071e9840456e2ef41927696dddb3a5a.jpg     \b\b\b\b 19%\b\b\b\b\b  OK \n",
            "Extracting  train/img-354_jpg.rf.a4fcd1798fe466fa035172521e93fe6d.jpg     \b\b\b\b 19%\b\b\b\b\b  OK \n",
            "Extracting  train/img-355_jpg.rf.9cddc7f638d211138c7f3d79550da363.jpg     \b\b\b\b 19%\b\b\b\b\b  OK \n",
            "Extracting  train/img-356_jpg.rf.4b2038d60de2fe914265bcb23cf05f89.jpg     \b\b\b\b 19%\b\b\b\b\b  OK \n",
            "Extracting  train/img-357_jpg.rf.3fa531a04a46be8fbe22849b9bceead6.jpg     \b\b\b\b 19%\b\b\b\b\b  OK \n",
            "Extracting  train/img-358_jpg.rf.443b2ea93c68765f0fe6722fa937cd6c.jpg     \b\b\b\b 19%\b\b\b\b\b  OK \n",
            "Extracting  train/img-359_jpg.rf.6d9d100005eb3f84f3de55b14b854b18.jpg     \b\b\b\b 19%\b\b\b\b\b  OK \n",
            "Extracting  train/img-360_jpg.rf.c4d38dde7ae1c773e6b3fb8e5d75bb77.jpg     \b\b\b\b 19%\b\b\b\b\b  OK \n",
            "Extracting  train/img-361_jpg.rf.be4588f913f1e787f897058202e2b1c6.jpg     \b\b\b\b 19%\b\b\b\b\b  OK \n",
            "Extracting  train/img-365_jpg.rf.164b210367824d2f385b0619f236abf4.jpg     \b\b\b\b 19%\b\b\b\b\b  OK \n",
            "Extracting  train/img-366_jpg.rf.d13288366b0bb14beace0ba289956039.jpg     \b\b\b\b 20%\b\b\b\b\b  OK \n",
            "Extracting  train/img-367_jpg.rf.299c5300a46524bfd3b2ae5e2a7398e8.jpg     \b\b\b\b 20%\b\b\b\b\b  OK \n",
            "Extracting  train/img-372_jpg.rf.b3b86d6dfb24732444b95825c42f9422.jpg     \b\b\b\b 20%\b\b\b\b\b  OK \n",
            "Extracting  train/img-374_jpg.rf.9ec3835feb04e376c4bc09ab1c1dde32.jpg     \b\b\b\b 20%\b\b\b\b\b  OK \n",
            "Extracting  train/img-375_jpg.rf.bf26033ba64d588063cee3a0c97616db.jpg     \b\b\b\b 20%\b\b\b\b\b  OK \n",
            "Extracting  train/img-376_jpg.rf.39c24ad78c32a6c855e8bbe60ad04d1f.jpg     \b\b\b\b 20%\b\b\b\b\b  OK \n",
            "Extracting  train/img-377_jpg.rf.f7a5ae59d67aa24154dbe3931405fc57.jpg     \b\b\b\b 20%\b\b\b\b\b  OK \n",
            "Extracting  train/img-379_jpg.rf.53d08ef1089264ceb2229544ec31f988.jpg     \b\b\b\b 20%\b\b\b\b\b  OK \n",
            "Extracting  train/img-380_jpg.rf.0211b9d66b12bdee8d05b9ba890573dc.jpg     \b\b\b\b 20%\b\b\b\b\b  OK \n",
            "Extracting  train/img-381_jpg.rf.69479c9b59804c60e3e0c7c2269d3712.jpg     \b\b\b\b 20%\b\b\b\b\b  OK \n",
            "Extracting  train/img-383_jpg.rf.abedcd4fce7e8e17889e1bd4274447ba.jpg     \b\b\b\b 20%\b\b\b\b\b  OK \n",
            "Extracting  train/img-384_jpg.rf.52f9bf925832084c3778e4d0de4dfb56.jpg     \b\b\b\b 20%\b\b\b\b\b  OK \n",
            "Extracting  train/img-385_jpg.rf.3e1cef7e8251f4c7a1abbafd5ec599bc.jpg     \b\b\b\b 20%\b\b\b\b\b  OK \n",
            "Extracting  train/img-388_jpg.rf.7ceda8808d1df8e7568c123af5bca8bf.jpg     \b\b\b\b 20%\b\b\b\b\b  OK \n",
            "Extracting  train/img-389_jpg.rf.14f171b109308eeab6e83e7795c11016.jpg     \b\b\b\b 20%\b\b\b\b\b  OK \n",
            "Extracting  train/img-38_jpg.rf.afd62a6bd8518395cf339db67500b1e1.jpg     \b\b\b\b 20%\b\b\b\b\b  OK \n",
            "Extracting  train/img-391_jpg.rf.27e945dce7258e1d272a2a273b02ef08.jpg     \b\b\b\b 20%\b\b\b\b\b  OK \n",
            "Extracting  train/img-392_jpg.rf.a74441b6f7c2332e3e553548670a315b.jpg     \b\b\b\b 20%\b\b\b\b\b  OK \n",
            "Extracting  train/img-393_jpg.rf.9b0541a344853293e9ea03214f6619ce.jpg     \b\b\b\b 20%\b\b\b\b\b  OK \n",
            "Extracting  train/img-395_jpg.rf.84ca6b6e04caa7480cfa0287417576b1.jpg     \b\b\b\b 20%\b\b\b\b\b  OK \n",
            "Extracting  train/img-396_jpg.rf.af26b72d42bbf054aee8f62025ea2bf8.jpg     \b\b\b\b 20%\b\b\b\b\b  OK \n",
            "Extracting  train/img-39_jpg.rf.a4ba4e9ad51da5bf7e864ca580d09931.jpg     \b\b\b\b 20%\b\b\b\b\b  OK \n",
            "Extracting  train/img-3_jpg.rf.64d155e488ceaac83020a728ca1f70d1.jpg      \b\b\b\b 21%\b\b\b\b\b  OK \n",
            "Extracting  train/img-401_jpg.rf.e3fe79f6f1c41b1dd0ce8ea904b39401.jpg     \b\b\b\b 21%\b\b\b\b\b  OK \n",
            "Extracting  train/img-403_jpg.rf.8357bd90d082e6c78a660f605c08ad2e.jpg     \b\b\b\b 21%\b\b\b\b\b  OK \n",
            "Extracting  train/img-404_jpg.rf.be12da25b2c38b58291a3a7fe817ef57.jpg     \b\b\b\b 21%\b\b\b\b\b  OK \n",
            "Extracting  train/img-405_jpg.rf.d5138c07ca2b4fc213fc12a978cbf6f8.jpg     \b\b\b\b 21%\b\b\b\b\b  OK \n",
            "Extracting  train/img-406_jpg.rf.39cc95c25d12800f852e45989ec1803e.jpg     \b\b\b\b 21%\b\b\b\b\b  OK \n",
            "Extracting  train/img-407_jpg.rf.b30b42dfc9436ec4303a76932d9387cb.jpg     \b\b\b\b 21%\b\b\b\b\b  OK \n",
            "Extracting  train/img-408_jpg.rf.633d54163fde7adb41cbac7bc690b34f.jpg     \b\b\b\b 21%\b\b\b\b\b  OK \n",
            "Extracting  train/img-409_jpg.rf.5cdc33b00522ed3ddf0e43a2f1720c83.jpg     \b\b\b\b 21%\b\b\b\b\b  OK \n",
            "Extracting  train/img-40_jpg.rf.bbdba0361130b13cc0e77e2f80b6e3d7.jpg     \b\b\b\b 21%\b\b\b\b\b  OK \n",
            "Extracting  train/img-412_jpg.rf.c3344901cc1646179c93d2e8cd1b4444.jpg     \b\b\b\b 21%\b\b\b\b\b  OK \n",
            "Extracting  train/img-413_jpg.rf.a81aa42a7782099f9921156e3161a2a9.jpg     \b\b\b\b 21%\b\b\b\b\b  OK \n",
            "Extracting  train/img-414_jpg.rf.7dc1ae061e468ac362211f99e8f9c274.jpg     \b\b\b\b 21%\b\b\b\b\b  OK \n",
            "Extracting  train/img-416_jpg.rf.dbafb3032c842862507a7c18c2df2b7d.jpg     \b\b\b\b 21%\b\b\b\b\b  OK \n",
            "Extracting  train/img-418_jpg.rf.9c8b8c7bb6b6b0bd055e00e59bdd8914.jpg     \b\b\b\b 21%\b\b\b\b\b  OK \n",
            "Extracting  train/img-419_jpg.rf.afba61803c37a1b0e4e3232dafb7be72.jpg     \b\b\b\b 21%\b\b\b\b\b  OK \n",
            "Extracting  train/img-420_jpg.rf.3e311b9bdc9b3932e270f5402d4e4529.jpg     \b\b\b\b 21%\b\b\b\b\b  OK \n",
            "Extracting  train/img-422_jpg.rf.8fa888de91dfb1a6c6980d3e8bf0252e.jpg     \b\b\b\b 21%\b\b\b\b\b  OK \n",
            "Extracting  train/img-424_jpg.rf.5178a699e9c56cf7ba61ede4751b6696.jpg     \b\b\b\b 21%\b\b\b\b\b  OK \n",
            "Extracting  train/img-425_jpg.rf.ff4c598bfc259fbbb8f8d0e3a6eff1fb.jpg     \b\b\b\b 21%\b\b\b\b\b  OK \n",
            "Extracting  train/img-426_jpg.rf.18bab6ba48f960ed751cb35d1f628523.jpg     \b\b\b\b 21%\b\b\b\b\b  OK \n",
            "Extracting  train/img-427_jpg.rf.2031f93af77c47391e2b6963f7536621.jpg     \b\b\b\b 21%\b\b\b\b\b  OK \n",
            "Extracting  train/img-428_jpg.rf.087cca8e9d34735c3cd1289956c36b71.jpg     \b\b\b\b 21%\b\b\b\b\b  OK \n",
            "Extracting  train/img-429_jpg.rf.388ca2fa7461b636f9a349bee8fcafbc.jpg     \b\b\b\b 21%\b\b\b\b\b  OK \n",
            "Extracting  train/img-431_jpg.rf.0a68887499a4ed36c65f33a890a83afd.jpg     \b\b\b\b 22%\b\b\b\b\b  OK \n",
            "Extracting  train/img-433_jpg.rf.3e3f8c9689f1e9f3068c86c1c0295c8f.jpg     \b\b\b\b 22%\b\b\b\b\b  OK \n",
            "Extracting  train/img-435_jpg.rf.d9ff2d1d19d49c2a96663dcaa4a83330.jpg     \b\b\b\b 22%\b\b\b\b\b  OK \n",
            "Extracting  train/img-436_jpg.rf.319891088041e59c31bb3d55aad586e3.jpg     \b\b\b\b 22%\b\b\b\b\b  OK \n",
            "Extracting  train/img-437_jpg.rf.d2615be876ea3a1d9fa99d3039c97756.jpg     \b\b\b\b 22%\b\b\b\b\b  OK \n",
            "Extracting  train/img-439_jpg.rf.e2750e5ed7bfd8910e9addda51e0c6dd.jpg     \b\b\b\b 22%\b\b\b\b\b  OK \n",
            "Extracting  train/img-441_jpg.rf.f99cdb8fbd1cff1a5778200efd2e7b07.jpg     \b\b\b\b 22%\b\b\b\b\b  OK \n",
            "Extracting  train/img-442_jpg.rf.d31f41baf9027c5d39e36f2a3403bc93.jpg     \b\b\b\b 22%\b\b\b\b\b  OK \n",
            "Extracting  train/img-444_jpg.rf.d2c0751cc106650d2aac5fa76a15d521.jpg     \b\b\b\b 22%\b\b\b\b\b  OK \n",
            "Extracting  train/img-445_jpg.rf.3ce61abb7f716b154c85baf505ebf533.jpg     \b\b\b\b 22%\b\b\b\b\b  OK \n",
            "Extracting  train/img-446_jpg.rf.0f94b72ee4208b8b4b64ecb5bb046bda.jpg     \b\b\b\b 22%\b\b\b\b\b  OK \n",
            "Extracting  train/img-447_jpg.rf.12ad904248518608161ea94123c2d60a.jpg     \b\b\b\b 22%\b\b\b\b\b  OK \n",
            "Extracting  train/img-448_jpg.rf.3cd8bfd600d889108a52dedda6f617cc.jpg     \b\b\b\b 22%\b\b\b\b\b  OK \n",
            "Extracting  train/img-450_jpg.rf.2a5241c5070556dedad85c9642d81858.jpg     \b\b\b\b 22%\b\b\b\b\b  OK \n",
            "Extracting  train/img-451_jpg.rf.2a8100252c943091f22453f4d7793a28.jpg     \b\b\b\b 22%\b\b\b\b\b  OK \n",
            "Extracting  train/img-453_jpg.rf.17e48aa652a50a8bc9d06d3ded580033.jpg     \b\b\b\b 22%\b\b\b\b\b  OK \n",
            "Extracting  train/img-455_jpg.rf.a114dbe5360a6a272c43a2b4c7cb4bb1.jpg     \b\b\b\b 22%\b\b\b\b\b  OK \n",
            "Extracting  train/img-456_jpg.rf.2907a3b901643efa6b8abd6d9d201b86.jpg     \b\b\b\b 22%\b\b\b\b\b  OK \n",
            "Extracting  train/img-458_jpg.rf.72cb15a746ee92f6714f4ceed305738a.jpg     \b\b\b\b 22%\b\b\b\b\b  OK \n",
            "Extracting  train/img-459_jpg.rf.d767fa292e69f79fbb81604f24209de2.jpg     \b\b\b\b 22%\b\b\b\b\b  OK \n",
            "Extracting  train/img-45_jpg.rf.e872f0163ffadc7f06542bdf9d17d8bb.jpg     \b\b\b\b 22%\b\b\b\b\b  OK \n",
            "Extracting  train/img-460_jpg.rf.7287edcc89d46ec826fd4a8d2301c3b1.jpg     \b\b\b\b 22%\b\b\b\b\b  OK \n",
            "Extracting  train/img-462_jpg.rf.dc1cdd58947aa0f7d172ad76e4834de7.jpg     \b\b\b\b 22%\b\b\b\b\b  OK \n",
            "Extracting  train/img-464_jpg.rf.c69c0cd9a27ebec152f2ca43dd39ddd2.jpg     \b\b\b\b 23%\b\b\b\b\b  OK \n",
            "Extracting  train/img-465_jpg.rf.a4bc474c1391ceb5134993ddccf81723.jpg     \b\b\b\b 23%\b\b\b\b\b  OK \n",
            "Extracting  train/img-466_jpg.rf.7048299d4afb9d58f9bdbb2ebc74ae85.jpg     \b\b\b\b 23%\b\b\b\b\b  OK \n",
            "Extracting  train/img-467_jpg.rf.8e414b6ccee984d7bc43ec0a140616bb.jpg     \b\b\b\b 23%\b\b\b\b\b  OK \n",
            "Extracting  train/img-470_jpg.rf.c1aa523b26fb96e39f98ab0eaef42516.jpg     \b\b\b\b 23%\b\b\b\b\b  OK \n",
            "Extracting  train/img-471_jpg.rf.fbadb2fbf6289251aa19248169f4b835.jpg     \b\b\b\b 23%\b\b\b\b\b  OK \n",
            "Extracting  train/img-473_jpg.rf.a2116db1425fc5a7c35a863735f3be83.jpg     \b\b\b\b 23%\b\b\b\b\b  OK \n",
            "Extracting  train/img-475_jpg.rf.826d8251183c671da741c6bbdbc63b7f.jpg     \b\b\b\b 23%\b\b\b\b\b  OK \n",
            "Extracting  train/img-476_jpg.rf.b7bf5047096c34127a33e35decef5680.jpg     \b\b\b\b 23%\b\b\b\b\b  OK \n",
            "Extracting  train/img-478_jpg.rf.688b1641adf5ef0b085c25eb561c127f.jpg     \b\b\b\b 23%\b\b\b\b\b  OK \n",
            "Extracting  train/img-479_jpg.rf.68af46ff65675c6673f7ab2b3ffffef5.jpg     \b\b\b\b 23%\b\b\b\b\b  OK \n",
            "Extracting  train/img-480_jpg.rf.5878d6196e07fb3c99a93ed5dfe3f272.jpg     \b\b\b\b 23%\b\b\b\b\b  OK \n",
            "Extracting  train/img-481_jpg.rf.a4d4dc14cb2e64612726574f736960bb.jpg     \b\b\b\b 23%\b\b\b\b\b  OK \n",
            "Extracting  train/img-482_jpg.rf.6d284950634fb53dcaffdf5bc57777b2.jpg     \b\b\b\b 23%\b\b\b\b\b  OK \n",
            "Extracting  train/img-483_jpg.rf.f6a3c845bd1d570af65d49dca73bc342.jpg     \b\b\b\b 23%\b\b\b\b\b  OK \n",
            "Extracting  train/img-484_jpg.rf.a2c2b3415a901a7dd8b0e620a6d0978d.jpg     \b\b\b\b 23%\b\b\b\b\b  OK \n",
            "Extracting  train/img-487_jpg.rf.86a0a33407773411060aea00d0e25298.jpg     \b\b\b\b 23%\b\b\b\b\b  OK \n",
            "Extracting  train/img-488_jpg.rf.bc6f57054dc22bbd98ba111e8b50f154.jpg     \b\b\b\b 23%\b\b\b\b\b  OK \n",
            "Extracting  train/img-489_jpg.rf.f4699ee74f2e8fb7170294124cc4fbb6.jpg     \b\b\b\b 23%\b\b\b\b\b  OK \n",
            "Extracting  train/img-48_jpg.rf.80aab2de449196e47a920e6e3e1557ce.jpg     \b\b\b\b 23%\b\b\b\b\b  OK \n",
            "Extracting  train/img-494_jpg.rf.93aaae7aa17f7a5e7c247cba12a1b73e.jpg     \b\b\b\b 23%\b\b\b\b\b  OK \n",
            "Extracting  train/img-496_jpg.rf.2c704dcb336ff2900ab1082067367d75.jpg     \b\b\b\b 23%\b\b\b\b\b  OK \n",
            "Extracting  train/img-498_jpg.rf.6cf9993e84ae2765ea83ad49216e51ca.jpg     \b\b\b\b 23%\b\b\b\b\b  OK \n",
            "Extracting  train/img-49_jpg.rf.d01d16f6ca4e230e7b2e1e35f8288e02.jpg     \b\b\b\b 24%\b\b\b\b\b  OK \n",
            "Extracting  train/img-4_jpg.rf.11ae6e7fa2785e9062e1dd8c234333d9.jpg      \b\b\b\b 24%\b\b\b\b\b  OK \n",
            "Extracting  train/img-500_jpg.rf.5d3d23bc89581151be590a39424e1913.jpg     \b\b\b\b 24%\b\b\b\b\b  OK \n",
            "Extracting  train/img-502_jpg.rf.6ca14a2dbbdbef79d541c9b3cd39f110.jpg     \b\b\b\b 24%\b\b\b\b\b  OK \n",
            "Extracting  train/img-503_jpg.rf.78dc49524b5d013c7c3580e2f88ee8e1.jpg     \b\b\b\b 24%\b\b\b\b\b  OK \n",
            "Extracting  train/img-504_jpg.rf.1525b6fecee461da4196b8e4c10cb555.jpg     \b\b\b\b 24%\b\b\b\b\b  OK \n",
            "Extracting  train/img-505_jpg.rf.722ce02b299e455f7436b3ebbf0403b6.jpg     \b\b\b\b 24%\b\b\b\b\b  OK \n",
            "Extracting  train/img-506_jpg.rf.f72b3b75b27b51787cb4db96b7e07ff0.jpg     \b\b\b\b 24%\b\b\b\b\b  OK \n",
            "Extracting  train/img-507_jpg.rf.f161c791b6cc6f2f522aeacfb0b1d80d.jpg     \b\b\b\b 24%\b\b\b\b\b  OK \n",
            "Extracting  train/img-508_jpg.rf.c5747e8e3af0ece987ca5af6d0819338.jpg     \b\b\b\b 24%\b\b\b\b\b  OK \n",
            "Extracting  train/img-509_jpg.rf.5bcf3d06847c789c6ffddd4d68666c6e.jpg     \b\b\b\b 24%\b\b\b\b\b  OK \n",
            "Extracting  train/img-510_jpg.rf.123e51756929d8babd5c1cd39b0edcad.jpg     \b\b\b\b 24%\b\b\b\b\b  OK \n",
            "Extracting  train/img-512_jpg.rf.4f5fad0146d35d6f920f53e3c42aff2b.jpg     \b\b\b\b 24%\b\b\b\b\b  OK \n",
            "Extracting  train/img-513_jpg.rf.2d62e3be85f489e3bc9060023ee2ea8f.jpg     \b\b\b\b 24%\b\b\b\b\b  OK \n",
            "Extracting  train/img-514_jpg.rf.1420b37cfd4c94e8f691c667c989a5f4.jpg     \b\b\b\b 24%\b\b\b\b\b  OK \n",
            "Extracting  train/img-515_jpg.rf.3067bb2cb196b47aae9fbfa1af6261e4.jpg     \b\b\b\b 24%\b\b\b\b\b  OK \n",
            "Extracting  train/img-517_jpg.rf.4d6d0c5487798a48b5f6008f90a5b768.jpg     \b\b\b\b 24%\b\b\b\b\b  OK \n",
            "Extracting  train/img-518_jpg.rf.d8c4c35beb02b2b9c58b348b1a18227c.jpg     \b\b\b\b 24%\b\b\b\b\b  OK \n",
            "Extracting  train/img-519_jpg.rf.6ba359e3644a97cd8bffee4cf4a10ea2.jpg     \b\b\b\b 24%\b\b\b\b\b  OK \n",
            "Extracting  train/img-51_jpg.rf.e76dba0e33058fcd7ac509c0e2fbf0ce.jpg     \b\b\b\b 24%\b\b\b\b\b  OK \n",
            "Extracting  train/img-521_jpg.rf.fa689c56eb3cd78ed57d84143cbe8d25.jpg     \b\b\b\b 24%\b\b\b\b\b  OK \n",
            "Extracting  train/img-523_jpg.rf.c78c71adc175d5e3eb103a96a87b7dbb.jpg     \b\b\b\b 25%\b\b\b\b\b  OK \n",
            "Extracting  train/img-524_jpg.rf.57fb2d4f1029263048a398c620968aad.jpg     \b\b\b\b 25%\b\b\b\b\b  OK \n",
            "Extracting  train/img-526_jpg.rf.cfd028e96dd550e97745603cab99f3fe.jpg     \b\b\b\b 25%\b\b\b\b\b  OK \n",
            "Extracting  train/img-527_jpg.rf.865da999fbb4399a1124e21bd313a958.jpg     \b\b\b\b 25%\b\b\b\b\b  OK \n",
            "Extracting  train/img-52_jpg.rf.f95bed5b5d7b75aca48be59a17751be5.jpg     \b\b\b\b 25%\b\b\b\b\b  OK \n",
            "Extracting  train/img-530_jpg.rf.cbb192f42b0fcae349cd1e320c1ab748.jpg     \b\b\b\b 25%\b\b\b\b\b  OK \n",
            "Extracting  train/img-531_jpg.rf.336a27c3846e69f905fb235a9a58a4bc.jpg     \b\b\b\b 25%\b\b\b\b\b  OK \n",
            "Extracting  train/img-532_jpg.rf.b99ffab41211fcaa201cbdf921f29b5c.jpg     \b\b\b\b 25%\b\b\b\b\b  OK \n",
            "Extracting  train/img-533_jpg.rf.0a1292d1f04bbf45d8846532b3ad0eb8.jpg     \b\b\b\b 25%\b\b\b\b\b  OK \n",
            "Extracting  train/img-534_jpg.rf.0e6dc3d1cfb351bc4a784ef45b77e29b.jpg     \b\b\b\b 25%\b\b\b\b\b  OK \n",
            "Extracting  train/img-537_jpg.rf.800a6a93bc8d87ba0889f1706b5e1622.jpg     \b\b\b\b 25%\b\b\b\b\b  OK \n",
            "Extracting  train/img-538_jpg.rf.14ed12805bf86f1eb7a5cb9da970b755.jpg     \b\b\b\b 25%\b\b\b\b\b  OK \n",
            "Extracting  train/img-539_jpg.rf.94298de0d2207c7b4cd2bfe4f7e1cb72.jpg     \b\b\b\b 25%\b\b\b\b\b  OK \n",
            "Extracting  train/img-53_jpg.rf.0a3288162e47d617b9108c8b7027f362.jpg     \b\b\b\b 25%\b\b\b\b\b  OK \n",
            "Extracting  train/img-545_jpg.rf.786788c516d06b428e6c4fbe57a8a703.jpg     \b\b\b\b 25%\b\b\b\b\b  OK \n",
            "Extracting  train/img-546_jpg.rf.e5e035a777a3e271af95989cdc07132a.jpg     \b\b\b\b 25%\b\b\b\b\b  OK \n",
            "Extracting  train/img-547_jpg.rf.8dd4b5b2099318a1bb39ad348cbe0576.jpg     \b\b\b\b 25%\b\b\b\b\b  OK \n",
            "Extracting  train/img-548_jpg.rf.ba5c7c94f831b7c84f8e41d7d30530fc.jpg     \b\b\b\b 25%\b\b\b\b\b  OK \n",
            "Extracting  train/img-549_jpg.rf.d04eac44dedf21eed1fe6c98d095ac60.jpg     \b\b\b\b 25%\b\b\b\b\b  OK \n",
            "Extracting  train/img-54_jpg.rf.f2eb8e6eddfbada99ebc025c400123b6.jpg     \b\b\b\b 26%\b\b\b\b\b  OK \n",
            "Extracting  train/img-551_jpg.rf.2b6aca4deb8d05243dbefe85f26bbcf3.jpg     \b\b\b\b 26%\b\b\b\b\b  OK \n",
            "Extracting  train/img-552_jpg.rf.ec9f1bee01c43e917639e624ebacc332.jpg     \b\b\b\b 26%\b\b\b\b\b  OK \n",
            "Extracting  train/img-553_jpg.rf.3d751837334ee73ff7a2450529875ff1.jpg     \b\b\b\b 26%\b\b\b\b\b  OK \n",
            "Extracting  train/img-554_jpg.rf.bd50fd0a9719bf9dc5a1e028c7a74b5a.jpg     \b\b\b\b 26%\b\b\b\b\b  OK \n",
            "Extracting  train/img-555_jpg.rf.dba58c9ee204b9fe294a6b780157c109.jpg     \b\b\b\b 26%\b\b\b\b\b  OK \n",
            "Extracting  train/img-557_jpg.rf.a5b8313b9acd22b69d558f6f3c46d433.jpg     \b\b\b\b 26%\b\b\b\b\b  OK \n",
            "Extracting  train/img-559_jpg.rf.b1a2ceed9c2d8dc113f4ee9c8fff530c.jpg     \b\b\b\b 26%\b\b\b\b\b  OK \n",
            "Extracting  train/img-55_jpg.rf.1b8af76b80e22349171b71e533fa126d.jpg     \b\b\b\b 26%\b\b\b\b\b  OK \n",
            "Extracting  train/img-560_jpg.rf.6d7310e15cca82d248f956890f2d5185.jpg     \b\b\b\b 26%\b\b\b\b\b  OK \n",
            "Extracting  train/img-561_jpg.rf.00e55aff1b67a607a6631ac6a05bf7af.jpg     \b\b\b\b 26%\b\b\b\b\b  OK \n",
            "Extracting  train/img-562_jpg.rf.ab7bdf89e5af687b9314b09ddcd3830d.jpg     \b\b\b\b 26%\b\b\b\b\b  OK \n",
            "Extracting  train/img-563_jpg.rf.49bd84d4290d0c5e02175c91364b6b3e.jpg     \b\b\b\b 26%\b\b\b\b\b  OK \n",
            "Extracting  train/img-564_jpg.rf.5698b398c84abd43b6fa425dd1613e78.jpg     \b\b\b\b 26%\b\b\b\b\b  OK \n",
            "Extracting  train/img-565_jpg.rf.bd70802866f547c938d6d3107ac92f47.jpg     \b\b\b\b 26%\b\b\b\b\b  OK \n",
            "Extracting  train/img-566_jpg.rf.04baef7f164a924d84511224f7b46b8a.jpg     \b\b\b\b 26%\b\b\b\b\b  OK \n",
            "Extracting  train/img-568_jpg.rf.16fab8adbb7580a03dddd4f458212d4c.jpg     \b\b\b\b 26%\b\b\b\b\b  OK \n",
            "Extracting  train/img-569_jpg.rf.2b1c4b01aeb0f3c6b2f853c7b121fa62.jpg     \b\b\b\b 26%\b\b\b\b\b  OK \n",
            "Extracting  train/img-56_jpg.rf.f8fd2a331afb8baf1cd530144b8dcbf0.jpg     \b\b\b\b 26%\b\b\b\b\b  OK \n",
            "Extracting  train/img-570_jpg.rf.23478ec934f8e2d0ff5838c3124d89f2.jpg     \b\b\b\b 26%\b\b\b\b\b  OK \n",
            "Extracting  train/img-571_jpg.rf.df521aa0f45aa986a3e937de4083272e.jpg     \b\b\b\b 26%\b\b\b\b\b  OK \n",
            "Extracting  train/img-572_jpg.rf.574ecb002f88fd6cff3bfe8801094ef4.jpg     \b\b\b\b 26%\b\b\b\b\b  OK \n",
            "Extracting  train/img-573_jpg.rf.da9254336436b337c14edd7cb0bb7c39.jpg     \b\b\b\b 27%\b\b\b\b\b  OK \n",
            "Extracting  train/img-574_jpg.rf.bb4440939828e45cfc00da0f7231dde8.jpg     \b\b\b\b 27%\b\b\b\b\b  OK \n",
            "Extracting  train/img-575_jpg.rf.d6b69bda83c57f9464d9a9a7e6f972f7.jpg     \b\b\b\b 27%\b\b\b\b\b  OK \n",
            "Extracting  train/img-577_jpg.rf.0b2614262552a9d5aef5b1c24ac4d748.jpg     \b\b\b\b 27%\b\b\b\b\b  OK \n",
            "Extracting  train/img-578_jpg.rf.5debbb9d599b351e32b855f0a443b0a1.jpg     \b\b\b\b 27%\b\b\b\b\b  OK \n",
            "Extracting  train/img-579_jpg.rf.8ee8008110728a0b1d1198a9f4bbdc74.jpg     \b\b\b\b 27%\b\b\b\b\b  OK \n",
            "Extracting  train/img-57_jpg.rf.9992e945c7131d09ceb361ef353dc560.jpg     \b\b\b\b 27%\b\b\b\b\b  OK \n",
            "Extracting  train/img-580_jpg.rf.ef207bf01374eb491f8d0145ce0a76a4.jpg     \b\b\b\b 27%\b\b\b\b\b  OK \n",
            "Extracting  train/img-581_jpg.rf.8c5c82afd59e6af22ff5a3e3c72aff1f.jpg     \b\b\b\b 27%\b\b\b\b\b  OK \n",
            "Extracting  train/img-582_jpg.rf.5a67b2d4a4085a2d227651c26648dd80.jpg     \b\b\b\b 27%\b\b\b\b\b  OK \n",
            "Extracting  train/img-583_jpg.rf.1bc1beae7fba61be76c754940edf7c6a.jpg     \b\b\b\b 27%\b\b\b\b\b  OK \n",
            "Extracting  train/img-584_jpg.rf.fc44d8fdba9c7b8af37faaa753133602.jpg     \b\b\b\b 27%\b\b\b\b\b  OK \n",
            "Extracting  train/img-585_jpg.rf.5affd0b2859d074e9e52f8540e31ce8d.jpg     \b\b\b\b 27%\b\b\b\b\b  OK \n",
            "Extracting  train/img-587_jpg.rf.728787c37c5255b92d547db8e9effa4e.jpg     \b\b\b\b 27%\b\b\b\b\b  OK \n",
            "Extracting  train/img-589_jpg.rf.f5c99c482282385a102f43a01d51cbc6.jpg     \b\b\b\b 27%\b\b\b\b\b  OK \n",
            "Extracting  train/img-58_jpg.rf.e1472bdd09e11193dfe82afc2a0b6e9f.jpg     \b\b\b\b 27%\b\b\b\b\b  OK \n",
            "Extracting  train/img-592_jpg.rf.6187cc73be9786a0826c78f03b69e072.jpg     \b\b\b\b 27%\b\b\b\b\b  OK \n",
            "Extracting  train/img-593_jpg.rf.9ecc7604e866912e7cddc0ea1c65d412.jpg     \b\b\b\b 27%\b\b\b\b\b  OK \n",
            "Extracting  train/img-594_jpg.rf.3d9a20acdc1aea9ccb25d694f7cdbbec.jpg     \b\b\b\b 27%\b\b\b\b\b  OK \n",
            "Extracting  train/img-595_jpg.rf.f7d0b11ae9ac53ec52b154e001c576e1.jpg     \b\b\b\b 27%\b\b\b\b\b  OK \n",
            "Extracting  train/img-599_jpg.rf.c4e70e02e8afab3aa00ef5e1b88950ba.jpg     \b\b\b\b 27%\b\b\b\b\b  OK \n",
            "Extracting  train/img-59_jpg.rf.5b0be5064b3641271cd16f2fc35f840f.jpg     \b\b\b\b 28%\b\b\b\b\b  OK \n",
            "Extracting  train/img-5_jpg.rf.22d6ac3fcee8b8da274f6c1d625215e2.jpg      \b\b\b\b 28%\b\b\b\b\b  OK \n",
            "Extracting  train/img-600_jpg.rf.75935912aecbd55fa5a0807ceceb02e8.jpg     \b\b\b\b 28%\b\b\b\b\b  OK \n",
            "Extracting  train/img-602_jpg.rf.7ea8b9efa93431daf8b5d93df22620ac.jpg     \b\b\b\b 28%\b\b\b\b\b  OK \n",
            "Extracting  train/img-605_jpg.rf.dcd6b582a432a5bbce6b276057ef3660.jpg     \b\b\b\b 28%\b\b\b\b\b  OK \n",
            "Extracting  train/img-606_jpg.rf.d525667a91c953bc458519a76afc2ca2.jpg     \b\b\b\b 28%\b\b\b\b\b  OK \n",
            "Extracting  train/img-607_jpg.rf.72e1f367a8ef39c033eafac3b66f7ea4.jpg     \b\b\b\b 28%\b\b\b\b\b  OK \n",
            "Extracting  train/img-608_jpg.rf.6a019b85298c5fdcc6d1cc1377eb42a0.jpg     \b\b\b\b 28%\b\b\b\b\b  OK \n",
            "Extracting  train/img-609_jpg.rf.e036fb262fec0db3c7c37622e7fcbcfd.jpg     \b\b\b\b 28%\b\b\b\b\b  OK \n",
            "Extracting  train/img-610_jpg.rf.303b62652c5bf84b706fe1002f863b2f.jpg     \b\b\b\b 28%\b\b\b\b\b  OK \n",
            "Extracting  train/img-612_jpg.rf.246d9a359d2add666e99da37d8590d5c.jpg     \b\b\b\b 28%\b\b\b\b\b  OK \n",
            "Extracting  train/img-613_jpg.rf.ab3099bb3ff23deff31985fc9ffd1fc0.jpg     \b\b\b\b 28%\b\b\b\b\b  OK \n",
            "Extracting  train/img-614_jpg.rf.727f9c1d1159709fea21d916f1a85d66.jpg     \b\b\b\b 28%\b\b\b\b\b  OK \n",
            "Extracting  train/img-616_jpg.rf.4d03aeb93b953e520bcaf53615ff9651.jpg     \b\b\b\b 28%\b\b\b\b\b  OK \n",
            "Extracting  train/img-617_jpg.rf.fa415edc42afffb71b94117a8200b43a.jpg     \b\b\b\b 28%\b\b\b\b\b  OK \n",
            "Extracting  train/img-618_jpg.rf.cc7c6c35a47a453b2b1347c6525691bb.jpg     \b\b\b\b 28%\b\b\b\b\b  OK \n",
            "Extracting  train/img-619_jpg.rf.5456a9e84bd2369e8f206f5c19410127.jpg     \b\b\b\b 28%\b\b\b\b\b  OK \n",
            "Extracting  train/img-61_jpg.rf.2000a63661f2976215d740c84a7fa546.jpg     \b\b\b\b 29%\b\b\b\b\b  OK \n",
            "Extracting  train/img-620_jpg.rf.077f5547cc7daeccf1aa61fd6ca2f0a4.jpg     \b\b\b\b 29%\b\b\b\b\b  OK \n",
            "Extracting  train/img-622_jpg.rf.0de72c0dc080b1c68cc7573ef9e7d9aa.jpg     \b\b\b\b 29%\b\b\b\b\b  OK \n",
            "Extracting  train/img-623_jpg.rf.53d9491f77118c981d2204bc45323cf8.jpg     \b\b\b\b 29%\b\b\b\b\b  OK \n",
            "Extracting  train/img-624_jpg.rf.502c75a86b1dad5430ad53cb148b40cd.jpg     \b\b\b\b 29%\b\b\b\b\b  OK \n",
            "Extracting  train/img-625_jpg.rf.8c9886bd3fb9566b5dbd3d1edaa3879a.jpg     \b\b\b\b 29%\b\b\b\b\b  OK \n",
            "Extracting  train/img-626_jpg.rf.9b8b117edc1728bf995873525c2b7ad5.jpg     \b\b\b\b 29%\b\b\b\b\b  OK \n",
            "Extracting  train/img-627_jpg.rf.4a7f140a3fdb2b92c552c1fe3361b5a4.jpg     \b\b\b\b 29%\b\b\b\b\b  OK \n",
            "Extracting  train/img-628_jpg.rf.42b86eabd12459c1fcdde71b964b4513.jpg     \b\b\b\b 29%\b\b\b\b\b  OK \n",
            "Extracting  train/img-62_jpg.rf.8c5233a41dc5fe17412129d1e9b7ad88.jpg     \b\b\b\b 29%\b\b\b\b\b  OK \n",
            "Extracting  train/img-630_jpg.rf.daa4c95b49226642dd5f9fa9d0d5b857.jpg     \b\b\b\b 29%\b\b\b\b\b  OK \n",
            "Extracting  train/img-632_jpg.rf.53a3e09948261d887eeda01c232773be.jpg     \b\b\b\b 29%\b\b\b\b\b  OK \n",
            "Extracting  train/img-633_jpg.rf.3a6adcebf0215036565a568ea9d8a870.jpg     \b\b\b\b 29%\b\b\b\b\b  OK \n",
            "Extracting  train/img-636_jpg.rf.a6173bddbf7d20589954172debd64256.jpg     \b\b\b\b 29%\b\b\b\b\b  OK \n",
            "Extracting  train/img-637_jpg.rf.423e2e41b34b195a5c91a86f3fcad9e1.jpg     \b\b\b\b 29%\b\b\b\b\b  OK \n",
            "Extracting  train/img-638_jpg.rf.2a8faf540acd84c4eba228bf828631be.jpg     \b\b\b\b 29%\b\b\b\b\b  OK \n",
            "Extracting  train/img-639_jpg.rf.b8377ab028151caa99b7ec0164b1e1cc.jpg     \b\b\b\b 29%\b\b\b\b\b  OK \n",
            "Extracting  train/img-63_jpg.rf.9aa76f7292d30d50dd111ad2e580b6fd.jpg     \b\b\b\b 29%\b\b\b\b\b  OK \n",
            "Extracting  train/img-640_jpg.rf.07e03157df4d66c761b4b8c3a4418cb9.jpg     \b\b\b\b 29%\b\b\b\b\b  OK \n",
            "Extracting  train/img-641_jpg.rf.c5579ea692508c43b5c0cd56cb9bbca1.jpg     \b\b\b\b 30%\b\b\b\b\b  OK \n",
            "Extracting  train/img-642_jpg.rf.d948fea937b446e71e3c93417aad9211.jpg     \b\b\b\b 30%\b\b\b\b\b  OK \n",
            "Extracting  train/img-644_jpg.rf.c846835a4c152cbd22581385edfc421a.jpg     \b\b\b\b 30%\b\b\b\b\b  OK \n",
            "Extracting  train/img-645_jpg.rf.3bc2572b38ae76168880ecd94fc970c5.jpg     \b\b\b\b 30%\b\b\b\b\b  OK \n",
            "Extracting  train/img-646_jpg.rf.26acf4b2f9f7b0e0935e30c10b22de66.jpg     \b\b\b\b 30%\b\b\b\b\b  OK \n",
            "Extracting  train/img-647_jpg.rf.47741041990f3eb84cbc316d5d91642d.jpg     \b\b\b\b 30%\b\b\b\b\b  OK \n",
            "Extracting  train/img-649_jpg.rf.7af50c8bd2d8f17c431910142ef8a569.jpg     \b\b\b\b 30%\b\b\b\b\b  OK \n",
            "Extracting  train/img-64_jpg.rf.87f8620de24096f7cceb3e1a38ca2bdf.jpg     \b\b\b\b 30%\b\b\b\b\b  OK \n",
            "Extracting  train/img-652_jpg.rf.0590f1d28a51cd3ae140c3b7c8a35e19.jpg     \b\b\b\b 30%\b\b\b\b\b  OK \n",
            "Extracting  train/img-653_jpg.rf.0f72804027539a5d8568596a63951912.jpg     \b\b\b\b 30%\b\b\b\b\b  OK \n",
            "Extracting  train/img-654_jpg.rf.5b1781ad998ed69777161157b3edebff.jpg     \b\b\b\b 30%\b\b\b\b\b  OK \n",
            "Extracting  train/img-655_jpg.rf.2a815e4e1eacc4b38e0f61a883f60211.jpg     \b\b\b\b 30%\b\b\b\b\b  OK \n",
            "Extracting  train/img-657_jpg.rf.746593ccbdcc4662febd1f520098249a.jpg     \b\b\b\b 30%\b\b\b\b\b  OK \n",
            "Extracting  train/img-659_jpg.rf.e4113ec56c93406c8d26fde5a8d88a73.jpg     \b\b\b\b 30%\b\b\b\b\b  OK \n",
            "Extracting  train/img-660_jpg.rf.136a06754370aa1b86ee084c9ae6da5f.jpg     \b\b\b\b 30%\b\b\b\b\b  OK \n",
            "Extracting  train/img-661_jpg.rf.59e9415bda27ef166e9e0fa652a14b22.jpg     \b\b\b\b 30%\b\b\b\b\b  OK \n",
            "Extracting  train/img-662_jpg.rf.f3cd9beffc2c8a24cae595095d375a19.jpg     \b\b\b\b 30%\b\b\b\b\b  OK \n",
            "Extracting  train/img-663_jpg.rf.eacecce4c5b4615ad0dbe455777e1547.jpg     \b\b\b\b 30%\b\b\b\b\b  OK \n",
            "Extracting  train/img-664_jpg.rf.0392cc4f0a63d256e7c42f057345f8b5.jpg     \b\b\b\b 30%\b\b\b\b\b  OK \n",
            "Extracting  train/img-665_jpg.rf.f1b7ae957b1b1d8c1da0a36309e1f6e2.jpg     \b\b\b\b 30%\b\b\b\b\b  OK \n",
            "Extracting  train/img-66_jpg.rf.356b50eb43676369ecee335108c3709f.jpg     \b\b\b\b 30%\b\b\b\b\b  OK \n",
            "Extracting  train/img-6_jpg.rf.a961e413341cc4216cddc1c46e76d13f.jpg      \b\b\b\b 31%\b\b\b\b\b  OK \n",
            "Extracting  train/img-70_jpg.rf.c64a3fa4382e8482aa49dd4c38c7012b.jpg     \b\b\b\b 31%\b\b\b\b\b  OK \n",
            "Extracting  train/img-71_jpg.rf.cdf11db31e4a7deb2eb646717b72088f.jpg     \b\b\b\b 31%\b\b\b\b\b  OK \n",
            "Extracting  train/img-73_jpg.rf.b63f566c3ddb5514f3fc2a1dd9ba40ec.jpg     \b\b\b\b 31%\b\b\b\b\b  OK \n",
            "Extracting  train/img-74_jpg.rf.bbb7822c260ad0c8f9f4e361c534329c.jpg     \b\b\b\b 31%\b\b\b\b\b  OK \n",
            "Extracting  train/img-75_jpg.rf.9a3c8716c1ae12e2c698c1ff62d8aa4c.jpg     \b\b\b\b 31%\b\b\b\b\b  OK \n",
            "Extracting  train/img-76_jpg.rf.b2486fa34ebf8ebbee2850ff4c02be4a.jpg     \b\b\b\b 31%\b\b\b\b\b  OK \n",
            "Extracting  train/img-78_jpg.rf.01130ebf73370c115ee9de4fc1f29be5.jpg     \b\b\b\b 31%\b\b\b\b\b  OK \n",
            "Extracting  train/img-80_jpg.rf.02752f42e0f4bc24481a8d9d938a7569.jpg     \b\b\b\b 31%\b\b\b\b\b  OK \n",
            "Extracting  train/img-81_jpg.rf.3cde6b9acba84f64ef59722240cb6fd6.jpg     \b\b\b\b 32%\b\b\b\b\b  OK \n",
            "Extracting  train/img-83_jpg.rf.1c7a57b033ede2a3e95532df258578d4.jpg     \b\b\b\b 32%\b\b\b\b\b  OK \n",
            "Extracting  train/img-84_jpg.rf.220a0bb7cdb0d030acdaaeb8724ed36d.jpg     \b\b\b\b 32%\b\b\b\b\b  OK \n",
            "Extracting  train/img-85_jpg.rf.3d157a70f444d84a006039b9114b726b.jpg     \b\b\b\b 32%\b\b\b\b\b  OK \n",
            "Extracting  train/img-86_jpg.rf.dbe8b3ed795b7a898d4fd37b08227003.jpg     \b\b\b\b 32%\b\b\b\b\b  OK \n",
            "Extracting  train/img-87_jpg.rf.d1b29f2a180c61b7f586070108949c9e.jpg     \b\b\b\b 32%\b\b\b\b\b  OK \n",
            "Extracting  train/img-88_jpg.rf.5f67c703ef1d55215e9362d5496fe1ec.jpg     \b\b\b\b 32%\b\b\b\b\b  OK \n",
            "Extracting  train/img-90_jpg.rf.b470c7ecb31eaa9a524688e45287351f.jpg     \b\b\b\b 32%\b\b\b\b\b  OK \n",
            "Extracting  train/img-95_jpg.rf.88e456640460ae2424d7881caa5d1f86.jpg     \b\b\b\b 32%\b\b\b\b\b  OK \n",
            "Extracting  train/img-96_jpg.rf.62cddedc415c7b5c50c459bce49adcc9.jpg     \b\b\b\b 33%\b\b\b\b\b  OK \n",
            "Extracting  train/img-97_jpg.rf.4289b6d75214d9d3dcbf17f94867a0f0.jpg     \b\b\b\b 33%\b\b\b\b\b  OK \n",
            "Extracting  train/img-99_jpg.rf.e4e00fb5fb002d3813a2acb346473620.jpg     \b\b\b\b 33%\b\b\b\b\b  OK \n",
            "Extracting  train/img-9_jpg.rf.de0e0920eee97f99bfa4d5a2ed29d82e.jpg      \b\b\b\b 33%\b\b\b\b\b  OK \n",
            "Extracting  train/IMG_0020_JPG_jpg.rf.967f9deadfeb756e406e4810d29841c1.jpg     \b\b\b\b 33%\b\b\b\b\b  OK \n",
            "Extracting  train/IMG_0026_JPG_jpg.rf.39032d44565d601bc760a263dda881d8.jpg     \b\b\b\b 33%\b\b\b\b\b  OK \n",
            "Extracting  train/IMG_0030_JPG_jpg.rf.3eecdd810a70c955fec2e9d7ec84c484.jpg     \b\b\b\b 33%\b\b\b\b\b  OK \n",
            "Extracting  train/IMG_0031_JPG_jpg.rf.d5a0e2854dd7dd23db3c601b7ac9f849.jpg     \b\b\b\b 33%\b\b\b\b\b  OK \n",
            "Extracting  train/IMG_0034_JPG_jpg.rf.cb59ec336cb702fc406cb2df5694d9d7.jpg     \b\b\b\b 33%\b\b\b\b\b  OK \n",
            "Extracting  train/IMG_0035_JPG_jpg.rf.954d958ab95d15cde5b8765cbdc2b7c3.jpg     \b\b\b\b 33%\b\b\b\b\b  OK \n",
            "Extracting  train/IMG_0036_JPG_jpg.rf.bb75356d7a2ea0c852ac786226bfc11f.jpg     \b\b\b\b 33%\b\b\b\b\b  OK \n",
            "Extracting  train/IMG_0037_JPG_jpg.rf.58295bd12cff9b5710a632df77c13672.jpg     \b\b\b\b 33%\b\b\b\b\b  OK \n",
            "Extracting  train/IMG_0039_JPG_jpg.rf.c81524cf599477b50f7be0c659b4f79f.jpg     \b\b\b\b 34%\b\b\b\b\b  OK \n",
            "Extracting  train/IMG_0056_JPG_jpg.rf.0757acb2823b2ff4fc27eebf2077aec8.jpg     \b\b\b\b 34%\b\b\b\b\b  OK \n",
            "Extracting  train/IMG_0058_JPG_jpg.rf.2d1fa34db3284e98be14ecd80a1a752b.jpg     \b\b\b\b 34%\b\b\b\b\b  OK \n",
            "Extracting  train/IMG_0061_JPG_jpg.rf.73e8b97ebdf8512052832adb6cbc15a8.jpg     \b\b\b\b 34%\b\b\b\b\b  OK \n",
            "Extracting  train/IMG_0063_JPG_jpg.rf.e8d961f0c201b4c8409e483a47cdbf04.jpg     \b\b\b\b 34%\b\b\b\b\b  OK \n",
            "Extracting  train/IMG_0065_JPG_jpg.rf.384cf6ebd38848ad5f010cd52ec0a8e8.jpg     \b\b\b\b 34%\b\b\b\b\b  OK \n",
            "Extracting  train/IMG_0074_JPG_jpg.rf.067e43e2e13048a54bfec8ee72a0fd3f.jpg     \b\b\b\b 34%\b\b\b\b\b  OK \n",
            "Extracting  train/IMG_0076_JPG_jpg.rf.cc7ffabebd1da4c8af36feca7b968466.jpg     \b\b\b\b 34%\b\b\b\b\b  OK \n",
            "Extracting  train/IMG_0078_JPG_jpg.rf.312e81dad33b3cbe03815c9b4000f952.jpg     \b\b\b\b 34%\b\b\b\b\b  OK \n",
            "Extracting  train/IMG_0089_JPG_jpg.rf.f9a5bed732d93a93b076886d924b2df4.jpg     \b\b\b\b 34%\b\b\b\b\b  OK \n",
            "Extracting  train/IMG_0124_JPG_jpg.rf.5d33e98572ba6c47ad0dac73682b45a7.jpg     \b\b\b\b 34%\b\b\b\b\b  OK \n",
            "Extracting  train/IMG_0130_JPG_jpg.rf.f79cd5ecf1ea2a441e5d76062b67eff3.jpg     \b\b\b\b 34%\b\b\b\b\b  OK \n",
            "Extracting  train/IMG_0136_JPG_jpg.rf.4220b1f1315c9b6e2fed080eb76211b4.jpg     \b\b\b\b 34%\b\b\b\b\b  OK \n",
            "Extracting  train/IMG_0157_JPG_jpg.rf.bb6f04e017e3923131808942ba5e55dd.jpg     \b\b\b\b 34%\b\b\b\b\b  OK \n",
            "Extracting  train/IMG_0158_JPG_jpg.rf.0da9dab52d9c38aa50056a50e9cfae6c.jpg     \b\b\b\b 34%\b\b\b\b\b  OK \n",
            "Extracting  train/IMG_0160_JPG_jpg.rf.9dd4bd5a3f353a571e26602700691513.jpg     \b\b\b\b 34%\b\b\b\b\b  OK \n",
            "Extracting  train/IMG_0162_JPG_jpg.rf.e37fb3ad5d3bf1b981da9af379522cde.jpg     \b\b\b\b 34%\b\b\b\b\b  OK \n",
            "Extracting  train/IMG_0166_JPG_jpg.rf.6727c36fe6c87fca8433ecfee0f665b0.jpg     \b\b\b\b 34%\b\b\b\b\b  OK \n",
            "Extracting  train/IMG_0167_JPG_jpg.rf.91882104bf711b21a45c18831ce260f4.jpg     \b\b\b\b 35%\b\b\b\b\b  OK \n",
            "Extracting  train/IMG_0168_JPG_jpg.rf.467f3a431af55d418560fd15ec48c4e0.jpg     \b\b\b\b 35%\b\b\b\b\b  OK \n",
            "Extracting  train/IMG_0169_JPG_jpg.rf.e1c0af04fd1d1c2d368c20f5bba101db.jpg     \b\b\b\b 35%\b\b\b\b\b  OK \n",
            "Extracting  train/IMG_0204_JPG_jpg.rf.ffd407109d804ee8ca83b71a3ac9eaad.jpg     \b\b\b\b 35%\b\b\b\b\b  OK \n",
            "Extracting  train/IMG_0207_JPG_jpg.rf.90ed44a6d9f7c3b73b09a86be36eb98a.jpg     \b\b\b\b 35%\b\b\b\b\b  OK \n",
            "Extracting  train/IMG_0211_JPG_jpg.rf.636ade84215b8e9cd020292cbdd3f155.jpg     \b\b\b\b 35%\b\b\b\b\b  OK \n",
            "Extracting  train/IMG_0212_JPG_jpg.rf.eddf0dd36fce50852b8dbc5b37767f3d.jpg     \b\b\b\b 35%\b\b\b\b\b  OK \n",
            "Extracting  train/IMG_0221_JPG_jpg.rf.439520f837d9901be94a6688fa7e5e75.jpg     \b\b\b\b 35%\b\b\b\b\b  OK \n",
            "Extracting  train/IMG_0225_JPG_jpg.rf.01e0d4479d94900232bfef3fdcb84998.jpg     \b\b\b\b 35%\b\b\b\b\b  OK \n",
            "Extracting  train/IMG_0227_JPG_jpg.rf.98321da4c1e60d6efff79a82411563b4.jpg     \b\b\b\b 35%\b\b\b\b\b  OK \n",
            "Extracting  train/IMG_0228_JPG_jpg.rf.1bea4f743b513ed8f4d44d22ece7a6d0.jpg     \b\b\b\b 35%\b\b\b\b\b  OK \n",
            "Extracting  train/IMG_0229_JPG_jpg.rf.274df07c5a476a8031309d8e38409403.jpg     \b\b\b\b 35%\b\b\b\b\b  OK \n",
            "Extracting  train/IMG_0230_JPG_jpg.rf.fb6acc03e00fbfdb3f4797ae186aa917.jpg     \b\b\b\b 35%\b\b\b\b\b  OK \n",
            "Extracting  train/IMG_0232_JPG_jpg.rf.769fba9beda561ae7072383bf9ba7151.jpg     \b\b\b\b 35%\b\b\b\b\b  OK \n",
            "Extracting  train/IMG_0234_JPG_jpg.rf.861bb704dd582a9993f23f9bbab4bcff.jpg     \b\b\b\b 35%\b\b\b\b\b  OK \n",
            "Extracting  train/IMG_1228_jpg.rf.cfddc3ceda05a1de60f6fdc5ae9150ed.jpg     \b\b\b\b 35%\b\b\b\b\b  OK \n",
            "Extracting  train/IMG_1230_jpg.rf.21762a6af1ec2de545b8130119726d48.jpg     \b\b\b\b 35%\b\b\b\b\b  OK \n",
            "Extracting  train/IMG_1231_jpg.rf.c7f1ee7494f70142c6b9844d9607d621.jpg     \b\b\b\b 35%\b\b\b\b\b  OK \n",
            "Extracting  train/IMG_1233_jpg.rf.92603fe531bd77fdf623938ab516a3e3.jpg     \b\b\b\b 35%\b\b\b\b\b  OK \n",
            "Extracting  train/IMG_1237_jpg.rf.3c7d1654727e996884e75e69a19942af.jpg     \b\b\b\b 35%\b\b\b\b\b  OK \n",
            "Extracting  train/IMG_1239_jpg.rf.e8b0a7af65fb551aec338fc74902c378.jpg     \b\b\b\b 35%\b\b\b\b\b  OK \n",
            "Extracting  train/IMG_1240_jpg.rf.f8817a58ea2f8d6d13ba92d6ff15b41c.jpg     \b\b\b\b 36%\b\b\b\b\b  OK \n",
            "Extracting  train/IMG_1241_jpg.rf.1ed18bb8852cd2f9d2de513915aeff10.jpg     \b\b\b\b 36%\b\b\b\b\b  OK \n",
            "Extracting  train/IMG_1242_jpg.rf.690037c51d5b21afdfdb5304acc44007.jpg     \b\b\b\b 36%\b\b\b\b\b  OK \n",
            "Extracting  train/IMG_1243_jpg.rf.338450ebbd83a61bee655aada6922fe4.jpg     \b\b\b\b 36%\b\b\b\b\b  OK \n",
            "Extracting  train/IMG_1245_jpg.rf.27178501c56fce2abe151628baa6c360.jpg     \b\b\b\b 36%\b\b\b\b\b  OK \n",
            "Extracting  train/IMG_1246_jpg.rf.196c646d2cd83a257a3d6c51b015d5da.jpg     \b\b\b\b 36%\b\b\b\b\b  OK \n",
            "Extracting  train/IMG_1247_jpg.rf.8d1e234003356ef8604864fd9a3174b8.jpg     \b\b\b\b 36%\b\b\b\b\b  OK \n",
            "Extracting  train/IMG_1248_jpg.rf.a0d68b19dfec975eb07d45d6c872541c.jpg     \b\b\b\b 36%\b\b\b\b\b  OK \n",
            "Extracting  train/IMG_1250_jpg.rf.9daa4eb7b358ff8e8178f118c53609b0.jpg     \b\b\b\b 36%\b\b\b\b\b  OK \n",
            "Extracting  train/IMG_1251_jpg.rf.d1f914d58cc92ecfd3b340273aec4ffb.jpg     \b\b\b\b 36%\b\b\b\b\b  OK \n",
            "Extracting  train/IMG_1252_jpg.rf.7caa069d03f0375b86b92152d413f44f.jpg     \b\b\b\b 36%\b\b\b\b\b  OK \n",
            "Extracting  train/IMG_1253_jpg.rf.1ddedac8039e42d103f3c2357e900160.jpg     \b\b\b\b 36%\b\b\b\b\b  OK \n",
            "Extracting  train/IMG_1254_jpg.rf.962781dfe7943bc001a25aa77bb80263.jpg     \b\b\b\b 36%\b\b\b\b\b  OK \n",
            "Extracting  train/IMG_1255_jpg.rf.b6de40d34c645a2fd9624b27c46893e2.jpg     \b\b\b\b 36%\b\b\b\b\b  OK \n",
            "Extracting  train/IMG_1256_jpg.rf.84a65689603a3c3d600e12c87cbfcc7b.jpg     \b\b\b\b 36%\b\b\b\b\b  OK \n",
            "Extracting  train/IMG_1257_jpg.rf.0b4585fecce29306fa623fb5a90209db.jpg     \b\b\b\b 36%\b\b\b\b\b  OK \n",
            "Extracting  train/IMG_1258_jpg.rf.f455666ab113145a584f3fa88c0453ba.jpg     \b\b\b\b 36%\b\b\b\b\b  OK \n",
            "Extracting  train/IMG_1260_jpg.rf.c958df55979142a6656327ff60be57e1.jpg     \b\b\b\b 36%\b\b\b\b\b  OK \n",
            "Extracting  train/IMG_1261_jpg.rf.a92e2dd2ef9071f3d01758af4012bb90.jpg     \b\b\b\b 36%\b\b\b\b\b  OK \n",
            "Extracting  train/IMG_1262_jpg.rf.5123cff988f6bd59d979d669b78e848f.jpg     \b\b\b\b 36%\b\b\b\b\b  OK \n",
            "Extracting  train/IMG_1263_jpg.rf.b249d88e1992ae53fd09c5ee2abd1775.jpg     \b\b\b\b 36%\b\b\b\b\b  OK \n",
            "Extracting  train/IMG_1266_jpg.rf.573c2645c076187d5cc9cb5d2beec29b.jpg     \b\b\b\b 36%\b\b\b\b\b  OK \n",
            "Extracting  train/IMG_1284_jpg.rf.d5c8302034554d891672fe89f36e5033.jpg     \b\b\b\b 37%\b\b\b\b\b  OK \n",
            "Extracting  train/IMG_1285_jpg.rf.ed2fe2090618081839314dfa194c8293.jpg     \b\b\b\b 37%\b\b\b\b\b  OK \n",
            "Extracting  train/IMG_1286_jpg.rf.f1c6ad8f8ddb822187b325b5dda50573.jpg     \b\b\b\b 37%\b\b\b\b\b  OK \n",
            "Extracting  train/IMG_1288_jpg.rf.eda15de26330a547c4420b4aac894d14.jpg     \b\b\b\b 37%\b\b\b\b\b  OK \n",
            "Extracting  train/IMG_1290_jpg.rf.44f9b1566a853a91350049eac32af5dc.jpg     \b\b\b\b 37%\b\b\b\b\b  OK \n",
            "Extracting  train/IMG_1292_jpg.rf.836a50c7a6a605b10c335f5706349319.jpg     \b\b\b\b 37%\b\b\b\b\b  OK \n",
            "Extracting  train/IMG_1294_jpg.rf.c50d294e99a8409bd926a8044a9805af.jpg     \b\b\b\b 37%\b\b\b\b\b  OK \n",
            "Extracting  train/IMG_1296_jpg.rf.6321fd98b4ff26c43722e2a6553181bc.jpg     \b\b\b\b 37%\b\b\b\b\b  OK \n",
            "Extracting  train/IMG_1299_jpg.rf.b110b5e43dfff1b0c1e6b5c2178b5a8f.jpg     \b\b\b\b 37%\b\b\b\b\b  OK \n",
            "Extracting  train/IMG_1311_jpg.rf.ec4e0e71508f8fef17a3c9dc6e158c2b.jpg     \b\b\b\b 37%\b\b\b\b\b  OK \n",
            "Extracting  train/IMG_1315_jpg.rf.c269d582773bca61f01ad07df4339cc6.jpg     \b\b\b\b 37%\b\b\b\b\b  OK \n",
            "Extracting  train/IMG_1317_jpg.rf.317a3175e9494af136bb593f5923b901.jpg     \b\b\b\b 37%\b\b\b\b\b  OK \n",
            "Extracting  train/IMG_20100101_021455_jpg.rf.9a19dd9df18fa6150021ad3317c76709.jpg     \b\b\b\b 37%\b\b\b\b\b  OK \n",
            "Extracting  train/IMG_20100101_021505_jpg.rf.02dcc0538d294f45d7e10c20c4f1ff62.jpg     \b\b\b\b 38%\b\b\b\b\b  OK \n",
            "Extracting  train/IMG_20100101_021612_jpg.rf.37f0409cc655408a1ac7f4bba7496af3.jpg     \b\b\b\b 38%\b\b\b\b\b  OK \n",
            "Extracting  train/IMG_20100101_021624_jpg.rf.05de9c19052dcdebd5cccc9fcb4b87e1.jpg     \b\b\b\b 38%\b\b\b\b\b  OK \n",
            "Extracting  train/IMG_20100101_021651_jpg.rf.62e70a7475bc416f27901d9d94751895.jpg     \b\b\b\b 38%\b\b\b\b\b  OK \n",
            "Extracting  train/IMG_20100101_021715_jpg.rf.44edb01482d614f5ff102f0905624150.jpg     \b\b\b\b 38%\b\b\b\b\b  OK \n",
            "Extracting  train/IMG_20100101_021749_jpg.rf.097a8b373afdf266f4ae4626c75bf6a5.jpg     \b\b\b\b 38%\b\b\b\b\b  OK \n",
            "Extracting  train/IMG_20100101_021758_jpg.rf.2cd494a3bc233b5e7dc67db154a03697.jpg     \b\b\b\b 38%\b\b\b\b\b  OK \n",
            "Extracting  train/IMG_20100101_021826_jpg.rf.a5e590edcdfbd23a48be6aab3aaabf4c.jpg     \b\b\b\b 38%\b\b\b\b\b  OK \n",
            "Extracting  train/IMG_20100101_021949_jpg.rf.efde479035d20e9bc76fb800d2a3ab17.jpg     \b\b\b\b 39%\b\b\b\b\b  OK \n",
            "Extracting  train/IMG_20100101_022113_jpg.rf.a015c43f887e8fa8c1188bad92d15ad8.jpg     \b\b\b\b 39%\b\b\b\b\b  OK \n",
            "Extracting  train/IMG_20100101_022131_jpg.rf.b5f91e3f9cd39c6883a75fcdff211a36.jpg     \b\b\b\b 39%\b\b\b\b\b  OK \n",
            "Extracting  train/IMG_20100101_022226_jpg.rf.5f15e36da8a2832f48e522f447146cf9.jpg     \b\b\b\b 39%\b\b\b\b\b  OK \n",
            "Extracting  train/IMG_20100101_022529_jpg.rf.33baa5debbd2b9fb936647b45f3dfca3.jpg     \b\b\b\b 39%\b\b\b\b\b  OK \n",
            "Extracting  train/IMG_20100101_022658_jpg.rf.5d956753b96f1090850041fbee8c79ab.jpg     \b\b\b\b 39%\b\b\b\b\b  OK \n",
            "Extracting  train/IMG_20100101_022751_jpg.rf.3c9d63aabf0924b8ef824b9b70ec2dfe.jpg     \b\b\b\b 39%\b\b\b\b\b  OK \n",
            "Extracting  train/IMG_20100101_022907_jpg.rf.5041e966e43ce960afa9291a71b08484.jpg     \b\b\b\b 39%\b\b\b\b\b  OK \n",
            "Extracting  train/IMG_20100101_022957_jpg.rf.c44e2ffdfcd956a7f54fe9bd2301d50c.jpg     \b\b\b\b 39%\b\b\b\b\b  OK \n",
            "Extracting  train/IMG_20100101_023024_jpg.rf.221fe2909d2b9b9dd7de92c419992615.jpg     \b\b\b\b 40%\b\b\b\b\b  OK \n",
            "Extracting  train/IMG_20100101_023206_jpg.rf.b38075c1af1f07352c4e15bfc6408d9c.jpg     \b\b\b\b 40%\b\b\b\b\b  OK \n",
            "Extracting  train/IMG_20100101_023250_jpg.rf.b835bc3f33418802cf4e636d7cecd25d.jpg     \b\b\b\b 40%\b\b\b\b\b  OK \n",
            "Extracting  train/IMG_20100101_030140_jpg.rf.6a6dc9c24656dc991ab6bbb1b45495d7.jpg     \b\b\b\b 40%\b\b\b\b\b  OK \n",
            "Extracting  train/IMG_20100101_030359_jpg.rf.00087775095b74724bfc213c6ef61421.jpg     \b\b\b\b 40%\b\b\b\b\b  OK \n",
            "Extracting  train/IMG_20100101_030428_jpg.rf.56fa8cc284b604544acf9bb7b0e03deb.jpg     \b\b\b\b 40%\b\b\b\b\b  OK \n",
            "Extracting  train/IMG_20100101_030701_jpg.rf.2d1d68aae978df7d78edeed8308b57c5.jpg     \b\b\b\b 40%\b\b\b\b\b  OK \n",
            "Extracting  train/IMG_20100101_030741_jpg.rf.8ca1c8c578ac20112a5fb8e57183ac3a.jpg     \b\b\b\b 40%\b\b\b\b\b  OK \n",
            "Extracting  train/IMG_20100101_030848_jpg.rf.cb7f16469647fd1ee0e569cd66907a17.jpg     \b\b\b\b 40%\b\b\b\b\b  OK \n",
            "Extracting  train/IMG_20100101_031000_jpg.rf.fc471657fbace0e95fdf8ac4ea0c7032.jpg     \b\b\b\b 40%\b\b\b\b\b  OK \n",
            "Extracting  train/IMG_20100101_031126_jpg.rf.63b09e91f0d033ade8feec19ec1c3714.jpg     \b\b\b\b 40%\b\b\b\b\b  OK \n",
            "Extracting  train/IMG_20100101_031404_jpg.rf.94c660ae8bb8b347c5e0a71104a96cad.jpg     \b\b\b\b 41%\b\b\b\b\b  OK \n",
            "Extracting  train/IMG_20100101_031423_jpg.rf.0974805bd7bd4e87643a8b31efa8f6e2.jpg     \b\b\b\b 41%\b\b\b\b\b  OK \n",
            "Extracting  train/IMG_20100101_031506_jpg.rf.f1a2f8baf4d8d60353a254d258d70613.jpg     \b\b\b\b 41%\b\b\b\b\b  OK \n",
            "Extracting  train/IMG_20100101_031519_jpg.rf.dbdd65810b87a2c23639b0d037f71d8b.jpg     \b\b\b\b 41%\b\b\b\b\b  OK \n",
            "Extracting  train/IMG_20100101_031606_jpg.rf.19329446c8bf008f0e165b45b3b2c68b.jpg     \b\b\b\b 41%\b\b\b\b\b  OK \n",
            "Extracting  train/IMG_20100101_031702_jpg.rf.9d612c3af9d78dcfcdcaa641968ebfe5.jpg     \b\b\b\b 41%\b\b\b\b\b  OK \n",
            "Extracting  train/IMG_20100101_031717_jpg.rf.a0d49aa13635a88f77a737b2f9b92346.jpg     \b\b\b\b 41%\b\b\b\b\b  OK \n",
            "Extracting  train/IMG_20100101_031744_jpg.rf.13c04e42f4d62bdc895161f1e30e4a37.jpg     \b\b\b\b 41%\b\b\b\b\b  OK \n",
            "Extracting  train/IMG_20100101_031811_jpg.rf.4cd88da606d878134940b25b2c137236.jpg     \b\b\b\b 41%\b\b\b\b\b  OK \n",
            "Extracting  train/IMG_20100101_031820_jpg.rf.0f7feb69621f41f4ac658542614dbd4d.jpg     \b\b\b\b 41%\b\b\b\b\b  OK \n",
            "Extracting  train/IMG_20100101_031918_jpg.rf.8dbb135864f78667e3d8e314c59eea3a.jpg     \b\b\b\b 41%\b\b\b\b\b  OK \n",
            "Extracting  train/IMG_20100101_031929_jpg.rf.d443a906985c639012e3b81a14a96883.jpg     \b\b\b\b 41%\b\b\b\b\b  OK \n",
            "Extracting  train/IMG_20100101_031947_jpg.rf.a81d6fbffc8696e7c670d7a180b85d66.jpg     \b\b\b\b 41%\b\b\b\b\b  OK \n",
            "Extracting  train/IMG_20100101_032130_jpg.rf.e1bddecb8e0697b1fb8ed1c4cd4d6b95.jpg     \b\b\b\b 41%\b\b\b\b\b  OK \n",
            "Extracting  train/IMG_20100101_032147_jpg.rf.2171ab429c60214a96fdb89f5686d199.jpg     \b\b\b\b 42%\b\b\b\b\b  OK \n",
            "Extracting  train/IMG_20100101_032203_jpg.rf.a7246337c4622d375a462725c055d71d.jpg     \b\b\b\b 42%\b\b\b\b\b  OK \n",
            "Extracting  train/IMG_20100101_032210_jpg.rf.c52eadecf40471697b2dff277d402181.jpg     \b\b\b\b 42%\b\b\b\b\b  OK \n",
            "Extracting  train/IMG_20100101_032219_jpg.rf.ed98d6c61386362be400e0782667ec37.jpg     \b\b\b\b 42%\b\b\b\b\b  OK \n",
            "Extracting  train/IMG_20100101_032301_jpg.rf.d340955eec05e87240b148864786d3e0.jpg     \b\b\b\b 42%\b\b\b\b\b  OK \n",
            "Extracting  train/IMG_20100101_032407_jpg.rf.33db63c87dbf8a533fb7d99c9eb50118.jpg     \b\b\b\b 42%\b\b\b\b\b  OK \n",
            "Extracting  train/IMG_20100101_032415_jpg.rf.09133416b9876e7b21270ce6bbf1ed71.jpg     \b\b\b\b 42%\b\b\b\b\b  OK \n",
            "Extracting  train/IMG_20100101_032423_jpg.rf.8624937afe29cb032fda5fafa1038a86.jpg     \b\b\b\b 42%\b\b\b\b\b  OK \n",
            "Extracting  train/IMG_20100101_032532_jpg.rf.c9a1691a65bd9a5b934677eefdf07131.jpg     \b\b\b\b 42%\b\b\b\b\b  OK \n",
            "Extracting  train/IMG_20100101_032553_jpg.rf.5c090fa1b7ebad8d3969e79fbf311674.jpg     \b\b\b\b 42%\b\b\b\b\b  OK \n",
            "Extracting  train/IMG_20100101_032618_jpg.rf.7c4e67155b859ca97059748b7dcf5bbd.jpg     \b\b\b\b 42%\b\b\b\b\b  OK \n",
            "Extracting  train/IMG_20100101_032707_jpg.rf.c9dfe5183caf291a7057f11810c5a289.jpg     \b\b\b\b 42%\b\b\b\b\b  OK \n",
            "Extracting  train/IMG_20100101_032744_jpg.rf.315e0b21bf3982314871d71976f35fd5.jpg     \b\b\b\b 43%\b\b\b\b\b  OK \n",
            "Extracting  train/IMG_20100101_032941_jpg.rf.84f06f2ef82400238236d01e0608af5e.jpg     \b\b\b\b 43%\b\b\b\b\b  OK \n",
            "Extracting  train/IMG_20100101_032949_jpg.rf.af5f257c4527ca1ea2f2feb637ff6fa3.jpg     \b\b\b\b 43%\b\b\b\b\b  OK \n",
            "Extracting  train/IMG_20100101_033101_jpg.rf.d8fb144cfc1a45138bddee2946d4312a.jpg     \b\b\b\b 43%\b\b\b\b\b  OK \n",
            "Extracting  train/IMG_20100101_033117_jpg.rf.f2b09c015e2f65fea1c03d6f19caf33c.jpg     \b\b\b\b 43%\b\b\b\b\b  OK \n",
            "Extracting  train/IMG_20100101_033158_jpg.rf.fe253e9ca7ef5a2b61bcfa5f5b0a2545.jpg     \b\b\b\b 43%\b\b\b\b\b  OK \n",
            "Extracting  train/IMG_20100101_033207_jpg.rf.bba5272b9e954d3461f29f3286e21e6c.jpg     \b\b\b\b 43%\b\b\b\b\b  OK \n",
            "Extracting  train/IMG_20100101_033259_jpg.rf.6deca07627fe0b60f430814a2f358b46.jpg     \b\b\b\b 43%\b\b\b\b\b  OK \n",
            "Extracting  train/IMG_20100101_033320_jpg.rf.95b73d16af9cd31f39c4257045ccf301.jpg     \b\b\b\b 43%\b\b\b\b\b  OK \n",
            "Extracting  train/IMG_20100101_033353_jpg.rf.fb7195514f9e2894c495baac4f7c4c4e.jpg     \b\b\b\b 43%\b\b\b\b\b  OK \n",
            "Extracting  train/IMG_20100101_033537_jpg.rf.54471cf5b2e224f1083fd71d261b0243.jpg     \b\b\b\b 43%\b\b\b\b\b  OK \n",
            "Extracting  train/IMG_20100101_033551_jpg.rf.8a58772b07ccae3f6dbbcc81b5d1e47c.jpg     \b\b\b\b 44%\b\b\b\b\b  OK \n",
            "Extracting  train/IMG_20100101_033559_jpg.rf.c47a0283600a2880d03598199550803b.jpg     \b\b\b\b 44%\b\b\b\b\b  OK \n",
            "Extracting  train/IMG_20100101_033637_jpg.rf.7668c596ce03112c0eb1dcaa9ec6ead6.jpg     \b\b\b\b 44%\b\b\b\b\b  OK \n",
            "Extracting  train/IMG_20180712_221713_jpg.rf.2a4a8575d853db1ddad4ecb268cda6c4.jpg     \b\b\b\b 44%\b\b\b\b\b  OK \n",
            "Extracting  train/IMG_20180713_104837_jpg.rf.1ae376b735a3117170d40e627d17f386.jpg     \b\b\b\b 44%\b\b\b\b\b  OK \n",
            "Extracting  train/IMG_20180713_104842_jpg.rf.65b18970cf75e8c10bd1526888c4de1b.jpg     \b\b\b\b 44%\b\b\b\b\b  OK \n",
            "Extracting  train/IMG_20180713_104900_jpg.rf.456449576bb98534d1fe91ba415ee8b2.jpg     \b\b\b\b 44%\b\b\b\b\b  OK \n",
            "Extracting  train/IMG_20180713_105056_jpg.rf.9f83404239ebae963c27480e75feba3e.jpg     \b\b\b\b 44%\b\b\b\b\b  OK \n",
            "Extracting  train/IMG_20180713_110053_jpg.rf.98d36b4300998a074d70af2376b82c33.jpg     \b\b\b\b 44%\b\b\b\b\b  OK \n",
            "Extracting  train/IMG_20180713_110059_jpg.rf.db42162e2907a7440845e6fe016bafdd.jpg     \b\b\b\b 44%\b\b\b\b\b  OK \n",
            "Extracting  train/IMG_20180713_110216_jpg.rf.408fdf6ed2de726493661cbe74024b5f.jpg     \b\b\b\b 44%\b\b\b\b\b  OK \n",
            "Extracting  train/IMG_20180713_110542_jpg.rf.81fd6568d17d8eb85088fa310d7868c0.jpg     \b\b\b\b 44%\b\b\b\b\b  OK \n",
            "Extracting  train/IMG_20180713_110546_jpg.rf.de959846c262c461a366ef8b90be3be0.jpg     \b\b\b\b 45%\b\b\b\b\b  OK \n",
            "Extracting  train/IMG_20180713_111345_jpg.rf.b91ddf4670a958bc7bdec50e97c75ef5.jpg     \b\b\b\b 45%\b\b\b\b\b  OK \n",
            "Extracting  train/IMG_20180713_111359_jpg.rf.5ba4791233b5d8426bb8c3ce377216d6.jpg     \b\b\b\b 45%\b\b\b\b\b  OK \n",
            "Extracting  train/IMG_20180713_111419_jpg.rf.68eeea3c8ef7b452ed117563256a8657.jpg     \b\b\b\b 45%\b\b\b\b\b  OK \n",
            "Extracting  train/IMG_20180713_111439_jpg.rf.b6f41ea3403298216d5d2f09253f4f5e.jpg     \b\b\b\b 45%\b\b\b\b\b  OK \n",
            "Extracting  train/IMG_20180713_111457_jpg.rf.9b9a397969c21280aefb7fa577be38f5.jpg     \b\b\b\b 45%\b\b\b\b\b  OK \n",
            "Extracting  train/IMG_20180713_111504_jpg.rf.eed60ee60632c152d75a32afd172d78d.jpg     \b\b\b\b 45%\b\b\b\b\b  OK \n",
            "Extracting  train/IMG_20180713_111517_jpg.rf.c1c0c85808f7c4c70237bda1e24eeeb5.jpg     \b\b\b\b 45%\b\b\b\b\b  OK \n",
            "Extracting  train/IMG_20180713_111539_jpg.rf.0f4a55afa554f024519afd49df5aaf15.jpg     \b\b\b\b 45%\b\b\b\b\b  OK \n",
            "Extracting  train/IMG_20180714_094920_jpg.rf.6fc139c9c948ed8d34cf2910bc1d5e56.jpg     \b\b\b\b 45%\b\b\b\b\b  OK \n",
            "Extracting  train/IMG_20180714_094934_jpg.rf.98ff7f6f02f4e177a5a1624db54cedf6.jpg     \b\b\b\b 46%\b\b\b\b\b  OK \n",
            "Extracting  train/IMG_20180714_095301_jpg.rf.52fb30b9017da0d971474cfd38827a02.jpg     \b\b\b\b 46%\b\b\b\b\b  OK \n",
            "Extracting  train/IMG_20180714_095902_jpg.rf.6493533d83eda6e8e737139dd460d5a6.jpg     \b\b\b\b 46%\b\b\b\b\b  OK \n",
            "Extracting  train/IMG_20180714_102330_jpg.rf.81c4f1a61e92d81965f5940f5e5e693c.jpg     \b\b\b\b 46%\b\b\b\b\b  OK \n",
            "Extracting  train/IMG_20180714_102407_jpg.rf.dcad65fa19d4193158eafd58636cb338.jpg     \b\b\b\b 46%\b\b\b\b\b  OK \n",
            "Extracting  train/IMG_20180714_102413_jpg.rf.ef505b649ebd3a24be4badb6edf0f8c9.jpg     \b\b\b\b 46%\b\b\b\b\b  OK \n",
            "Extracting  train/IMG_20180714_102503_jpg.rf.9ff2524d38a11357b474f8ba1b8bdb81.jpg     \b\b\b\b 46%\b\b\b\b\b  OK \n",
            "Extracting  train/IMG_20180714_102509_jpg.rf.29bd1302e87f28fc871238344dbf3877.jpg     \b\b\b\b 46%\b\b\b\b\b  OK \n",
            "Extracting  train/IMG_20180714_102511_jpg.rf.169b39030a4e2e379478a81782d0f775.jpg     \b\b\b\b 47%\b\b\b\b\b  OK \n",
            "Extracting  train/IMG_20180714_102521_jpg.rf.fe714650e9135d7592f7411a0582ba53.jpg     \b\b\b\b 47%\b\b\b\b\b  OK \n",
            "Extracting  train/IMG_20180714_102617_jpg.rf.6e30ca02af76789a69b0c2dceb3d8cfe.jpg     \b\b\b\b 47%\b\b\b\b\b  OK \n",
            "Extracting  train/IMG_20180714_102620_jpg.rf.4cac3b3797374a23de510ace650ed4c6.jpg     \b\b\b\b 47%\b\b\b\b\b  OK \n",
            "Extracting  train/IMG_20180714_102623_jpg.rf.f886eede1abc1f2bfbe5e32496df99cf.jpg     \b\b\b\b 47%\b\b\b\b\b  OK \n",
            "Extracting  train/IMG_20180714_102627_jpg.rf.f5565f4e2538d2997937a9c887e556ab.jpg     \b\b\b\b 47%\b\b\b\b\b  OK \n",
            "Extracting  train/IMG_20180714_102644_jpg.rf.b7e9c62c43eaeb2a044f8acd392247d5.jpg     \b\b\b\b 47%\b\b\b\b\b  OK \n",
            "Extracting  train/IMG_20180714_102729_jpg.rf.87d905a3472976353fe7fc8b803a1d00.jpg     \b\b\b\b 47%\b\b\b\b\b  OK \n",
            "Extracting  train/IMG_20180714_102952_jpg.rf.e48f2a3eea4f973160231c8fe06e1a30.jpg     \b\b\b\b 47%\b\b\b\b\b  OK \n",
            "Extracting  train/IMG_20180714_103024_jpg.rf.35872178c890348bf13a9a63719e5449.jpg     \b\b\b\b 47%\b\b\b\b\b  OK \n",
            "Extracting  train/IMG_20180714_103033_jpg.rf.71a04d658f1440eac98500e8c05a2ea5.jpg     \b\b\b\b 48%\b\b\b\b\b  OK \n",
            "Extracting  train/IMG_20180714_103038_jpg.rf.72464d00fb2040f9eddf07cfc01b2820.jpg     \b\b\b\b 48%\b\b\b\b\b  OK \n",
            "Extracting  train/IMG_20180714_103055_jpg.rf.f5a4097d4067d5dfb766dfe64d18a9f6.jpg     \b\b\b\b 48%\b\b\b\b\b  OK \n",
            "Extracting  train/IMG_20180714_103103_jpg.rf.fc97ac377fa817062d2b6c3c493920ee.jpg     \b\b\b\b 48%\b\b\b\b\b  OK \n",
            "Extracting  train/IMG_20180714_103109_jpg.rf.ee854a483d52e82f41e0d8d4ec524039.jpg     \b\b\b\b 48%\b\b\b\b\b  OK \n",
            "Extracting  train/IMG_20180714_103229_jpg.rf.ff51ed86dfbf1c680c67d98cdb3b4d78.jpg     \b\b\b\b 48%\b\b\b\b\b  OK \n",
            "Extracting  train/IMG_20180714_103303_jpg.rf.9e925d16af1a243bef516e269b62ceca.jpg     \b\b\b\b 48%\b\b\b\b\b  OK \n",
            "Extracting  train/IMG_20180714_103329_jpg.rf.d6536b7f238f608225fab3526e665343.jpg     \b\b\b\b 48%\b\b\b\b\b  OK \n",
            "Extracting  train/IMG_20180714_103352_jpg.rf.e92f94aa3213dc5039b496a5fd4bf729.jpg     \b\b\b\b 48%\b\b\b\b\b  OK \n",
            "Extracting  train/IMG_20180714_103417_jpg.rf.c0babfea4b607a59bec73aca1a46b896.jpg     \b\b\b\b 48%\b\b\b\b\b  OK \n",
            "Extracting  train/IMG_20180714_103537_jpg.rf.2074f4ad7584cfd2d35f04a59bc2afdb.jpg     \b\b\b\b 49%\b\b\b\b\b  OK \n",
            "Extracting  train/IMG_20180714_103542_jpg.rf.20fa64d4b1decbbd80da64a123c0c9f0.jpg     \b\b\b\b 49%\b\b\b\b\b  OK \n",
            "Extracting  train/IMG_20180714_103621_jpg.rf.8c34aef066f13e3ad628f4dc289f6933.jpg     \b\b\b\b 49%\b\b\b\b\b  OK \n",
            "Extracting  train/IMG_20180714_103632_jpg.rf.02cd105014b655293527fa5f33f03cc6.jpg     \b\b\b\b 49%\b\b\b\b\b  OK \n",
            "Extracting  train/IMG_20180714_103808_jpg.rf.94c6efdf144ce90b1ea0b3991199a92f.jpg     \b\b\b\b 49%\b\b\b\b\b  OK \n",
            "Extracting  train/IMG_20180714_103949_jpg.rf.a04b63f65fc2e2ff6d6285699fd5c230.jpg     \b\b\b\b 49%\b\b\b\b\b  OK \n",
            "Extracting  train/IMG_20180714_104148_jpg.rf.4a74ce3071c17d6698d474f831847cfe.jpg     \b\b\b\b 49%\b\b\b\b\b  OK \n",
            "Extracting  train/IMG_20180714_104443_jpg.rf.fa3a8acd5268e2be90b8208b10549bbf.jpg     \b\b\b\b 49%\b\b\b\b\b  OK \n",
            "Extracting  train/IMG_20180714_104445_jpg.rf.980c5867a7526d676f725a43e22129eb.jpg     \b\b\b\b 49%\b\b\b\b\b  OK \n",
            "Extracting  train/IMG_20180714_105021_jpg.rf.2fc0872e931cb2e9e6c0f13041810d54.jpg     \b\b\b\b 49%\b\b\b\b\b  OK \n",
            "Extracting  train/IMG_20180714_105115_jpg.rf.008e708ce897329b5db300da0e11b7ea.jpg     \b\b\b\b 50%\b\b\b\b\b  OK \n",
            "Extracting  train/IMG_20180714_105117_jpg.rf.3a2cde25be73bb1c1f20d63083fa672e.jpg     \b\b\b\b 50%\b\b\b\b\b  OK \n",
            "Extracting  train/IMG_20180717_095144_jpg.rf.b7abf9957c1e27dfe3fcbce1c6e59aab.jpg     \b\b\b\b 50%\b\b\b\b\b  OK \n",
            "Extracting  train/IMG_20180717_095153_jpg.rf.541727d133c2ccdcdca69bebb7818e7b.jpg     \b\b\b\b 50%\b\b\b\b\b  OK \n",
            "Extracting  train/IMG_20180717_095534_jpg.rf.2797a9adc7ff89998d6bd9856d8a9c2a.jpg     \b\b\b\b 50%\b\b\b\b\b  OK \n",
            "Extracting  train/IMG_20180717_095822_jpg.rf.97f10a5212daf8239db1e25a9d2e9fa0.jpg     \b\b\b\b 50%\b\b\b\b\b  OK \n",
            "Extracting  train/IMG_20180717_100254_jpg.rf.8d2903e0f8cfd811b043bfdc5bff2af0.jpg     \b\b\b\b 50%\b\b\b\b\b  OK \n",
            "Extracting  train/IMG_20180717_104224_jpg.rf.64276603292178c39284c6a7aa915125.jpg     \b\b\b\b 50%\b\b\b\b\b  OK \n",
            "Extracting  train/IMG_20180717_104525_jpg.rf.029c79d733e7a65bac2e02d4c138d527.jpg     \b\b\b\b 51%\b\b\b\b\b  OK \n",
            "Extracting  train/IMG_20180717_104631_jpg.rf.aef0f6b52464423970705d2e20f6024f.jpg     \b\b\b\b 51%\b\b\b\b\b  OK \n",
            "Extracting  train/IMG_20180717_105032_jpg.rf.0c1ec1c52708bb92d7f0e7f44673aacd.jpg     \b\b\b\b 51%\b\b\b\b\b  OK \n",
            "Extracting  train/IMG_20180717_105052_jpg.rf.caf2c47e72fd5a8ff80940b7f21b9901.jpg     \b\b\b\b 51%\b\b\b\b\b  OK \n",
            "Extracting  train/IMG_20180717_105138_jpg.rf.42cbb955c4f416eeaab288973b0577da.jpg     \b\b\b\b 51%\b\b\b\b\b  OK \n",
            "Extracting  train/IMG_20180717_105155_jpg.rf.5d714523655eb3e2240e777a4ab6149e.jpg     \b\b\b\b 51%\b\b\b\b\b  OK \n",
            "Extracting  train/IMG_20180717_120747_jpg.rf.3776bdff8efeae000382d34068e51120.jpg     \b\b\b\b 51%\b\b\b\b\b  OK \n",
            "Extracting  train/IMG_20180717_120802_jpg.rf.74e2cdac6873b55a553379013a955b4c.jpg     \b\b\b\b 51%\b\b\b\b\b  OK \n",
            "Extracting  train/IMG_20180717_120957_jpg.rf.78ff84b9a2e6d03a789a62f0f6853ef6.jpg     \b\b\b\b 51%\b\b\b\b\b  OK \n",
            "Extracting  train/IMG_20180717_121231_jpg.rf.c8b80f4a09ea0dfb55df61a43dc0f881.jpg     \b\b\b\b 51%\b\b\b\b\b  OK \n",
            "Extracting  train/IMG_20180717_121240_jpg.rf.6b7eb958ca0ad4340d8ccfb9885026b4.jpg     \b\b\b\b 52%\b\b\b\b\b  OK \n",
            "Extracting  train/IMG_20180717_121303_jpg.rf.50ff939434e7143421ff89c49bae4344.jpg     \b\b\b\b 52%\b\b\b\b\b  OK \n",
            "Extracting  train/IMG_20180717_121404_jpg.rf.15c8a6fdcfe17f59493ba33dae65216b.jpg     \b\b\b\b 52%\b\b\b\b\b  OK \n",
            "Extracting  train/IMG_20180717_121631_jpg.rf.0030d8f59e6306f1c274ff833b55caed.jpg     \b\b\b\b 52%\b\b\b\b\b  OK \n",
            "Extracting  train/IMG_20180717_121822_jpg.rf.029a2855934acdac92af8c4bc6bb1e7c.jpg     \b\b\b\b 52%\b\b\b\b\b  OK \n",
            "Extracting  train/IMG_20180717_121839_jpg.rf.23a0040377da8ef0a3c72be27808e485.jpg     \b\b\b\b 52%\b\b\b\b\b  OK \n",
            "Extracting  train/IMG_20180717_121929_jpg.rf.c3a791dcb4fe8e187bf4984245a06e5f.jpg     \b\b\b\b 52%\b\b\b\b\b  OK \n",
            "Extracting  train/IMG_20180717_122524_jpg.rf.7b0a5bef00e5732d0664ed3765ff1478.jpg     \b\b\b\b 52%\b\b\b\b\b  OK \n",
            "Extracting  train/IMG_20180717_122646_jpg.rf.913cbc8d095f58349e518c234a4c6438.jpg     \b\b\b\b 52%\b\b\b\b\b  OK \n",
            "Extracting  train/IMG_20180717_122754_jpg.rf.7b4d95d00bb4d92ac5d0bc7ae8af0eac.jpg     \b\b\b\b 52%\b\b\b\b\b  OK \n",
            "Extracting  train/IMG_20180717_123537_jpg.rf.02cd8217c5945f2e5d0168e1c94c7eef.jpg     \b\b\b\b 52%\b\b\b\b\b  OK \n",
            "Extracting  train/IMG_20180717_143333_jpg.rf.65a68dff88d342130f0b46762177aab9.jpg     \b\b\b\b 52%\b\b\b\b\b  OK \n",
            "Extracting  train/IMG_20180717_143613_jpg.rf.7b4d8a0d46684e923e64ef60bddbaff7.jpg     \b\b\b\b 53%\b\b\b\b\b  OK \n",
            "Extracting  train/IMG_20180717_144253_jpg.rf.eb25a8b10afc8f81f0558e6712503baa.jpg     \b\b\b\b 53%\b\b\b\b\b  OK \n",
            "Extracting  train/IMG_20180718_105313_jpg.rf.4c13765a4e8c98206983341e3f62118e.jpg     \b\b\b\b 53%\b\b\b\b\b  OK \n",
            "Extracting  train/IMG_20180718_105325_jpg.rf.0d337d582b9e314deae4657a229ad60c.jpg     \b\b\b\b 53%\b\b\b\b\b  OK \n",
            "Extracting  train/IMG_20180719_123622_jpg.rf.844a85d622cf5f8b275c7748585c0672.jpg     \b\b\b\b 53%\b\b\b\b\b  OK \n",
            "Extracting  train/IMG_20180719_123643_jpg.rf.d205582580b9644cb884aa43ec557baa.jpg     \b\b\b\b 53%\b\b\b\b\b  OK \n",
            "Extracting  train/IMG_20180719_123656_jpg.rf.646be76626ea7b852840144096abf02e.jpg     \b\b\b\b 53%\b\b\b\b\b  OK \n",
            "Extracting  train/IMG_20180719_123704_jpg.rf.185430dfc51f6bbd9cf5a5c6ac4d7f50.jpg     \b\b\b\b 53%\b\b\b\b\b  OK \n",
            "Extracting  train/IMG_20180719_123752_jpg.rf.d9cbcf69ed6c68d122c8bed331a36b37.jpg     \b\b\b\b 53%\b\b\b\b\b  OK \n",
            "Extracting  train/IMG_20180719_123848_jpg.rf.ab691aaebe9b57b9902b430ada623081.jpg     \b\b\b\b 53%\b\b\b\b\b  OK \n",
            "Extracting  train/IMG_20180719_123927_jpg.rf.f60df709e02cabddc15a86c99dddd7ef.jpg     \b\b\b\b 53%\b\b\b\b\b  OK \n",
            "Extracting  train/IMG_20180719_123953_jpg.rf.b8d1aa2f288d32b6bec84eb3d65fcb0c.jpg     \b\b\b\b 53%\b\b\b\b\b  OK \n",
            "Extracting  train/IMG_20180719_124008_jpg.rf.b5f53080afc440acc679b41683a3a1de.jpg     \b\b\b\b 53%\b\b\b\b\b  OK \n",
            "Extracting  train/IMG_20180719_124018_jpg.rf.7f8dee189ad3d0e5b1e5d034cd4c24a2.jpg     \b\b\b\b 54%\b\b\b\b\b  OK \n",
            "Extracting  train/IMG_20180719_124132_jpg.rf.9245de369bcd21211934583ca03b84ce.jpg     \b\b\b\b 54%\b\b\b\b\b  OK \n",
            "Extracting  train/IMG_20180719_124206_jpg.rf.f1ae3352a5ab9412d47408a48b1c6486.jpg     \b\b\b\b 54%\b\b\b\b\b  OK \n",
            "Extracting  train/IMG_20180719_124213_jpg.rf.0228f463bc5570cf26e0073eb1f69fd0.jpg     \b\b\b\b 54%\b\b\b\b\b  OK \n",
            "Extracting  train/IMG_20180719_124340_jpg.rf.dbf277eab723faab8a52dcbd4d124937.jpg     \b\b\b\b 54%\b\b\b\b\b  OK \n",
            "Extracting  train/IMG_20180719_124405_jpg.rf.81ec158107db470a6beaf008f4ea8ecd.jpg     \b\b\b\b 54%\b\b\b\b\b  OK \n",
            "Extracting  train/IMG_20180719_124442_jpg.rf.bc62d3da58315aa186329c1d85cd32c2.jpg     \b\b\b\b 54%\b\b\b\b\b  OK \n",
            "Extracting  train/IMG_20180719_124458_jpg.rf.c3402531dfd7d9a36e88fe0b1e7d89d5.jpg     \b\b\b\b 54%\b\b\b\b\b  OK \n",
            "Extracting  train/IMG_20180719_124517_jpg.rf.21f60e26fcda54eadee388997ca55fd1.jpg     \b\b\b\b 54%\b\b\b\b\b  OK \n",
            "Extracting  train/IMG_20180719_124538_jpg.rf.51c4f9ae5cef05de60d1bfba51ea65ad.jpg     \b\b\b\b 55%\b\b\b\b\b  OK \n",
            "Extracting  train/IMG_20180719_124553_jpg.rf.af3acaeee589bf97f375bfeee63e2577.jpg     \b\b\b\b 55%\b\b\b\b\b  OK \n",
            "Extracting  train/IMG_20180719_124625_jpg.rf.2fdd94e745c6171bdec2af5d418e2d18.jpg     \b\b\b\b 55%\b\b\b\b\b  OK \n",
            "Extracting  train/IMG_20180719_124805_jpg.rf.3757a05575dfc0045ab69400328775d7.jpg     \b\b\b\b 55%\b\b\b\b\b  OK \n",
            "Extracting  train/IMG_20180719_124812_jpg.rf.0189b59a6072e7de667e92b5800ff80b.jpg     \b\b\b\b 55%\b\b\b\b\b  OK \n",
            "Extracting  train/IMG_20180719_124852_jpg.rf.1b8d8f4fe0bac6aef8f9151cb0f7b0ba.jpg     \b\b\b\b 55%\b\b\b\b\b  OK \n",
            "Extracting  train/IMG_20180719_124931_jpg.rf.b3546849eb19c978e6a532758890282e.jpg     \b\b\b\b 55%\b\b\b\b\b  OK \n",
            "Extracting  train/IMG_20180719_124953_jpg.rf.28ec6c6b4014d2f908ab2f5b24ee8ed3.jpg     \b\b\b\b 55%\b\b\b\b\b  OK \n",
            "Extracting  train/IMG_20180719_125049_jpg.rf.d0ad986fc60a799c0f21774b578d7c99.jpg     \b\b\b\b 55%\b\b\b\b\b  OK \n",
            "Extracting  train/IMG_20180719_125134_jpg.rf.fbbbe89147617b72fa6f1e58786bedd4.jpg     \b\b\b\b 55%\b\b\b\b\b  OK \n",
            "Extracting  train/IMG_20180719_125528_jpg.rf.aa769cebbe61319d9567dfc0d2443d40.jpg     \b\b\b\b 56%\b\b\b\b\b  OK \n",
            "Extracting  train/IMG_20180719_141737_jpg.rf.7547db034cded0434f1b6e8ad67473fa.jpg     \b\b\b\b 56%\b\b\b\b\b  OK \n",
            "Extracting  train/IMG_20180719_141754_jpg.rf.7bf37fd819707db7fe1d1e6e36fee85e.jpg     \b\b\b\b 56%\b\b\b\b\b  OK \n",
            "Extracting  train/IMG_20180719_141933_jpg.rf.701ff4fe6b4e8774667dd1870eb8266a.jpg     \b\b\b\b 56%\b\b\b\b\b  OK \n",
            "Extracting  train/IMG_20180719_142041_jpg.rf.702e25bc53b0df9ed0ebf6dba03d966c.jpg     \b\b\b\b 56%\b\b\b\b\b  OK \n",
            "Extracting  train/IMG_20180719_142223_jpg.rf.11eb1b3b1ce4fead1930840b99c132ba.jpg     \b\b\b\b 56%\b\b\b\b\b  OK \n",
            "Extracting  train/IMG_20180719_142232_jpg.rf.a8e958f698b44833ca5503ab57591d74.jpg     \b\b\b\b 56%\b\b\b\b\b  OK \n",
            "Extracting  train/IMG_20180719_142627_jpg.rf.360f4ad970cac5eda57af0bf25fb6b48.jpg     \b\b\b\b 56%\b\b\b\b\b  OK \n",
            "Extracting  train/IMG_20180719_142631_jpg.rf.07e5a6a2b5fea39d2f57bfd8c2b5e445.jpg     \b\b\b\b 56%\b\b\b\b\b  OK \n",
            "Extracting  train/IMG_20180719_142820_jpg.rf.472761b37b5a6bd9a5d29fc092b30a37.jpg     \b\b\b\b 56%\b\b\b\b\b  OK \n",
            "Extracting  train/IMG_20180719_142841_jpg.rf.5b3d1cedfe57361048c6f09472d4b0f8.jpg     \b\b\b\b 56%\b\b\b\b\b  OK \n",
            "Extracting  train/IMG_20180719_142853_jpg.rf.c334f44b85062691ed05b40e50999701.jpg     \b\b\b\b 57%\b\b\b\b\b  OK \n",
            "Extracting  train/IMG_20180719_142947_jpg.rf.a9a5b05070ee96aa5d81095cd0c594c2.jpg     \b\b\b\b 57%\b\b\b\b\b  OK \n",
            "Extracting  train/IMG_20180719_142955_jpg.rf.4a0df8e81c2edc74fc222556a0e01ff1.jpg     \b\b\b\b 57%\b\b\b\b\b  OK \n",
            "Extracting  train/IMG_20180719_143022_jpg.rf.28c1d1f5088acdb607ae5f57f50b7a97.jpg     \b\b\b\b 57%\b\b\b\b\b  OK \n",
            "Extracting  train/IMG_20180719_143034_jpg.rf.0d609a7c0138742ff40f18a701244556.jpg     \b\b\b\b 57%\b\b\b\b\b  OK \n",
            "Extracting  train/IMG_20180719_143049_jpg.rf.0accd7f075994acc1bdec66bc66b1893.jpg     \b\b\b\b 57%\b\b\b\b\b  OK \n",
            "Extracting  train/IMG_20180719_143143_jpg.rf.e89233ac9df612146e6b0a865969cd46.jpg     \b\b\b\b 57%\b\b\b\b\b  OK \n",
            "Extracting  train/IMG_20180719_143217_jpg.rf.ef84c37f37653ec2bc265a5688cec38b.jpg     \b\b\b\b 57%\b\b\b\b\b  OK \n",
            "Extracting  train/IMG_20180719_143232_jpg.rf.37bbfe3c5e8cddc14875faa18b8e95b2.jpg     \b\b\b\b 57%\b\b\b\b\b  OK \n",
            "Extracting  train/IMG_20180719_143326_jpg.rf.60b53da54bbb42af79a4f8194d3df1e6.jpg     \b\b\b\b 57%\b\b\b\b\b  OK \n",
            "Extracting  train/IMG_20180719_143627_jpg.rf.6ca6fc15b25e35a8c8214ec6394823e6.jpg     \b\b\b\b 57%\b\b\b\b\b  OK \n",
            "Extracting  train/IMG_20180719_143637_jpg.rf.bffa2fe16eb503d8d11296f1238a86c6.jpg     \b\b\b\b 58%\b\b\b\b\b  OK \n",
            "Extracting  train/IMG_20180719_143849_jpg.rf.9b5694d9cd8a232f9290dfdd89f0aa73.jpg     \b\b\b\b 58%\b\b\b\b\b  OK \n",
            "Extracting  train/IMG_20180719_143919_jpg.rf.ddea75d292e25a7b33d4971f7efae140.jpg     \b\b\b\b 58%\b\b\b\b\b  OK \n",
            "Extracting  train/IMG_20180719_144000_jpg.rf.9a5e586e5b84b7abfbb62a11f8760e75.jpg     \b\b\b\b 58%\b\b\b\b\b  OK \n",
            "Extracting  train/IMG_20180719_144116_jpg.rf.2f3a4e619298b807caed4e33cc7792be.jpg     \b\b\b\b 58%\b\b\b\b\b  OK \n",
            "Extracting  train/IMG_20180719_144127_jpg.rf.13fb2ac276ab5eb4f6873eb1d5e84952.jpg     \b\b\b\b 58%\b\b\b\b\b  OK \n",
            "Extracting  train/IMG_20180720_123359_jpg.rf.07f3caebc99215d38338bd57bdb0a2da.jpg     \b\b\b\b 58%\b\b\b\b\b  OK \n",
            "Extracting  train/IMG_20180720_123409_jpg.rf.aaeaa9b7ac361b302d01d6f6225c935e.jpg     \b\b\b\b 58%\b\b\b\b\b  OK \n",
            "Extracting  train/IMG_20180720_123433_jpg.rf.a44913c2d9911ae52f1186eb0481e634.jpg     \b\b\b\b 58%\b\b\b\b\b  OK \n",
            "Extracting  train/IMG_20180720_123508_jpg.rf.11356ca42e6de0917dc0a070d9473d5e.jpg     \b\b\b\b 58%\b\b\b\b\b  OK \n",
            "Extracting  train/IMG_20180720_123553_jpg.rf.c71c900aa2734078b4def2f331d76971.jpg     \b\b\b\b 58%\b\b\b\b\b  OK \n",
            "Extracting  train/IMG_20180720_123624_jpg.rf.9b4be97bf17edc6e08fc01d672a623cb.jpg     \b\b\b\b 58%\b\b\b\b\b  OK \n",
            "Extracting  train/IMG_20180720_123651_jpg.rf.64a67f71e02b3ed09aa8bf6707c519c2.jpg     \b\b\b\b 59%\b\b\b\b\b  OK \n",
            "Extracting  train/IMG_20180720_123656_jpg.rf.87f004db3b20441eafd5a6119b4344b7.jpg     \b\b\b\b 59%\b\b\b\b\b  OK \n",
            "Extracting  train/IMG_20180720_123828_jpg.rf.201b6d2f5c1a9f7a0e6b7f774bf81963.jpg     \b\b\b\b 59%\b\b\b\b\b  OK \n",
            "Extracting  train/IMG_20180720_123932_jpg.rf.5c6ab9418d5879144474175d17894102.jpg     \b\b\b\b 59%\b\b\b\b\b  OK \n",
            "Extracting  train/IMG_20180720_123954_jpg.rf.ff00f756fc249f7823e795a37c2445b0.jpg     \b\b\b\b 59%\b\b\b\b\b  OK \n",
            "Extracting  train/IMG_20180720_124029_jpg.rf.74df2a4b36841ff4ac1e4a7066d5c750.jpg     \b\b\b\b 59%\b\b\b\b\b  OK \n",
            "Extracting  train/IMG_20180720_124036_jpg.rf.961cebefa8ccf52aa8f856ce5cca6d7d.jpg     \b\b\b\b 59%\b\b\b\b\b  OK \n",
            "Extracting  train/IMG_20180720_124107_jpg.rf.466497efe31f95ee06ef8f4bc3f15593.jpg     \b\b\b\b 59%\b\b\b\b\b  OK \n",
            "Extracting  train/IMG_20180720_124123_jpg.rf.ebbe94b72560383c9f01f95914129206.jpg     \b\b\b\b 59%\b\b\b\b\b  OK \n",
            "Extracting  train/IMG_20180720_124211_jpg.rf.f9f156e50adc1aa2627afa237db07058.jpg     \b\b\b\b 59%\b\b\b\b\b  OK \n",
            "Extracting  train/IMG_20180720_124223_jpg.rf.ffeb850e0098974712b1e24bee49993f.jpg     \b\b\b\b 60%\b\b\b\b\b  OK \n",
            "Extracting  train/IMG_20180720_124234_jpg.rf.f24c8a992a11e010714b03f7aab12f5d.jpg     \b\b\b\b 60%\b\b\b\b\b  OK \n",
            "Extracting  train/IMG_20180720_124320_jpg.rf.cb2f44776ab97f3c2cdaa132f5b9473d.jpg     \b\b\b\b 60%\b\b\b\b\b  OK \n",
            "Extracting  train/IMG_20180720_124444_jpg.rf.bd56ff6b15043737a3bd76030e4953d5.jpg     \b\b\b\b 60%\b\b\b\b\b  OK \n",
            "Extracting  train/IMG_20180720_124457_jpg.rf.8c60a4a7e9d8c52cd2d75004f3a20b57.jpg     \b\b\b\b 60%\b\b\b\b\b  OK \n",
            "Extracting  train/IMG_20180720_124553_jpg.rf.0b9135cd91f3b69bb2b8f5cc9df5a541.jpg     \b\b\b\b 60%\b\b\b\b\b  OK \n",
            "Extracting  train/IMG_20180720_141225_jpg.rf.de08ffc3cbf60f11c547047aafff1968.jpg     \b\b\b\b 60%\b\b\b\b\b  OK \n",
            "Extracting  train/IMG_20180720_141242_jpg.rf.77954854a51bcdd1309770f2f9fd19e1.jpg     \b\b\b\b 60%\b\b\b\b\b  OK \n",
            "Extracting  train/IMG_20180720_141301_jpg.rf.3fb7be710a013a845bf1d50384f3ea74.jpg     \b\b\b\b 60%\b\b\b\b\b  OK \n",
            "Extracting  train/IMG_20180720_141446_jpg.rf.895f5b6d52ad412f6340f82dda4101aa.jpg     \b\b\b\b 60%\b\b\b\b\b  OK \n",
            "Extracting  train/IMG_20180720_141555_jpg.rf.dea722b2de6e47f4f6a39049aeccb324.jpg     \b\b\b\b 60%\b\b\b\b\b  OK \n",
            "Extracting  train/IMG_20180720_141709_jpg.rf.2f76a14e300efd74ed218f972585f5ec.jpg     \b\b\b\b 60%\b\b\b\b\b  OK \n",
            "Extracting  train/IMG_20180720_141721_jpg.rf.b7059067dd521d74dbc2d17e885721c6.jpg     \b\b\b\b 61%\b\b\b\b\b  OK \n",
            "Extracting  train/IMG_20180720_141749_jpg.rf.791b080ec4d773dbadc9b3337bc73bd5.jpg     \b\b\b\b 61%\b\b\b\b\b  OK \n",
            "Extracting  train/IMG_20180720_141907_jpg.rf.32285d1da7c6fb2a397bf7ff8f86f4de.jpg     \b\b\b\b 61%\b\b\b\b\b  OK \n",
            "Extracting  train/IMG_20180720_141952_jpg.rf.05d96958e31b5fbd30a5908c5d83eee8.jpg     \b\b\b\b 61%\b\b\b\b\b  OK \n",
            "Extracting  train/IMG_20180720_142017_jpg.rf.bba914d45168f89f977cb79b5235d50b.jpg     \b\b\b\b 61%\b\b\b\b\b  OK \n",
            "Extracting  train/IMG_20180720_142038_jpg.rf.be2f56565145868b32e8c4db6f36599e.jpg     \b\b\b\b 61%\b\b\b\b\b  OK \n",
            "Extracting  train/IMG_20180720_142048_jpg.rf.350bdd392570ef8be6544b89b725b46e.jpg     \b\b\b\b 61%\b\b\b\b\b  OK \n",
            "Extracting  train/IMG_20180720_142104_jpg.rf.31a24b359df0e9e39c665d8bb153f4b1.jpg     \b\b\b\b 61%\b\b\b\b\b  OK \n",
            "Extracting  train/IMG_20180720_142111_jpg.rf.b40baf699874c11056a121fccb63c33a.jpg     \b\b\b\b 61%\b\b\b\b\b  OK \n",
            "Extracting  train/IMG_20180720_142131_jpg.rf.77821c1d2d05309ed7231d6b008d45d8.jpg     \b\b\b\b 61%\b\b\b\b\b  OK \n",
            "Extracting  train/IMG_20180720_142141_jpg.rf.a4a3f78cff7d93bb8ee529f862e48c19.jpg     \b\b\b\b 62%\b\b\b\b\b  OK \n",
            "Extracting  train/IMG_20180720_142202_jpg.rf.38286a4c6c16bace8f9c88e5ccccbe3b.jpg     \b\b\b\b 62%\b\b\b\b\b  OK \n",
            "Extracting  train/IMG_20180720_142447_jpg.rf.c63445150851fdd9d1bdb7f96b8041aa.jpg     \b\b\b\b 62%\b\b\b\b\b  OK \n",
            "Extracting  train/IMG_20180720_142509_jpg.rf.a63848809fc318419f519f7a48780ecc.jpg     \b\b\b\b 62%\b\b\b\b\b  OK \n",
            "Extracting  train/IMG_20180720_142536_jpg.rf.911fab7e0afabb96e2502971c458873a.jpg     \b\b\b\b 62%\b\b\b\b\b  OK \n",
            "Extracting  train/IMG_20180720_142558_jpg.rf.98d8eda6de2a8ef3fd18f38441a5bad4.jpg     \b\b\b\b 62%\b\b\b\b\b  OK \n",
            "Extracting  train/IMG_20180720_142605_jpg.rf.fb0749bf2475fd07e92bcff26910dac0.jpg     \b\b\b\b 62%\b\b\b\b\b  OK \n",
            "Extracting  train/IMG_20180720_142625_jpg.rf.6cc6f5d8a738c4fda7fb85db05272d07.jpg     \b\b\b\b 62%\b\b\b\b\b  OK \n",
            "Extracting  train/IMG_20180720_142708_jpg.rf.7f87bb79996fab81f0cb5083a9203178.jpg     \b\b\b\b 62%\b\b\b\b\b  OK \n",
            "Extracting  train/IMG_20180720_142751_jpg.rf.8a73605d5bb61f1bfa461df43fd7f28f.jpg     \b\b\b\b 62%\b\b\b\b\b  OK \n",
            "Extracting  train/IMG_20180720_142814_jpg.rf.59494de3addcd85f40745bef7db2f044.jpg     \b\b\b\b 63%\b\b\b\b\b  OK \n",
            "Extracting  train/IMG_20180720_142846_jpg.rf.13074bbacc8261d8425096cf62a5211d.jpg     \b\b\b\b 63%\b\b\b\b\b  OK \n",
            "Extracting  train/IMG_20180720_142853_jpg.rf.96e3269a893e37b84f2c28c8baadc235.jpg     \b\b\b\b 63%\b\b\b\b\b  OK \n",
            "Extracting  train/IMG_20180720_142912_jpg.rf.7f25298ffbcb22f636d8559b617a0f47.jpg     \b\b\b\b 63%\b\b\b\b\b  OK \n",
            "Extracting  train/IMG_20180720_142920_jpg.rf.c483988b752b1600669deed2cffd547a.jpg     \b\b\b\b 63%\b\b\b\b\b  OK \n",
            "Extracting  train/IMG_20180720_142949_jpg.rf.50112648a33c90b606c117544c9a0a25.jpg     \b\b\b\b 63%\b\b\b\b\b  OK \n",
            "Extracting  train/IMG_20180720_143002_jpg.rf.c8c4fefd4353c899a0958f7d723b5633.jpg     \b\b\b\b 63%\b\b\b\b\b  OK \n",
            "Extracting  train/IMG_20180720_143014_jpg.rf.60d097c3a82dd2a4a556890f6f8b03b3.jpg     \b\b\b\b 63%\b\b\b\b\b  OK \n",
            "Extracting  train/IMG_20180720_143051_jpg.rf.e2f99c3a99be62050ad7ca5955603833.jpg     \b\b\b\b 63%\b\b\b\b\b  OK \n",
            "Extracting  train/IMG_20180720_143100_jpg.rf.c836dc52a6adffc935f91abc6c2e01a3.jpg     \b\b\b\b 63%\b\b\b\b\b  OK \n",
            "Extracting  train/IMG_20180720_143232_jpg.rf.d687cb355c51b71e429b2df298ea0336.jpg     \b\b\b\b 63%\b\b\b\b\b  OK \n",
            "Extracting  train/IMG_20180720_143252_jpg.rf.0dfd8da3d3a4bc763aa7009894c0cd11.jpg     \b\b\b\b 64%\b\b\b\b\b  OK \n",
            "Extracting  train/IMG_20180720_143255_jpg.rf.9aa969e188ffb8229433d44b7e53a4ff.jpg     \b\b\b\b 64%\b\b\b\b\b  OK \n",
            "Extracting  train/IMG_20180721_090007_jpg.rf.f12a1b456e97c85033b7d49c345a882b.jpg     \b\b\b\b 64%\b\b\b\b\b  OK \n",
            "Extracting  train/IMG_20180721_090047_jpg.rf.6ce8b42e51f1aed472aa85d41491648b.jpg     \b\b\b\b 64%\b\b\b\b\b  OK \n",
            "Extracting  train/IMG_20180721_090102_jpg.rf.a7343c16c395445a3e614987c9ed4e14.jpg     \b\b\b\b 64%\b\b\b\b\b  OK \n",
            "Extracting  train/IMG_20180721_090127_jpg.rf.e58fd678fd198e6414a1c0609cd9e8d5.jpg     \b\b\b\b 64%\b\b\b\b\b  OK \n",
            "Extracting  train/IMG_20180721_090151_jpg.rf.a039ea2c1d784c1b00e2ead6a15e80b0.jpg     \b\b\b\b 64%\b\b\b\b\b  OK \n",
            "Extracting  train/IMG_20180721_090210_jpg.rf.43a566a09b91baa2e23952433e60c167.jpg     \b\b\b\b 64%\b\b\b\b\b  OK \n",
            "Extracting  train/IMG_20180721_090222_jpg.rf.7ac71a0867f276358eeeb216ed90411b.jpg     \b\b\b\b 64%\b\b\b\b\b  OK \n",
            "Extracting  train/IMG_20180721_090244_jpg.rf.40e37c2b564eda149afbf60748e2e2b8.jpg     \b\b\b\b 64%\b\b\b\b\b  OK \n",
            "Extracting  train/IMG_20180721_090259_jpg.rf.ce713336c9a947125d812c664a6c0162.jpg     \b\b\b\b 64%\b\b\b\b\b  OK \n",
            "Extracting  train/IMG_20180721_090323_jpg.rf.5ca269288eb41e51933acbc68855f24d.jpg     \b\b\b\b 64%\b\b\b\b\b  OK \n",
            "Extracting  train/IMG_20180721_090342_jpg.rf.21c63127bfa08c541dfaf85cd6459a7c.jpg     \b\b\b\b 64%\b\b\b\b\b  OK \n",
            "Extracting  train/IMG_20180721_090352_jpg.rf.9dfad6d1644bdff5959b50325c5b0a99.jpg     \b\b\b\b 65%\b\b\b\b\b  OK \n",
            "Extracting  train/IMG_20180721_090414_jpg.rf.19bd9775e6ac5b12e384d53752028788.jpg     \b\b\b\b 65%\b\b\b\b\b  OK \n",
            "Extracting  train/IMG_20180721_090527_jpg.rf.78497e62d7437e13c59bda5243deab10.jpg     \b\b\b\b 65%\b\b\b\b\b  OK \n",
            "Extracting  train/IMG_20180721_090532_jpg.rf.4a8880c23c0f28f29e5f0ff08b388c3b.jpg     \b\b\b\b 65%\b\b\b\b\b  OK \n",
            "Extracting  train/IMG_20180721_090702_jpg.rf.981ddfcfcb67a48f89e15a8f39a59324.jpg     \b\b\b\b 65%\b\b\b\b\b  OK \n",
            "Extracting  train/IMG_20180721_090858_jpg.rf.b7fa3cf96127814ea825bf28c297ce65.jpg     \b\b\b\b 65%\b\b\b\b\b  OK \n",
            "Extracting  train/IMG_20180721_090911_jpg.rf.f1d672a68c72739dbbb9664f76b4a9fa.jpg     \b\b\b\b 65%\b\b\b\b\b  OK \n",
            "Extracting  train/IMG_20180721_090927_jpg.rf.d73595d7231cc0336b295ea392f19fa1.jpg     \b\b\b\b 65%\b\b\b\b\b  OK \n",
            "Extracting  train/IMG_20180721_090938_jpg.rf.2bcad7abf388ad9a98c42a85d029f815.jpg     \b\b\b\b 66%\b\b\b\b\b  OK \n",
            "Extracting  train/IMG_20180721_091004_jpg.rf.381b9afa24e3953be5e58677d2884b3b.jpg     \b\b\b\b 66%\b\b\b\b\b  OK \n",
            "Extracting  train/IMG_20180721_091015_jpg.rf.fb22e4c6e873ae85f4acd09a3db723cd.jpg     \b\b\b\b 66%\b\b\b\b\b  OK \n",
            "Extracting  train/IMG_20180721_091154_jpg.rf.f2043d68edc44e0d313a6067ee89f85d.jpg     \b\b\b\b 66%\b\b\b\b\b  OK \n",
            "Extracting  train/IMG_20180721_091207_jpg.rf.a056a58b3df19198fabd0d5c2df934df.jpg     \b\b\b\b 66%\b\b\b\b\b  OK \n",
            "Extracting  train/IMG_20180721_091322_jpg.rf.c919fea4a958119260570a489d8e1863.jpg     \b\b\b\b 66%\b\b\b\b\b  OK \n",
            "Extracting  train/IMG_20180721_091400_jpg.rf.b68c9b1653b68f053f448abf91efabaa.jpg     \b\b\b\b 66%\b\b\b\b\b  OK \n",
            "Extracting  train/IMG_20180721_091412_jpg.rf.1dabb3e9fa20f61505e1aa4dc949612c.jpg     \b\b\b\b 66%\b\b\b\b\b  OK \n",
            "Extracting  train/IMG_20180721_091441_jpg.rf.1de7b6d5a85a98330fe4cf0122039fca.jpg     \b\b\b\b 66%\b\b\b\b\b  OK \n",
            "Extracting  train/IMG_20180721_091504_jpg.rf.4a2cf9c61e27d098658cbe43faf04c0c.jpg     \b\b\b\b 67%\b\b\b\b\b  OK \n",
            "Extracting  train/IMG_20180721_091524_jpg.rf.8706c2cc9e649ae695600cd5f411bb0f.jpg     \b\b\b\b 67%\b\b\b\b\b  OK \n",
            "Extracting  train/IMG_20180721_091732_jpg.rf.f51eac4f337a383e6ff097b855179767.jpg     \b\b\b\b 67%\b\b\b\b\b  OK \n",
            "Extracting  train/IMG_20180721_091759_jpg.rf.c4910069cb97ebeba1b41411825ae81a.jpg     \b\b\b\b 67%\b\b\b\b\b  OK \n",
            "Extracting  train/IMG_20180721_091815_jpg.rf.126996c64521299a02ecbdeb99d8addb.jpg     \b\b\b\b 67%\b\b\b\b\b  OK \n",
            "Extracting  train/IMG_20180723_122347_jpg.rf.cf448e265a79da65da5a0771e11e853c.jpg     \b\b\b\b 67%\b\b\b\b\b  OK \n",
            "Extracting  train/IMG_20180723_122353_jpg.rf.6aa45a9fad63441c74412a29b75a3c36.jpg     \b\b\b\b 67%\b\b\b\b\b  OK \n",
            "Extracting  train/IMG_20180723_122404_jpg.rf.4c258952ad24a42ae845573b05d61993.jpg     \b\b\b\b 68%\b\b\b\b\b  OK \n",
            "Extracting  train/IMG_20180723_122444_jpg.rf.878751baab2cfaec55bd49e531b6ba88.jpg     \b\b\b\b 68%\b\b\b\b\b  OK \n",
            "Extracting  train/IMG_20180723_122511_jpg.rf.0cba580829eb9d890a07aa3b6f2f6329.jpg     \b\b\b\b 68%\b\b\b\b\b  OK \n",
            "Extracting  train/IMG_20180723_122515_jpg.rf.a859c8c70bf27172bb214e19f8155f96.jpg     \b\b\b\b 68%\b\b\b\b\b  OK \n",
            "Extracting  train/IMG_20180723_122614_jpg.rf.07be0a9847a4c7d77b4815d53ff009b1.jpg     \b\b\b\b 68%\b\b\b\b\b  OK \n",
            "Extracting  train/IMG_20180723_122641_jpg.rf.3f33c0aa9cc7e4037bd0e9d16c6edc97.jpg     \b\b\b\b 68%\b\b\b\b\b  OK \n",
            "Extracting  train/IMG_20180723_122707_jpg.rf.3abf8d4769562d5fa7401d45d36bebc2.jpg     \b\b\b\b 68%\b\b\b\b\b  OK \n",
            "Extracting  train/IMG_20180723_122828_jpg.rf.4e448900bc5984ed46f36d2b7c79b9e6.jpg     \b\b\b\b 68%\b\b\b\b\b  OK \n",
            "Extracting  train/IMG_20180723_122833_jpg.rf.3d1050eb467f4948e2033b9deaeded1a.jpg     \b\b\b\b 69%\b\b\b\b\b  OK \n",
            "Extracting  train/IMG_20180723_122905_jpg.rf.6f8615541115c0e8c59978835abaabb2.jpg     \b\b\b\b 69%\b\b\b\b\b  OK \n",
            "Extracting  train/IMG_20180723_122941_jpg.rf.8feebe1137d5c6fb06370508794480ed.jpg     \b\b\b\b 69%\b\b\b\b\b  OK \n",
            "Extracting  train/IMG_20180723_122946_jpg.rf.a5b18deb1abc215f14341ac06cda2c9b.jpg     \b\b\b\b 69%\b\b\b\b\b  OK \n",
            "Extracting  train/IMG_20180723_122952_jpg.rf.e5ee1857ce04905006fe3dde7d026ead.jpg     \b\b\b\b 69%\b\b\b\b\b  OK \n",
            "Extracting  train/IMG_20180723_122959_jpg.rf.67354d0262a35fca4709539771adcfce.jpg     \b\b\b\b 69%\b\b\b\b\b  OK \n",
            "Extracting  train/IMG_20180723_123015_jpg.rf.9a8106f4e5fed488feb6a889de39b3db.jpg     \b\b\b\b 70%\b\b\b\b\b  OK \n",
            "Extracting  train/IMG_20180723_123055_jpg.rf.ec085c276808ee7e053e6ab71664965a.jpg     \b\b\b\b 70%\b\b\b\b\b  OK \n",
            "Extracting  train/IMG_20180723_123106_jpg.rf.5849ee4e22ed95f4e50b90fd948646e7.jpg     \b\b\b\b 70%\b\b\b\b\b  OK \n",
            "Extracting  train/IMG_20180723_123134_jpg.rf.f135b52e0b1fdd508b364586313622ac.jpg     \b\b\b\b 70%\b\b\b\b\b  OK \n",
            "Extracting  train/IMG_20180723_123154_jpg.rf.b74e90efa894f48a114062ba8a12fce4.jpg     \b\b\b\b 70%\b\b\b\b\b  OK \n",
            "Extracting  train/IMG_20180723_123209_jpg.rf.2879100e353bb015687662477cdcdf2f.jpg     \b\b\b\b 70%\b\b\b\b\b  OK \n",
            "Extracting  train/IMG_20180723_123231_jpg.rf.b94e3c6dc0d302a3449e4c15a38c6c86.jpg     \b\b\b\b 70%\b\b\b\b\b  OK \n",
            "Extracting  train/IMG_20180723_123254_jpg.rf.5506f43ef5e73edcfbd941ff16f49c6a.jpg     \b\b\b\b 70%\b\b\b\b\b  OK \n",
            "Extracting  train/IMG_20180723_123302_jpg.rf.704e72c8e08ec5a97af644401098b9d1.jpg     \b\b\b\b 70%\b\b\b\b\b  OK \n",
            "Extracting  train/IMG_20180723_123317_jpg.rf.043f47902739dae86362742e63bbbac0.jpg     \b\b\b\b 71%\b\b\b\b\b  OK \n",
            "Extracting  train/IMG_20180723_123328_jpg.rf.54fc7e0656bc4ed5fbdea0321daab506.jpg     \b\b\b\b 71%\b\b\b\b\b  OK \n",
            "Extracting  train/IMG_20180723_123340_jpg.rf.72b4be4b3c75dabdfb901f8c47e9ead8.jpg     \b\b\b\b 71%\b\b\b\b\b  OK \n",
            "Extracting  train/IMG_20180723_123437_jpg.rf.9b69125c855b4a0c8ecb657a831c9128.jpg     \b\b\b\b 71%\b\b\b\b\b  OK \n",
            "Extracting  train/IMG_20180723_123454_jpg.rf.84fe23aa68efb5f4df90993717038845.jpg     \b\b\b\b 71%\b\b\b\b\b  OK \n",
            "Extracting  train/IMG_20180723_123522_jpg.rf.c65dc11c94a6dc91a8a8ae58a55bf68f.jpg     \b\b\b\b 71%\b\b\b\b\b  OK \n",
            "Extracting  train/IMG_20180723_123534_jpg.rf.94807f5ae214fb7ef2677084e0baa0a6.jpg     \b\b\b\b 71%\b\b\b\b\b  OK \n",
            "Extracting  train/IMG_20180723_123547_jpg.rf.f4432a5b4b058638df396f5e8afb1443.jpg     \b\b\b\b 71%\b\b\b\b\b  OK \n",
            "Extracting  train/IMG_20180723_123611_jpg.rf.2ff5c7b0212f396178190ce1985efb53.jpg     \b\b\b\b 71%\b\b\b\b\b  OK \n",
            "Extracting  train/IMG_20180723_123638_jpg.rf.833f97303c60ddc88e350b9a52a8c305.jpg     \b\b\b\b 72%\b\b\b\b\b  OK \n",
            "Extracting  train/IMG_20180723_123653_jpg.rf.3a818308797c283e5a8dc15ce5c46edd.jpg     \b\b\b\b 72%\b\b\b\b\b  OK \n",
            "Extracting  train/IMG_20180723_123708_jpg.rf.c381dc3eed07bd6f0bf9a56d66a0b27f.jpg     \b\b\b\b 72%\b\b\b\b\b  OK \n",
            "Extracting  train/IMG_20180723_123720_jpg.rf.4e19a00a45518b1b92c0eb8877c1f837.jpg     \b\b\b\b 72%\b\b\b\b\b  OK \n",
            "Extracting  train/IMG_20180723_123726_jpg.rf.aeaee967e37fb4e661002bcd74386047.jpg     \b\b\b\b 72%\b\b\b\b\b  OK \n",
            "Extracting  train/IMG_20180723_123733_jpg.rf.d77dae06c2bb1abba27908d37c78723e.jpg     \b\b\b\b 72%\b\b\b\b\b  OK \n",
            "Extracting  train/IMG_20180723_123744_jpg.rf.1249637b3ce73611c68f15fe68694c4d.jpg     \b\b\b\b 72%\b\b\b\b\b  OK \n",
            "Extracting  train/IMG_20180723_123830_jpg.rf.65eef1d24e6a5db44b27d61a57a1232c.jpg     \b\b\b\b 72%\b\b\b\b\b  OK \n",
            "Extracting  train/IMG_20180723_123906_jpg.rf.6aceae265bd1e04419e1b8a6aaf49dd6.jpg     \b\b\b\b 72%\b\b\b\b\b  OK \n",
            "Extracting  train/IMG_20180723_123911_jpg.rf.803fd5da48968655cfd9b5e16d60fcbc.jpg     \b\b\b\b 73%\b\b\b\b\b  OK \n",
            "Extracting  train/IMG_20180723_123915_jpg.rf.cec8653bb6bcfec39ce732afbe775b45.jpg     \b\b\b\b 73%\b\b\b\b\b  OK \n",
            "Extracting  train/IMG_20180723_123939_jpg.rf.0b1f11034b38b96a6cd0e9da83b5e1da.jpg     \b\b\b\b 73%\b\b\b\b\b  OK \n",
            "Extracting  train/IMG_20180723_123952_jpg.rf.d4bf3d42d6e3d362b32a683ec643e535.jpg     \b\b\b\b 73%\b\b\b\b\b  OK \n",
            "Extracting  train/IMG_20180723_124006_jpg.rf.780dba00f74c95c50ae5c077d11039ec.jpg     \b\b\b\b 73%\b\b\b\b\b  OK \n",
            "Extracting  train/IMG_20180723_124020_jpg.rf.219d8ea19cbaf34699a57ade3fd1b943.jpg     \b\b\b\b 73%\b\b\b\b\b  OK \n",
            "Extracting  train/IMG_20180723_124116_jpg.rf.7c7beb555b8f1d2773052c5d5db332ec.jpg     \b\b\b\b 73%\b\b\b\b\b  OK \n",
            "Extracting  train/IMG_20180723_124206_jpg.rf.b3c53b69bee6982837fdc175d4089e54.jpg     \b\b\b\b 73%\b\b\b\b\b  OK \n",
            "Extracting  train/IMG_20180723_124215_jpg.rf.b8fd3aff14d08459e76aa60cfe0f677c.jpg     \b\b\b\b 73%\b\b\b\b\b  OK \n",
            "Extracting  train/IMG_20180723_124233_jpg.rf.382327c89c42688f9eb6f143784da31a.jpg     \b\b\b\b 74%\b\b\b\b\b  OK \n",
            "Extracting  train/IMG_20180723_124251_jpg.rf.776e3df3679b5cc23fa9d4dadbf96ccd.jpg     \b\b\b\b 74%\b\b\b\b\b  OK \n",
            "Extracting  train/IMG_20180723_124259_jpg.rf.436ccf5dd3efc03a45fab45bc1984e69.jpg     \b\b\b\b 74%\b\b\b\b\b  OK \n",
            "Extracting  train/IMG_20180723_124331_jpg.rf.8f53823d4bab87e23fe715aadb5ddc2f.jpg     \b\b\b\b 74%\b\b\b\b\b  OK \n",
            "Extracting  train/IMG_20180723_124338_jpg.rf.fbd3a349e246521e80a520afa6b99d11.jpg     \b\b\b\b 74%\b\b\b\b\b  OK \n",
            "Extracting  train/IMG_20180723_124450_jpg.rf.2c99cf8ba5655d92e2a94803d9e50a16.jpg     \b\b\b\b 74%\b\b\b\b\b  OK \n",
            "Extracting  train/IMG_20180723_124501_jpg.rf.b06a40d863d2c3fe05f7ef6507fc0e9f.jpg     \b\b\b\b 74%\b\b\b\b\b  OK \n",
            "Extracting  train/IMG_20180723_124643_jpg.rf.7b2e48be09b92603ff8ea4e8c6c4e4a4.jpg     \b\b\b\b 74%\b\b\b\b\b  OK \n",
            "Extracting  train/IMG_20180723_124655_jpg.rf.3757ae5f2dd1ad6e933f32a98a1ff51c.jpg     \b\b\b\b 74%\b\b\b\b\b  OK \n",
            "Extracting  train/IMG_20180723_124712_jpg.rf.eca4c5a73eaef60d0823e811bfcfb1ae.jpg     \b\b\b\b 75%\b\b\b\b\b  OK \n",
            "Extracting  train/IMG_20180723_124738_jpg.rf.5873fa28278f934f0d0a5634146ccac3.jpg     \b\b\b\b 75%\b\b\b\b\b  OK \n",
            "Extracting  train/IMG_20180723_124904_jpg.rf.192cf09e914afd37aee5fa2a230b6510.jpg     \b\b\b\b 75%\b\b\b\b\b  OK \n",
            "Extracting  train/IMG_20180723_144816_jpg.rf.0880d50e92290ff410a0725318d7be05.jpg     \b\b\b\b 75%\b\b\b\b\b  OK \n",
            "Extracting  train/IMG_20180723_144845_jpg.rf.f37b7acf9f929b72d598e7992876fa11.jpg     \b\b\b\b 75%\b\b\b\b\b  OK \n",
            "Extracting  train/IMG_20180723_144902_jpg.rf.6b5cb7ca13643986cdc8109ea05afd0c.jpg     \b\b\b\b 75%\b\b\b\b\b  OK \n",
            "Extracting  train/IMG_20180723_144939_jpg.rf.e0c6ce85e742f939cc2bfe39b61c9e86.jpg     \b\b\b\b 75%\b\b\b\b\b  OK \n",
            "Extracting  train/IMG_20180723_145000_jpg.rf.c8e0e4504fbb73272c265699185b25e9.jpg     \b\b\b\b 75%\b\b\b\b\b  OK \n",
            "Extracting  train/IMG_20180723_145104_jpg.rf.ca1fad739a2f0f9ed3b134961ad317ef.jpg     \b\b\b\b 75%\b\b\b\b\b  OK \n",
            "Extracting  train/IMG_20180723_145121_jpg.rf.575cedefc672833dba7e0dd04136dba8.jpg     \b\b\b\b 76%\b\b\b\b\b  OK \n",
            "Extracting  train/IMG_20180723_145150_jpg.rf.a0e9d91e2c45bc59e7f424c1b668dd74.jpg     \b\b\b\b 76%\b\b\b\b\b  OK \n",
            "Extracting  train/IMG_20180723_145326_jpg.rf.aea840fba9c98195e63bb9770f75a6dc.jpg     \b\b\b\b 76%\b\b\b\b\b  OK \n",
            "Extracting  train/IMG_20180723_145334_jpg.rf.3f130971879ed338179515e14e5c095b.jpg     \b\b\b\b 76%\b\b\b\b\b  OK \n",
            "Extracting  train/IMG_20180723_145353_jpg.rf.76c73e5079a684c803ddc37bc70e4cac.jpg     \b\b\b\b 76%\b\b\b\b\b  OK \n",
            "Extracting  train/IMG_20180723_145451_jpg.rf.5d8938b748c8b9084550024ca9d9f89c.jpg     \b\b\b\b 76%\b\b\b\b\b  OK \n",
            "Extracting  train/IMG_20180723_145515_jpg.rf.94c87da69ae1c2d46d393ae7bc7ae8b5.jpg     \b\b\b\b 76%\b\b\b\b\b  OK \n",
            "Extracting  train/IMG_20180723_145550_jpg.rf.bb15c32e18d7798304e460b7ba16a86f.jpg     \b\b\b\b 76%\b\b\b\b\b  OK \n",
            "Extracting  train/IMG_20180723_145624_jpg.rf.dc078edf183245fabebe30948526db8f.jpg     \b\b\b\b 76%\b\b\b\b\b  OK \n",
            "Extracting  train/IMG_20180723_145631_jpg.rf.b23afb570c6b637604c5ad10b6536b5e.jpg     \b\b\b\b 76%\b\b\b\b\b  OK \n",
            "Extracting  train/IMG_20180723_145651_jpg.rf.92c153b7f52a9c3d01cb20d1b00fdbdf.jpg     \b\b\b\b 77%\b\b\b\b\b  OK \n",
            "Extracting  train/IMG_20180723_145703_jpg.rf.4d4a7224e96bb5d8302a86b399868353.jpg     \b\b\b\b 77%\b\b\b\b\b  OK \n",
            "Extracting  train/IMG_20180723_145753_jpg.rf.bcb60a65a53701f64a9953fb8047f5db.jpg     \b\b\b\b 77%\b\b\b\b\b  OK \n",
            "Extracting  train/IMG_20180723_145811_jpg.rf.3d2acbb5e9034a13438d2316068ca99d.jpg     \b\b\b\b 77%\b\b\b\b\b  OK \n",
            "Extracting  train/IMG_20180723_145854_jpg.rf.1497cd5334ecf523a2d40bcf3fa3ef9a.jpg     \b\b\b\b 77%\b\b\b\b\b  OK \n",
            "Extracting  train/IMG_20180723_145937_jpg.rf.880725eb4f536f046e14481b3a62fa70.jpg     \b\b\b\b 77%\b\b\b\b\b  OK \n",
            "Extracting  train/IMG_20180723_145947_jpg.rf.5c7eee10b265d17ba443dd1d91ecd959.jpg     \b\b\b\b 77%\b\b\b\b\b  OK \n",
            "Extracting  train/IMG_20180723_150104_jpg.rf.a2a74546ba7decc97247daea2cbde9d3.jpg     \b\b\b\b 77%\b\b\b\b\b  OK \n",
            "Extracting  train/IMG_20180723_150147_jpg.rf.60d39cb098b40ede12e6f323a561dcfa.jpg     \b\b\b\b 77%\b\b\b\b\b  OK \n",
            "Extracting  train/IMG_20180723_150532_jpg.rf.8bc22342907de7240df15d5e9b2aabf5.jpg     \b\b\b\b 78%\b\b\b\b\b  OK \n",
            "Extracting  train/IMG_20180723_150704_jpg.rf.c7728ea0e25523a25547b100b6fbc248.jpg     \b\b\b\b 78%\b\b\b\b\b  OK \n",
            "Extracting  train/IMG_20180723_150941_jpg.rf.424d7a545732693f1e388b1fe9b5f47e.jpg     \b\b\b\b 78%\b\b\b\b\b  OK \n",
            "Extracting  train/IMG_20180723_151257_jpg.rf.3125f49e20445b16530bea2f1e5ab4f0.jpg     \b\b\b\b 78%\b\b\b\b\b  OK \n",
            "Extracting  train/IMG_20180723_151417_jpg.rf.09f2d815f4da7108e16932a93ced490d.jpg     \b\b\b\b 78%\b\b\b\b\b  OK \n",
            "Extracting  train/IMG_20180723_151429_jpg.rf.1c838614ed64a91f1bdeb4db5eadd820.jpg     \b\b\b\b 78%\b\b\b\b\b  OK \n",
            "Extracting  train/IMG_20180723_151534_jpg.rf.bd8ec37c82e94bc11d057b204c816a52.jpg     \b\b\b\b 78%\b\b\b\b\b  OK \n",
            "Extracting  train/IMG_20180723_151713_jpg.rf.2f744708a0157750e60b8acd4676f2e5.jpg     \b\b\b\b 78%\b\b\b\b\b  OK \n",
            "Extracting  train/IMG_20180723_152133_jpg.rf.b230ac50c29cedaaea959d46ea2069e8.jpg     \b\b\b\b 78%\b\b\b\b\b  OK \n",
            "Extracting  train/IMG_20180723_152213_jpg.rf.5333bf91dcd2181c4f6cf5db1e57b4a9.jpg     \b\b\b\b 79%\b\b\b\b\b  OK \n",
            "Extracting  train/IMG_20180723_152231_jpg.rf.ffa849e188a810fa8d7c47fa19f1e299.jpg     \b\b\b\b 79%\b\b\b\b\b  OK \n",
            "Extracting  train/IMG_20180723_152239_jpg.rf.9e90c885970e916225ecdd52a5414085.jpg     \b\b\b\b 79%\b\b\b\b\b  OK \n",
            "Extracting  train/IMG_20180724_120903_jpg.rf.b0da4dcf6850ee1448c6890594e34fba.jpg     \b\b\b\b 79%\b\b\b\b\b  OK \n",
            "Extracting  train/IMG_20180724_120919_jpg.rf.dcd03f09bcabdd8fac56f011350c5080.jpg     \b\b\b\b 79%\b\b\b\b\b  OK \n",
            "Extracting  train/IMG_20180724_120932_jpg.rf.05bea0228d8e34fe1f35c3f94acad0a2.jpg     \b\b\b\b 79%\b\b\b\b\b  OK \n",
            "Extracting  train/IMG_20180724_120949_jpg.rf.64476433045c22dd349f01925d97f024.jpg     \b\b\b\b 79%\b\b\b\b\b  OK \n",
            "Extracting  train/IMG_20180724_120959_jpg.rf.b23c1d296988baa47b8069c7ad0c08ec.jpg     \b\b\b\b 79%\b\b\b\b\b  OK \n",
            "Extracting  train/IMG_20180724_121006_jpg.rf.06935c50f60f6ea7e0cb6d0b3493c651.jpg     \b\b\b\b 79%\b\b\b\b\b  OK \n",
            "Extracting  train/IMG_20180724_121014_jpg.rf.f5dc710d875b3134e12f034e055f96df.jpg     \b\b\b\b 79%\b\b\b\b\b  OK \n",
            "Extracting  train/IMG_20180724_121017_jpg.rf.07c918f05f5064a9d2fcdc931cd9f788.jpg     \b\b\b\b 79%\b\b\b\b\b  OK \n",
            "Extracting  train/IMG_20180724_121053_jpg.rf.39dc237bd560c26d06d5ef29b7524d21.jpg     \b\b\b\b 79%\b\b\b\b\b  OK \n",
            "Extracting  train/IMG_20180724_121102_jpg.rf.7adc14c2f21e44f38273fc2f1839dcdf.jpg     \b\b\b\b 79%\b\b\b\b\b  OK \n",
            "Extracting  train/IMG_20180724_121113_jpg.rf.e4ba1311ff7c58ad22cdfaf103c3d02b.jpg     \b\b\b\b 80%\b\b\b\b\b  OK \n",
            "Extracting  train/IMG_20180724_121149_jpg.rf.006de94044e9e9d899a2ebfd31a44adb.jpg     \b\b\b\b 80%\b\b\b\b\b  OK \n",
            "Extracting  train/IMG_20180724_121206_jpg.rf.ab609b58e64e7ffe4ad319c61045a9b6.jpg     \b\b\b\b 80%\b\b\b\b\b  OK \n",
            "Extracting  train/IMG_20180724_121229_jpg.rf.869efde58fb1a68ec8ef4c5b417a957c.jpg     \b\b\b\b 80%\b\b\b\b\b  OK \n",
            "Extracting  train/IMG_20180724_121233_jpg.rf.b598af221a7c01276d854e881d675a31.jpg     \b\b\b\b 80%\b\b\b\b\b  OK \n",
            "Extracting  train/IMG_20180724_121243_jpg.rf.fd226b07b16db8763914234416423137.jpg     \b\b\b\b 80%\b\b\b\b\b  OK \n",
            "Extracting  train/IMG_20180724_121258_jpg.rf.cb622e1f89a6a89b2ae2dadc97ed90f8.jpg     \b\b\b\b 80%\b\b\b\b\b  OK \n",
            "Extracting  train/IMG_20180724_121309_jpg.rf.462d59e1cd192b0e67241f0f3a02fff9.jpg     \b\b\b\b 80%\b\b\b\b\b  OK \n",
            "Extracting  train/IMG_20180724_121315_jpg.rf.c0c124cad15d11647a775f8f32ac87b4.jpg     \b\b\b\b 80%\b\b\b\b\b  OK \n",
            "Extracting  train/IMG_20180724_121334_jpg.rf.4e9083412aba9c41f38bcda787e90c23.jpg     \b\b\b\b 80%\b\b\b\b\b  OK \n",
            "Extracting  train/IMG_20180724_121345_jpg.rf.438b49e3a136f25206ba54753413eed5.jpg     \b\b\b\b 80%\b\b\b\b\b  OK \n",
            "Extracting  train/IMG_20180724_121351_jpg.rf.8b892957286402ce9d68d08137f68d94.jpg     \b\b\b\b 80%\b\b\b\b\b  OK \n",
            "Extracting  train/IMG_20180724_121406_jpg.rf.8da8f6ea53ea5742866a8be9734827c3.jpg     \b\b\b\b 81%\b\b\b\b\b  OK \n",
            "Extracting  train/IMG_20180724_121432_jpg.rf.b823ef4e30d95ce3a37bb521c96cc532.jpg     \b\b\b\b 81%\b\b\b\b\b  OK \n",
            "Extracting  train/IMG_20180724_121502_jpg.rf.1c30ef249111e62fc77290c9811462fc.jpg     \b\b\b\b 81%\b\b\b\b\b  OK \n",
            "Extracting  train/IMG_20180724_121553_jpg.rf.e0d094795b7930d749cb003ef3dd7c4f.jpg     \b\b\b\b 81%\b\b\b\b\b  OK \n",
            "Extracting  train/IMG_20180724_121606_jpg.rf.304ee5ec7d300613fc1e3261e9c994cd.jpg     \b\b\b\b 81%\b\b\b\b\b  OK \n",
            "Extracting  train/IMG_20180724_121614_jpg.rf.ce2d9a7787fd1eabd6dbe454a857bdf9.jpg     \b\b\b\b 81%\b\b\b\b\b  OK \n",
            "Extracting  train/IMG_20180724_121629_jpg.rf.9cc01f6aaee3c6c4a39f3f5417894bdb.jpg     \b\b\b\b 81%\b\b\b\b\b  OK \n",
            "Extracting  train/IMG_20180724_121657_jpg.rf.29a58479a263257ed9b1f0168f63f7e5.jpg     \b\b\b\b 81%\b\b\b\b\b  OK \n",
            "Extracting  train/IMG_20180724_121704_jpg.rf.68d3e410c740c23106952abf91db023d.jpg     \b\b\b\b 81%\b\b\b\b\b  OK \n",
            "Extracting  train/IMG_20180724_121759_jpg.rf.b1f8f59dce463c49a984c4046ed4851b.jpg     \b\b\b\b 81%\b\b\b\b\b  OK \n",
            "Extracting  train/IMG_20180724_121819_jpg.rf.9dbc24574b5bceead8318e83ec654ad2.jpg     \b\b\b\b 82%\b\b\b\b\b  OK \n",
            "Extracting  train/IMG_20180724_121832_jpg.rf.fa2d85ecf3b11e9e092ff3d03a698f26.jpg     \b\b\b\b 82%\b\b\b\b\b  OK \n",
            "Extracting  train/IMG_20180724_121853_jpg.rf.263211b9d716dc6a6d9c7c61cce3e7ab.jpg     \b\b\b\b 82%\b\b\b\b\b  OK \n",
            "Extracting  train/IMG_20180724_121905_jpg.rf.3b301224eb9f6785ec46ccf60b83d11c.jpg     \b\b\b\b 82%\b\b\b\b\b  OK \n",
            "Extracting  train/IMG_20180724_121924_jpg.rf.ae05fb722b4f3bb13e51c5e33538ac88.jpg     \b\b\b\b 82%\b\b\b\b\b  OK \n",
            "Extracting  train/IMG_20180724_121957_jpg.rf.0f5fb513d16b66eb5e14644ad17d47d9.jpg     \b\b\b\b 82%\b\b\b\b\b  OK \n",
            "Extracting  train/IMG_20180724_122017_jpg.rf.32225bd451e5d78f0335ab0fa7fdc56c.jpg     \b\b\b\b 82%\b\b\b\b\b  OK \n",
            "Extracting  train/IMG_20180724_122123_jpg.rf.2ca5a479ed18407538411a4b427d3207.jpg     \b\b\b\b 82%\b\b\b\b\b  OK \n",
            "Extracting  train/IMG_20180724_122133_jpg.rf.f899870ea7ecaaae9ab2a1d76690e3d5.jpg     \b\b\b\b 82%\b\b\b\b\b  OK \n",
            "Extracting  train/IMG_20180724_122241_jpg.rf.3aafdfc37b83d5b0952b9a88056b9716.jpg     \b\b\b\b 82%\b\b\b\b\b  OK \n",
            "Extracting  train/IMG_20180724_122314_jpg.rf.078d5baab81e52e6d126fa5727dd5768.jpg     \b\b\b\b 83%\b\b\b\b\b  OK \n",
            "Extracting  train/IMG_20180724_122327_jpg.rf.f6c05f941959e2b1c2afcf8cde8228f6.jpg     \b\b\b\b 83%\b\b\b\b\b  OK \n",
            "Extracting  train/IMG_20180724_122345_jpg.rf.efdd36e29b50bca5d70e0463a1e3fa09.jpg     \b\b\b\b 83%\b\b\b\b\b  OK \n",
            "Extracting  train/IMG_20180724_122357_jpg.rf.37303b1876f3798631cba1e7213ef036.jpg     \b\b\b\b 83%\b\b\b\b\b  OK \n",
            "Extracting  train/IMG_20180724_122419_jpg.rf.7defc93bbb63c7a8acb35aefd7094d04.jpg     \b\b\b\b 83%\b\b\b\b\b  OK \n",
            "Extracting  train/IMG_20180724_122446_jpg.rf.eab22b193400f588722a46cbdf4b4f2c.jpg     \b\b\b\b 83%\b\b\b\b\b  OK \n",
            "Extracting  train/IMG_20180724_122509_jpg.rf.c410578fb4a8289d434489b6b3b1ff4e.jpg     \b\b\b\b 83%\b\b\b\b\b  OK \n",
            "Extracting  train/IMG_20180724_122513_jpg.rf.f5e4ae0c64e095d8e6ffed8f948ec07e.jpg     \b\b\b\b 83%\b\b\b\b\b  OK \n",
            "Extracting  train/IMG_20180724_122534_jpg.rf.c8620b85d686646d7d44ffb468891cef.jpg     \b\b\b\b 83%\b\b\b\b\b  OK \n",
            "Extracting  train/IMG_20180724_122546_jpg.rf.9ad9e431c2aa037bd16bc9b695f54a3b.jpg     \b\b\b\b 83%\b\b\b\b\b  OK \n",
            "Extracting  train/IMG_20180724_122601_jpg.rf.5e99f5f72866c88e278e3b6cc20da22c.jpg     \b\b\b\b 83%\b\b\b\b\b  OK \n",
            "Extracting  train/IMG_20180724_122617_jpg.rf.00eb37c5b998e39154ea29773d74a76c.jpg     \b\b\b\b 83%\b\b\b\b\b  OK \n",
            "Extracting  train/IMG_20180724_122638_jpg.rf.3eae55a7756a6d22487adb4d8ee05b06.jpg     \b\b\b\b 83%\b\b\b\b\b  OK \n",
            "Extracting  train/IMG_20180724_122650_jpg.rf.0ed9d5755457b66a6cd5ac23927944fc.jpg     \b\b\b\b 84%\b\b\b\b\b  OK \n",
            "Extracting  train/IMG_20180724_122823_jpg.rf.0bc05bd62901d23ef3fcabd23f059217.jpg     \b\b\b\b 84%\b\b\b\b\b  OK \n",
            "Extracting  train/IMG_20180724_122831_jpg.rf.184c84f6a58608a653944b2203f88c1c.jpg     \b\b\b\b 84%\b\b\b\b\b  OK \n",
            "Extracting  train/IMG_20180724_123530_jpg.rf.91d11abb41d2d19f6be2e1eac177b47a.jpg     \b\b\b\b 84%\b\b\b\b\b  OK \n",
            "Extracting  train/IMG_20180724_123542_jpg.rf.4c70270a9c5b7e3ecc2c59672f626ccc.jpg     \b\b\b\b 84%\b\b\b\b\b  OK \n",
            "Extracting  train/IMG_20180724_123557_jpg.rf.9d0807034b4b44adffb9bb3b71303936.jpg     \b\b\b\b 84%\b\b\b\b\b  OK \n",
            "Extracting  train/IMG_20180724_123610_jpg.rf.5021a6201b8c0f6ba9bd5c05874643d2.jpg     \b\b\b\b 84%\b\b\b\b\b  OK \n",
            "Extracting  train/IMG_20180724_123619_jpg.rf.cfc32b2be16402efbdbe4ce2ea29d2ed.jpg     \b\b\b\b 84%\b\b\b\b\b  OK \n",
            "Extracting  train/IMG_20180724_123638_jpg.rf.1d424187ca85c09b1d5ef4d5aa6dfc75.jpg     \b\b\b\b 84%\b\b\b\b\b  OK \n",
            "Extracting  train/IMG_20180724_123653_jpg.rf.09dc99127cab10ebc794d8ef7e8b78b4.jpg     \b\b\b\b 84%\b\b\b\b\b  OK \n",
            "Extracting  train/IMG_20180724_123702_jpg.rf.2b180a9131993693576ff340032eadf8.jpg     \b\b\b\b 84%\b\b\b\b\b  OK \n",
            "Extracting  train/IMG_20180724_123708_jpg.rf.cb83c8cd03e8db37d8f41d1b2d833930.jpg     \b\b\b\b 84%\b\b\b\b\b  OK \n",
            "Extracting  train/IMG_20180724_123723_jpg.rf.e9d74c4bcc15a892b46080efed18d136.jpg     \b\b\b\b 85%\b\b\b\b\b  OK \n",
            "Extracting  train/IMG_20180724_123732_jpg.rf.7f17bb4af22de34bd7bee24a5eccb773.jpg     \b\b\b\b 85%\b\b\b\b\b  OK \n",
            "Extracting  train/IMG_20180724_123757_jpg.rf.a06332a1b3f2b2d54c015fa138bb9ab6.jpg     \b\b\b\b 85%\b\b\b\b\b  OK \n",
            "Extracting  train/IMG_20180724_123829_jpg.rf.7fe4b9c02963f5f0efbdebdfaac11baa.jpg     \b\b\b\b 85%\b\b\b\b\b  OK \n",
            "Extracting  train/IMG_20180724_123854_jpg.rf.a1136059f0f777804945d3bed6731235.jpg     \b\b\b\b 85%\b\b\b\b\b  OK \n",
            "Extracting  train/IMG_20180724_123908_jpg.rf.cbf4efc08a84a0259e8e8bac1420ba86.jpg     \b\b\b\b 85%\b\b\b\b\b  OK \n",
            "Extracting  train/IMG_20180724_124135_jpg.rf.631f0e7db615b417c63c11f0404cfb77.jpg     \b\b\b\b 85%\b\b\b\b\b  OK \n",
            "Extracting  train/IMG_20180724_124150_jpg.rf.6a83fb534490c90f32118995f6df3d8a.jpg     \b\b\b\b 85%\b\b\b\b\b  OK \n",
            "Extracting  train/IMG_20180724_124332_jpg.rf.4ec548c850f457f11f1dc422ccb8ade6.jpg     \b\b\b\b 85%\b\b\b\b\b  OK \n",
            "Extracting  train/IMG_20180724_124339_jpg.rf.634ba08001fef75ed0c041a540f3ac32.jpg     \b\b\b\b 86%\b\b\b\b\b  OK \n",
            "Extracting  train/IMG_20180724_124414_jpg.rf.f2639fd71550e3567cde9588b8090dc5.jpg     \b\b\b\b 86%\b\b\b\b\b  OK \n",
            "Extracting  train/IMG_20180724_124449_jpg.rf.bf054be01b3e93f6ca42fcf6e2056d89.jpg     \b\b\b\b 86%\b\b\b\b\b  OK \n",
            "Extracting  train/IMG_20180724_124508_jpg.rf.4c75fdfc87d6cbae056cd00f48468935.jpg     \b\b\b\b 86%\b\b\b\b\b  OK \n",
            "Extracting  train/IMG_20180724_124521_jpg.rf.db5bb5f29cb121d64bc1ff527d358799.jpg     \b\b\b\b 86%\b\b\b\b\b  OK \n",
            "Extracting  train/IMG_20180724_124526_jpg.rf.c25e727777d2183a4c28c8860c6e8a1d.jpg     \b\b\b\b 86%\b\b\b\b\b  OK \n",
            "Extracting  train/IMG_20180724_124548_jpg.rf.702aa05057002b5e3c272c0bab2e9212.jpg     \b\b\b\b 86%\b\b\b\b\b  OK \n",
            "Extracting  train/IMG_20180724_124557_jpg.rf.44d6996f5c495b6030dab8a428e47aef.jpg     \b\b\b\b 87%\b\b\b\b\b  OK \n",
            "Extracting  train/IMG_20180724_124738_jpg.rf.8f7c83603c757c014172703d4b19ac42.jpg     \b\b\b\b 87%\b\b\b\b\b  OK \n",
            "Extracting  train/IMG_20180724_124810_jpg.rf.38809ba490a2ad7f8c40f98b93925085.jpg     \b\b\b\b 87%\b\b\b\b\b  OK \n",
            "Extracting  train/IMG_20180724_124946_jpg.rf.78cae50848f2e3cc85ceee1c344472b6.jpg     \b\b\b\b 87%\b\b\b\b\b  OK \n",
            "Extracting  train/IMG_20180724_125116_jpg.rf.445c5f3e65b3338be50a521f70cd306b.jpg     \b\b\b\b 87%\b\b\b\b\b  OK \n",
            "Extracting  train/IMG_20180724_125152_jpg.rf.3d1950fa24f40fd8e845487849922585.jpg     \b\b\b\b 87%\b\b\b\b\b  OK \n",
            "Extracting  train/IMG_20180724_125230_jpg.rf.98ee59a7d175243d01a36932ce32c02b.jpg     \b\b\b\b 87%\b\b\b\b\b  OK \n",
            "Extracting  train/IMG_20180724_125716_jpg.rf.e8c012f689603bd5409f21e7c28c03f5.jpg     \b\b\b\b 87%\b\b\b\b\b  OK \n",
            "Extracting  train/IMG_20180724_125919_jpg.rf.74290d063a6ad633ef1ac430027671cc.jpg     \b\b\b\b 87%\b\b\b\b\b  OK \n",
            "Extracting  train/IMG_20180724_145832_jpg.rf.6f697fde7d7d15990ab99c0f1077dcbd.jpg     \b\b\b\b 88%\b\b\b\b\b  OK \n",
            "Extracting  train/IMG_20180724_150041_jpg.rf.699081f26d02f309035761b6663c0760.jpg     \b\b\b\b 88%\b\b\b\b\b  OK \n",
            "Extracting  train/IMG_20180724_150602_jpg.rf.156fde98ffa484331de784375fe06a51.jpg     \b\b\b\b 88%\b\b\b\b\b  OK \n",
            "Extracting  train/IMG_20180724_150758_jpg.rf.e3daad4b0d7968fa5b01b8e4b68442af.jpg     \b\b\b\b 88%\b\b\b\b\b  OK \n",
            "Extracting  train/IMG_20180724_150828_jpg.rf.fb16c89804aa09532b022aed0c41ced8.jpg     \b\b\b\b 88%\b\b\b\b\b  OK \n",
            "Extracting  train/IMG_20180724_150833_jpg.rf.5297f627dd27723f66eef9527298a550.jpg     \b\b\b\b 88%\b\b\b\b\b  OK \n",
            "Extracting  train/IMG_20180724_150928_jpg.rf.ef05d1281bcbbdfeba026c201bd09378.jpg     \b\b\b\b 88%\b\b\b\b\b  OK \n",
            "Extracting  train/IMG_20180724_150952_jpg.rf.98648a7f15dfb1021c2af8f21245e207.jpg     \b\b\b\b 88%\b\b\b\b\b  OK \n",
            "Extracting  train/IMG_20180724_151727_jpg.rf.21092dc7fe64aac502000c16f4b25208.jpg     \b\b\b\b 88%\b\b\b\b\b  OK \n",
            "Extracting  train/IMG_20180725_113901_jpg.rf.4be444cc86cbdd4e0f1728840436fa0b.jpg     \b\b\b\b 88%\b\b\b\b\b  OK \n",
            "Extracting  train/IMG_20180725_113905_jpg.rf.f6a416a6c5fd68dffbbbde6635ddada0.jpg     \b\b\b\b 88%\b\b\b\b\b  OK \n",
            "Extracting  train/IMG_20180725_114019_jpg.rf.2f4a04f9f6bca0309eefa96414868c94.jpg     \b\b\b\b 88%\b\b\b\b\b  OK \n",
            "Extracting  train/IMG_20180725_114025_jpg.rf.c7a3cd298e6cf077d910eef7dbab5695.jpg     \b\b\b\b 89%\b\b\b\b\b  OK \n",
            "Extracting  train/IMG_20180725_114228_jpg.rf.80219dff03efa925bcbaa91c87bd2acd.jpg     \b\b\b\b 89%\b\b\b\b\b  OK \n",
            "Extracting  train/IMG_20180725_114304_jpg.rf.a1c447bd7574eccc68e57ca090e0ead3.jpg     \b\b\b\b 89%\b\b\b\b\b  OK \n",
            "Extracting  train/IMG_20180725_114413_jpg.rf.b1358a9416a690ded3176e0203b524b2.jpg     \b\b\b\b 89%\b\b\b\b\b  OK \n",
            "Extracting  train/IMG_20180725_114748_jpg.rf.320640d7fdc00f7e33ba8ae3c42da3b4.jpg     \b\b\b\b 89%\b\b\b\b\b  OK \n",
            "Extracting  train/IMG_20180725_114849_jpg.rf.98ea868f30271bbd9c281d4e81359681.jpg     \b\b\b\b 89%\b\b\b\b\b  OK \n",
            "Extracting  train/IMG_20180725_115024_jpg.rf.93bdb6ad2daba44ddeb3e860bc1def79.jpg     \b\b\b\b 89%\b\b\b\b\b  OK \n",
            "Extracting  train/IMG_20180725_115203_jpg.rf.017d9cbb4a459ede9170bbddd078c2a3.jpg     \b\b\b\b 89%\b\b\b\b\b  OK \n",
            "Extracting  train/IMG_20180725_115227_jpg.rf.ac112f76f685689dbf1e30a2e63ab15b.jpg     \b\b\b\b 89%\b\b\b\b\b  OK \n",
            "Extracting  train/IMG_20180725_115234_jpg.rf.7b981e97fb2cf001b64967921d973de5.jpg     \b\b\b\b 90%\b\b\b\b\b  OK \n",
            "Extracting  train/IMG_20180725_120120_jpg.rf.d69bfc890a6fea219cd0081dff3a7022.jpg     \b\b\b\b 90%\b\b\b\b\b  OK \n",
            "Extracting  train/IMG_20180725_120143_jpg.rf.95cd749632f4e52f5825a37bff7b977f.jpg     \b\b\b\b 90%\b\b\b\b\b  OK \n",
            "Extracting  train/IMG_20180725_120256_jpg.rf.0a0d1f61bbe1e60b7efc6a3b8a96557f.jpg     \b\b\b\b 90%\b\b\b\b\b  OK \n",
            "Extracting  train/IMG_20180725_120313_jpg.rf.c35f6e1f35bdcfbc863ad06dbcd65f1b.jpg     \b\b\b\b 90%\b\b\b\b\b  OK \n",
            "Extracting  train/IMG_20180725_120716_jpg.rf.8bec594c3b9c2655953d8fbc02d3716a.jpg     \b\b\b\b 90%\b\b\b\b\b  OK \n",
            "Extracting  train/IMG_20180725_120722_jpg.rf.e7dc1a09bece5ca1b2f9f766d462f2bb.jpg     \b\b\b\b 90%\b\b\b\b\b  OK \n",
            "Extracting  train/IMG_20180725_120946_jpg.rf.1993af1394fd4483703dfd2a057db841.jpg     \b\b\b\b 90%\b\b\b\b\b  OK \n",
            "Extracting  train/IMG_20180725_121211_jpg.rf.5da03b281040bb95949804c435cba98c.jpg     \b\b\b\b 90%\b\b\b\b\b  OK \n",
            "Extracting  train/IMG_20180725_121222_jpg.rf.3e178ec67cee653c9c5202c01e06c6e7.jpg     \b\b\b\b 90%\b\b\b\b\b  OK \n",
            "Extracting  train/IMG_20180725_121228_jpg.rf.bc926518f89b207bfbd624571cb6db15.jpg     \b\b\b\b 90%\b\b\b\b\b  OK \n",
            "Extracting  train/IMG_20180725_121240_jpg.rf.58256d4c99eecd888dfa9944d1fcf978.jpg     \b\b\b\b 91%\b\b\b\b\b  OK \n",
            "Extracting  train/IMG_20180725_121324_jpg.rf.2c4222d05ad941cfe82be5bed8d71a3b.jpg     \b\b\b\b 91%\b\b\b\b\b  OK \n",
            "Extracting  train/IMG_20180725_121405_jpg.rf.63085eedbd8922efe4aeec6198c3d2be.jpg     \b\b\b\b 91%\b\b\b\b\b  OK \n",
            "Extracting  train/IMG_20180725_121427_jpg.rf.e76e88864e265809637954dd8ef4f0c0.jpg     \b\b\b\b 91%\b\b\b\b\b  OK \n",
            "Extracting  train/IMG_20180725_121519_jpg.rf.cbfa3214821e736f0c83e0127b820114.jpg     \b\b\b\b 91%\b\b\b\b\b  OK \n",
            "Extracting  train/IMG_20180725_121700_jpg.rf.d86514b90a1c71d502a269f868cb3d73.jpg     \b\b\b\b 91%\b\b\b\b\b  OK \n",
            "Extracting  train/IMG_20180725_121845_jpg.rf.e74d16b609c4b55f785e59ff2a757d0a.jpg     \b\b\b\b 91%\b\b\b\b\b  OK \n",
            "Extracting  train/IMG_20180725_121925_jpg.rf.62ca712f63879b0b7ac40c8cd32ce93a.jpg     \b\b\b\b 91%\b\b\b\b\b  OK \n",
            "Extracting  train/IMG_20180725_121940_jpg.rf.68b4b673e16d117b8edecd752a914608.jpg     \b\b\b\b 91%\b\b\b\b\b  OK \n",
            "Extracting  train/IMG_20180725_121946_jpg.rf.f9602c23a9526c402a0ecba42274704b.jpg     \b\b\b\b 91%\b\b\b\b\b  OK \n",
            "Extracting  train/IMG_20180725_122016_jpg.rf.d7700ddfdb628fb13ffedc298aa02a3d.jpg     \b\b\b\b 92%\b\b\b\b\b  OK \n",
            "Extracting  train/IMG_20180725_122039_jpg.rf.f8c359445e4bd82c2ac7d93c85523a3d.jpg     \b\b\b\b 92%\b\b\b\b\b  OK \n",
            "Extracting  train/IMG_20180725_122106_jpg.rf.e654ac2d11edceac1931d4446254f13c.jpg     \b\b\b\b 92%\b\b\b\b\b  OK \n",
            "Extracting  train/IMG_20180725_122231_jpg.rf.c15dbd1253662b80ab854cb3ba224a7a.jpg     \b\b\b\b 92%\b\b\b\b\b  OK \n",
            "Extracting  train/IMG_20180725_122345_jpg.rf.7d49d8045cb84d612e84b1ea96e7fc46.jpg     \b\b\b\b 92%\b\b\b\b\b  OK \n",
            "Extracting  train/IMG_20180725_122527_jpg.rf.d003139c0c5597cfec0d22c214b75b92.jpg     \b\b\b\b 92%\b\b\b\b\b  OK \n",
            "Extracting  train/IMG_20180725_122605_jpg.rf.76362fd57bd48d24305fb6c4599a4ec8.jpg     \b\b\b\b 92%\b\b\b\b\b  OK \n",
            "Extracting  train/IMG_20180726_122206_jpg.rf.25c63855e78961dfa5f1e3f1f1d0d07f.jpg     \b\b\b\b 92%\b\b\b\b\b  OK \n",
            "Extracting  train/IMG_20180726_122215_jpg.rf.08f7a67a146f3f2bb50138324cc8965f.jpg     \b\b\b\b 92%\b\b\b\b\b  OK \n",
            "Extracting  train/IMG_20180726_122238_jpg.rf.aeb0f3a5f9787879bb8edd8d723a5822.jpg     \b\b\b\b 92%\b\b\b\b\b  OK \n",
            "Extracting  train/IMG_20180726_122306_jpg.rf.3c7a90de71888426efbf853f3235da93.jpg     \b\b\b\b 92%\b\b\b\b\b  OK \n",
            "Extracting  train/IMG_20180726_122312_jpg.rf.f1f7f5b331e917a4de955e497a384b58.jpg     \b\b\b\b 93%\b\b\b\b\b  OK \n",
            "Extracting  train/IMG_20180726_122332_jpg.rf.0729c9dcad40834fa70261ef3a9f2571.jpg     \b\b\b\b 93%\b\b\b\b\b  OK \n",
            "Extracting  train/IMG_20180726_122342_jpg.rf.9264015506f95d48c170351662944147.jpg     \b\b\b\b 93%\b\b\b\b\b  OK \n",
            "Extracting  train/IMG_20180726_122350_jpg.rf.17296d85f8d0a53094c97bf406523910.jpg     \b\b\b\b 93%\b\b\b\b\b  OK \n",
            "Extracting  train/IMG_20180726_122400_jpg.rf.cf3c34eb2c7b87e9c25ff833624ea2b8.jpg     \b\b\b\b 93%\b\b\b\b\b  OK \n",
            "Extracting  train/IMG_20180726_122542_jpg.rf.a170a2a0a3aae1f5907dbdab981d2063.jpg     \b\b\b\b 93%\b\b\b\b\b  OK \n",
            "Extracting  train/IMG_20180726_122557_jpg.rf.9351ec2b0c93242f43b99f7369d56444.jpg     \b\b\b\b 93%\b\b\b\b\b  OK \n",
            "Extracting  train/IMG_20180726_122619_jpg.rf.c62d0360b54d0e466677cba836e16b00.jpg     \b\b\b\b 93%\b\b\b\b\b  OK \n",
            "Extracting  train/IMG_20180726_122638_jpg.rf.73192dc7d76d781509d6710f3d12b39c.jpg     \b\b\b\b 93%\b\b\b\b\b  OK \n",
            "Extracting  train/IMG_20180726_122652_jpg.rf.5199e147b3a583a49bb35053da40b9c6.jpg     \b\b\b\b 93%\b\b\b\b\b  OK \n",
            "Extracting  train/IMG_20180726_122732_jpg.rf.21499058cc03a81dd8af786bd2cabcfb.jpg     \b\b\b\b 93%\b\b\b\b\b  OK \n",
            "Extracting  train/IMG_20180726_123013_jpg.rf.ca391f9e3df2eaad4f82c95e2d9f4ead.jpg     \b\b\b\b 93%\b\b\b\b\b  OK \n",
            "Extracting  train/IMG_20180726_123154_jpg.rf.bd704201b5dad0c128a1eeb209d9fd24.jpg     \b\b\b\b 93%\b\b\b\b\b  OK \n",
            "Extracting  train/IMG_20180726_123203_jpg.rf.02bc32c5dce3d288dd77cea99a6dde68.jpg     \b\b\b\b 94%\b\b\b\b\b  OK \n",
            "Extracting  train/IMG_20180730_122522_jpg.rf.33b256d910747b62003301453978249c.jpg     \b\b\b\b 94%\b\b\b\b\b  OK \n",
            "Extracting  train/IMG_20180805_082857_jpg.rf.27e448c626bcecfd4a3527f34b96e794.jpg     \b\b\b\b 94%\b\b\b\b\b  OK \n",
            "Extracting  train/IMG_20180807_083115_jpg.rf.8f4351f07669ed49c800194e978f832e.jpg     \b\b\b\b 94%\b\b\b\b\b  OK \n",
            "Extracting  train/IMG_20180810_085645_jpg.rf.8fca0381d3ad2d4a84482b2f711f3a73.jpg     \b\b\b\b 94%\b\b\b\b\b  OK \n",
            "Extracting  train/IMG_20180810_090257_jpg.rf.dd8f954f26938c48c52793c951dbe83b.jpg     \b\b\b\b 94%\b\b\b\b\b  OK \n",
            "Extracting  train/IMG_20180810_090309_jpg.rf.4ecbc77d8680ae651066f4fd04499335.jpg     \b\b\b\b 94%\b\b\b\b\b  OK \n",
            "Extracting  train/IMG_20180810_090336_jpg.rf.e41df13c209ac059be36a8931c7feb0a.jpg     \b\b\b\b 94%\b\b\b\b\b  OK \n",
            "Extracting  train/IMG_20180810_090521_jpg.rf.0bf083daa934c93c56586924ef2152c4.jpg     \b\b\b\b 94%\b\b\b\b\b  OK \n",
            "Extracting  train/IMG_20180810_090555_jpg.rf.eaed8ee71390565d3d25044346b32419.jpg     \b\b\b\b 94%\b\b\b\b\b  OK \n",
            "Extracting  train/IMG_20180810_090804_jpg.rf.91bf700f30091dcda8b5631f745b023f.jpg     \b\b\b\b 95%\b\b\b\b\b  OK \n",
            "Extracting  train/IMG_20180810_091623_jpg.rf.87fa0001fa381e27b3e3519b5b2872e2.jpg     \b\b\b\b 95%\b\b\b\b\b  OK \n",
            "Extracting  train/IMG_20180810_091707_jpg.rf.de8d16114e3ad9f8204c619f9ff15f4d.jpg     \b\b\b\b 95%\b\b\b\b\b  OK \n",
            "Extracting  train/IMG_20180810_091808_jpg.rf.c3b2baf7087276fa0ce8005ac2e0c58d.jpg     \b\b\b\b 95%\b\b\b\b\b  OK \n",
            "Extracting  train/IMG_20180810_091812_jpg.rf.3999a41a799049b21cac5c35d7c432d6.jpg     \b\b\b\b 95%\b\b\b\b\b  OK \n",
            "Extracting  train/IMG_20180810_091819_jpg.rf.2ea6733f44f9a02e9534981ce3ad2bb9.jpg     \b\b\b\b 95%\b\b\b\b\b  OK \n",
            "Extracting  train/IMG_20180810_092143_jpg.rf.62e3a430d7201b153d3f192064be8b4e.jpg     \b\b\b\b 95%\b\b\b\b\b  OK \n",
            "Extracting  train/IMG_20180810_092151_jpg.rf.59b4ac5b7256d27c6b2d8ae71bdf8703.jpg     \b\b\b\b 95%\b\b\b\b\b  OK \n",
            "Extracting  train/IMG_20180810_092204_jpg.rf.14bdcb0b4f5d3d5cd9b42178fd2836cf.jpg     \b\b\b\b 95%\b\b\b\b\b  OK \n",
            "Extracting  train/IMG_20180810_092208_jpg.rf.e7a9be9d53114bc652aa03f2f282eae7.jpg     \b\b\b\b 95%\b\b\b\b\b  OK \n",
            "Extracting  train/IMG_20180810_092223_jpg.rf.19289b01c3b1ab690cc4a9eb6f7e9ba2.jpg     \b\b\b\b 95%\b\b\b\b\b  OK \n",
            "Extracting  train/IMG_20180810_092230_jpg.rf.d49d5ce492293fc9d9d8cc119b3b7ff3.jpg     \b\b\b\b 96%\b\b\b\b\b  OK \n",
            "Extracting  train/IMG_20180810_092236_jpg.rf.1b513a92d27039d98cce61cceaa61648.jpg     \b\b\b\b 96%\b\b\b\b\b  OK \n",
            "Extracting  train/IMG_20180810_092254_jpg.rf.19f3411b16137f486ec220e1db7f8fb8.jpg     \b\b\b\b 96%\b\b\b\b\b  OK \n",
            "Extracting  train/IMG_20180810_092325_jpg.rf.6aa4d5103f0bf7a4ca5e4a1c8fe4d724.jpg     \b\b\b\b 96%\b\b\b\b\b  OK \n",
            "Extracting  train/IMG_20180810_092723_jpg.rf.903dcc22bca21b7c10e49ccb6146cecd.jpg     \b\b\b\b 96%\b\b\b\b\b  OK \n",
            "Extracting  train/IMG_20180810_092744_jpg.rf.1962a6f56a67d84b1e91be995bbb4681.jpg     \b\b\b\b 96%\b\b\b\b\b  OK \n",
            "Extracting  train/IMG_20180810_092850_jpg.rf.87d97a5c2f76b2100a022d71ec9fd1f3.jpg     \b\b\b\b 96%\b\b\b\b\b  OK \n",
            "Extracting  train/IMG_20180810_092900_jpg.rf.e65ca8e52c12480135de6bdd15a07878.jpg     \b\b\b\b 96%\b\b\b\b\b  OK \n",
            "Extracting  train/IMG_20180810_092905_jpg.rf.902b69a15b20cd89f27f3cf540d05f6e.jpg     \b\b\b\b 96%\b\b\b\b\b  OK \n",
            "Extracting  train/IMG_20180810_092948_jpg.rf.b47786ce5a88246067cb4c37c916da44.jpg     \b\b\b\b 96%\b\b\b\b\b  OK \n",
            "Extracting  train/IMG_20180810_092957_jpg.rf.59dbb118a171a4855da411581b86376e.jpg     \b\b\b\b 96%\b\b\b\b\b  OK \n",
            "Extracting  train/IMG_20180810_093312_jpg.rf.647260563332d6ed523423945e0a27fb.jpg     \b\b\b\b 96%\b\b\b\b\b  OK \n",
            "Extracting  train/IMG_20180810_093330_jpg.rf.d21f4271b8001a90c7b1a96b0472a257.jpg     \b\b\b\b 97%\b\b\b\b\b  OK \n",
            "Extracting  train/IMG_20180811_083436_jpg.rf.f640d2cada86c9668b9c41424b440fdb.jpg     \b\b\b\b 97%\b\b\b\b\b  OK \n",
            "Extracting  train/IMG_20180811_083459_jpg.rf.95147280dd9d7345405c2d3746990f82.jpg     \b\b\b\b 97%\b\b\b\b\b  OK \n",
            "Extracting  train/IMG_20180811_083513_jpg.rf.02016dd16bc97e0c29c967d504aaa784.jpg     \b\b\b\b 97%\b\b\b\b\b  OK \n",
            "Extracting  train/IMG_20180811_083535_jpg.rf.7aa91ace1b68ff9bbc2d8166a11069cc.jpg     \b\b\b\b 97%\b\b\b\b\b  OK \n",
            "Extracting  train/IMG_20180811_083542_jpg.rf.fd1d7e4e6d5eb22fe9a238248feeb0c1.jpg     \b\b\b\b 97%\b\b\b\b\b  OK \n",
            "Extracting  train/IMG_20180811_083552_jpg.rf.cf1221be2309b3ba124edf74cbacf111.jpg     \b\b\b\b 97%\b\b\b\b\b  OK \n",
            "Extracting  train/IMG_20180811_083610_jpg.rf.c151c0cfa4c86e88f31edb1401ad6182.jpg     \b\b\b\b 97%\b\b\b\b\b  OK \n",
            "Extracting  train/IMG_20180811_083617_jpg.rf.8a000583f1cd4103ccb63b534cfe1643.jpg     \b\b\b\b 98%\b\b\b\b\b  OK \n",
            "Extracting  train/IMG_20180811_083633_jpg.rf.0751c467b555fdeb969b312ac84bfac7.jpg     \b\b\b\b 98%\b\b\b\b\b  OK \n",
            "Extracting  train/IMG_20180811_083713_jpg.rf.ee52fdd2104cd7eb1e02538bb719d969.jpg     \b\b\b\b 98%\b\b\b\b\b  OK \n",
            "Extracting  train/IMG_20180811_083742_jpg.rf.4eec56688fd9f5466dee1feae23dd627.jpg     \b\b\b\b 98%\b\b\b\b\b  OK \n",
            "Extracting  train/IMG_20180811_083816_jpg.rf.9f027c0abb0200bc90a2ae7ce6de7cea.jpg     \b\b\b\b 98%\b\b\b\b\b  OK \n",
            "Extracting  train/IMG_20180811_083828_jpg.rf.a9ebb43a75caafc402753b72f9cb6dbd.jpg     \b\b\b\b 98%\b\b\b\b\b  OK \n",
            "Extracting  train/IMG_20180811_083847_jpg.rf.b2f74158eec582a898bd733f406ab3e2.jpg     \b\b\b\b 98%\b\b\b\b\b  OK \n",
            "Extracting  train/IMG_20180811_083849_jpg.rf.35d31b6b30884dc7e4c7fb69033a1f96.jpg     \b\b\b\b 98%\b\b\b\b\b  OK \n",
            "Extracting  train/IMG_20180811_083912_jpg.rf.229ed196ae17e4297cfde076889f2c4e.jpg     \b\b\b\b 98%\b\b\b\b\b  OK \n",
            "Extracting  train/IMG_20180811_083925_jpg.rf.8d1c3a8babe3bae289ae64f1d756bd0b.jpg     \b\b\b\b 98%\b\b\b\b\b  OK \n",
            "Extracting  train/IMG_20180811_083939_jpg.rf.c8ec68aa8e325832b6fbcfe731ed2ee8.jpg     \b\b\b\b 98%\b\b\b\b\b  OK \n",
            "Extracting  train/IMG_20180811_083942_jpg.rf.0a58671d71d4ca12b59fbd6b5c67e3ba.jpg     \b\b\b\b 98%\b\b\b\b\b  OK \n",
            "Extracting  train/IMG_20180811_083951_jpg.rf.258562e2137575dbd5aa5aa52fbdfd96.jpg     \b\b\b\b 99%\b\b\b\b\b  OK \n",
            "Extracting  train/IMG_20180811_083958_jpg.rf.c685505c8cd6d23eba28c791b5256bab.jpg     \b\b\b\b 99%\b\b\b\b\b  OK \n",
            "Extracting  train/IMG_20180811_084006_jpg.rf.ed279ed4fbd67be299b932c37b9e760a.jpg     \b\b\b\b 99%\b\b\b\b\b  OK \n",
            "Extracting  train/IMG_20180811_084012_jpg.rf.b269fa4970ae048fd4724f3586101d83.jpg     \b\b\b\b 99%\b\b\b\b\b  OK \n",
            "Extracting  train/IMG_20180811_084101_jpg.rf.25b9cf4816fdf27130c79ad83f4c9855.jpg     \b\b\b\b 99%\b\b\b\b\b  OK \n",
            "Extracting  train/IMG_20180811_084135_jpg.rf.5f7beb6afb41c1c1a7da92fce4004624.jpg     \b\b\b\b 99%\b\b\b\b\b  OK \n",
            "Extracting  train/IMG_20180811_084200_jpg.rf.2ac5e0bc4932a6aa526c17289de60d6d.jpg     \b\b\b\b 99%\b\b\b\b\b  OK \n",
            "Extracting  train/IMG_20180811_084218_jpg.rf.d1adcdeeb67d33ad123568c517a8d1fe.jpg     \b\b\b\b 99%\b\b\b\b\b  OK \n",
            "Extracting  train/IMG_20180811_084236_jpg.rf.0b102101ee78cfc660855858118a199e.jpg     \b\b\b\b 99%\b\b\b\b\b  OK \n",
            "Extracting  train/IMG_20180811_084250_jpg.rf.020fa34ab2c8539a90b3be86f74d7633.jpg     \b\b\b\b 99%\b\b\b\b\b  OK \n",
            "Extracting  train/IMG_20180811_084321_jpg.rf.04d38993974014cc7d4091a9de8b1826.jpg     \b\b\b\b 99%\b\b\b\b\b  OK \n",
            "Extracting  train/IMG_20180811_084341_jpg.rf.b182e3cf0adee59000eada3c98c42a36.jpg     \b\b\b\b 99%\b\b\b\b\b  OK \n",
            "Extracting  train/IMG_20180811_084419_jpg.rf.283347f8596f3b7a97ab5df52a53ac7f.jpg     \b\b\b\b 99%\b\b\b\b\b  OK \n",
            "All OK\n"
          ]
        }
      ]
    },
    {
      "cell_type": "code",
      "source": [
        "!pip install ultralytics --upgrade --quiet"
      ],
      "metadata": {
        "colab": {
          "base_uri": "https://localhost:8080/"
        },
        "id": "E5hqRsuc-vyn",
        "outputId": "9219b299-8e8f-440a-b8d7-2462c84fe24f"
      },
      "execution_count": null,
      "outputs": [
        {
          "output_type": "stream",
          "name": "stdout",
          "text": [
            "\u001b[2K   \u001b[90m━━━━━━━━━━━━━━━━━━━━━━━━━━━━━━━━━━━━━━━━\u001b[0m \u001b[32m1.0/1.0 MB\u001b[0m \u001b[31m27.6 MB/s\u001b[0m eta \u001b[36m0:00:00\u001b[0m\n",
            "\u001b[2K   \u001b[90m━━━━━━━━━━━━━━━━━━━━━━━━━━━━━━━━━━━━━━━━\u001b[0m \u001b[32m363.4/363.4 MB\u001b[0m \u001b[31m1.4 MB/s\u001b[0m eta \u001b[36m0:00:00\u001b[0m\n",
            "\u001b[2K   \u001b[90m━━━━━━━━━━━━━━━━━━━━━━━━━━━━━━━━━━━━━━━━\u001b[0m \u001b[32m13.8/13.8 MB\u001b[0m \u001b[31m115.7 MB/s\u001b[0m eta \u001b[36m0:00:00\u001b[0m\n",
            "\u001b[2K   \u001b[90m━━━━━━━━━━━━━━━━━━━━━━━━━━━━━━━━━━━━━━━━\u001b[0m \u001b[32m24.6/24.6 MB\u001b[0m \u001b[31m94.6 MB/s\u001b[0m eta \u001b[36m0:00:00\u001b[0m\n",
            "\u001b[2K   \u001b[90m━━━━━━━━━━━━━━━━━━━━━━━━━━━━━━━━━━━━━━━━\u001b[0m \u001b[32m883.7/883.7 kB\u001b[0m \u001b[31m58.2 MB/s\u001b[0m eta \u001b[36m0:00:00\u001b[0m\n",
            "\u001b[2K   \u001b[90m━━━━━━━━━━━━━━━━━━━━━━━━━━━━━━━━━━━━━━━━\u001b[0m \u001b[32m664.8/664.8 MB\u001b[0m \u001b[31m2.8 MB/s\u001b[0m eta \u001b[36m0:00:00\u001b[0m\n",
            "\u001b[2K   \u001b[90m━━━━━━━━━━━━━━━━━━━━━━━━━━━━━━━━━━━━━━━━\u001b[0m \u001b[32m211.5/211.5 MB\u001b[0m \u001b[31m5.5 MB/s\u001b[0m eta \u001b[36m0:00:00\u001b[0m\n",
            "\u001b[2K   \u001b[90m━━━━━━━━━━━━━━━━━━━━━━━━━━━━━━━━━━━━━━━━\u001b[0m \u001b[32m56.3/56.3 MB\u001b[0m \u001b[31m13.5 MB/s\u001b[0m eta \u001b[36m0:00:00\u001b[0m\n",
            "\u001b[2K   \u001b[90m━━━━━━━━━━━━━━━━━━━━━━━━━━━━━━━━━━━━━━━━\u001b[0m \u001b[32m127.9/127.9 MB\u001b[0m \u001b[31m7.3 MB/s\u001b[0m eta \u001b[36m0:00:00\u001b[0m\n",
            "\u001b[2K   \u001b[90m━━━━━━━━━━━━━━━━━━━━━━━━━━━━━━━━━━━━━━━━\u001b[0m \u001b[32m207.5/207.5 MB\u001b[0m \u001b[31m6.9 MB/s\u001b[0m eta \u001b[36m0:00:00\u001b[0m\n",
            "\u001b[2K   \u001b[90m━━━━━━━━━━━━━━━━━━━━━━━━━━━━━━━━━━━━━━━━\u001b[0m \u001b[32m21.1/21.1 MB\u001b[0m \u001b[31m106.0 MB/s\u001b[0m eta \u001b[36m0:00:00\u001b[0m\n",
            "\u001b[?25h"
          ]
        }
      ]
    },
    {
      "cell_type": "code",
      "source": [
        "from ultralytics import YOLO\n",
        "\n",
        "model = YOLO('yolov8n.pt')  # small and fast model\n",
        "\n",
        "model.train(\n",
        "    data='/content/GP_DATASET/data.yaml',\n",
        "    epochs=100,\n",
        "    imgsz=640,\n",
        "    batch=16,\n",
        "    workers=2,\n",
        "    project='bitstone-train',\n",
        "    name='yolov8n-graffiti-pothole',\n",
        "    exist_ok=True\n",
        ")\n"
      ],
      "metadata": {
        "colab": {
          "base_uri": "https://localhost:8080/"
        },
        "id": "UcEzWbLw-rkD",
        "outputId": "5882c397-a735-4ab4-d439-daa2dd2576e2"
      },
      "execution_count": null,
      "outputs": [
        {
          "output_type": "stream",
          "name": "stdout",
          "text": [
            "Ultralytics 8.3.134 🚀 Python-3.11.12 torch-2.6.0+cu124 CUDA:0 (Tesla T4, 15095MiB)\n",
            "\u001b[34m\u001b[1mengine/trainer: \u001b[0magnostic_nms=False, amp=True, augment=False, auto_augment=randaugment, batch=16, bgr=0.0, box=7.5, cache=False, cfg=None, classes=None, close_mosaic=10, cls=0.5, conf=None, copy_paste=0.0, copy_paste_mode=flip, cos_lr=False, cutmix=0.0, data=/content/GP_DATASET/data.yaml, degrees=0.0, deterministic=True, device=None, dfl=1.5, dnn=False, dropout=0.0, dynamic=False, embed=None, epochs=100, erasing=0.4, exist_ok=True, fliplr=0.5, flipud=0.0, format=torchscript, fraction=1.0, freeze=None, half=False, hsv_h=0.015, hsv_s=0.7, hsv_v=0.4, imgsz=640, int8=False, iou=0.7, keras=False, kobj=1.0, line_width=None, lr0=0.01, lrf=0.01, mask_ratio=4, max_det=300, mixup=0.0, mode=train, model=yolov8n.pt, momentum=0.937, mosaic=1.0, multi_scale=False, name=yolov8n-graffiti-pothole, nbs=64, nms=False, opset=None, optimize=False, optimizer=auto, overlap_mask=True, patience=100, perspective=0.0, plots=True, pose=12.0, pretrained=True, profile=False, project=bitstone-train, rect=False, resume=False, retina_masks=False, save=True, save_conf=False, save_crop=False, save_dir=bitstone-train/yolov8n-graffiti-pothole, save_frames=False, save_json=False, save_period=-1, save_txt=False, scale=0.5, seed=0, shear=0.0, show=False, show_boxes=True, show_conf=True, show_labels=True, simplify=True, single_cls=False, source=None, split=val, stream_buffer=False, task=detect, time=None, tracker=botsort.yaml, translate=0.1, val=True, verbose=True, vid_stride=1, visualize=False, warmup_bias_lr=0.1, warmup_epochs=3.0, warmup_momentum=0.8, weight_decay=0.0005, workers=2, workspace=None\n",
            "Downloading https://ultralytics.com/assets/Arial.ttf to '/root/.config/Ultralytics/Arial.ttf'...\n"
          ]
        },
        {
          "output_type": "stream",
          "name": "stderr",
          "text": [
            "100%|██████████| 755k/755k [00:00<00:00, 16.3MB/s]"
          ]
        },
        {
          "output_type": "stream",
          "name": "stdout",
          "text": [
            "Overriding model.yaml nc=80 with nc=2\n",
            "\n",
            "                   from  n    params  module                                       arguments                     \n",
            "  0                  -1  1       464  ultralytics.nn.modules.conv.Conv             [3, 16, 3, 2]                 \n",
            "  1                  -1  1      4672  ultralytics.nn.modules.conv.Conv             [16, 32, 3, 2]                \n",
            "  2                  -1  1      7360  ultralytics.nn.modules.block.C2f             [32, 32, 1, True]             \n",
            "  3                  -1  1     18560  ultralytics.nn.modules.conv.Conv             [32, 64, 3, 2]                \n",
            "  4                  -1  2     49664  ultralytics.nn.modules.block.C2f             [64, 64, 2, True]             \n",
            "  5                  -1  1     73984  ultralytics.nn.modules.conv.Conv             [64, 128, 3, 2]               \n",
            "  6                  -1  2    197632  ultralytics.nn.modules.block.C2f             [128, 128, 2, True]           \n",
            "  7                  -1  1    295424  ultralytics.nn.modules.conv.Conv             [128, 256, 3, 2]              \n",
            "  8                  -1  1    460288  ultralytics.nn.modules.block.C2f             [256, 256, 1, True]           \n",
            "  9                  -1  1    164608  ultralytics.nn.modules.block.SPPF            [256, 256, 5]                 \n",
            " 10                  -1  1         0  torch.nn.modules.upsampling.Upsample         [None, 2, 'nearest']          \n",
            " 11             [-1, 6]  1         0  ultralytics.nn.modules.conv.Concat           [1]                           \n",
            " 12                  -1  1    148224  ultralytics.nn.modules.block.C2f             [384, 128, 1]                 \n",
            " 13                  -1  1         0  torch.nn.modules.upsampling.Upsample         [None, 2, 'nearest']          \n",
            " 14             [-1, 4]  1         0  ultralytics.nn.modules.conv.Concat           [1]                           \n",
            " 15                  -1  1     37248  ultralytics.nn.modules.block.C2f             [192, 64, 1]                  \n",
            " 16                  -1  1     36992  ultralytics.nn.modules.conv.Conv             [64, 64, 3, 2]                \n",
            " 17            [-1, 12]  1         0  ultralytics.nn.modules.conv.Concat           [1]                           \n",
            " 18                  -1  1    123648  ultralytics.nn.modules.block.C2f             [192, 128, 1]                 \n",
            " 19                  -1  1    147712  ultralytics.nn.modules.conv.Conv             [128, 128, 3, 2]              \n",
            " 20             [-1, 9]  1         0  ultralytics.nn.modules.conv.Concat           [1]                           \n",
            " 21                  -1  1    493056  ultralytics.nn.modules.block.C2f             [384, 256, 1]                 \n",
            " 22        [15, 18, 21]  1    751702  ultralytics.nn.modules.head.Detect           [2, [64, 128, 256]]           \n"
          ]
        },
        {
          "output_type": "stream",
          "name": "stderr",
          "text": [
            "\n"
          ]
        },
        {
          "output_type": "stream",
          "name": "stdout",
          "text": [
            "Model summary: 129 layers, 3,011,238 parameters, 3,011,222 gradients, 8.2 GFLOPs\n",
            "\n",
            "Transferred 319/355 items from pretrained weights\n",
            "Freezing layer 'model.22.dfl.conv.weight'\n",
            "\u001b[34m\u001b[1mAMP: \u001b[0mrunning Automatic Mixed Precision (AMP) checks...\n",
            "Downloading https://github.com/ultralytics/assets/releases/download/v8.3.0/yolo11n.pt to 'yolo11n.pt'...\n"
          ]
        },
        {
          "output_type": "stream",
          "name": "stderr",
          "text": [
            "100%|██████████| 5.35M/5.35M [00:00<00:00, 98.8MB/s]\n"
          ]
        },
        {
          "output_type": "stream",
          "name": "stdout",
          "text": [
            "\u001b[34m\u001b[1mAMP: \u001b[0mchecks passed ✅\n",
            "\u001b[34m\u001b[1mtrain: \u001b[0mFast image access ✅ (ping: 0.0±0.0 ms, read: 338.7±389.6 MB/s, size: 103.1 KB)\n"
          ]
        },
        {
          "output_type": "stream",
          "name": "stderr",
          "text": [
            "\u001b[34m\u001b[1mtrain: \u001b[0mScanning /content/GP_DATASET/labels/train... 1181 images, 0 backgrounds, 0 corrupt: 100%|██████████| 1181/1181 [00:00<00:00, 1347.63it/s]\n"
          ]
        },
        {
          "output_type": "stream",
          "name": "stdout",
          "text": [
            "\u001b[34m\u001b[1mtrain: \u001b[0mNew cache created: /content/GP_DATASET/labels/train.cache\n",
            "\u001b[34m\u001b[1malbumentations: \u001b[0mBlur(p=0.01, blur_limit=(3, 7)), MedianBlur(p=0.01, blur_limit=(3, 7)), ToGray(p=0.01, method='weighted_average', num_output_channels=3), CLAHE(p=0.01, clip_limit=(1.0, 4.0), tile_grid_size=(8, 8))\n",
            "\u001b[34m\u001b[1mval: \u001b[0mFast image access ✅ (ping: 0.0±0.0 ms, read: 570.1±372.3 MB/s, size: 71.3 KB)\n"
          ]
        },
        {
          "output_type": "stream",
          "name": "stderr",
          "text": [
            "\u001b[34m\u001b[1mval: \u001b[0mScanning /content/GP_DATASET/labels/val... 337 images, 0 backgrounds, 0 corrupt: 100%|██████████| 337/337 [00:00<00:00, 783.05it/s]"
          ]
        },
        {
          "output_type": "stream",
          "name": "stdout",
          "text": [
            "\u001b[34m\u001b[1mval: \u001b[0mNew cache created: /content/GP_DATASET/labels/val.cache\n"
          ]
        },
        {
          "output_type": "stream",
          "name": "stderr",
          "text": [
            "\n"
          ]
        },
        {
          "output_type": "stream",
          "name": "stdout",
          "text": [
            "Plotting labels to bitstone-train/yolov8n-graffiti-pothole/labels.jpg... \n",
            "\u001b[34m\u001b[1moptimizer:\u001b[0m 'optimizer=auto' found, ignoring 'lr0=0.01' and 'momentum=0.937' and determining best 'optimizer', 'lr0' and 'momentum' automatically... \n",
            "\u001b[34m\u001b[1moptimizer:\u001b[0m AdamW(lr=0.001667, momentum=0.9) with parameter groups 57 weight(decay=0.0), 64 weight(decay=0.0005), 63 bias(decay=0.0)\n",
            "Image sizes 640 train, 640 val\n",
            "Using 2 dataloader workers\n",
            "Logging results to \u001b[1mbitstone-train/yolov8n-graffiti-pothole\u001b[0m\n",
            "Starting training for 100 epochs...\n",
            "\n",
            "      Epoch    GPU_mem   box_loss   cls_loss   dfl_loss  Instances       Size\n"
          ]
        },
        {
          "output_type": "stream",
          "name": "stderr",
          "text": [
            "      1/100      2.11G       1.52      2.683      1.425         66        640: 100%|██████████| 74/74 [00:24<00:00,  3.02it/s]\n",
            "                 Class     Images  Instances      Box(P          R      mAP50  mAP50-95): 100%|██████████| 11/11 [00:04<00:00,  2.62it/s]"
          ]
        },
        {
          "output_type": "stream",
          "name": "stdout",
          "text": [
            "                   all        337        824      0.607      0.192      0.293      0.161\n"
          ]
        },
        {
          "output_type": "stream",
          "name": "stderr",
          "text": [
            "\n"
          ]
        },
        {
          "output_type": "stream",
          "name": "stdout",
          "text": [
            "\n",
            "      Epoch    GPU_mem   box_loss   cls_loss   dfl_loss  Instances       Size\n"
          ]
        },
        {
          "output_type": "stream",
          "name": "stderr",
          "text": [
            "      2/100      2.53G      1.534      2.063      1.407         62        640: 100%|██████████| 74/74 [00:21<00:00,  3.38it/s]\n",
            "                 Class     Images  Instances      Box(P          R      mAP50  mAP50-95): 100%|██████████| 11/11 [00:03<00:00,  3.43it/s]\n"
          ]
        },
        {
          "output_type": "stream",
          "name": "stdout",
          "text": [
            "                   all        337        824      0.408      0.343      0.324      0.176\n",
            "\n",
            "      Epoch    GPU_mem   box_loss   cls_loss   dfl_loss  Instances       Size\n"
          ]
        },
        {
          "output_type": "stream",
          "name": "stderr",
          "text": [
            "      3/100      2.54G      1.612      1.996      1.479         37        640: 100%|██████████| 74/74 [00:21<00:00,  3.42it/s]\n",
            "                 Class     Images  Instances      Box(P          R      mAP50  mAP50-95): 100%|██████████| 11/11 [00:03<00:00,  3.52it/s]\n"
          ]
        },
        {
          "output_type": "stream",
          "name": "stdout",
          "text": [
            "                   all        337        824      0.358      0.322      0.262       0.12\n",
            "\n",
            "      Epoch    GPU_mem   box_loss   cls_loss   dfl_loss  Instances       Size\n"
          ]
        },
        {
          "output_type": "stream",
          "name": "stderr",
          "text": [
            "      4/100      2.56G       1.58      1.868      1.447         46        640: 100%|██████████| 74/74 [00:21<00:00,  3.39it/s]\n",
            "                 Class     Images  Instances      Box(P          R      mAP50  mAP50-95): 100%|██████████| 11/11 [00:03<00:00,  3.51it/s]\n"
          ]
        },
        {
          "output_type": "stream",
          "name": "stdout",
          "text": [
            "                   all        337        824      0.378      0.364      0.317      0.151\n",
            "\n",
            "      Epoch    GPU_mem   box_loss   cls_loss   dfl_loss  Instances       Size\n"
          ]
        },
        {
          "output_type": "stream",
          "name": "stderr",
          "text": [
            "      5/100      2.58G      1.619      1.858      1.458         36        640: 100%|██████████| 74/74 [00:21<00:00,  3.46it/s]\n",
            "                 Class     Images  Instances      Box(P          R      mAP50  mAP50-95): 100%|██████████| 11/11 [00:03<00:00,  3.56it/s]\n"
          ]
        },
        {
          "output_type": "stream",
          "name": "stdout",
          "text": [
            "                   all        337        824      0.516      0.423      0.433       0.24\n",
            "\n",
            "      Epoch    GPU_mem   box_loss   cls_loss   dfl_loss  Instances       Size\n"
          ]
        },
        {
          "output_type": "stream",
          "name": "stderr",
          "text": [
            "      6/100      2.59G       1.53       1.71      1.403         68        640: 100%|██████████| 74/74 [00:21<00:00,  3.44it/s]\n",
            "                 Class     Images  Instances      Box(P          R      mAP50  mAP50-95): 100%|██████████| 11/11 [00:02<00:00,  3.69it/s]\n"
          ]
        },
        {
          "output_type": "stream",
          "name": "stdout",
          "text": [
            "                   all        337        824      0.588      0.416      0.469      0.265\n",
            "\n",
            "      Epoch    GPU_mem   box_loss   cls_loss   dfl_loss  Instances       Size\n"
          ]
        },
        {
          "output_type": "stream",
          "name": "stderr",
          "text": [
            "      7/100      2.61G      1.525      1.677      1.411         60        640: 100%|██████████| 74/74 [00:20<00:00,  3.60it/s]\n",
            "                 Class     Images  Instances      Box(P          R      mAP50  mAP50-95): 100%|██████████| 11/11 [00:03<00:00,  2.75it/s]"
          ]
        },
        {
          "output_type": "stream",
          "name": "stdout",
          "text": [
            "                   all        337        824      0.562      0.456      0.468      0.255\n"
          ]
        },
        {
          "output_type": "stream",
          "name": "stderr",
          "text": [
            "\n"
          ]
        },
        {
          "output_type": "stream",
          "name": "stdout",
          "text": [
            "\n",
            "      Epoch    GPU_mem   box_loss   cls_loss   dfl_loss  Instances       Size\n"
          ]
        },
        {
          "output_type": "stream",
          "name": "stderr",
          "text": [
            "      8/100      2.63G      1.515      1.611      1.406         61        640: 100%|██████████| 74/74 [00:20<00:00,  3.68it/s]\n",
            "                 Class     Images  Instances      Box(P          R      mAP50  mAP50-95): 100%|██████████| 11/11 [00:04<00:00,  2.63it/s]\n"
          ]
        },
        {
          "output_type": "stream",
          "name": "stdout",
          "text": [
            "                   all        337        824      0.598       0.43      0.469      0.254\n",
            "\n",
            "      Epoch    GPU_mem   box_loss   cls_loss   dfl_loss  Instances       Size\n"
          ]
        },
        {
          "output_type": "stream",
          "name": "stderr",
          "text": [
            "      9/100      2.64G      1.477      1.555      1.391         47        640: 100%|██████████| 74/74 [00:19<00:00,  3.71it/s]\n",
            "                 Class     Images  Instances      Box(P          R      mAP50  mAP50-95): 100%|██████████| 11/11 [00:03<00:00,  2.94it/s]"
          ]
        },
        {
          "output_type": "stream",
          "name": "stdout",
          "text": [
            "                   all        337        824      0.612      0.462      0.499       0.28\n"
          ]
        },
        {
          "output_type": "stream",
          "name": "stderr",
          "text": [
            "\n"
          ]
        },
        {
          "output_type": "stream",
          "name": "stdout",
          "text": [
            "\n",
            "      Epoch    GPU_mem   box_loss   cls_loss   dfl_loss  Instances       Size\n"
          ]
        },
        {
          "output_type": "stream",
          "name": "stderr",
          "text": [
            "     10/100      2.66G       1.42      1.458      1.345         64        640: 100%|██████████| 74/74 [00:21<00:00,  3.40it/s]\n",
            "                 Class     Images  Instances      Box(P          R      mAP50  mAP50-95): 100%|██████████| 11/11 [00:03<00:00,  2.95it/s]"
          ]
        },
        {
          "output_type": "stream",
          "name": "stdout",
          "text": [
            "                   all        337        824      0.629      0.472       0.53      0.293\n"
          ]
        },
        {
          "output_type": "stream",
          "name": "stderr",
          "text": [
            "\n"
          ]
        },
        {
          "output_type": "stream",
          "name": "stdout",
          "text": [
            "\n",
            "      Epoch    GPU_mem   box_loss   cls_loss   dfl_loss  Instances       Size\n"
          ]
        },
        {
          "output_type": "stream",
          "name": "stderr",
          "text": [
            "     11/100      2.68G      1.426      1.505      1.358         49        640: 100%|██████████| 74/74 [00:20<00:00,  3.62it/s]\n",
            "                 Class     Images  Instances      Box(P          R      mAP50  mAP50-95): 100%|██████████| 11/11 [00:03<00:00,  3.35it/s]"
          ]
        },
        {
          "output_type": "stream",
          "name": "stdout",
          "text": [
            "                   all        337        824       0.64      0.494      0.553      0.326\n"
          ]
        },
        {
          "output_type": "stream",
          "name": "stderr",
          "text": [
            "\n"
          ]
        },
        {
          "output_type": "stream",
          "name": "stdout",
          "text": [
            "\n",
            "      Epoch    GPU_mem   box_loss   cls_loss   dfl_loss  Instances       Size\n"
          ]
        },
        {
          "output_type": "stream",
          "name": "stderr",
          "text": [
            "     12/100      2.69G       1.42      1.437      1.334         45        640: 100%|██████████| 74/74 [00:21<00:00,  3.44it/s]\n",
            "                 Class     Images  Instances      Box(P          R      mAP50  mAP50-95): 100%|██████████| 11/11 [00:02<00:00,  3.78it/s]\n"
          ]
        },
        {
          "output_type": "stream",
          "name": "stdout",
          "text": [
            "                   all        337        824      0.601      0.475      0.519      0.301\n",
            "\n",
            "      Epoch    GPU_mem   box_loss   cls_loss   dfl_loss  Instances       Size\n"
          ]
        },
        {
          "output_type": "stream",
          "name": "stderr",
          "text": [
            "     13/100      2.71G      1.392        1.4       1.32         57        640: 100%|██████████| 74/74 [00:21<00:00,  3.43it/s]\n",
            "                 Class     Images  Instances      Box(P          R      mAP50  mAP50-95): 100%|██████████| 11/11 [00:03<00:00,  3.65it/s]\n"
          ]
        },
        {
          "output_type": "stream",
          "name": "stdout",
          "text": [
            "                   all        337        824      0.602      0.524      0.556      0.334\n",
            "\n",
            "      Epoch    GPU_mem   box_loss   cls_loss   dfl_loss  Instances       Size\n"
          ]
        },
        {
          "output_type": "stream",
          "name": "stderr",
          "text": [
            "     14/100      2.73G      1.419      1.424      1.338         54        640: 100%|██████████| 74/74 [00:21<00:00,  3.38it/s]\n",
            "                 Class     Images  Instances      Box(P          R      mAP50  mAP50-95): 100%|██████████| 11/11 [00:03<00:00,  3.59it/s]"
          ]
        },
        {
          "output_type": "stream",
          "name": "stdout",
          "text": [
            "                   all        337        824       0.63      0.537      0.577      0.334\n"
          ]
        },
        {
          "output_type": "stream",
          "name": "stderr",
          "text": [
            "\n"
          ]
        },
        {
          "output_type": "stream",
          "name": "stdout",
          "text": [
            "\n",
            "      Epoch    GPU_mem   box_loss   cls_loss   dfl_loss  Instances       Size\n"
          ]
        },
        {
          "output_type": "stream",
          "name": "stderr",
          "text": [
            "     15/100      2.75G      1.368      1.373      1.311         99        640: 100%|██████████| 74/74 [00:21<00:00,  3.41it/s]\n",
            "                 Class     Images  Instances      Box(P          R      mAP50  mAP50-95): 100%|██████████| 11/11 [00:02<00:00,  3.75it/s]\n"
          ]
        },
        {
          "output_type": "stream",
          "name": "stdout",
          "text": [
            "                   all        337        824      0.678      0.544      0.593       0.34\n",
            "\n",
            "      Epoch    GPU_mem   box_loss   cls_loss   dfl_loss  Instances       Size\n"
          ]
        },
        {
          "output_type": "stream",
          "name": "stderr",
          "text": [
            "     16/100      2.76G      1.383      1.356      1.309         35        640: 100%|██████████| 74/74 [00:22<00:00,  3.34it/s]\n",
            "                 Class     Images  Instances      Box(P          R      mAP50  mAP50-95): 100%|██████████| 11/11 [00:03<00:00,  3.65it/s]"
          ]
        },
        {
          "output_type": "stream",
          "name": "stdout",
          "text": [
            "                   all        337        824      0.713      0.512      0.589      0.356\n"
          ]
        },
        {
          "output_type": "stream",
          "name": "stderr",
          "text": [
            "\n"
          ]
        },
        {
          "output_type": "stream",
          "name": "stdout",
          "text": [
            "\n",
            "      Epoch    GPU_mem   box_loss   cls_loss   dfl_loss  Instances       Size\n"
          ]
        },
        {
          "output_type": "stream",
          "name": "stderr",
          "text": [
            "     17/100      2.78G      1.373      1.323      1.298         67        640: 100%|██████████| 74/74 [00:21<00:00,  3.37it/s]\n",
            "                 Class     Images  Instances      Box(P          R      mAP50  mAP50-95): 100%|██████████| 11/11 [00:03<00:00,  3.42it/s]"
          ]
        },
        {
          "output_type": "stream",
          "name": "stdout",
          "text": [
            "                   all        337        824      0.656      0.501      0.553      0.324\n"
          ]
        },
        {
          "output_type": "stream",
          "name": "stderr",
          "text": [
            "\n"
          ]
        },
        {
          "output_type": "stream",
          "name": "stdout",
          "text": [
            "\n",
            "      Epoch    GPU_mem   box_loss   cls_loss   dfl_loss  Instances       Size\n"
          ]
        },
        {
          "output_type": "stream",
          "name": "stderr",
          "text": [
            "     18/100      2.79G       1.34      1.296      1.288         34        640: 100%|██████████| 74/74 [00:21<00:00,  3.40it/s]\n",
            "                 Class     Images  Instances      Box(P          R      mAP50  mAP50-95): 100%|██████████| 11/11 [00:02<00:00,  3.70it/s]\n"
          ]
        },
        {
          "output_type": "stream",
          "name": "stdout",
          "text": [
            "                   all        337        824      0.676      0.528      0.605      0.359\n",
            "\n",
            "      Epoch    GPU_mem   box_loss   cls_loss   dfl_loss  Instances       Size\n"
          ]
        },
        {
          "output_type": "stream",
          "name": "stderr",
          "text": [
            "     19/100      2.81G      1.352      1.275      1.288         56        640: 100%|██████████| 74/74 [00:21<00:00,  3.47it/s]\n",
            "                 Class     Images  Instances      Box(P          R      mAP50  mAP50-95): 100%|██████████| 11/11 [00:03<00:00,  3.60it/s]\n"
          ]
        },
        {
          "output_type": "stream",
          "name": "stdout",
          "text": [
            "                   all        337        824      0.645      0.537        0.6      0.364\n",
            "\n",
            "      Epoch    GPU_mem   box_loss   cls_loss   dfl_loss  Instances       Size\n"
          ]
        },
        {
          "output_type": "stream",
          "name": "stderr",
          "text": [
            "     20/100      2.83G      1.315      1.237      1.278         60        640: 100%|██████████| 74/74 [00:20<00:00,  3.53it/s]\n",
            "                 Class     Images  Instances      Box(P          R      mAP50  mAP50-95): 100%|██████████| 11/11 [00:03<00:00,  2.83it/s]"
          ]
        },
        {
          "output_type": "stream",
          "name": "stdout",
          "text": [
            "                   all        337        824      0.612      0.526      0.559      0.325\n"
          ]
        },
        {
          "output_type": "stream",
          "name": "stderr",
          "text": [
            "\n"
          ]
        },
        {
          "output_type": "stream",
          "name": "stdout",
          "text": [
            "\n",
            "      Epoch    GPU_mem   box_loss   cls_loss   dfl_loss  Instances       Size\n"
          ]
        },
        {
          "output_type": "stream",
          "name": "stderr",
          "text": [
            "     21/100      2.85G      1.302       1.19      1.264         42        640: 100%|██████████| 74/74 [00:20<00:00,  3.63it/s]\n",
            "                 Class     Images  Instances      Box(P          R      mAP50  mAP50-95): 100%|██████████| 11/11 [00:04<00:00,  2.59it/s]"
          ]
        },
        {
          "output_type": "stream",
          "name": "stdout",
          "text": [
            "                   all        337        824      0.663      0.562      0.613      0.366\n"
          ]
        },
        {
          "output_type": "stream",
          "name": "stderr",
          "text": [
            "\n"
          ]
        },
        {
          "output_type": "stream",
          "name": "stdout",
          "text": [
            "\n",
            "      Epoch    GPU_mem   box_loss   cls_loss   dfl_loss  Instances       Size\n"
          ]
        },
        {
          "output_type": "stream",
          "name": "stderr",
          "text": [
            "     22/100      2.86G      1.296      1.226      1.257         66        640: 100%|██████████| 74/74 [00:20<00:00,  3.69it/s]\n",
            "                 Class     Images  Instances      Box(P          R      mAP50  mAP50-95): 100%|██████████| 11/11 [00:04<00:00,  2.61it/s]\n"
          ]
        },
        {
          "output_type": "stream",
          "name": "stdout",
          "text": [
            "                   all        337        824      0.689      0.561      0.627      0.393\n",
            "\n",
            "      Epoch    GPU_mem   box_loss   cls_loss   dfl_loss  Instances       Size\n"
          ]
        },
        {
          "output_type": "stream",
          "name": "stderr",
          "text": [
            "     23/100      2.88G      1.281      1.194      1.256         76        640: 100%|██████████| 74/74 [00:20<00:00,  3.63it/s]\n",
            "                 Class     Images  Instances      Box(P          R      mAP50  mAP50-95): 100%|██████████| 11/11 [00:03<00:00,  3.08it/s]"
          ]
        },
        {
          "output_type": "stream",
          "name": "stdout",
          "text": [
            "                   all        337        824      0.698      0.538      0.608      0.367\n"
          ]
        },
        {
          "output_type": "stream",
          "name": "stderr",
          "text": [
            "\n"
          ]
        },
        {
          "output_type": "stream",
          "name": "stdout",
          "text": [
            "\n",
            "      Epoch    GPU_mem   box_loss   cls_loss   dfl_loss  Instances       Size\n"
          ]
        },
        {
          "output_type": "stream",
          "name": "stderr",
          "text": [
            "     24/100       2.9G      1.268      1.181      1.246         42        640: 100%|██████████| 74/74 [00:20<00:00,  3.61it/s]\n",
            "                 Class     Images  Instances      Box(P          R      mAP50  mAP50-95): 100%|██████████| 11/11 [00:02<00:00,  3.79it/s]"
          ]
        },
        {
          "output_type": "stream",
          "name": "stdout",
          "text": [
            "                   all        337        824      0.726      0.529      0.603      0.372\n"
          ]
        },
        {
          "output_type": "stream",
          "name": "stderr",
          "text": [
            "\n"
          ]
        },
        {
          "output_type": "stream",
          "name": "stdout",
          "text": [
            "\n",
            "      Epoch    GPU_mem   box_loss   cls_loss   dfl_loss  Instances       Size\n"
          ]
        },
        {
          "output_type": "stream",
          "name": "stderr",
          "text": [
            "     25/100      2.92G        1.3      1.179      1.272         56        640: 100%|██████████| 74/74 [00:21<00:00,  3.47it/s]\n",
            "                 Class     Images  Instances      Box(P          R      mAP50  mAP50-95): 100%|██████████| 11/11 [00:03<00:00,  3.62it/s]\n"
          ]
        },
        {
          "output_type": "stream",
          "name": "stdout",
          "text": [
            "                   all        337        824      0.644      0.555      0.602      0.362\n",
            "\n",
            "      Epoch    GPU_mem   box_loss   cls_loss   dfl_loss  Instances       Size\n"
          ]
        },
        {
          "output_type": "stream",
          "name": "stderr",
          "text": [
            "     26/100      2.93G      1.279       1.17      1.259         89        640: 100%|██████████| 74/74 [00:22<00:00,  3.26it/s]\n",
            "                 Class     Images  Instances      Box(P          R      mAP50  mAP50-95): 100%|██████████| 11/11 [00:02<00:00,  3.83it/s]"
          ]
        },
        {
          "output_type": "stream",
          "name": "stdout",
          "text": [
            "                   all        337        824      0.698      0.519      0.597      0.369\n"
          ]
        },
        {
          "output_type": "stream",
          "name": "stderr",
          "text": [
            "\n"
          ]
        },
        {
          "output_type": "stream",
          "name": "stdout",
          "text": [
            "\n",
            "      Epoch    GPU_mem   box_loss   cls_loss   dfl_loss  Instances       Size\n"
          ]
        },
        {
          "output_type": "stream",
          "name": "stderr",
          "text": [
            "     27/100      2.95G      1.236      1.113      1.222         75        640: 100%|██████████| 74/74 [00:21<00:00,  3.52it/s]\n",
            "                 Class     Images  Instances      Box(P          R      mAP50  mAP50-95): 100%|██████████| 11/11 [00:03<00:00,  3.54it/s]"
          ]
        },
        {
          "output_type": "stream",
          "name": "stdout",
          "text": [
            "                   all        337        824      0.728      0.557      0.634      0.378\n"
          ]
        },
        {
          "output_type": "stream",
          "name": "stderr",
          "text": [
            "\n"
          ]
        },
        {
          "output_type": "stream",
          "name": "stdout",
          "text": [
            "\n",
            "      Epoch    GPU_mem   box_loss   cls_loss   dfl_loss  Instances       Size\n"
          ]
        },
        {
          "output_type": "stream",
          "name": "stderr",
          "text": [
            "     28/100      2.96G      1.232      1.116      1.226         78        640: 100%|██████████| 74/74 [00:21<00:00,  3.46it/s]\n",
            "                 Class     Images  Instances      Box(P          R      mAP50  mAP50-95): 100%|██████████| 11/11 [00:03<00:00,  3.66it/s]"
          ]
        },
        {
          "output_type": "stream",
          "name": "stdout",
          "text": [
            "                   all        337        824      0.737       0.55      0.639      0.399\n"
          ]
        },
        {
          "output_type": "stream",
          "name": "stderr",
          "text": [
            "\n"
          ]
        },
        {
          "output_type": "stream",
          "name": "stdout",
          "text": [
            "\n",
            "      Epoch    GPU_mem   box_loss   cls_loss   dfl_loss  Instances       Size\n"
          ]
        },
        {
          "output_type": "stream",
          "name": "stderr",
          "text": [
            "     29/100      2.98G      1.251       1.14      1.236         61        640: 100%|██████████| 74/74 [00:21<00:00,  3.48it/s]\n",
            "                 Class     Images  Instances      Box(P          R      mAP50  mAP50-95): 100%|██████████| 11/11 [00:02<00:00,  3.69it/s]"
          ]
        },
        {
          "output_type": "stream",
          "name": "stdout",
          "text": [
            "                   all        337        824      0.792      0.506      0.635      0.393\n"
          ]
        },
        {
          "output_type": "stream",
          "name": "stderr",
          "text": [
            "\n"
          ]
        },
        {
          "output_type": "stream",
          "name": "stdout",
          "text": [
            "\n",
            "      Epoch    GPU_mem   box_loss   cls_loss   dfl_loss  Instances       Size\n"
          ]
        },
        {
          "output_type": "stream",
          "name": "stderr",
          "text": [
            "     30/100         3G      1.214      1.098      1.221         56        640: 100%|██████████| 74/74 [00:21<00:00,  3.48it/s]\n",
            "                 Class     Images  Instances      Box(P          R      mAP50  mAP50-95): 100%|██████████| 11/11 [00:03<00:00,  3.60it/s]\n"
          ]
        },
        {
          "output_type": "stream",
          "name": "stdout",
          "text": [
            "                   all        337        824       0.74      0.553      0.639       0.39\n",
            "\n",
            "      Epoch    GPU_mem   box_loss   cls_loss   dfl_loss  Instances       Size\n"
          ]
        },
        {
          "output_type": "stream",
          "name": "stderr",
          "text": [
            "     31/100      3.02G      1.223      1.119       1.22         63        640: 100%|██████████| 74/74 [00:19<00:00,  3.72it/s]\n",
            "                 Class     Images  Instances      Box(P          R      mAP50  mAP50-95): 100%|██████████| 11/11 [00:04<00:00,  2.64it/s]\n"
          ]
        },
        {
          "output_type": "stream",
          "name": "stdout",
          "text": [
            "                   all        337        824      0.676      0.592      0.642      0.403\n",
            "\n",
            "      Epoch    GPU_mem   box_loss   cls_loss   dfl_loss  Instances       Size\n"
          ]
        },
        {
          "output_type": "stream",
          "name": "stderr",
          "text": [
            "     32/100      3.03G      1.233      1.098      1.233         67        640: 100%|██████████| 74/74 [00:19<00:00,  3.74it/s]\n",
            "                 Class     Images  Instances      Box(P          R      mAP50  mAP50-95): 100%|██████████| 11/11 [00:04<00:00,  2.65it/s]"
          ]
        },
        {
          "output_type": "stream",
          "name": "stdout",
          "text": [
            "                   all        337        824      0.749      0.542      0.623      0.386\n"
          ]
        },
        {
          "output_type": "stream",
          "name": "stderr",
          "text": [
            "\n"
          ]
        },
        {
          "output_type": "stream",
          "name": "stdout",
          "text": [
            "\n",
            "      Epoch    GPU_mem   box_loss   cls_loss   dfl_loss  Instances       Size\n"
          ]
        },
        {
          "output_type": "stream",
          "name": "stderr",
          "text": [
            "     33/100      3.05G      1.196      1.071      1.205         73        640: 100%|██████████| 74/74 [00:19<00:00,  3.75it/s]\n",
            "                 Class     Images  Instances      Box(P          R      mAP50  mAP50-95): 100%|██████████| 11/11 [00:03<00:00,  3.16it/s]"
          ]
        },
        {
          "output_type": "stream",
          "name": "stdout",
          "text": [
            "                   all        337        824      0.729      0.554      0.635      0.393\n"
          ]
        },
        {
          "output_type": "stream",
          "name": "stderr",
          "text": [
            "\n"
          ]
        },
        {
          "output_type": "stream",
          "name": "stdout",
          "text": [
            "\n",
            "      Epoch    GPU_mem   box_loss   cls_loss   dfl_loss  Instances       Size\n"
          ]
        },
        {
          "output_type": "stream",
          "name": "stderr",
          "text": [
            "     34/100      3.07G      1.201      1.071      1.202         62        640: 100%|██████████| 74/74 [00:20<00:00,  3.68it/s]\n",
            "                 Class     Images  Instances      Box(P          R      mAP50  mAP50-95): 100%|██████████| 11/11 [00:03<00:00,  3.48it/s]\n"
          ]
        },
        {
          "output_type": "stream",
          "name": "stdout",
          "text": [
            "                   all        337        824      0.733      0.594      0.659      0.412\n",
            "\n",
            "      Epoch    GPU_mem   box_loss   cls_loss   dfl_loss  Instances       Size\n"
          ]
        },
        {
          "output_type": "stream",
          "name": "stderr",
          "text": [
            "     35/100      3.09G      1.193      1.049      1.195         44        640: 100%|██████████| 74/74 [00:21<00:00,  3.51it/s]\n",
            "                 Class     Images  Instances      Box(P          R      mAP50  mAP50-95): 100%|██████████| 11/11 [00:03<00:00,  3.45it/s]"
          ]
        },
        {
          "output_type": "stream",
          "name": "stdout",
          "text": [
            "                   all        337        824      0.671      0.604      0.664      0.421\n"
          ]
        },
        {
          "output_type": "stream",
          "name": "stderr",
          "text": [
            "\n"
          ]
        },
        {
          "output_type": "stream",
          "name": "stdout",
          "text": [
            "\n",
            "      Epoch    GPU_mem   box_loss   cls_loss   dfl_loss  Instances       Size\n"
          ]
        },
        {
          "output_type": "stream",
          "name": "stderr",
          "text": [
            "     36/100       3.1G      1.176      1.058      1.207         49        640: 100%|██████████| 74/74 [00:21<00:00,  3.50it/s]\n",
            "                 Class     Images  Instances      Box(P          R      mAP50  mAP50-95): 100%|██████████| 11/11 [00:02<00:00,  3.84it/s]\n"
          ]
        },
        {
          "output_type": "stream",
          "name": "stdout",
          "text": [
            "                   all        337        824      0.741       0.55      0.635      0.406\n",
            "\n",
            "      Epoch    GPU_mem   box_loss   cls_loss   dfl_loss  Instances       Size\n"
          ]
        },
        {
          "output_type": "stream",
          "name": "stderr",
          "text": [
            "     37/100      3.12G      1.138     0.9842      1.166         47        640: 100%|██████████| 74/74 [00:21<00:00,  3.52it/s]\n",
            "                 Class     Images  Instances      Box(P          R      mAP50  mAP50-95): 100%|██████████| 11/11 [00:03<00:00,  3.61it/s]"
          ]
        },
        {
          "output_type": "stream",
          "name": "stdout",
          "text": [
            "                   all        337        824      0.674      0.579      0.626      0.392\n"
          ]
        },
        {
          "output_type": "stream",
          "name": "stderr",
          "text": [
            "\n"
          ]
        },
        {
          "output_type": "stream",
          "name": "stdout",
          "text": [
            "\n",
            "      Epoch    GPU_mem   box_loss   cls_loss   dfl_loss  Instances       Size\n"
          ]
        },
        {
          "output_type": "stream",
          "name": "stderr",
          "text": [
            "     38/100      3.14G      1.193      1.043      1.199         89        640: 100%|██████████| 74/74 [00:21<00:00,  3.46it/s]\n",
            "                 Class     Images  Instances      Box(P          R      mAP50  mAP50-95): 100%|██████████| 11/11 [00:03<00:00,  3.56it/s]"
          ]
        },
        {
          "output_type": "stream",
          "name": "stdout",
          "text": [
            "                   all        337        824      0.761      0.572      0.654      0.409\n"
          ]
        },
        {
          "output_type": "stream",
          "name": "stderr",
          "text": [
            "\n"
          ]
        },
        {
          "output_type": "stream",
          "name": "stdout",
          "text": [
            "\n",
            "      Epoch    GPU_mem   box_loss   cls_loss   dfl_loss  Instances       Size\n"
          ]
        },
        {
          "output_type": "stream",
          "name": "stderr",
          "text": [
            "     39/100      3.15G      1.181     0.9918      1.193         53        640: 100%|██████████| 74/74 [00:20<00:00,  3.64it/s]\n",
            "                 Class     Images  Instances      Box(P          R      mAP50  mAP50-95): 100%|██████████| 11/11 [00:03<00:00,  2.90it/s]"
          ]
        },
        {
          "output_type": "stream",
          "name": "stdout",
          "text": [
            "                   all        337        824      0.733      0.596      0.666       0.42\n"
          ]
        },
        {
          "output_type": "stream",
          "name": "stderr",
          "text": [
            "\n"
          ]
        },
        {
          "output_type": "stream",
          "name": "stdout",
          "text": [
            "\n",
            "      Epoch    GPU_mem   box_loss   cls_loss   dfl_loss  Instances       Size\n"
          ]
        },
        {
          "output_type": "stream",
          "name": "stderr",
          "text": [
            "     40/100      3.17G      1.171     0.9954      1.178         59        640: 100%|██████████| 74/74 [00:20<00:00,  3.65it/s]\n",
            "                 Class     Images  Instances      Box(P          R      mAP50  mAP50-95): 100%|██████████| 11/11 [00:04<00:00,  2.73it/s]"
          ]
        },
        {
          "output_type": "stream",
          "name": "stdout",
          "text": [
            "                   all        337        824      0.712      0.602      0.654      0.414\n"
          ]
        },
        {
          "output_type": "stream",
          "name": "stderr",
          "text": [
            "\n"
          ]
        },
        {
          "output_type": "stream",
          "name": "stdout",
          "text": [
            "\n",
            "      Epoch    GPU_mem   box_loss   cls_loss   dfl_loss  Instances       Size\n"
          ]
        },
        {
          "output_type": "stream",
          "name": "stderr",
          "text": [
            "     41/100      3.19G       1.15     0.9698      1.175         87        640: 100%|██████████| 74/74 [00:20<00:00,  3.68it/s]\n",
            "                 Class     Images  Instances      Box(P          R      mAP50  mAP50-95): 100%|██████████| 11/11 [00:03<00:00,  2.80it/s]"
          ]
        },
        {
          "output_type": "stream",
          "name": "stdout",
          "text": [
            "                   all        337        824      0.698      0.596       0.65      0.396\n"
          ]
        },
        {
          "output_type": "stream",
          "name": "stderr",
          "text": [
            "\n"
          ]
        },
        {
          "output_type": "stream",
          "name": "stdout",
          "text": [
            "\n",
            "      Epoch    GPU_mem   box_loss   cls_loss   dfl_loss  Instances       Size\n"
          ]
        },
        {
          "output_type": "stream",
          "name": "stderr",
          "text": [
            "     42/100       3.2G       1.14     0.9662      1.156         49        640: 100%|██████████| 74/74 [00:20<00:00,  3.64it/s]\n",
            "                 Class     Images  Instances      Box(P          R      mAP50  mAP50-95): 100%|██████████| 11/11 [00:04<00:00,  2.30it/s]"
          ]
        },
        {
          "output_type": "stream",
          "name": "stdout",
          "text": [
            "                   all        337        824       0.81      0.541      0.674      0.431\n"
          ]
        },
        {
          "output_type": "stream",
          "name": "stderr",
          "text": [
            "\n"
          ]
        },
        {
          "output_type": "stream",
          "name": "stdout",
          "text": [
            "\n",
            "      Epoch    GPU_mem   box_loss   cls_loss   dfl_loss  Instances       Size\n"
          ]
        },
        {
          "output_type": "stream",
          "name": "stderr",
          "text": [
            "     43/100      3.22G      1.151     0.9463      1.164         47        640: 100%|██████████| 74/74 [00:20<00:00,  3.64it/s]\n",
            "                 Class     Images  Instances      Box(P          R      mAP50  mAP50-95): 100%|██████████| 11/11 [00:03<00:00,  3.58it/s]"
          ]
        },
        {
          "output_type": "stream",
          "name": "stdout",
          "text": [
            "                   all        337        824      0.767      0.546      0.661      0.413\n"
          ]
        },
        {
          "output_type": "stream",
          "name": "stderr",
          "text": [
            "\n"
          ]
        },
        {
          "output_type": "stream",
          "name": "stdout",
          "text": [
            "\n",
            "      Epoch    GPU_mem   box_loss   cls_loss   dfl_loss  Instances       Size\n"
          ]
        },
        {
          "output_type": "stream",
          "name": "stderr",
          "text": [
            "     44/100      3.24G      1.151     0.9663      1.173         96        640: 100%|██████████| 74/74 [00:20<00:00,  3.53it/s]\n",
            "                 Class     Images  Instances      Box(P          R      mAP50  mAP50-95): 100%|██████████| 11/11 [00:02<00:00,  3.72it/s]\n"
          ]
        },
        {
          "output_type": "stream",
          "name": "stdout",
          "text": [
            "                   all        337        824      0.734       0.59      0.671      0.423\n",
            "\n",
            "      Epoch    GPU_mem   box_loss   cls_loss   dfl_loss  Instances       Size\n"
          ]
        },
        {
          "output_type": "stream",
          "name": "stderr",
          "text": [
            "     45/100      3.26G      1.148     0.9711      1.173         70        640: 100%|██████████| 74/74 [00:20<00:00,  3.53it/s]\n",
            "                 Class     Images  Instances      Box(P          R      mAP50  mAP50-95): 100%|██████████| 11/11 [00:03<00:00,  3.58it/s]"
          ]
        },
        {
          "output_type": "stream",
          "name": "stdout",
          "text": [
            "                   all        337        824       0.73      0.569      0.644      0.405\n"
          ]
        },
        {
          "output_type": "stream",
          "name": "stderr",
          "text": [
            "\n"
          ]
        },
        {
          "output_type": "stream",
          "name": "stdout",
          "text": [
            "\n",
            "      Epoch    GPU_mem   box_loss   cls_loss   dfl_loss  Instances       Size\n"
          ]
        },
        {
          "output_type": "stream",
          "name": "stderr",
          "text": [
            "     46/100      3.27G      1.134     0.9506      1.163         67        640: 100%|██████████| 74/74 [00:21<00:00,  3.49it/s]\n",
            "                 Class     Images  Instances      Box(P          R      mAP50  mAP50-95): 100%|██████████| 11/11 [00:02<00:00,  3.92it/s]"
          ]
        },
        {
          "output_type": "stream",
          "name": "stdout",
          "text": [
            "                   all        337        824      0.729      0.595      0.667      0.441\n"
          ]
        },
        {
          "output_type": "stream",
          "name": "stderr",
          "text": [
            "\n"
          ]
        },
        {
          "output_type": "stream",
          "name": "stdout",
          "text": [
            "\n",
            "      Epoch    GPU_mem   box_loss   cls_loss   dfl_loss  Instances       Size\n"
          ]
        },
        {
          "output_type": "stream",
          "name": "stderr",
          "text": [
            "     47/100      3.29G      1.113     0.9439      1.156         59        640: 100%|██████████| 74/74 [00:21<00:00,  3.49it/s]\n",
            "                 Class     Images  Instances      Box(P          R      mAP50  mAP50-95): 100%|██████████| 11/11 [00:02<00:00,  3.68it/s]\n"
          ]
        },
        {
          "output_type": "stream",
          "name": "stdout",
          "text": [
            "                   all        337        824      0.744      0.595      0.664      0.425\n",
            "\n",
            "      Epoch    GPU_mem   box_loss   cls_loss   dfl_loss  Instances       Size\n"
          ]
        },
        {
          "output_type": "stream",
          "name": "stderr",
          "text": [
            "     48/100      3.31G      1.089     0.9007      1.144         57        640: 100%|██████████| 74/74 [00:21<00:00,  3.49it/s]\n",
            "                 Class     Images  Instances      Box(P          R      mAP50  mAP50-95): 100%|██████████| 11/11 [00:03<00:00,  3.54it/s]"
          ]
        },
        {
          "output_type": "stream",
          "name": "stdout",
          "text": [
            "                   all        337        824      0.792      0.568      0.684      0.437\n"
          ]
        },
        {
          "output_type": "stream",
          "name": "stderr",
          "text": [
            "\n"
          ]
        },
        {
          "output_type": "stream",
          "name": "stdout",
          "text": [
            "\n",
            "      Epoch    GPU_mem   box_loss   cls_loss   dfl_loss  Instances       Size\n"
          ]
        },
        {
          "output_type": "stream",
          "name": "stderr",
          "text": [
            "     49/100      3.32G      1.118     0.9194      1.156         50        640: 100%|██████████| 74/74 [00:20<00:00,  3.62it/s]\n",
            "                 Class     Images  Instances      Box(P          R      mAP50  mAP50-95): 100%|██████████| 11/11 [00:03<00:00,  3.02it/s]\n"
          ]
        },
        {
          "output_type": "stream",
          "name": "stdout",
          "text": [
            "                   all        337        824       0.73      0.624      0.696      0.453\n",
            "\n",
            "      Epoch    GPU_mem   box_loss   cls_loss   dfl_loss  Instances       Size\n"
          ]
        },
        {
          "output_type": "stream",
          "name": "stderr",
          "text": [
            "     50/100      3.34G      1.105     0.9002      1.147         51        640: 100%|██████████| 74/74 [00:20<00:00,  3.66it/s]\n",
            "                 Class     Images  Instances      Box(P          R      mAP50  mAP50-95): 100%|██████████| 11/11 [00:03<00:00,  2.83it/s]"
          ]
        },
        {
          "output_type": "stream",
          "name": "stdout",
          "text": [
            "                   all        337        824      0.785      0.583      0.672      0.433\n"
          ]
        },
        {
          "output_type": "stream",
          "name": "stderr",
          "text": [
            "\n"
          ]
        },
        {
          "output_type": "stream",
          "name": "stdout",
          "text": [
            "\n",
            "      Epoch    GPU_mem   box_loss   cls_loss   dfl_loss  Instances       Size\n"
          ]
        },
        {
          "output_type": "stream",
          "name": "stderr",
          "text": [
            "     51/100      3.36G      1.124     0.9058      1.152         43        640: 100%|██████████| 74/74 [00:19<00:00,  3.71it/s]\n",
            "                 Class     Images  Instances      Box(P          R      mAP50  mAP50-95): 100%|██████████| 11/11 [00:03<00:00,  2.89it/s]"
          ]
        },
        {
          "output_type": "stream",
          "name": "stdout",
          "text": [
            "                   all        337        824       0.77       0.58       0.68      0.438\n"
          ]
        },
        {
          "output_type": "stream",
          "name": "stderr",
          "text": [
            "\n"
          ]
        },
        {
          "output_type": "stream",
          "name": "stdout",
          "text": [
            "\n",
            "      Epoch    GPU_mem   box_loss   cls_loss   dfl_loss  Instances       Size\n"
          ]
        },
        {
          "output_type": "stream",
          "name": "stderr",
          "text": [
            "     52/100      3.38G      1.099     0.8862      1.143         46        640: 100%|██████████| 74/74 [00:20<00:00,  3.65it/s]\n",
            "                 Class     Images  Instances      Box(P          R      mAP50  mAP50-95): 100%|██████████| 11/11 [00:03<00:00,  3.41it/s]"
          ]
        },
        {
          "output_type": "stream",
          "name": "stdout",
          "text": [
            "                   all        337        824       0.77      0.584      0.687      0.441\n"
          ]
        },
        {
          "output_type": "stream",
          "name": "stderr",
          "text": [
            "\n"
          ]
        },
        {
          "output_type": "stream",
          "name": "stdout",
          "text": [
            "\n",
            "      Epoch    GPU_mem   box_loss   cls_loss   dfl_loss  Instances       Size\n"
          ]
        },
        {
          "output_type": "stream",
          "name": "stderr",
          "text": [
            "     53/100      3.39G      1.069     0.8806      1.125         98        640: 100%|██████████| 74/74 [00:20<00:00,  3.57it/s]\n",
            "                 Class     Images  Instances      Box(P          R      mAP50  mAP50-95): 100%|██████████| 11/11 [00:03<00:00,  3.45it/s]"
          ]
        },
        {
          "output_type": "stream",
          "name": "stdout",
          "text": [
            "                   all        337        824      0.781      0.583      0.679       0.44\n"
          ]
        },
        {
          "output_type": "stream",
          "name": "stderr",
          "text": [
            "\n"
          ]
        },
        {
          "output_type": "stream",
          "name": "stdout",
          "text": [
            "\n",
            "      Epoch    GPU_mem   box_loss   cls_loss   dfl_loss  Instances       Size\n"
          ]
        },
        {
          "output_type": "stream",
          "name": "stderr",
          "text": [
            "     54/100      3.41G      1.099     0.8921      1.137         56        640: 100%|██████████| 74/74 [00:21<00:00,  3.45it/s]\n",
            "                 Class     Images  Instances      Box(P          R      mAP50  mAP50-95): 100%|██████████| 11/11 [00:03<00:00,  3.46it/s]"
          ]
        },
        {
          "output_type": "stream",
          "name": "stdout",
          "text": [
            "                   all        337        824      0.785      0.582      0.676      0.441\n"
          ]
        },
        {
          "output_type": "stream",
          "name": "stderr",
          "text": [
            "\n"
          ]
        },
        {
          "output_type": "stream",
          "name": "stdout",
          "text": [
            "\n",
            "      Epoch    GPU_mem   box_loss   cls_loss   dfl_loss  Instances       Size\n"
          ]
        },
        {
          "output_type": "stream",
          "name": "stderr",
          "text": [
            "     55/100      3.43G      1.098     0.8803      1.138         68        640: 100%|██████████| 74/74 [00:21<00:00,  3.46it/s]\n",
            "                 Class     Images  Instances      Box(P          R      mAP50  mAP50-95): 100%|██████████| 11/11 [00:02<00:00,  3.68it/s]"
          ]
        },
        {
          "output_type": "stream",
          "name": "stdout",
          "text": [
            "                   all        337        824      0.753      0.592      0.678      0.432\n"
          ]
        },
        {
          "output_type": "stream",
          "name": "stderr",
          "text": [
            "\n"
          ]
        },
        {
          "output_type": "stream",
          "name": "stdout",
          "text": [
            "\n",
            "      Epoch    GPU_mem   box_loss   cls_loss   dfl_loss  Instances       Size\n"
          ]
        },
        {
          "output_type": "stream",
          "name": "stderr",
          "text": [
            "     56/100      3.44G      1.075      0.852      1.125         43        640: 100%|██████████| 74/74 [00:21<00:00,  3.48it/s]\n",
            "                 Class     Images  Instances      Box(P          R      mAP50  mAP50-95): 100%|██████████| 11/11 [00:02<00:00,  3.68it/s]"
          ]
        },
        {
          "output_type": "stream",
          "name": "stdout",
          "text": [
            "                   all        337        824      0.756      0.607      0.685      0.434\n"
          ]
        },
        {
          "output_type": "stream",
          "name": "stderr",
          "text": [
            "\n"
          ]
        },
        {
          "output_type": "stream",
          "name": "stdout",
          "text": [
            "\n",
            "      Epoch    GPU_mem   box_loss   cls_loss   dfl_loss  Instances       Size\n"
          ]
        },
        {
          "output_type": "stream",
          "name": "stderr",
          "text": [
            "     57/100      3.46G      1.075     0.8635      1.128         53        640: 100%|██████████| 74/74 [00:22<00:00,  3.26it/s]\n",
            "                 Class     Images  Instances      Box(P          R      mAP50  mAP50-95): 100%|██████████| 11/11 [00:02<00:00,  3.71it/s]"
          ]
        },
        {
          "output_type": "stream",
          "name": "stdout",
          "text": [
            "                   all        337        824      0.746      0.601      0.697      0.445\n"
          ]
        },
        {
          "output_type": "stream",
          "name": "stderr",
          "text": [
            "\n"
          ]
        },
        {
          "output_type": "stream",
          "name": "stdout",
          "text": [
            "\n",
            "      Epoch    GPU_mem   box_loss   cls_loss   dfl_loss  Instances       Size\n"
          ]
        },
        {
          "output_type": "stream",
          "name": "stderr",
          "text": [
            "     58/100      3.48G       1.07     0.8487      1.109         62        640: 100%|██████████| 74/74 [00:21<00:00,  3.45it/s]\n",
            "                 Class     Images  Instances      Box(P          R      mAP50  mAP50-95): 100%|██████████| 11/11 [00:02<00:00,  3.84it/s]\n"
          ]
        },
        {
          "output_type": "stream",
          "name": "stdout",
          "text": [
            "                   all        337        824      0.771      0.604      0.692      0.446\n",
            "\n",
            "      Epoch    GPU_mem   box_loss   cls_loss   dfl_loss  Instances       Size\n"
          ]
        },
        {
          "output_type": "stream",
          "name": "stderr",
          "text": [
            "     59/100       3.5G      1.065     0.8431      1.124         75        640: 100%|██████████| 74/74 [00:21<00:00,  3.46it/s]\n",
            "                 Class     Images  Instances      Box(P          R      mAP50  mAP50-95): 100%|██████████| 11/11 [00:03<00:00,  3.66it/s]\n"
          ]
        },
        {
          "output_type": "stream",
          "name": "stdout",
          "text": [
            "                   all        337        824      0.785      0.579      0.673      0.435\n",
            "\n",
            "      Epoch    GPU_mem   box_loss   cls_loss   dfl_loss  Instances       Size\n"
          ]
        },
        {
          "output_type": "stream",
          "name": "stderr",
          "text": [
            "     60/100      3.51G      1.013     0.8063      1.102         49        640: 100%|██████████| 74/74 [00:20<00:00,  3.66it/s]\n",
            "                 Class     Images  Instances      Box(P          R      mAP50  mAP50-95): 100%|██████████| 11/11 [00:04<00:00,  2.73it/s]"
          ]
        },
        {
          "output_type": "stream",
          "name": "stdout",
          "text": [
            "                   all        337        824      0.766      0.601      0.682      0.441\n"
          ]
        },
        {
          "output_type": "stream",
          "name": "stderr",
          "text": [
            "\n"
          ]
        },
        {
          "output_type": "stream",
          "name": "stdout",
          "text": [
            "\n",
            "      Epoch    GPU_mem   box_loss   cls_loss   dfl_loss  Instances       Size\n"
          ]
        },
        {
          "output_type": "stream",
          "name": "stderr",
          "text": [
            "     61/100      3.53G      1.049     0.8107      1.103         42        640: 100%|██████████| 74/74 [00:19<00:00,  3.70it/s]\n",
            "                 Class     Images  Instances      Box(P          R      mAP50  mAP50-95): 100%|██████████| 11/11 [00:03<00:00,  2.80it/s]"
          ]
        },
        {
          "output_type": "stream",
          "name": "stdout",
          "text": [
            "                   all        337        824      0.765      0.612      0.692      0.451\n"
          ]
        },
        {
          "output_type": "stream",
          "name": "stderr",
          "text": [
            "\n"
          ]
        },
        {
          "output_type": "stream",
          "name": "stdout",
          "text": [
            "\n",
            "      Epoch    GPU_mem   box_loss   cls_loss   dfl_loss  Instances       Size\n"
          ]
        },
        {
          "output_type": "stream",
          "name": "stderr",
          "text": [
            "     62/100      3.54G       1.02     0.7971      1.097         76        640: 100%|██████████| 74/74 [00:20<00:00,  3.68it/s]\n",
            "                 Class     Images  Instances      Box(P          R      mAP50  mAP50-95): 100%|██████████| 11/11 [00:03<00:00,  3.29it/s]"
          ]
        },
        {
          "output_type": "stream",
          "name": "stdout",
          "text": [
            "                   all        337        824       0.77      0.617      0.698      0.452\n"
          ]
        },
        {
          "output_type": "stream",
          "name": "stderr",
          "text": [
            "\n"
          ]
        },
        {
          "output_type": "stream",
          "name": "stdout",
          "text": [
            "\n",
            "      Epoch    GPU_mem   box_loss   cls_loss   dfl_loss  Instances       Size\n"
          ]
        },
        {
          "output_type": "stream",
          "name": "stderr",
          "text": [
            "     63/100      3.56G      1.033      0.817      1.108         54        640: 100%|██████████| 74/74 [00:20<00:00,  3.57it/s]\n",
            "                 Class     Images  Instances      Box(P          R      mAP50  mAP50-95): 100%|██████████| 11/11 [00:03<00:00,  3.43it/s]"
          ]
        },
        {
          "output_type": "stream",
          "name": "stdout",
          "text": [
            "                   all        337        824      0.777      0.616      0.705      0.464\n"
          ]
        },
        {
          "output_type": "stream",
          "name": "stderr",
          "text": [
            "\n"
          ]
        },
        {
          "output_type": "stream",
          "name": "stdout",
          "text": [
            "\n",
            "      Epoch    GPU_mem   box_loss   cls_loss   dfl_loss  Instances       Size\n"
          ]
        },
        {
          "output_type": "stream",
          "name": "stderr",
          "text": [
            "     64/100      3.58G     0.9924     0.7663      1.086         61        640: 100%|██████████| 74/74 [00:21<00:00,  3.52it/s]\n",
            "                 Class     Images  Instances      Box(P          R      mAP50  mAP50-95): 100%|██████████| 11/11 [00:02<00:00,  3.72it/s]"
          ]
        },
        {
          "output_type": "stream",
          "name": "stdout",
          "text": [
            "                   all        337        824      0.761      0.578      0.676      0.438\n"
          ]
        },
        {
          "output_type": "stream",
          "name": "stderr",
          "text": [
            "\n"
          ]
        },
        {
          "output_type": "stream",
          "name": "stdout",
          "text": [
            "\n",
            "      Epoch    GPU_mem   box_loss   cls_loss   dfl_loss  Instances       Size\n"
          ]
        },
        {
          "output_type": "stream",
          "name": "stderr",
          "text": [
            "     65/100       3.6G      1.037     0.7977      1.107         76        640: 100%|██████████| 74/74 [00:21<00:00,  3.42it/s]\n",
            "                 Class     Images  Instances      Box(P          R      mAP50  mAP50-95): 100%|██████████| 11/11 [00:03<00:00,  3.46it/s]"
          ]
        },
        {
          "output_type": "stream",
          "name": "stdout",
          "text": [
            "                   all        337        824      0.796      0.599      0.692      0.446\n"
          ]
        },
        {
          "output_type": "stream",
          "name": "stderr",
          "text": [
            "\n"
          ]
        },
        {
          "output_type": "stream",
          "name": "stdout",
          "text": [
            "\n",
            "      Epoch    GPU_mem   box_loss   cls_loss   dfl_loss  Instances       Size\n"
          ]
        },
        {
          "output_type": "stream",
          "name": "stderr",
          "text": [
            "     66/100      3.61G      1.015     0.7788      1.085         53        640: 100%|██████████| 74/74 [00:21<00:00,  3.47it/s]\n",
            "                 Class     Images  Instances      Box(P          R      mAP50  mAP50-95): 100%|██████████| 11/11 [00:03<00:00,  3.23it/s]\n"
          ]
        },
        {
          "output_type": "stream",
          "name": "stdout",
          "text": [
            "                   all        337        824       0.76      0.602      0.688      0.445\n",
            "\n",
            "      Epoch    GPU_mem   box_loss   cls_loss   dfl_loss  Instances       Size\n"
          ]
        },
        {
          "output_type": "stream",
          "name": "stderr",
          "text": [
            "     67/100      3.63G     0.9955     0.7668      1.092         43        640: 100%|██████████| 74/74 [00:21<00:00,  3.46it/s]\n",
            "                 Class     Images  Instances      Box(P          R      mAP50  mAP50-95): 100%|██████████| 11/11 [00:03<00:00,  3.59it/s]"
          ]
        },
        {
          "output_type": "stream",
          "name": "stdout",
          "text": [
            "                   all        337        824      0.729      0.626      0.689      0.445\n"
          ]
        },
        {
          "output_type": "stream",
          "name": "stderr",
          "text": [
            "\n"
          ]
        },
        {
          "output_type": "stream",
          "name": "stdout",
          "text": [
            "\n",
            "      Epoch    GPU_mem   box_loss   cls_loss   dfl_loss  Instances       Size\n"
          ]
        },
        {
          "output_type": "stream",
          "name": "stderr",
          "text": [
            "     68/100      3.65G      1.016     0.7839      1.091         51        640: 100%|██████████| 74/74 [00:21<00:00,  3.44it/s]\n",
            "                 Class     Images  Instances      Box(P          R      mAP50  mAP50-95): 100%|██████████| 11/11 [00:02<00:00,  3.82it/s]"
          ]
        },
        {
          "output_type": "stream",
          "name": "stdout",
          "text": [
            "                   all        337        824      0.761      0.609      0.694      0.451\n"
          ]
        },
        {
          "output_type": "stream",
          "name": "stderr",
          "text": [
            "\n"
          ]
        },
        {
          "output_type": "stream",
          "name": "stdout",
          "text": [
            "\n",
            "      Epoch    GPU_mem   box_loss   cls_loss   dfl_loss  Instances       Size\n"
          ]
        },
        {
          "output_type": "stream",
          "name": "stderr",
          "text": [
            "     69/100      3.67G     0.9989      0.754      1.088         87        640: 100%|██████████| 74/74 [00:21<00:00,  3.39it/s]\n",
            "                 Class     Images  Instances      Box(P          R      mAP50  mAP50-95): 100%|██████████| 11/11 [00:02<00:00,  3.75it/s]"
          ]
        },
        {
          "output_type": "stream",
          "name": "stdout",
          "text": [
            "                   all        337        824      0.762      0.621      0.685      0.436\n"
          ]
        },
        {
          "output_type": "stream",
          "name": "stderr",
          "text": [
            "\n"
          ]
        },
        {
          "output_type": "stream",
          "name": "stdout",
          "text": [
            "\n",
            "      Epoch    GPU_mem   box_loss   cls_loss   dfl_loss  Instances       Size\n"
          ]
        },
        {
          "output_type": "stream",
          "name": "stderr",
          "text": [
            "     70/100      3.68G     0.9853     0.7527       1.07         39        640: 100%|██████████| 74/74 [00:21<00:00,  3.43it/s]\n",
            "                 Class     Images  Instances      Box(P          R      mAP50  mAP50-95): 100%|██████████| 11/11 [00:03<00:00,  3.45it/s]\n"
          ]
        },
        {
          "output_type": "stream",
          "name": "stdout",
          "text": [
            "                   all        337        824       0.78      0.593      0.693      0.451\n",
            "\n",
            "      Epoch    GPU_mem   box_loss   cls_loss   dfl_loss  Instances       Size\n"
          ]
        },
        {
          "output_type": "stream",
          "name": "stderr",
          "text": [
            "     71/100       3.7G      1.001      0.769      1.087         57        640: 100%|██████████| 74/74 [00:21<00:00,  3.51it/s]\n",
            "                 Class     Images  Instances      Box(P          R      mAP50  mAP50-95): 100%|██████████| 11/11 [00:03<00:00,  3.01it/s]"
          ]
        },
        {
          "output_type": "stream",
          "name": "stdout",
          "text": [
            "                   all        337        824      0.767      0.614      0.699       0.46\n"
          ]
        },
        {
          "output_type": "stream",
          "name": "stderr",
          "text": [
            "\n"
          ]
        },
        {
          "output_type": "stream",
          "name": "stdout",
          "text": [
            "\n",
            "      Epoch    GPU_mem   box_loss   cls_loss   dfl_loss  Instances       Size\n"
          ]
        },
        {
          "output_type": "stream",
          "name": "stderr",
          "text": [
            "     72/100      3.71G     0.9885     0.7322      1.074         43        640: 100%|██████████| 74/74 [00:20<00:00,  3.65it/s]\n",
            "                 Class     Images  Instances      Box(P          R      mAP50  mAP50-95): 100%|██████████| 11/11 [00:04<00:00,  2.70it/s]"
          ]
        },
        {
          "output_type": "stream",
          "name": "stdout",
          "text": [
            "                   all        337        824      0.808       0.61      0.711      0.467\n"
          ]
        },
        {
          "output_type": "stream",
          "name": "stderr",
          "text": [
            "\n"
          ]
        },
        {
          "output_type": "stream",
          "name": "stdout",
          "text": [
            "\n",
            "      Epoch    GPU_mem   box_loss   cls_loss   dfl_loss  Instances       Size\n"
          ]
        },
        {
          "output_type": "stream",
          "name": "stderr",
          "text": [
            "     73/100      3.73G     0.9938     0.7422       1.08         47        640: 100%|██████████| 74/74 [00:21<00:00,  3.44it/s]\n",
            "                 Class     Images  Instances      Box(P          R      mAP50  mAP50-95): 100%|██████████| 11/11 [00:04<00:00,  2.50it/s]\n"
          ]
        },
        {
          "output_type": "stream",
          "name": "stdout",
          "text": [
            "                   all        337        824      0.786      0.598      0.698      0.459\n",
            "\n",
            "      Epoch    GPU_mem   box_loss   cls_loss   dfl_loss  Instances       Size\n"
          ]
        },
        {
          "output_type": "stream",
          "name": "stderr",
          "text": [
            "     74/100      3.75G     0.9667     0.7246      1.072         71        640: 100%|██████████| 74/74 [00:20<00:00,  3.62it/s]\n",
            "                 Class     Images  Instances      Box(P          R      mAP50  mAP50-95): 100%|██████████| 11/11 [00:03<00:00,  2.83it/s]"
          ]
        },
        {
          "output_type": "stream",
          "name": "stdout",
          "text": [
            "                   all        337        824      0.792      0.623      0.709      0.466\n"
          ]
        },
        {
          "output_type": "stream",
          "name": "stderr",
          "text": [
            "\n"
          ]
        },
        {
          "output_type": "stream",
          "name": "stdout",
          "text": [
            "\n",
            "      Epoch    GPU_mem   box_loss   cls_loss   dfl_loss  Instances       Size\n"
          ]
        },
        {
          "output_type": "stream",
          "name": "stderr",
          "text": [
            "     75/100      3.77G     0.9579     0.7197       1.07         52        640: 100%|██████████| 74/74 [00:20<00:00,  3.65it/s]\n",
            "                 Class     Images  Instances      Box(P          R      mAP50  mAP50-95): 100%|██████████| 11/11 [00:03<00:00,  3.29it/s]\n"
          ]
        },
        {
          "output_type": "stream",
          "name": "stdout",
          "text": [
            "                   all        337        824      0.761      0.627      0.709      0.461\n",
            "\n",
            "      Epoch    GPU_mem   box_loss   cls_loss   dfl_loss  Instances       Size\n"
          ]
        },
        {
          "output_type": "stream",
          "name": "stderr",
          "text": [
            "     76/100      3.79G      0.974     0.7276      1.069         57        640: 100%|██████████| 74/74 [00:21<00:00,  3.48it/s]\n",
            "                 Class     Images  Instances      Box(P          R      mAP50  mAP50-95): 100%|██████████| 11/11 [00:02<00:00,  3.78it/s]"
          ]
        },
        {
          "output_type": "stream",
          "name": "stdout",
          "text": [
            "                   all        337        824      0.781      0.615      0.701      0.455\n"
          ]
        },
        {
          "output_type": "stream",
          "name": "stderr",
          "text": [
            "\n"
          ]
        },
        {
          "output_type": "stream",
          "name": "stdout",
          "text": [
            "\n",
            "      Epoch    GPU_mem   box_loss   cls_loss   dfl_loss  Instances       Size\n"
          ]
        },
        {
          "output_type": "stream",
          "name": "stderr",
          "text": [
            "     77/100       3.8G     0.9792     0.7283      1.068         74        640: 100%|██████████| 74/74 [00:21<00:00,  3.47it/s]\n",
            "                 Class     Images  Instances      Box(P          R      mAP50  mAP50-95): 100%|██████████| 11/11 [00:03<00:00,  3.63it/s]"
          ]
        },
        {
          "output_type": "stream",
          "name": "stdout",
          "text": [
            "                   all        337        824      0.814      0.598      0.694      0.452\n"
          ]
        },
        {
          "output_type": "stream",
          "name": "stderr",
          "text": [
            "\n"
          ]
        },
        {
          "output_type": "stream",
          "name": "stdout",
          "text": [
            "\n",
            "      Epoch    GPU_mem   box_loss   cls_loss   dfl_loss  Instances       Size\n"
          ]
        },
        {
          "output_type": "stream",
          "name": "stderr",
          "text": [
            "     78/100      3.82G     0.9692      0.707      1.072         54        640: 100%|██████████| 74/74 [00:21<00:00,  3.48it/s]\n",
            "                 Class     Images  Instances      Box(P          R      mAP50  mAP50-95): 100%|██████████| 11/11 [00:02<00:00,  3.70it/s]\n"
          ]
        },
        {
          "output_type": "stream",
          "name": "stdout",
          "text": [
            "                   all        337        824       0.82      0.588       0.69      0.454\n",
            "\n",
            "      Epoch    GPU_mem   box_loss   cls_loss   dfl_loss  Instances       Size\n"
          ]
        },
        {
          "output_type": "stream",
          "name": "stderr",
          "text": [
            "     79/100      3.84G     0.9495      0.695      1.056         73        640: 100%|██████████| 74/74 [00:21<00:00,  3.44it/s]\n",
            "                 Class     Images  Instances      Box(P          R      mAP50  mAP50-95): 100%|██████████| 11/11 [00:03<00:00,  3.62it/s]\n"
          ]
        },
        {
          "output_type": "stream",
          "name": "stdout",
          "text": [
            "                   all        337        824      0.797      0.617      0.711      0.469\n",
            "\n",
            "      Epoch    GPU_mem   box_loss   cls_loss   dfl_loss  Instances       Size\n"
          ]
        },
        {
          "output_type": "stream",
          "name": "stderr",
          "text": [
            "     80/100      3.85G     0.9538     0.6932      1.065         73        640: 100%|██████████| 74/74 [00:21<00:00,  3.48it/s]\n",
            "                 Class     Images  Instances      Box(P          R      mAP50  mAP50-95): 100%|██████████| 11/11 [00:02<00:00,  3.75it/s]"
          ]
        },
        {
          "output_type": "stream",
          "name": "stdout",
          "text": [
            "                   all        337        824      0.796      0.602      0.696      0.453\n"
          ]
        },
        {
          "output_type": "stream",
          "name": "stderr",
          "text": [
            "\n"
          ]
        },
        {
          "output_type": "stream",
          "name": "stdout",
          "text": [
            "\n",
            "      Epoch    GPU_mem   box_loss   cls_loss   dfl_loss  Instances       Size\n"
          ]
        },
        {
          "output_type": "stream",
          "name": "stderr",
          "text": [
            "     81/100      3.87G     0.9535     0.6993      1.058         34        640: 100%|██████████| 74/74 [00:21<00:00,  3.49it/s]\n",
            "                 Class     Images  Instances      Box(P          R      mAP50  mAP50-95): 100%|██████████| 11/11 [00:02<00:00,  3.70it/s]"
          ]
        },
        {
          "output_type": "stream",
          "name": "stdout",
          "text": [
            "                   all        337        824      0.794      0.617      0.704      0.463\n"
          ]
        },
        {
          "output_type": "stream",
          "name": "stderr",
          "text": [
            "\n"
          ]
        },
        {
          "output_type": "stream",
          "name": "stdout",
          "text": [
            "\n",
            "      Epoch    GPU_mem   box_loss   cls_loss   dfl_loss  Instances       Size\n"
          ]
        },
        {
          "output_type": "stream",
          "name": "stderr",
          "text": [
            "     82/100      3.89G     0.9525     0.6848      1.065         46        640: 100%|██████████| 74/74 [00:20<00:00,  3.59it/s]\n",
            "                 Class     Images  Instances      Box(P          R      mAP50  mAP50-95): 100%|██████████| 11/11 [00:03<00:00,  2.84it/s]"
          ]
        },
        {
          "output_type": "stream",
          "name": "stdout",
          "text": [
            "                   all        337        824      0.811      0.596      0.697      0.449\n"
          ]
        },
        {
          "output_type": "stream",
          "name": "stderr",
          "text": [
            "\n"
          ]
        },
        {
          "output_type": "stream",
          "name": "stdout",
          "text": [
            "\n",
            "      Epoch    GPU_mem   box_loss   cls_loss   dfl_loss  Instances       Size\n"
          ]
        },
        {
          "output_type": "stream",
          "name": "stderr",
          "text": [
            "     83/100       3.9G     0.9282     0.6711      1.052         71        640: 100%|██████████| 74/74 [00:20<00:00,  3.70it/s]\n",
            "                 Class     Images  Instances      Box(P          R      mAP50  mAP50-95): 100%|██████████| 11/11 [00:04<00:00,  2.63it/s]"
          ]
        },
        {
          "output_type": "stream",
          "name": "stdout",
          "text": [
            "                   all        337        824      0.847      0.589      0.705      0.461\n"
          ]
        },
        {
          "output_type": "stream",
          "name": "stderr",
          "text": [
            "\n"
          ]
        },
        {
          "output_type": "stream",
          "name": "stdout",
          "text": [
            "\n",
            "      Epoch    GPU_mem   box_loss   cls_loss   dfl_loss  Instances       Size\n"
          ]
        },
        {
          "output_type": "stream",
          "name": "stderr",
          "text": [
            "     84/100      3.92G     0.9235     0.6616      1.047         51        640: 100%|██████████| 74/74 [00:20<00:00,  3.65it/s]\n",
            "                 Class     Images  Instances      Box(P          R      mAP50  mAP50-95): 100%|██████████| 11/11 [00:03<00:00,  3.24it/s]"
          ]
        },
        {
          "output_type": "stream",
          "name": "stdout",
          "text": [
            "                   all        337        824        0.8      0.629      0.709      0.464\n"
          ]
        },
        {
          "output_type": "stream",
          "name": "stderr",
          "text": [
            "\n"
          ]
        },
        {
          "output_type": "stream",
          "name": "stdout",
          "text": [
            "\n",
            "      Epoch    GPU_mem   box_loss   cls_loss   dfl_loss  Instances       Size\n"
          ]
        },
        {
          "output_type": "stream",
          "name": "stderr",
          "text": [
            "     85/100      3.94G     0.9347      0.669       1.05         53        640: 100%|██████████| 74/74 [00:20<00:00,  3.60it/s]\n",
            "                 Class     Images  Instances      Box(P          R      mAP50  mAP50-95): 100%|██████████| 11/11 [00:03<00:00,  3.45it/s]"
          ]
        },
        {
          "output_type": "stream",
          "name": "stdout",
          "text": [
            "                   all        337        824      0.753      0.641      0.713      0.469\n"
          ]
        },
        {
          "output_type": "stream",
          "name": "stderr",
          "text": [
            "\n"
          ]
        },
        {
          "output_type": "stream",
          "name": "stdout",
          "text": [
            "\n",
            "      Epoch    GPU_mem   box_loss   cls_loss   dfl_loss  Instances       Size\n"
          ]
        },
        {
          "output_type": "stream",
          "name": "stderr",
          "text": [
            "     86/100      3.96G     0.9338     0.6675      1.048         60        640: 100%|██████████| 74/74 [00:21<00:00,  3.46it/s]\n",
            "                 Class     Images  Instances      Box(P          R      mAP50  mAP50-95): 100%|██████████| 11/11 [00:02<00:00,  3.85it/s]\n"
          ]
        },
        {
          "output_type": "stream",
          "name": "stdout",
          "text": [
            "                   all        337        824      0.747      0.642      0.702      0.464\n",
            "\n",
            "      Epoch    GPU_mem   box_loss   cls_loss   dfl_loss  Instances       Size\n"
          ]
        },
        {
          "output_type": "stream",
          "name": "stderr",
          "text": [
            "     87/100      3.97G     0.9093     0.6489      1.034         43        640: 100%|██████████| 74/74 [00:21<00:00,  3.46it/s]\n",
            "                 Class     Images  Instances      Box(P          R      mAP50  mAP50-95): 100%|██████████| 11/11 [00:03<00:00,  3.62it/s]"
          ]
        },
        {
          "output_type": "stream",
          "name": "stdout",
          "text": [
            "                   all        337        824      0.789      0.633      0.715      0.469\n"
          ]
        },
        {
          "output_type": "stream",
          "name": "stderr",
          "text": [
            "\n"
          ]
        },
        {
          "output_type": "stream",
          "name": "stdout",
          "text": [
            "\n",
            "      Epoch    GPU_mem   box_loss   cls_loss   dfl_loss  Instances       Size\n"
          ]
        },
        {
          "output_type": "stream",
          "name": "stderr",
          "text": [
            "     88/100      3.99G     0.9216     0.6437      1.049         52        640: 100%|██████████| 74/74 [00:21<00:00,  3.41it/s]\n",
            "                 Class     Images  Instances      Box(P          R      mAP50  mAP50-95): 100%|██████████| 11/11 [00:03<00:00,  3.29it/s]"
          ]
        },
        {
          "output_type": "stream",
          "name": "stdout",
          "text": [
            "                   all        337        824      0.807      0.631      0.715      0.469\n"
          ]
        },
        {
          "output_type": "stream",
          "name": "stderr",
          "text": [
            "\n"
          ]
        },
        {
          "output_type": "stream",
          "name": "stdout",
          "text": [
            "\n",
            "      Epoch    GPU_mem   box_loss   cls_loss   dfl_loss  Instances       Size\n"
          ]
        },
        {
          "output_type": "stream",
          "name": "stderr",
          "text": [
            "     89/100      4.01G     0.9171     0.6528      1.041         51        640: 100%|██████████| 74/74 [00:21<00:00,  3.38it/s]\n",
            "                 Class     Images  Instances      Box(P          R      mAP50  mAP50-95): 100%|██████████| 11/11 [00:02<00:00,  3.68it/s]"
          ]
        },
        {
          "output_type": "stream",
          "name": "stdout",
          "text": [
            "                   all        337        824      0.791       0.63      0.716      0.473\n"
          ]
        },
        {
          "output_type": "stream",
          "name": "stderr",
          "text": [
            "\n"
          ]
        },
        {
          "output_type": "stream",
          "name": "stdout",
          "text": [
            "\n",
            "      Epoch    GPU_mem   box_loss   cls_loss   dfl_loss  Instances       Size\n"
          ]
        },
        {
          "output_type": "stream",
          "name": "stderr",
          "text": [
            "     90/100      4.02G      0.911     0.6437      1.039         53        640: 100%|██████████| 74/74 [00:23<00:00,  3.21it/s]\n",
            "                 Class     Images  Instances      Box(P          R      mAP50  mAP50-95): 100%|██████████| 11/11 [00:03<00:00,  3.65it/s]\n"
          ]
        },
        {
          "output_type": "stream",
          "name": "stdout",
          "text": [
            "                   all        337        824      0.822      0.619      0.721      0.473\n",
            "Closing dataloader mosaic\n",
            "\u001b[34m\u001b[1malbumentations: \u001b[0mBlur(p=0.01, blur_limit=(3, 7)), MedianBlur(p=0.01, blur_limit=(3, 7)), ToGray(p=0.01, method='weighted_average', num_output_channels=3), CLAHE(p=0.01, clip_limit=(1.0, 4.0), tile_grid_size=(8, 8))\n",
            "\n",
            "      Epoch    GPU_mem   box_loss   cls_loss   dfl_loss  Instances       Size\n"
          ]
        },
        {
          "output_type": "stream",
          "name": "stderr",
          "text": [
            "     91/100      4.04G     0.8423     0.5966     0.9913         38        640: 100%|██████████| 74/74 [00:23<00:00,  3.21it/s]\n",
            "                 Class     Images  Instances      Box(P          R      mAP50  mAP50-95): 100%|██████████| 11/11 [00:02<00:00,  3.76it/s]"
          ]
        },
        {
          "output_type": "stream",
          "name": "stdout",
          "text": [
            "                   all        337        824      0.766      0.616      0.692       0.45\n"
          ]
        },
        {
          "output_type": "stream",
          "name": "stderr",
          "text": [
            "\n"
          ]
        },
        {
          "output_type": "stream",
          "name": "stdout",
          "text": [
            "\n",
            "      Epoch    GPU_mem   box_loss   cls_loss   dfl_loss  Instances       Size\n"
          ]
        },
        {
          "output_type": "stream",
          "name": "stderr",
          "text": [
            "     92/100      4.06G     0.8184     0.5613      0.985         29        640: 100%|██████████| 74/74 [00:20<00:00,  3.55it/s]\n",
            "                 Class     Images  Instances      Box(P          R      mAP50  mAP50-95): 100%|██████████| 11/11 [00:02<00:00,  3.68it/s]"
          ]
        },
        {
          "output_type": "stream",
          "name": "stdout",
          "text": [
            "                   all        337        824      0.768      0.624      0.693      0.452\n"
          ]
        },
        {
          "output_type": "stream",
          "name": "stderr",
          "text": [
            "\n"
          ]
        },
        {
          "output_type": "stream",
          "name": "stdout",
          "text": [
            "\n",
            "      Epoch    GPU_mem   box_loss   cls_loss   dfl_loss  Instances       Size\n"
          ]
        },
        {
          "output_type": "stream",
          "name": "stderr",
          "text": [
            "     93/100      4.08G     0.8317     0.5662     0.9918         24        640: 100%|██████████| 74/74 [00:20<00:00,  3.54it/s]\n",
            "                 Class     Images  Instances      Box(P          R      mAP50  mAP50-95): 100%|██████████| 11/11 [00:02<00:00,  3.68it/s]"
          ]
        },
        {
          "output_type": "stream",
          "name": "stdout",
          "text": [
            "                   all        337        824      0.808      0.619      0.702      0.453\n"
          ]
        },
        {
          "output_type": "stream",
          "name": "stderr",
          "text": [
            "\n"
          ]
        },
        {
          "output_type": "stream",
          "name": "stdout",
          "text": [
            "\n",
            "      Epoch    GPU_mem   box_loss   cls_loss   dfl_loss  Instances       Size\n"
          ]
        },
        {
          "output_type": "stream",
          "name": "stderr",
          "text": [
            "     94/100      4.09G     0.8162     0.5459     0.9822         20        640: 100%|██████████| 74/74 [00:19<00:00,  3.80it/s]\n",
            "                 Class     Images  Instances      Box(P          R      mAP50  mAP50-95): 100%|██████████| 11/11 [00:04<00:00,  2.53it/s]"
          ]
        },
        {
          "output_type": "stream",
          "name": "stdout",
          "text": [
            "                   all        337        824      0.803      0.615      0.703      0.459\n"
          ]
        },
        {
          "output_type": "stream",
          "name": "stderr",
          "text": [
            "\n"
          ]
        },
        {
          "output_type": "stream",
          "name": "stdout",
          "text": [
            "\n",
            "      Epoch    GPU_mem   box_loss   cls_loss   dfl_loss  Instances       Size\n"
          ]
        },
        {
          "output_type": "stream",
          "name": "stderr",
          "text": [
            "     95/100      4.11G     0.7941     0.5322     0.9736         25        640: 100%|██████████| 74/74 [00:19<00:00,  3.83it/s]\n",
            "                 Class     Images  Instances      Box(P          R      mAP50  mAP50-95): 100%|██████████| 11/11 [00:03<00:00,  3.16it/s]"
          ]
        },
        {
          "output_type": "stream",
          "name": "stdout",
          "text": [
            "                   all        337        824      0.865      0.599      0.714      0.467\n"
          ]
        },
        {
          "output_type": "stream",
          "name": "stderr",
          "text": [
            "\n"
          ]
        },
        {
          "output_type": "stream",
          "name": "stdout",
          "text": [
            "\n",
            "      Epoch    GPU_mem   box_loss   cls_loss   dfl_loss  Instances       Size\n"
          ]
        },
        {
          "output_type": "stream",
          "name": "stderr",
          "text": [
            "     96/100      4.12G     0.7835     0.5189     0.9624         30        640: 100%|██████████| 74/74 [00:19<00:00,  3.73it/s]\n",
            "                 Class     Images  Instances      Box(P          R      mAP50  mAP50-95): 100%|██████████| 11/11 [00:03<00:00,  3.65it/s]"
          ]
        },
        {
          "output_type": "stream",
          "name": "stdout",
          "text": [
            "                   all        337        824      0.836      0.612      0.717      0.469\n"
          ]
        },
        {
          "output_type": "stream",
          "name": "stderr",
          "text": [
            "\n"
          ]
        },
        {
          "output_type": "stream",
          "name": "stdout",
          "text": [
            "\n",
            "      Epoch    GPU_mem   box_loss   cls_loss   dfl_loss  Instances       Size\n"
          ]
        },
        {
          "output_type": "stream",
          "name": "stderr",
          "text": [
            "     97/100      4.14G     0.7673     0.5186     0.9542         38        640: 100%|██████████| 74/74 [00:20<00:00,  3.61it/s]\n",
            "                 Class     Images  Instances      Box(P          R      mAP50  mAP50-95): 100%|██████████| 11/11 [00:02<00:00,  3.88it/s]"
          ]
        },
        {
          "output_type": "stream",
          "name": "stdout",
          "text": [
            "                   all        337        824      0.811      0.625      0.713      0.469\n"
          ]
        },
        {
          "output_type": "stream",
          "name": "stderr",
          "text": [
            "\n"
          ]
        },
        {
          "output_type": "stream",
          "name": "stdout",
          "text": [
            "\n",
            "      Epoch    GPU_mem   box_loss   cls_loss   dfl_loss  Instances       Size\n"
          ]
        },
        {
          "output_type": "stream",
          "name": "stderr",
          "text": [
            "     98/100      4.16G     0.7672     0.5123     0.9592         17        640: 100%|██████████| 74/74 [00:20<00:00,  3.66it/s]\n",
            "                 Class     Images  Instances      Box(P          R      mAP50  mAP50-95): 100%|██████████| 11/11 [00:02<00:00,  3.76it/s]"
          ]
        },
        {
          "output_type": "stream",
          "name": "stdout",
          "text": [
            "                   all        337        824      0.847       0.61      0.714      0.474\n"
          ]
        },
        {
          "output_type": "stream",
          "name": "stderr",
          "text": [
            "\n"
          ]
        },
        {
          "output_type": "stream",
          "name": "stdout",
          "text": [
            "\n",
            "      Epoch    GPU_mem   box_loss   cls_loss   dfl_loss  Instances       Size\n"
          ]
        },
        {
          "output_type": "stream",
          "name": "stderr",
          "text": [
            "     99/100      4.18G     0.7703     0.5025     0.9597         43        640: 100%|██████████| 74/74 [00:19<00:00,  3.72it/s]\n",
            "                 Class     Images  Instances      Box(P          R      mAP50  mAP50-95): 100%|██████████| 11/11 [00:03<00:00,  3.05it/s]"
          ]
        },
        {
          "output_type": "stream",
          "name": "stdout",
          "text": [
            "                   all        337        824      0.829      0.613      0.718      0.473\n"
          ]
        },
        {
          "output_type": "stream",
          "name": "stderr",
          "text": [
            "\n"
          ]
        },
        {
          "output_type": "stream",
          "name": "stdout",
          "text": [
            "\n",
            "      Epoch    GPU_mem   box_loss   cls_loss   dfl_loss  Instances       Size\n"
          ]
        },
        {
          "output_type": "stream",
          "name": "stderr",
          "text": [
            "    100/100      4.19G     0.7787     0.5047     0.9607         22        640: 100%|██████████| 74/74 [00:19<00:00,  3.82it/s]\n",
            "                 Class     Images  Instances      Box(P          R      mAP50  mAP50-95): 100%|██████████| 11/11 [00:03<00:00,  2.82it/s]"
          ]
        },
        {
          "output_type": "stream",
          "name": "stdout",
          "text": [
            "                   all        337        824      0.827      0.618      0.717      0.474\n"
          ]
        },
        {
          "output_type": "stream",
          "name": "stderr",
          "text": [
            "\n"
          ]
        },
        {
          "output_type": "stream",
          "name": "stdout",
          "text": [
            "\n",
            "100 epochs completed in 0.689 hours.\n",
            "Optimizer stripped from bitstone-train/yolov8n-graffiti-pothole/weights/last.pt, 6.2MB\n",
            "Optimizer stripped from bitstone-train/yolov8n-graffiti-pothole/weights/best.pt, 6.2MB\n",
            "\n",
            "Validating bitstone-train/yolov8n-graffiti-pothole/weights/best.pt...\n",
            "Ultralytics 8.3.134 🚀 Python-3.11.12 torch-2.6.0+cu124 CUDA:0 (Tesla T4, 15095MiB)\n",
            "Model summary (fused): 72 layers, 3,006,038 parameters, 0 gradients, 8.1 GFLOPs\n"
          ]
        },
        {
          "output_type": "stream",
          "name": "stderr",
          "text": [
            "                 Class     Images  Instances      Box(P          R      mAP50  mAP50-95): 100%|██████████| 11/11 [00:04<00:00,  2.38it/s]\n"
          ]
        },
        {
          "output_type": "stream",
          "name": "stdout",
          "text": [
            "                   all        337        824      0.822      0.622      0.717      0.474\n",
            "              graffiti        204        494      0.816      0.557      0.647      0.443\n",
            "               pothole        133        330      0.828      0.688      0.786      0.505\n",
            "Speed: 0.2ms preprocess, 2.6ms inference, 0.0ms loss, 3.5ms postprocess per image\n",
            "Results saved to \u001b[1mbitstone-train/yolov8n-graffiti-pothole\u001b[0m\n"
          ]
        },
        {
          "output_type": "execute_result",
          "data": {
            "text/plain": [
              "ultralytics.utils.metrics.DetMetrics object with attributes:\n",
              "\n",
              "ap_class_index: array([0, 1])\n",
              "box: ultralytics.utils.metrics.Metric object\n",
              "confusion_matrix: <ultralytics.utils.metrics.ConfusionMatrix object at 0x791290c240d0>\n",
              "curves: ['Precision-Recall(B)', 'F1-Confidence(B)', 'Precision-Confidence(B)', 'Recall-Confidence(B)']\n",
              "curves_results: [[array([          0,    0.001001,    0.002002,    0.003003,    0.004004,    0.005005,    0.006006,    0.007007,    0.008008,    0.009009,     0.01001,    0.011011,    0.012012,    0.013013,    0.014014,    0.015015,    0.016016,    0.017017,    0.018018,    0.019019,     0.02002,    0.021021,    0.022022,    0.023023,\n",
              "          0.024024,    0.025025,    0.026026,    0.027027,    0.028028,    0.029029,     0.03003,    0.031031,    0.032032,    0.033033,    0.034034,    0.035035,    0.036036,    0.037037,    0.038038,    0.039039,     0.04004,    0.041041,    0.042042,    0.043043,    0.044044,    0.045045,    0.046046,    0.047047,\n",
              "          0.048048,    0.049049,     0.05005,    0.051051,    0.052052,    0.053053,    0.054054,    0.055055,    0.056056,    0.057057,    0.058058,    0.059059,     0.06006,    0.061061,    0.062062,    0.063063,    0.064064,    0.065065,    0.066066,    0.067067,    0.068068,    0.069069,     0.07007,    0.071071,\n",
              "          0.072072,    0.073073,    0.074074,    0.075075,    0.076076,    0.077077,    0.078078,    0.079079,     0.08008,    0.081081,    0.082082,    0.083083,    0.084084,    0.085085,    0.086086,    0.087087,    0.088088,    0.089089,     0.09009,    0.091091,    0.092092,    0.093093,    0.094094,    0.095095,\n",
              "          0.096096,    0.097097,    0.098098,    0.099099,      0.1001,      0.1011,      0.1021,      0.1031,      0.1041,     0.10511,     0.10611,     0.10711,     0.10811,     0.10911,     0.11011,     0.11111,     0.11211,     0.11311,     0.11411,     0.11512,     0.11612,     0.11712,     0.11812,     0.11912,\n",
              "           0.12012,     0.12112,     0.12212,     0.12312,     0.12412,     0.12513,     0.12613,     0.12713,     0.12813,     0.12913,     0.13013,     0.13113,     0.13213,     0.13313,     0.13413,     0.13514,     0.13614,     0.13714,     0.13814,     0.13914,     0.14014,     0.14114,     0.14214,     0.14314,\n",
              "           0.14414,     0.14515,     0.14615,     0.14715,     0.14815,     0.14915,     0.15015,     0.15115,     0.15215,     0.15315,     0.15415,     0.15516,     0.15616,     0.15716,     0.15816,     0.15916,     0.16016,     0.16116,     0.16216,     0.16316,     0.16416,     0.16517,     0.16617,     0.16717,\n",
              "           0.16817,     0.16917,     0.17017,     0.17117,     0.17217,     0.17317,     0.17417,     0.17518,     0.17618,     0.17718,     0.17818,     0.17918,     0.18018,     0.18118,     0.18218,     0.18318,     0.18418,     0.18519,     0.18619,     0.18719,     0.18819,     0.18919,     0.19019,     0.19119,\n",
              "           0.19219,     0.19319,     0.19419,      0.1952,      0.1962,      0.1972,      0.1982,      0.1992,      0.2002,      0.2012,      0.2022,      0.2032,      0.2042,     0.20521,     0.20621,     0.20721,     0.20821,     0.20921,     0.21021,     0.21121,     0.21221,     0.21321,     0.21421,     0.21522,\n",
              "           0.21622,     0.21722,     0.21822,     0.21922,     0.22022,     0.22122,     0.22222,     0.22322,     0.22422,     0.22523,     0.22623,     0.22723,     0.22823,     0.22923,     0.23023,     0.23123,     0.23223,     0.23323,     0.23423,     0.23524,     0.23624,     0.23724,     0.23824,     0.23924,\n",
              "           0.24024,     0.24124,     0.24224,     0.24324,     0.24424,     0.24525,     0.24625,     0.24725,     0.24825,     0.24925,     0.25025,     0.25125,     0.25225,     0.25325,     0.25425,     0.25526,     0.25626,     0.25726,     0.25826,     0.25926,     0.26026,     0.26126,     0.26226,     0.26326,\n",
              "           0.26426,     0.26527,     0.26627,     0.26727,     0.26827,     0.26927,     0.27027,     0.27127,     0.27227,     0.27327,     0.27427,     0.27528,     0.27628,     0.27728,     0.27828,     0.27928,     0.28028,     0.28128,     0.28228,     0.28328,     0.28428,     0.28529,     0.28629,     0.28729,\n",
              "           0.28829,     0.28929,     0.29029,     0.29129,     0.29229,     0.29329,     0.29429,      0.2953,      0.2963,      0.2973,      0.2983,      0.2993,      0.3003,      0.3013,      0.3023,      0.3033,      0.3043,     0.30531,     0.30631,     0.30731,     0.30831,     0.30931,     0.31031,     0.31131,\n",
              "           0.31231,     0.31331,     0.31431,     0.31532,     0.31632,     0.31732,     0.31832,     0.31932,     0.32032,     0.32132,     0.32232,     0.32332,     0.32432,     0.32533,     0.32633,     0.32733,     0.32833,     0.32933,     0.33033,     0.33133,     0.33233,     0.33333,     0.33433,     0.33534,\n",
              "           0.33634,     0.33734,     0.33834,     0.33934,     0.34034,     0.34134,     0.34234,     0.34334,     0.34434,     0.34535,     0.34635,     0.34735,     0.34835,     0.34935,     0.35035,     0.35135,     0.35235,     0.35335,     0.35435,     0.35536,     0.35636,     0.35736,     0.35836,     0.35936,\n",
              "           0.36036,     0.36136,     0.36236,     0.36336,     0.36436,     0.36537,     0.36637,     0.36737,     0.36837,     0.36937,     0.37037,     0.37137,     0.37237,     0.37337,     0.37437,     0.37538,     0.37638,     0.37738,     0.37838,     0.37938,     0.38038,     0.38138,     0.38238,     0.38338,\n",
              "           0.38438,     0.38539,     0.38639,     0.38739,     0.38839,     0.38939,     0.39039,     0.39139,     0.39239,     0.39339,     0.39439,      0.3954,      0.3964,      0.3974,      0.3984,      0.3994,      0.4004,      0.4014,      0.4024,      0.4034,      0.4044,     0.40541,     0.40641,     0.40741,\n",
              "           0.40841,     0.40941,     0.41041,     0.41141,     0.41241,     0.41341,     0.41441,     0.41542,     0.41642,     0.41742,     0.41842,     0.41942,     0.42042,     0.42142,     0.42242,     0.42342,     0.42442,     0.42543,     0.42643,     0.42743,     0.42843,     0.42943,     0.43043,     0.43143,\n",
              "           0.43243,     0.43343,     0.43443,     0.43544,     0.43644,     0.43744,     0.43844,     0.43944,     0.44044,     0.44144,     0.44244,     0.44344,     0.44444,     0.44545,     0.44645,     0.44745,     0.44845,     0.44945,     0.45045,     0.45145,     0.45245,     0.45345,     0.45445,     0.45546,\n",
              "           0.45646,     0.45746,     0.45846,     0.45946,     0.46046,     0.46146,     0.46246,     0.46346,     0.46446,     0.46547,     0.46647,     0.46747,     0.46847,     0.46947,     0.47047,     0.47147,     0.47247,     0.47347,     0.47447,     0.47548,     0.47648,     0.47748,     0.47848,     0.47948,\n",
              "           0.48048,     0.48148,     0.48248,     0.48348,     0.48448,     0.48549,     0.48649,     0.48749,     0.48849,     0.48949,     0.49049,     0.49149,     0.49249,     0.49349,     0.49449,      0.4955,      0.4965,      0.4975,      0.4985,      0.4995,      0.5005,      0.5015,      0.5025,      0.5035,\n",
              "            0.5045,     0.50551,     0.50651,     0.50751,     0.50851,     0.50951,     0.51051,     0.51151,     0.51251,     0.51351,     0.51451,     0.51552,     0.51652,     0.51752,     0.51852,     0.51952,     0.52052,     0.52152,     0.52252,     0.52352,     0.52452,     0.52553,     0.52653,     0.52753,\n",
              "           0.52853,     0.52953,     0.53053,     0.53153,     0.53253,     0.53353,     0.53453,     0.53554,     0.53654,     0.53754,     0.53854,     0.53954,     0.54054,     0.54154,     0.54254,     0.54354,     0.54454,     0.54555,     0.54655,     0.54755,     0.54855,     0.54955,     0.55055,     0.55155,\n",
              "           0.55255,     0.55355,     0.55455,     0.55556,     0.55656,     0.55756,     0.55856,     0.55956,     0.56056,     0.56156,     0.56256,     0.56356,     0.56456,     0.56557,     0.56657,     0.56757,     0.56857,     0.56957,     0.57057,     0.57157,     0.57257,     0.57357,     0.57457,     0.57558,\n",
              "           0.57658,     0.57758,     0.57858,     0.57958,     0.58058,     0.58158,     0.58258,     0.58358,     0.58458,     0.58559,     0.58659,     0.58759,     0.58859,     0.58959,     0.59059,     0.59159,     0.59259,     0.59359,     0.59459,      0.5956,      0.5966,      0.5976,      0.5986,      0.5996,\n",
              "            0.6006,      0.6016,      0.6026,      0.6036,      0.6046,     0.60561,     0.60661,     0.60761,     0.60861,     0.60961,     0.61061,     0.61161,     0.61261,     0.61361,     0.61461,     0.61562,     0.61662,     0.61762,     0.61862,     0.61962,     0.62062,     0.62162,     0.62262,     0.62362,\n",
              "           0.62462,     0.62563,     0.62663,     0.62763,     0.62863,     0.62963,     0.63063,     0.63163,     0.63263,     0.63363,     0.63463,     0.63564,     0.63664,     0.63764,     0.63864,     0.63964,     0.64064,     0.64164,     0.64264,     0.64364,     0.64464,     0.64565,     0.64665,     0.64765,\n",
              "           0.64865,     0.64965,     0.65065,     0.65165,     0.65265,     0.65365,     0.65465,     0.65566,     0.65666,     0.65766,     0.65866,     0.65966,     0.66066,     0.66166,     0.66266,     0.66366,     0.66466,     0.66567,     0.66667,     0.66767,     0.66867,     0.66967,     0.67067,     0.67167,\n",
              "           0.67267,     0.67367,     0.67467,     0.67568,     0.67668,     0.67768,     0.67868,     0.67968,     0.68068,     0.68168,     0.68268,     0.68368,     0.68468,     0.68569,     0.68669,     0.68769,     0.68869,     0.68969,     0.69069,     0.69169,     0.69269,     0.69369,     0.69469,      0.6957,\n",
              "            0.6967,      0.6977,      0.6987,      0.6997,      0.7007,      0.7017,      0.7027,      0.7037,      0.7047,     0.70571,     0.70671,     0.70771,     0.70871,     0.70971,     0.71071,     0.71171,     0.71271,     0.71371,     0.71471,     0.71572,     0.71672,     0.71772,     0.71872,     0.71972,\n",
              "           0.72072,     0.72172,     0.72272,     0.72372,     0.72472,     0.72573,     0.72673,     0.72773,     0.72873,     0.72973,     0.73073,     0.73173,     0.73273,     0.73373,     0.73473,     0.73574,     0.73674,     0.73774,     0.73874,     0.73974,     0.74074,     0.74174,     0.74274,     0.74374,\n",
              "           0.74474,     0.74575,     0.74675,     0.74775,     0.74875,     0.74975,     0.75075,     0.75175,     0.75275,     0.75375,     0.75475,     0.75576,     0.75676,     0.75776,     0.75876,     0.75976,     0.76076,     0.76176,     0.76276,     0.76376,     0.76476,     0.76577,     0.76677,     0.76777,\n",
              "           0.76877,     0.76977,     0.77077,     0.77177,     0.77277,     0.77377,     0.77477,     0.77578,     0.77678,     0.77778,     0.77878,     0.77978,     0.78078,     0.78178,     0.78278,     0.78378,     0.78478,     0.78579,     0.78679,     0.78779,     0.78879,     0.78979,     0.79079,     0.79179,\n",
              "           0.79279,     0.79379,     0.79479,      0.7958,      0.7968,      0.7978,      0.7988,      0.7998,      0.8008,      0.8018,      0.8028,      0.8038,      0.8048,     0.80581,     0.80681,     0.80781,     0.80881,     0.80981,     0.81081,     0.81181,     0.81281,     0.81381,     0.81481,     0.81582,\n",
              "           0.81682,     0.81782,     0.81882,     0.81982,     0.82082,     0.82182,     0.82282,     0.82382,     0.82482,     0.82583,     0.82683,     0.82783,     0.82883,     0.82983,     0.83083,     0.83183,     0.83283,     0.83383,     0.83483,     0.83584,     0.83684,     0.83784,     0.83884,     0.83984,\n",
              "           0.84084,     0.84184,     0.84284,     0.84384,     0.84484,     0.84585,     0.84685,     0.84785,     0.84885,     0.84985,     0.85085,     0.85185,     0.85285,     0.85385,     0.85485,     0.85586,     0.85686,     0.85786,     0.85886,     0.85986,     0.86086,     0.86186,     0.86286,     0.86386,\n",
              "           0.86486,     0.86587,     0.86687,     0.86787,     0.86887,     0.86987,     0.87087,     0.87187,     0.87287,     0.87387,     0.87487,     0.87588,     0.87688,     0.87788,     0.87888,     0.87988,     0.88088,     0.88188,     0.88288,     0.88388,     0.88488,     0.88589,     0.88689,     0.88789,\n",
              "           0.88889,     0.88989,     0.89089,     0.89189,     0.89289,     0.89389,     0.89489,      0.8959,      0.8969,      0.8979,      0.8989,      0.8999,      0.9009,      0.9019,      0.9029,      0.9039,      0.9049,     0.90591,     0.90691,     0.90791,     0.90891,     0.90991,     0.91091,     0.91191,\n",
              "           0.91291,     0.91391,     0.91491,     0.91592,     0.91692,     0.91792,     0.91892,     0.91992,     0.92092,     0.92192,     0.92292,     0.92392,     0.92492,     0.92593,     0.92693,     0.92793,     0.92893,     0.92993,     0.93093,     0.93193,     0.93293,     0.93393,     0.93493,     0.93594,\n",
              "           0.93694,     0.93794,     0.93894,     0.93994,     0.94094,     0.94194,     0.94294,     0.94394,     0.94494,     0.94595,     0.94695,     0.94795,     0.94895,     0.94995,     0.95095,     0.95195,     0.95295,     0.95395,     0.95495,     0.95596,     0.95696,     0.95796,     0.95896,     0.95996,\n",
              "           0.96096,     0.96196,     0.96296,     0.96396,     0.96496,     0.96597,     0.96697,     0.96797,     0.96897,     0.96997,     0.97097,     0.97197,     0.97297,     0.97397,     0.97497,     0.97598,     0.97698,     0.97798,     0.97898,     0.97998,     0.98098,     0.98198,     0.98298,     0.98398,\n",
              "           0.98498,     0.98599,     0.98699,     0.98799,     0.98899,     0.98999,     0.99099,     0.99199,     0.99299,     0.99399,     0.99499,       0.996,       0.997,       0.998,       0.999,           1]), array([[          1,           1,           1, ...,  0.00063088,  0.00031544,           0],\n",
              "       [          1,           1,           1, ...,   0.0027392,   0.0013696,           0]]), 'Recall', 'Precision'], [array([          0,    0.001001,    0.002002,    0.003003,    0.004004,    0.005005,    0.006006,    0.007007,    0.008008,    0.009009,     0.01001,    0.011011,    0.012012,    0.013013,    0.014014,    0.015015,    0.016016,    0.017017,    0.018018,    0.019019,     0.02002,    0.021021,    0.022022,    0.023023,\n",
              "          0.024024,    0.025025,    0.026026,    0.027027,    0.028028,    0.029029,     0.03003,    0.031031,    0.032032,    0.033033,    0.034034,    0.035035,    0.036036,    0.037037,    0.038038,    0.039039,     0.04004,    0.041041,    0.042042,    0.043043,    0.044044,    0.045045,    0.046046,    0.047047,\n",
              "          0.048048,    0.049049,     0.05005,    0.051051,    0.052052,    0.053053,    0.054054,    0.055055,    0.056056,    0.057057,    0.058058,    0.059059,     0.06006,    0.061061,    0.062062,    0.063063,    0.064064,    0.065065,    0.066066,    0.067067,    0.068068,    0.069069,     0.07007,    0.071071,\n",
              "          0.072072,    0.073073,    0.074074,    0.075075,    0.076076,    0.077077,    0.078078,    0.079079,     0.08008,    0.081081,    0.082082,    0.083083,    0.084084,    0.085085,    0.086086,    0.087087,    0.088088,    0.089089,     0.09009,    0.091091,    0.092092,    0.093093,    0.094094,    0.095095,\n",
              "          0.096096,    0.097097,    0.098098,    0.099099,      0.1001,      0.1011,      0.1021,      0.1031,      0.1041,     0.10511,     0.10611,     0.10711,     0.10811,     0.10911,     0.11011,     0.11111,     0.11211,     0.11311,     0.11411,     0.11512,     0.11612,     0.11712,     0.11812,     0.11912,\n",
              "           0.12012,     0.12112,     0.12212,     0.12312,     0.12412,     0.12513,     0.12613,     0.12713,     0.12813,     0.12913,     0.13013,     0.13113,     0.13213,     0.13313,     0.13413,     0.13514,     0.13614,     0.13714,     0.13814,     0.13914,     0.14014,     0.14114,     0.14214,     0.14314,\n",
              "           0.14414,     0.14515,     0.14615,     0.14715,     0.14815,     0.14915,     0.15015,     0.15115,     0.15215,     0.15315,     0.15415,     0.15516,     0.15616,     0.15716,     0.15816,     0.15916,     0.16016,     0.16116,     0.16216,     0.16316,     0.16416,     0.16517,     0.16617,     0.16717,\n",
              "           0.16817,     0.16917,     0.17017,     0.17117,     0.17217,     0.17317,     0.17417,     0.17518,     0.17618,     0.17718,     0.17818,     0.17918,     0.18018,     0.18118,     0.18218,     0.18318,     0.18418,     0.18519,     0.18619,     0.18719,     0.18819,     0.18919,     0.19019,     0.19119,\n",
              "           0.19219,     0.19319,     0.19419,      0.1952,      0.1962,      0.1972,      0.1982,      0.1992,      0.2002,      0.2012,      0.2022,      0.2032,      0.2042,     0.20521,     0.20621,     0.20721,     0.20821,     0.20921,     0.21021,     0.21121,     0.21221,     0.21321,     0.21421,     0.21522,\n",
              "           0.21622,     0.21722,     0.21822,     0.21922,     0.22022,     0.22122,     0.22222,     0.22322,     0.22422,     0.22523,     0.22623,     0.22723,     0.22823,     0.22923,     0.23023,     0.23123,     0.23223,     0.23323,     0.23423,     0.23524,     0.23624,     0.23724,     0.23824,     0.23924,\n",
              "           0.24024,     0.24124,     0.24224,     0.24324,     0.24424,     0.24525,     0.24625,     0.24725,     0.24825,     0.24925,     0.25025,     0.25125,     0.25225,     0.25325,     0.25425,     0.25526,     0.25626,     0.25726,     0.25826,     0.25926,     0.26026,     0.26126,     0.26226,     0.26326,\n",
              "           0.26426,     0.26527,     0.26627,     0.26727,     0.26827,     0.26927,     0.27027,     0.27127,     0.27227,     0.27327,     0.27427,     0.27528,     0.27628,     0.27728,     0.27828,     0.27928,     0.28028,     0.28128,     0.28228,     0.28328,     0.28428,     0.28529,     0.28629,     0.28729,\n",
              "           0.28829,     0.28929,     0.29029,     0.29129,     0.29229,     0.29329,     0.29429,      0.2953,      0.2963,      0.2973,      0.2983,      0.2993,      0.3003,      0.3013,      0.3023,      0.3033,      0.3043,     0.30531,     0.30631,     0.30731,     0.30831,     0.30931,     0.31031,     0.31131,\n",
              "           0.31231,     0.31331,     0.31431,     0.31532,     0.31632,     0.31732,     0.31832,     0.31932,     0.32032,     0.32132,     0.32232,     0.32332,     0.32432,     0.32533,     0.32633,     0.32733,     0.32833,     0.32933,     0.33033,     0.33133,     0.33233,     0.33333,     0.33433,     0.33534,\n",
              "           0.33634,     0.33734,     0.33834,     0.33934,     0.34034,     0.34134,     0.34234,     0.34334,     0.34434,     0.34535,     0.34635,     0.34735,     0.34835,     0.34935,     0.35035,     0.35135,     0.35235,     0.35335,     0.35435,     0.35536,     0.35636,     0.35736,     0.35836,     0.35936,\n",
              "           0.36036,     0.36136,     0.36236,     0.36336,     0.36436,     0.36537,     0.36637,     0.36737,     0.36837,     0.36937,     0.37037,     0.37137,     0.37237,     0.37337,     0.37437,     0.37538,     0.37638,     0.37738,     0.37838,     0.37938,     0.38038,     0.38138,     0.38238,     0.38338,\n",
              "           0.38438,     0.38539,     0.38639,     0.38739,     0.38839,     0.38939,     0.39039,     0.39139,     0.39239,     0.39339,     0.39439,      0.3954,      0.3964,      0.3974,      0.3984,      0.3994,      0.4004,      0.4014,      0.4024,      0.4034,      0.4044,     0.40541,     0.40641,     0.40741,\n",
              "           0.40841,     0.40941,     0.41041,     0.41141,     0.41241,     0.41341,     0.41441,     0.41542,     0.41642,     0.41742,     0.41842,     0.41942,     0.42042,     0.42142,     0.42242,     0.42342,     0.42442,     0.42543,     0.42643,     0.42743,     0.42843,     0.42943,     0.43043,     0.43143,\n",
              "           0.43243,     0.43343,     0.43443,     0.43544,     0.43644,     0.43744,     0.43844,     0.43944,     0.44044,     0.44144,     0.44244,     0.44344,     0.44444,     0.44545,     0.44645,     0.44745,     0.44845,     0.44945,     0.45045,     0.45145,     0.45245,     0.45345,     0.45445,     0.45546,\n",
              "           0.45646,     0.45746,     0.45846,     0.45946,     0.46046,     0.46146,     0.46246,     0.46346,     0.46446,     0.46547,     0.46647,     0.46747,     0.46847,     0.46947,     0.47047,     0.47147,     0.47247,     0.47347,     0.47447,     0.47548,     0.47648,     0.47748,     0.47848,     0.47948,\n",
              "           0.48048,     0.48148,     0.48248,     0.48348,     0.48448,     0.48549,     0.48649,     0.48749,     0.48849,     0.48949,     0.49049,     0.49149,     0.49249,     0.49349,     0.49449,      0.4955,      0.4965,      0.4975,      0.4985,      0.4995,      0.5005,      0.5015,      0.5025,      0.5035,\n",
              "            0.5045,     0.50551,     0.50651,     0.50751,     0.50851,     0.50951,     0.51051,     0.51151,     0.51251,     0.51351,     0.51451,     0.51552,     0.51652,     0.51752,     0.51852,     0.51952,     0.52052,     0.52152,     0.52252,     0.52352,     0.52452,     0.52553,     0.52653,     0.52753,\n",
              "           0.52853,     0.52953,     0.53053,     0.53153,     0.53253,     0.53353,     0.53453,     0.53554,     0.53654,     0.53754,     0.53854,     0.53954,     0.54054,     0.54154,     0.54254,     0.54354,     0.54454,     0.54555,     0.54655,     0.54755,     0.54855,     0.54955,     0.55055,     0.55155,\n",
              "           0.55255,     0.55355,     0.55455,     0.55556,     0.55656,     0.55756,     0.55856,     0.55956,     0.56056,     0.56156,     0.56256,     0.56356,     0.56456,     0.56557,     0.56657,     0.56757,     0.56857,     0.56957,     0.57057,     0.57157,     0.57257,     0.57357,     0.57457,     0.57558,\n",
              "           0.57658,     0.57758,     0.57858,     0.57958,     0.58058,     0.58158,     0.58258,     0.58358,     0.58458,     0.58559,     0.58659,     0.58759,     0.58859,     0.58959,     0.59059,     0.59159,     0.59259,     0.59359,     0.59459,      0.5956,      0.5966,      0.5976,      0.5986,      0.5996,\n",
              "            0.6006,      0.6016,      0.6026,      0.6036,      0.6046,     0.60561,     0.60661,     0.60761,     0.60861,     0.60961,     0.61061,     0.61161,     0.61261,     0.61361,     0.61461,     0.61562,     0.61662,     0.61762,     0.61862,     0.61962,     0.62062,     0.62162,     0.62262,     0.62362,\n",
              "           0.62462,     0.62563,     0.62663,     0.62763,     0.62863,     0.62963,     0.63063,     0.63163,     0.63263,     0.63363,     0.63463,     0.63564,     0.63664,     0.63764,     0.63864,     0.63964,     0.64064,     0.64164,     0.64264,     0.64364,     0.64464,     0.64565,     0.64665,     0.64765,\n",
              "           0.64865,     0.64965,     0.65065,     0.65165,     0.65265,     0.65365,     0.65465,     0.65566,     0.65666,     0.65766,     0.65866,     0.65966,     0.66066,     0.66166,     0.66266,     0.66366,     0.66466,     0.66567,     0.66667,     0.66767,     0.66867,     0.66967,     0.67067,     0.67167,\n",
              "           0.67267,     0.67367,     0.67467,     0.67568,     0.67668,     0.67768,     0.67868,     0.67968,     0.68068,     0.68168,     0.68268,     0.68368,     0.68468,     0.68569,     0.68669,     0.68769,     0.68869,     0.68969,     0.69069,     0.69169,     0.69269,     0.69369,     0.69469,      0.6957,\n",
              "            0.6967,      0.6977,      0.6987,      0.6997,      0.7007,      0.7017,      0.7027,      0.7037,      0.7047,     0.70571,     0.70671,     0.70771,     0.70871,     0.70971,     0.71071,     0.71171,     0.71271,     0.71371,     0.71471,     0.71572,     0.71672,     0.71772,     0.71872,     0.71972,\n",
              "           0.72072,     0.72172,     0.72272,     0.72372,     0.72472,     0.72573,     0.72673,     0.72773,     0.72873,     0.72973,     0.73073,     0.73173,     0.73273,     0.73373,     0.73473,     0.73574,     0.73674,     0.73774,     0.73874,     0.73974,     0.74074,     0.74174,     0.74274,     0.74374,\n",
              "           0.74474,     0.74575,     0.74675,     0.74775,     0.74875,     0.74975,     0.75075,     0.75175,     0.75275,     0.75375,     0.75475,     0.75576,     0.75676,     0.75776,     0.75876,     0.75976,     0.76076,     0.76176,     0.76276,     0.76376,     0.76476,     0.76577,     0.76677,     0.76777,\n",
              "           0.76877,     0.76977,     0.77077,     0.77177,     0.77277,     0.77377,     0.77477,     0.77578,     0.77678,     0.77778,     0.77878,     0.77978,     0.78078,     0.78178,     0.78278,     0.78378,     0.78478,     0.78579,     0.78679,     0.78779,     0.78879,     0.78979,     0.79079,     0.79179,\n",
              "           0.79279,     0.79379,     0.79479,      0.7958,      0.7968,      0.7978,      0.7988,      0.7998,      0.8008,      0.8018,      0.8028,      0.8038,      0.8048,     0.80581,     0.80681,     0.80781,     0.80881,     0.80981,     0.81081,     0.81181,     0.81281,     0.81381,     0.81481,     0.81582,\n",
              "           0.81682,     0.81782,     0.81882,     0.81982,     0.82082,     0.82182,     0.82282,     0.82382,     0.82482,     0.82583,     0.82683,     0.82783,     0.82883,     0.82983,     0.83083,     0.83183,     0.83283,     0.83383,     0.83483,     0.83584,     0.83684,     0.83784,     0.83884,     0.83984,\n",
              "           0.84084,     0.84184,     0.84284,     0.84384,     0.84484,     0.84585,     0.84685,     0.84785,     0.84885,     0.84985,     0.85085,     0.85185,     0.85285,     0.85385,     0.85485,     0.85586,     0.85686,     0.85786,     0.85886,     0.85986,     0.86086,     0.86186,     0.86286,     0.86386,\n",
              "           0.86486,     0.86587,     0.86687,     0.86787,     0.86887,     0.86987,     0.87087,     0.87187,     0.87287,     0.87387,     0.87487,     0.87588,     0.87688,     0.87788,     0.87888,     0.87988,     0.88088,     0.88188,     0.88288,     0.88388,     0.88488,     0.88589,     0.88689,     0.88789,\n",
              "           0.88889,     0.88989,     0.89089,     0.89189,     0.89289,     0.89389,     0.89489,      0.8959,      0.8969,      0.8979,      0.8989,      0.8999,      0.9009,      0.9019,      0.9029,      0.9039,      0.9049,     0.90591,     0.90691,     0.90791,     0.90891,     0.90991,     0.91091,     0.91191,\n",
              "           0.91291,     0.91391,     0.91491,     0.91592,     0.91692,     0.91792,     0.91892,     0.91992,     0.92092,     0.92192,     0.92292,     0.92392,     0.92492,     0.92593,     0.92693,     0.92793,     0.92893,     0.92993,     0.93093,     0.93193,     0.93293,     0.93393,     0.93493,     0.93594,\n",
              "           0.93694,     0.93794,     0.93894,     0.93994,     0.94094,     0.94194,     0.94294,     0.94394,     0.94494,     0.94595,     0.94695,     0.94795,     0.94895,     0.94995,     0.95095,     0.95195,     0.95295,     0.95395,     0.95495,     0.95596,     0.95696,     0.95796,     0.95896,     0.95996,\n",
              "           0.96096,     0.96196,     0.96296,     0.96396,     0.96496,     0.96597,     0.96697,     0.96797,     0.96897,     0.96997,     0.97097,     0.97197,     0.97297,     0.97397,     0.97497,     0.97598,     0.97698,     0.97798,     0.97898,     0.97998,     0.98098,     0.98198,     0.98298,     0.98398,\n",
              "           0.98498,     0.98599,     0.98699,     0.98799,     0.98899,     0.98999,     0.99099,     0.99199,     0.99299,     0.99399,     0.99499,       0.996,       0.997,       0.998,       0.999,           1]), array([[   0.097325,    0.097325,     0.14597, ...,           0,           0,           0],\n",
              "       [    0.19302,     0.19302,     0.25592, ...,           0,           0,           0]]), 'Confidence', 'F1'], [array([          0,    0.001001,    0.002002,    0.003003,    0.004004,    0.005005,    0.006006,    0.007007,    0.008008,    0.009009,     0.01001,    0.011011,    0.012012,    0.013013,    0.014014,    0.015015,    0.016016,    0.017017,    0.018018,    0.019019,     0.02002,    0.021021,    0.022022,    0.023023,\n",
              "          0.024024,    0.025025,    0.026026,    0.027027,    0.028028,    0.029029,     0.03003,    0.031031,    0.032032,    0.033033,    0.034034,    0.035035,    0.036036,    0.037037,    0.038038,    0.039039,     0.04004,    0.041041,    0.042042,    0.043043,    0.044044,    0.045045,    0.046046,    0.047047,\n",
              "          0.048048,    0.049049,     0.05005,    0.051051,    0.052052,    0.053053,    0.054054,    0.055055,    0.056056,    0.057057,    0.058058,    0.059059,     0.06006,    0.061061,    0.062062,    0.063063,    0.064064,    0.065065,    0.066066,    0.067067,    0.068068,    0.069069,     0.07007,    0.071071,\n",
              "          0.072072,    0.073073,    0.074074,    0.075075,    0.076076,    0.077077,    0.078078,    0.079079,     0.08008,    0.081081,    0.082082,    0.083083,    0.084084,    0.085085,    0.086086,    0.087087,    0.088088,    0.089089,     0.09009,    0.091091,    0.092092,    0.093093,    0.094094,    0.095095,\n",
              "          0.096096,    0.097097,    0.098098,    0.099099,      0.1001,      0.1011,      0.1021,      0.1031,      0.1041,     0.10511,     0.10611,     0.10711,     0.10811,     0.10911,     0.11011,     0.11111,     0.11211,     0.11311,     0.11411,     0.11512,     0.11612,     0.11712,     0.11812,     0.11912,\n",
              "           0.12012,     0.12112,     0.12212,     0.12312,     0.12412,     0.12513,     0.12613,     0.12713,     0.12813,     0.12913,     0.13013,     0.13113,     0.13213,     0.13313,     0.13413,     0.13514,     0.13614,     0.13714,     0.13814,     0.13914,     0.14014,     0.14114,     0.14214,     0.14314,\n",
              "           0.14414,     0.14515,     0.14615,     0.14715,     0.14815,     0.14915,     0.15015,     0.15115,     0.15215,     0.15315,     0.15415,     0.15516,     0.15616,     0.15716,     0.15816,     0.15916,     0.16016,     0.16116,     0.16216,     0.16316,     0.16416,     0.16517,     0.16617,     0.16717,\n",
              "           0.16817,     0.16917,     0.17017,     0.17117,     0.17217,     0.17317,     0.17417,     0.17518,     0.17618,     0.17718,     0.17818,     0.17918,     0.18018,     0.18118,     0.18218,     0.18318,     0.18418,     0.18519,     0.18619,     0.18719,     0.18819,     0.18919,     0.19019,     0.19119,\n",
              "           0.19219,     0.19319,     0.19419,      0.1952,      0.1962,      0.1972,      0.1982,      0.1992,      0.2002,      0.2012,      0.2022,      0.2032,      0.2042,     0.20521,     0.20621,     0.20721,     0.20821,     0.20921,     0.21021,     0.21121,     0.21221,     0.21321,     0.21421,     0.21522,\n",
              "           0.21622,     0.21722,     0.21822,     0.21922,     0.22022,     0.22122,     0.22222,     0.22322,     0.22422,     0.22523,     0.22623,     0.22723,     0.22823,     0.22923,     0.23023,     0.23123,     0.23223,     0.23323,     0.23423,     0.23524,     0.23624,     0.23724,     0.23824,     0.23924,\n",
              "           0.24024,     0.24124,     0.24224,     0.24324,     0.24424,     0.24525,     0.24625,     0.24725,     0.24825,     0.24925,     0.25025,     0.25125,     0.25225,     0.25325,     0.25425,     0.25526,     0.25626,     0.25726,     0.25826,     0.25926,     0.26026,     0.26126,     0.26226,     0.26326,\n",
              "           0.26426,     0.26527,     0.26627,     0.26727,     0.26827,     0.26927,     0.27027,     0.27127,     0.27227,     0.27327,     0.27427,     0.27528,     0.27628,     0.27728,     0.27828,     0.27928,     0.28028,     0.28128,     0.28228,     0.28328,     0.28428,     0.28529,     0.28629,     0.28729,\n",
              "           0.28829,     0.28929,     0.29029,     0.29129,     0.29229,     0.29329,     0.29429,      0.2953,      0.2963,      0.2973,      0.2983,      0.2993,      0.3003,      0.3013,      0.3023,      0.3033,      0.3043,     0.30531,     0.30631,     0.30731,     0.30831,     0.30931,     0.31031,     0.31131,\n",
              "           0.31231,     0.31331,     0.31431,     0.31532,     0.31632,     0.31732,     0.31832,     0.31932,     0.32032,     0.32132,     0.32232,     0.32332,     0.32432,     0.32533,     0.32633,     0.32733,     0.32833,     0.32933,     0.33033,     0.33133,     0.33233,     0.33333,     0.33433,     0.33534,\n",
              "           0.33634,     0.33734,     0.33834,     0.33934,     0.34034,     0.34134,     0.34234,     0.34334,     0.34434,     0.34535,     0.34635,     0.34735,     0.34835,     0.34935,     0.35035,     0.35135,     0.35235,     0.35335,     0.35435,     0.35536,     0.35636,     0.35736,     0.35836,     0.35936,\n",
              "           0.36036,     0.36136,     0.36236,     0.36336,     0.36436,     0.36537,     0.36637,     0.36737,     0.36837,     0.36937,     0.37037,     0.37137,     0.37237,     0.37337,     0.37437,     0.37538,     0.37638,     0.37738,     0.37838,     0.37938,     0.38038,     0.38138,     0.38238,     0.38338,\n",
              "           0.38438,     0.38539,     0.38639,     0.38739,     0.38839,     0.38939,     0.39039,     0.39139,     0.39239,     0.39339,     0.39439,      0.3954,      0.3964,      0.3974,      0.3984,      0.3994,      0.4004,      0.4014,      0.4024,      0.4034,      0.4044,     0.40541,     0.40641,     0.40741,\n",
              "           0.40841,     0.40941,     0.41041,     0.41141,     0.41241,     0.41341,     0.41441,     0.41542,     0.41642,     0.41742,     0.41842,     0.41942,     0.42042,     0.42142,     0.42242,     0.42342,     0.42442,     0.42543,     0.42643,     0.42743,     0.42843,     0.42943,     0.43043,     0.43143,\n",
              "           0.43243,     0.43343,     0.43443,     0.43544,     0.43644,     0.43744,     0.43844,     0.43944,     0.44044,     0.44144,     0.44244,     0.44344,     0.44444,     0.44545,     0.44645,     0.44745,     0.44845,     0.44945,     0.45045,     0.45145,     0.45245,     0.45345,     0.45445,     0.45546,\n",
              "           0.45646,     0.45746,     0.45846,     0.45946,     0.46046,     0.46146,     0.46246,     0.46346,     0.46446,     0.46547,     0.46647,     0.46747,     0.46847,     0.46947,     0.47047,     0.47147,     0.47247,     0.47347,     0.47447,     0.47548,     0.47648,     0.47748,     0.47848,     0.47948,\n",
              "           0.48048,     0.48148,     0.48248,     0.48348,     0.48448,     0.48549,     0.48649,     0.48749,     0.48849,     0.48949,     0.49049,     0.49149,     0.49249,     0.49349,     0.49449,      0.4955,      0.4965,      0.4975,      0.4985,      0.4995,      0.5005,      0.5015,      0.5025,      0.5035,\n",
              "            0.5045,     0.50551,     0.50651,     0.50751,     0.50851,     0.50951,     0.51051,     0.51151,     0.51251,     0.51351,     0.51451,     0.51552,     0.51652,     0.51752,     0.51852,     0.51952,     0.52052,     0.52152,     0.52252,     0.52352,     0.52452,     0.52553,     0.52653,     0.52753,\n",
              "           0.52853,     0.52953,     0.53053,     0.53153,     0.53253,     0.53353,     0.53453,     0.53554,     0.53654,     0.53754,     0.53854,     0.53954,     0.54054,     0.54154,     0.54254,     0.54354,     0.54454,     0.54555,     0.54655,     0.54755,     0.54855,     0.54955,     0.55055,     0.55155,\n",
              "           0.55255,     0.55355,     0.55455,     0.55556,     0.55656,     0.55756,     0.55856,     0.55956,     0.56056,     0.56156,     0.56256,     0.56356,     0.56456,     0.56557,     0.56657,     0.56757,     0.56857,     0.56957,     0.57057,     0.57157,     0.57257,     0.57357,     0.57457,     0.57558,\n",
              "           0.57658,     0.57758,     0.57858,     0.57958,     0.58058,     0.58158,     0.58258,     0.58358,     0.58458,     0.58559,     0.58659,     0.58759,     0.58859,     0.58959,     0.59059,     0.59159,     0.59259,     0.59359,     0.59459,      0.5956,      0.5966,      0.5976,      0.5986,      0.5996,\n",
              "            0.6006,      0.6016,      0.6026,      0.6036,      0.6046,     0.60561,     0.60661,     0.60761,     0.60861,     0.60961,     0.61061,     0.61161,     0.61261,     0.61361,     0.61461,     0.61562,     0.61662,     0.61762,     0.61862,     0.61962,     0.62062,     0.62162,     0.62262,     0.62362,\n",
              "           0.62462,     0.62563,     0.62663,     0.62763,     0.62863,     0.62963,     0.63063,     0.63163,     0.63263,     0.63363,     0.63463,     0.63564,     0.63664,     0.63764,     0.63864,     0.63964,     0.64064,     0.64164,     0.64264,     0.64364,     0.64464,     0.64565,     0.64665,     0.64765,\n",
              "           0.64865,     0.64965,     0.65065,     0.65165,     0.65265,     0.65365,     0.65465,     0.65566,     0.65666,     0.65766,     0.65866,     0.65966,     0.66066,     0.66166,     0.66266,     0.66366,     0.66466,     0.66567,     0.66667,     0.66767,     0.66867,     0.66967,     0.67067,     0.67167,\n",
              "           0.67267,     0.67367,     0.67467,     0.67568,     0.67668,     0.67768,     0.67868,     0.67968,     0.68068,     0.68168,     0.68268,     0.68368,     0.68468,     0.68569,     0.68669,     0.68769,     0.68869,     0.68969,     0.69069,     0.69169,     0.69269,     0.69369,     0.69469,      0.6957,\n",
              "            0.6967,      0.6977,      0.6987,      0.6997,      0.7007,      0.7017,      0.7027,      0.7037,      0.7047,     0.70571,     0.70671,     0.70771,     0.70871,     0.70971,     0.71071,     0.71171,     0.71271,     0.71371,     0.71471,     0.71572,     0.71672,     0.71772,     0.71872,     0.71972,\n",
              "           0.72072,     0.72172,     0.72272,     0.72372,     0.72472,     0.72573,     0.72673,     0.72773,     0.72873,     0.72973,     0.73073,     0.73173,     0.73273,     0.73373,     0.73473,     0.73574,     0.73674,     0.73774,     0.73874,     0.73974,     0.74074,     0.74174,     0.74274,     0.74374,\n",
              "           0.74474,     0.74575,     0.74675,     0.74775,     0.74875,     0.74975,     0.75075,     0.75175,     0.75275,     0.75375,     0.75475,     0.75576,     0.75676,     0.75776,     0.75876,     0.75976,     0.76076,     0.76176,     0.76276,     0.76376,     0.76476,     0.76577,     0.76677,     0.76777,\n",
              "           0.76877,     0.76977,     0.77077,     0.77177,     0.77277,     0.77377,     0.77477,     0.77578,     0.77678,     0.77778,     0.77878,     0.77978,     0.78078,     0.78178,     0.78278,     0.78378,     0.78478,     0.78579,     0.78679,     0.78779,     0.78879,     0.78979,     0.79079,     0.79179,\n",
              "           0.79279,     0.79379,     0.79479,      0.7958,      0.7968,      0.7978,      0.7988,      0.7998,      0.8008,      0.8018,      0.8028,      0.8038,      0.8048,     0.80581,     0.80681,     0.80781,     0.80881,     0.80981,     0.81081,     0.81181,     0.81281,     0.81381,     0.81481,     0.81582,\n",
              "           0.81682,     0.81782,     0.81882,     0.81982,     0.82082,     0.82182,     0.82282,     0.82382,     0.82482,     0.82583,     0.82683,     0.82783,     0.82883,     0.82983,     0.83083,     0.83183,     0.83283,     0.83383,     0.83483,     0.83584,     0.83684,     0.83784,     0.83884,     0.83984,\n",
              "           0.84084,     0.84184,     0.84284,     0.84384,     0.84484,     0.84585,     0.84685,     0.84785,     0.84885,     0.84985,     0.85085,     0.85185,     0.85285,     0.85385,     0.85485,     0.85586,     0.85686,     0.85786,     0.85886,     0.85986,     0.86086,     0.86186,     0.86286,     0.86386,\n",
              "           0.86486,     0.86587,     0.86687,     0.86787,     0.86887,     0.86987,     0.87087,     0.87187,     0.87287,     0.87387,     0.87487,     0.87588,     0.87688,     0.87788,     0.87888,     0.87988,     0.88088,     0.88188,     0.88288,     0.88388,     0.88488,     0.88589,     0.88689,     0.88789,\n",
              "           0.88889,     0.88989,     0.89089,     0.89189,     0.89289,     0.89389,     0.89489,      0.8959,      0.8969,      0.8979,      0.8989,      0.8999,      0.9009,      0.9019,      0.9029,      0.9039,      0.9049,     0.90591,     0.90691,     0.90791,     0.90891,     0.90991,     0.91091,     0.91191,\n",
              "           0.91291,     0.91391,     0.91491,     0.91592,     0.91692,     0.91792,     0.91892,     0.91992,     0.92092,     0.92192,     0.92292,     0.92392,     0.92492,     0.92593,     0.92693,     0.92793,     0.92893,     0.92993,     0.93093,     0.93193,     0.93293,     0.93393,     0.93493,     0.93594,\n",
              "           0.93694,     0.93794,     0.93894,     0.93994,     0.94094,     0.94194,     0.94294,     0.94394,     0.94494,     0.94595,     0.94695,     0.94795,     0.94895,     0.94995,     0.95095,     0.95195,     0.95295,     0.95395,     0.95495,     0.95596,     0.95696,     0.95796,     0.95896,     0.95996,\n",
              "           0.96096,     0.96196,     0.96296,     0.96396,     0.96496,     0.96597,     0.96697,     0.96797,     0.96897,     0.96997,     0.97097,     0.97197,     0.97297,     0.97397,     0.97497,     0.97598,     0.97698,     0.97798,     0.97898,     0.97998,     0.98098,     0.98198,     0.98298,     0.98398,\n",
              "           0.98498,     0.98599,     0.98699,     0.98799,     0.98899,     0.98999,     0.99099,     0.99199,     0.99299,     0.99399,     0.99499,       0.996,       0.997,       0.998,       0.999,           1]), array([[    0.05167,     0.05167,    0.080198, ...,           1,           1,           1],\n",
              "       [     0.1078,      0.1078,     0.14876, ...,           1,           1,           1]]), 'Confidence', 'Precision'], [array([          0,    0.001001,    0.002002,    0.003003,    0.004004,    0.005005,    0.006006,    0.007007,    0.008008,    0.009009,     0.01001,    0.011011,    0.012012,    0.013013,    0.014014,    0.015015,    0.016016,    0.017017,    0.018018,    0.019019,     0.02002,    0.021021,    0.022022,    0.023023,\n",
              "          0.024024,    0.025025,    0.026026,    0.027027,    0.028028,    0.029029,     0.03003,    0.031031,    0.032032,    0.033033,    0.034034,    0.035035,    0.036036,    0.037037,    0.038038,    0.039039,     0.04004,    0.041041,    0.042042,    0.043043,    0.044044,    0.045045,    0.046046,    0.047047,\n",
              "          0.048048,    0.049049,     0.05005,    0.051051,    0.052052,    0.053053,    0.054054,    0.055055,    0.056056,    0.057057,    0.058058,    0.059059,     0.06006,    0.061061,    0.062062,    0.063063,    0.064064,    0.065065,    0.066066,    0.067067,    0.068068,    0.069069,     0.07007,    0.071071,\n",
              "          0.072072,    0.073073,    0.074074,    0.075075,    0.076076,    0.077077,    0.078078,    0.079079,     0.08008,    0.081081,    0.082082,    0.083083,    0.084084,    0.085085,    0.086086,    0.087087,    0.088088,    0.089089,     0.09009,    0.091091,    0.092092,    0.093093,    0.094094,    0.095095,\n",
              "          0.096096,    0.097097,    0.098098,    0.099099,      0.1001,      0.1011,      0.1021,      0.1031,      0.1041,     0.10511,     0.10611,     0.10711,     0.10811,     0.10911,     0.11011,     0.11111,     0.11211,     0.11311,     0.11411,     0.11512,     0.11612,     0.11712,     0.11812,     0.11912,\n",
              "           0.12012,     0.12112,     0.12212,     0.12312,     0.12412,     0.12513,     0.12613,     0.12713,     0.12813,     0.12913,     0.13013,     0.13113,     0.13213,     0.13313,     0.13413,     0.13514,     0.13614,     0.13714,     0.13814,     0.13914,     0.14014,     0.14114,     0.14214,     0.14314,\n",
              "           0.14414,     0.14515,     0.14615,     0.14715,     0.14815,     0.14915,     0.15015,     0.15115,     0.15215,     0.15315,     0.15415,     0.15516,     0.15616,     0.15716,     0.15816,     0.15916,     0.16016,     0.16116,     0.16216,     0.16316,     0.16416,     0.16517,     0.16617,     0.16717,\n",
              "           0.16817,     0.16917,     0.17017,     0.17117,     0.17217,     0.17317,     0.17417,     0.17518,     0.17618,     0.17718,     0.17818,     0.17918,     0.18018,     0.18118,     0.18218,     0.18318,     0.18418,     0.18519,     0.18619,     0.18719,     0.18819,     0.18919,     0.19019,     0.19119,\n",
              "           0.19219,     0.19319,     0.19419,      0.1952,      0.1962,      0.1972,      0.1982,      0.1992,      0.2002,      0.2012,      0.2022,      0.2032,      0.2042,     0.20521,     0.20621,     0.20721,     0.20821,     0.20921,     0.21021,     0.21121,     0.21221,     0.21321,     0.21421,     0.21522,\n",
              "           0.21622,     0.21722,     0.21822,     0.21922,     0.22022,     0.22122,     0.22222,     0.22322,     0.22422,     0.22523,     0.22623,     0.22723,     0.22823,     0.22923,     0.23023,     0.23123,     0.23223,     0.23323,     0.23423,     0.23524,     0.23624,     0.23724,     0.23824,     0.23924,\n",
              "           0.24024,     0.24124,     0.24224,     0.24324,     0.24424,     0.24525,     0.24625,     0.24725,     0.24825,     0.24925,     0.25025,     0.25125,     0.25225,     0.25325,     0.25425,     0.25526,     0.25626,     0.25726,     0.25826,     0.25926,     0.26026,     0.26126,     0.26226,     0.26326,\n",
              "           0.26426,     0.26527,     0.26627,     0.26727,     0.26827,     0.26927,     0.27027,     0.27127,     0.27227,     0.27327,     0.27427,     0.27528,     0.27628,     0.27728,     0.27828,     0.27928,     0.28028,     0.28128,     0.28228,     0.28328,     0.28428,     0.28529,     0.28629,     0.28729,\n",
              "           0.28829,     0.28929,     0.29029,     0.29129,     0.29229,     0.29329,     0.29429,      0.2953,      0.2963,      0.2973,      0.2983,      0.2993,      0.3003,      0.3013,      0.3023,      0.3033,      0.3043,     0.30531,     0.30631,     0.30731,     0.30831,     0.30931,     0.31031,     0.31131,\n",
              "           0.31231,     0.31331,     0.31431,     0.31532,     0.31632,     0.31732,     0.31832,     0.31932,     0.32032,     0.32132,     0.32232,     0.32332,     0.32432,     0.32533,     0.32633,     0.32733,     0.32833,     0.32933,     0.33033,     0.33133,     0.33233,     0.33333,     0.33433,     0.33534,\n",
              "           0.33634,     0.33734,     0.33834,     0.33934,     0.34034,     0.34134,     0.34234,     0.34334,     0.34434,     0.34535,     0.34635,     0.34735,     0.34835,     0.34935,     0.35035,     0.35135,     0.35235,     0.35335,     0.35435,     0.35536,     0.35636,     0.35736,     0.35836,     0.35936,\n",
              "           0.36036,     0.36136,     0.36236,     0.36336,     0.36436,     0.36537,     0.36637,     0.36737,     0.36837,     0.36937,     0.37037,     0.37137,     0.37237,     0.37337,     0.37437,     0.37538,     0.37638,     0.37738,     0.37838,     0.37938,     0.38038,     0.38138,     0.38238,     0.38338,\n",
              "           0.38438,     0.38539,     0.38639,     0.38739,     0.38839,     0.38939,     0.39039,     0.39139,     0.39239,     0.39339,     0.39439,      0.3954,      0.3964,      0.3974,      0.3984,      0.3994,      0.4004,      0.4014,      0.4024,      0.4034,      0.4044,     0.40541,     0.40641,     0.40741,\n",
              "           0.40841,     0.40941,     0.41041,     0.41141,     0.41241,     0.41341,     0.41441,     0.41542,     0.41642,     0.41742,     0.41842,     0.41942,     0.42042,     0.42142,     0.42242,     0.42342,     0.42442,     0.42543,     0.42643,     0.42743,     0.42843,     0.42943,     0.43043,     0.43143,\n",
              "           0.43243,     0.43343,     0.43443,     0.43544,     0.43644,     0.43744,     0.43844,     0.43944,     0.44044,     0.44144,     0.44244,     0.44344,     0.44444,     0.44545,     0.44645,     0.44745,     0.44845,     0.44945,     0.45045,     0.45145,     0.45245,     0.45345,     0.45445,     0.45546,\n",
              "           0.45646,     0.45746,     0.45846,     0.45946,     0.46046,     0.46146,     0.46246,     0.46346,     0.46446,     0.46547,     0.46647,     0.46747,     0.46847,     0.46947,     0.47047,     0.47147,     0.47247,     0.47347,     0.47447,     0.47548,     0.47648,     0.47748,     0.47848,     0.47948,\n",
              "           0.48048,     0.48148,     0.48248,     0.48348,     0.48448,     0.48549,     0.48649,     0.48749,     0.48849,     0.48949,     0.49049,     0.49149,     0.49249,     0.49349,     0.49449,      0.4955,      0.4965,      0.4975,      0.4985,      0.4995,      0.5005,      0.5015,      0.5025,      0.5035,\n",
              "            0.5045,     0.50551,     0.50651,     0.50751,     0.50851,     0.50951,     0.51051,     0.51151,     0.51251,     0.51351,     0.51451,     0.51552,     0.51652,     0.51752,     0.51852,     0.51952,     0.52052,     0.52152,     0.52252,     0.52352,     0.52452,     0.52553,     0.52653,     0.52753,\n",
              "           0.52853,     0.52953,     0.53053,     0.53153,     0.53253,     0.53353,     0.53453,     0.53554,     0.53654,     0.53754,     0.53854,     0.53954,     0.54054,     0.54154,     0.54254,     0.54354,     0.54454,     0.54555,     0.54655,     0.54755,     0.54855,     0.54955,     0.55055,     0.55155,\n",
              "           0.55255,     0.55355,     0.55455,     0.55556,     0.55656,     0.55756,     0.55856,     0.55956,     0.56056,     0.56156,     0.56256,     0.56356,     0.56456,     0.56557,     0.56657,     0.56757,     0.56857,     0.56957,     0.57057,     0.57157,     0.57257,     0.57357,     0.57457,     0.57558,\n",
              "           0.57658,     0.57758,     0.57858,     0.57958,     0.58058,     0.58158,     0.58258,     0.58358,     0.58458,     0.58559,     0.58659,     0.58759,     0.58859,     0.58959,     0.59059,     0.59159,     0.59259,     0.59359,     0.59459,      0.5956,      0.5966,      0.5976,      0.5986,      0.5996,\n",
              "            0.6006,      0.6016,      0.6026,      0.6036,      0.6046,     0.60561,     0.60661,     0.60761,     0.60861,     0.60961,     0.61061,     0.61161,     0.61261,     0.61361,     0.61461,     0.61562,     0.61662,     0.61762,     0.61862,     0.61962,     0.62062,     0.62162,     0.62262,     0.62362,\n",
              "           0.62462,     0.62563,     0.62663,     0.62763,     0.62863,     0.62963,     0.63063,     0.63163,     0.63263,     0.63363,     0.63463,     0.63564,     0.63664,     0.63764,     0.63864,     0.63964,     0.64064,     0.64164,     0.64264,     0.64364,     0.64464,     0.64565,     0.64665,     0.64765,\n",
              "           0.64865,     0.64965,     0.65065,     0.65165,     0.65265,     0.65365,     0.65465,     0.65566,     0.65666,     0.65766,     0.65866,     0.65966,     0.66066,     0.66166,     0.66266,     0.66366,     0.66466,     0.66567,     0.66667,     0.66767,     0.66867,     0.66967,     0.67067,     0.67167,\n",
              "           0.67267,     0.67367,     0.67467,     0.67568,     0.67668,     0.67768,     0.67868,     0.67968,     0.68068,     0.68168,     0.68268,     0.68368,     0.68468,     0.68569,     0.68669,     0.68769,     0.68869,     0.68969,     0.69069,     0.69169,     0.69269,     0.69369,     0.69469,      0.6957,\n",
              "            0.6967,      0.6977,      0.6987,      0.6997,      0.7007,      0.7017,      0.7027,      0.7037,      0.7047,     0.70571,     0.70671,     0.70771,     0.70871,     0.70971,     0.71071,     0.71171,     0.71271,     0.71371,     0.71471,     0.71572,     0.71672,     0.71772,     0.71872,     0.71972,\n",
              "           0.72072,     0.72172,     0.72272,     0.72372,     0.72472,     0.72573,     0.72673,     0.72773,     0.72873,     0.72973,     0.73073,     0.73173,     0.73273,     0.73373,     0.73473,     0.73574,     0.73674,     0.73774,     0.73874,     0.73974,     0.74074,     0.74174,     0.74274,     0.74374,\n",
              "           0.74474,     0.74575,     0.74675,     0.74775,     0.74875,     0.74975,     0.75075,     0.75175,     0.75275,     0.75375,     0.75475,     0.75576,     0.75676,     0.75776,     0.75876,     0.75976,     0.76076,     0.76176,     0.76276,     0.76376,     0.76476,     0.76577,     0.76677,     0.76777,\n",
              "           0.76877,     0.76977,     0.77077,     0.77177,     0.77277,     0.77377,     0.77477,     0.77578,     0.77678,     0.77778,     0.77878,     0.77978,     0.78078,     0.78178,     0.78278,     0.78378,     0.78478,     0.78579,     0.78679,     0.78779,     0.78879,     0.78979,     0.79079,     0.79179,\n",
              "           0.79279,     0.79379,     0.79479,      0.7958,      0.7968,      0.7978,      0.7988,      0.7998,      0.8008,      0.8018,      0.8028,      0.8038,      0.8048,     0.80581,     0.80681,     0.80781,     0.80881,     0.80981,     0.81081,     0.81181,     0.81281,     0.81381,     0.81481,     0.81582,\n",
              "           0.81682,     0.81782,     0.81882,     0.81982,     0.82082,     0.82182,     0.82282,     0.82382,     0.82482,     0.82583,     0.82683,     0.82783,     0.82883,     0.82983,     0.83083,     0.83183,     0.83283,     0.83383,     0.83483,     0.83584,     0.83684,     0.83784,     0.83884,     0.83984,\n",
              "           0.84084,     0.84184,     0.84284,     0.84384,     0.84484,     0.84585,     0.84685,     0.84785,     0.84885,     0.84985,     0.85085,     0.85185,     0.85285,     0.85385,     0.85485,     0.85586,     0.85686,     0.85786,     0.85886,     0.85986,     0.86086,     0.86186,     0.86286,     0.86386,\n",
              "           0.86486,     0.86587,     0.86687,     0.86787,     0.86887,     0.86987,     0.87087,     0.87187,     0.87287,     0.87387,     0.87487,     0.87588,     0.87688,     0.87788,     0.87888,     0.87988,     0.88088,     0.88188,     0.88288,     0.88388,     0.88488,     0.88589,     0.88689,     0.88789,\n",
              "           0.88889,     0.88989,     0.89089,     0.89189,     0.89289,     0.89389,     0.89489,      0.8959,      0.8969,      0.8979,      0.8989,      0.8999,      0.9009,      0.9019,      0.9029,      0.9039,      0.9049,     0.90591,     0.90691,     0.90791,     0.90891,     0.90991,     0.91091,     0.91191,\n",
              "           0.91291,     0.91391,     0.91491,     0.91592,     0.91692,     0.91792,     0.91892,     0.91992,     0.92092,     0.92192,     0.92292,     0.92392,     0.92492,     0.92593,     0.92693,     0.92793,     0.92893,     0.92993,     0.93093,     0.93193,     0.93293,     0.93393,     0.93493,     0.93594,\n",
              "           0.93694,     0.93794,     0.93894,     0.93994,     0.94094,     0.94194,     0.94294,     0.94394,     0.94494,     0.94595,     0.94695,     0.94795,     0.94895,     0.94995,     0.95095,     0.95195,     0.95295,     0.95395,     0.95495,     0.95596,     0.95696,     0.95796,     0.95896,     0.95996,\n",
              "           0.96096,     0.96196,     0.96296,     0.96396,     0.96496,     0.96597,     0.96697,     0.96797,     0.96897,     0.96997,     0.97097,     0.97197,     0.97297,     0.97397,     0.97497,     0.97598,     0.97698,     0.97798,     0.97898,     0.97998,     0.98098,     0.98198,     0.98298,     0.98398,\n",
              "           0.98498,     0.98599,     0.98699,     0.98799,     0.98899,     0.98999,     0.99099,     0.99199,     0.99299,     0.99399,     0.99499,       0.996,       0.997,       0.998,       0.999,           1]), array([[    0.83603,     0.83603,     0.81174, ...,           0,           0,           0],\n",
              "       [    0.92121,     0.92121,     0.91515, ...,           0,           0,           0]]), 'Confidence', 'Recall']]\n",
              "fitness: np.float64(0.49803388334951637)\n",
              "keys: ['metrics/precision(B)', 'metrics/recall(B)', 'metrics/mAP50(B)', 'metrics/mAP50-95(B)']\n",
              "maps: array([    0.44275,     0.50476])\n",
              "names: {0: 'graffiti', 1: 'pothole'}\n",
              "plot: True\n",
              "results_dict: {'metrics/precision(B)': np.float64(0.8218477197600546), 'metrics/recall(B)': np.float64(0.6222794749110538), 'metrics/mAP50(B)': np.float64(0.716551625971763), 'metrics/mAP50-95(B)': np.float64(0.4737541341692667), 'fitness': np.float64(0.49803388334951637)}\n",
              "save_dir: PosixPath('bitstone-train/yolov8n-graffiti-pothole')\n",
              "speed: {'preprocess': 0.19419260237668484, 'inference': 2.591021142431522, 'loss': 0.00039516023479976197, 'postprocess': 3.4653938961446467}\n",
              "task: 'detect'"
            ]
          },
          "metadata": {},
          "execution_count": 9
        }
      ]
    },
    {
      "cell_type": "code",
      "source": [
        "from google.colab import files\n",
        "files.download('/content/bitstone-train/yolov8n-graffiti-pothole/weights/best.pt')"
      ],
      "metadata": {
        "colab": {
          "base_uri": "https://localhost:8080/",
          "height": 17
        },
        "id": "rc6n6xjpJnFv",
        "outputId": "e032cafe-7ce7-4d93-98a3-16410f28ea04"
      },
      "execution_count": null,
      "outputs": [
        {
          "output_type": "display_data",
          "data": {
            "text/plain": [
              "<IPython.core.display.Javascript object>"
            ],
            "application/javascript": [
              "\n",
              "    async function download(id, filename, size) {\n",
              "      if (!google.colab.kernel.accessAllowed) {\n",
              "        return;\n",
              "      }\n",
              "      const div = document.createElement('div');\n",
              "      const label = document.createElement('label');\n",
              "      label.textContent = `Downloading \"${filename}\": `;\n",
              "      div.appendChild(label);\n",
              "      const progress = document.createElement('progress');\n",
              "      progress.max = size;\n",
              "      div.appendChild(progress);\n",
              "      document.body.appendChild(div);\n",
              "\n",
              "      const buffers = [];\n",
              "      let downloaded = 0;\n",
              "\n",
              "      const channel = await google.colab.kernel.comms.open(id);\n",
              "      // Send a message to notify the kernel that we're ready.\n",
              "      channel.send({})\n",
              "\n",
              "      for await (const message of channel.messages) {\n",
              "        // Send a message to notify the kernel that we're ready.\n",
              "        channel.send({})\n",
              "        if (message.buffers) {\n",
              "          for (const buffer of message.buffers) {\n",
              "            buffers.push(buffer);\n",
              "            downloaded += buffer.byteLength;\n",
              "            progress.value = downloaded;\n",
              "          }\n",
              "        }\n",
              "      }\n",
              "      const blob = new Blob(buffers, {type: 'application/binary'});\n",
              "      const a = document.createElement('a');\n",
              "      a.href = window.URL.createObjectURL(blob);\n",
              "      a.download = filename;\n",
              "      div.appendChild(a);\n",
              "      a.click();\n",
              "      div.remove();\n",
              "    }\n",
              "  "
            ]
          },
          "metadata": {}
        },
        {
          "output_type": "display_data",
          "data": {
            "text/plain": [
              "<IPython.core.display.Javascript object>"
            ],
            "application/javascript": [
              "download(\"download_0aaa4c0f-0ae1-49b9-a67a-5e43f8b7c6a1\", \"best.pt\", 6241891)"
            ]
          },
          "metadata": {}
        }
      ]
    },
    {
      "cell_type": "code",
      "source": [
        "model.val()\n"
      ],
      "metadata": {
        "id": "EcrduyIjJrLi",
        "outputId": "7d176d6f-0d88-483a-c770-6e712607b033",
        "colab": {
          "base_uri": "https://localhost:8080/"
        }
      },
      "execution_count": null,
      "outputs": [
        {
          "output_type": "stream",
          "name": "stdout",
          "text": [
            "Ultralytics 8.3.134 🚀 Python-3.11.12 torch-2.6.0+cu124 CUDA:0 (Tesla T4, 15095MiB)\n",
            "Model summary (fused): 72 layers, 3,006,038 parameters, 0 gradients, 8.1 GFLOPs\n",
            "\u001b[34m\u001b[1mval: \u001b[0mFast image access ✅ (ping: 0.0±0.0 ms, read: 1358.1±902.7 MB/s, size: 66.7 KB)\n"
          ]
        },
        {
          "output_type": "stream",
          "name": "stderr",
          "text": [
            "\u001b[34m\u001b[1mval: \u001b[0mScanning /content/GP_DATASET/labels/val.cache... 337 images, 0 backgrounds, 0 corrupt: 100%|██████████| 337/337 [00:00<?, ?it/s]\n",
            "                 Class     Images  Instances      Box(P          R      mAP50  mAP50-95): 100%|██████████| 22/22 [00:05<00:00,  4.24it/s]\n"
          ]
        },
        {
          "output_type": "stream",
          "name": "stdout",
          "text": [
            "                   all        337        824      0.828       0.62      0.716      0.473\n",
            "              graffiti        204        494      0.826      0.555      0.648      0.444\n",
            "               pothole        133        330      0.831      0.685      0.784      0.503\n",
            "Speed: 1.2ms preprocess, 4.8ms inference, 0.0ms loss, 2.2ms postprocess per image\n",
            "Results saved to \u001b[1mbitstone-train/yolov8n-graffiti-pothole\u001b[0m\n"
          ]
        },
        {
          "output_type": "execute_result",
          "data": {
            "text/plain": [
              "ultralytics.utils.metrics.DetMetrics object with attributes:\n",
              "\n",
              "ap_class_index: array([0, 1])\n",
              "box: ultralytics.utils.metrics.Metric object\n",
              "confusion_matrix: <ultralytics.utils.metrics.ConfusionMatrix object at 0x7913b02c41d0>\n",
              "curves: ['Precision-Recall(B)', 'F1-Confidence(B)', 'Precision-Confidence(B)', 'Recall-Confidence(B)']\n",
              "curves_results: [[array([          0,    0.001001,    0.002002,    0.003003,    0.004004,    0.005005,    0.006006,    0.007007,    0.008008,    0.009009,     0.01001,    0.011011,    0.012012,    0.013013,    0.014014,    0.015015,    0.016016,    0.017017,    0.018018,    0.019019,     0.02002,    0.021021,    0.022022,    0.023023,\n",
              "          0.024024,    0.025025,    0.026026,    0.027027,    0.028028,    0.029029,     0.03003,    0.031031,    0.032032,    0.033033,    0.034034,    0.035035,    0.036036,    0.037037,    0.038038,    0.039039,     0.04004,    0.041041,    0.042042,    0.043043,    0.044044,    0.045045,    0.046046,    0.047047,\n",
              "          0.048048,    0.049049,     0.05005,    0.051051,    0.052052,    0.053053,    0.054054,    0.055055,    0.056056,    0.057057,    0.058058,    0.059059,     0.06006,    0.061061,    0.062062,    0.063063,    0.064064,    0.065065,    0.066066,    0.067067,    0.068068,    0.069069,     0.07007,    0.071071,\n",
              "          0.072072,    0.073073,    0.074074,    0.075075,    0.076076,    0.077077,    0.078078,    0.079079,     0.08008,    0.081081,    0.082082,    0.083083,    0.084084,    0.085085,    0.086086,    0.087087,    0.088088,    0.089089,     0.09009,    0.091091,    0.092092,    0.093093,    0.094094,    0.095095,\n",
              "          0.096096,    0.097097,    0.098098,    0.099099,      0.1001,      0.1011,      0.1021,      0.1031,      0.1041,     0.10511,     0.10611,     0.10711,     0.10811,     0.10911,     0.11011,     0.11111,     0.11211,     0.11311,     0.11411,     0.11512,     0.11612,     0.11712,     0.11812,     0.11912,\n",
              "           0.12012,     0.12112,     0.12212,     0.12312,     0.12412,     0.12513,     0.12613,     0.12713,     0.12813,     0.12913,     0.13013,     0.13113,     0.13213,     0.13313,     0.13413,     0.13514,     0.13614,     0.13714,     0.13814,     0.13914,     0.14014,     0.14114,     0.14214,     0.14314,\n",
              "           0.14414,     0.14515,     0.14615,     0.14715,     0.14815,     0.14915,     0.15015,     0.15115,     0.15215,     0.15315,     0.15415,     0.15516,     0.15616,     0.15716,     0.15816,     0.15916,     0.16016,     0.16116,     0.16216,     0.16316,     0.16416,     0.16517,     0.16617,     0.16717,\n",
              "           0.16817,     0.16917,     0.17017,     0.17117,     0.17217,     0.17317,     0.17417,     0.17518,     0.17618,     0.17718,     0.17818,     0.17918,     0.18018,     0.18118,     0.18218,     0.18318,     0.18418,     0.18519,     0.18619,     0.18719,     0.18819,     0.18919,     0.19019,     0.19119,\n",
              "           0.19219,     0.19319,     0.19419,      0.1952,      0.1962,      0.1972,      0.1982,      0.1992,      0.2002,      0.2012,      0.2022,      0.2032,      0.2042,     0.20521,     0.20621,     0.20721,     0.20821,     0.20921,     0.21021,     0.21121,     0.21221,     0.21321,     0.21421,     0.21522,\n",
              "           0.21622,     0.21722,     0.21822,     0.21922,     0.22022,     0.22122,     0.22222,     0.22322,     0.22422,     0.22523,     0.22623,     0.22723,     0.22823,     0.22923,     0.23023,     0.23123,     0.23223,     0.23323,     0.23423,     0.23524,     0.23624,     0.23724,     0.23824,     0.23924,\n",
              "           0.24024,     0.24124,     0.24224,     0.24324,     0.24424,     0.24525,     0.24625,     0.24725,     0.24825,     0.24925,     0.25025,     0.25125,     0.25225,     0.25325,     0.25425,     0.25526,     0.25626,     0.25726,     0.25826,     0.25926,     0.26026,     0.26126,     0.26226,     0.26326,\n",
              "           0.26426,     0.26527,     0.26627,     0.26727,     0.26827,     0.26927,     0.27027,     0.27127,     0.27227,     0.27327,     0.27427,     0.27528,     0.27628,     0.27728,     0.27828,     0.27928,     0.28028,     0.28128,     0.28228,     0.28328,     0.28428,     0.28529,     0.28629,     0.28729,\n",
              "           0.28829,     0.28929,     0.29029,     0.29129,     0.29229,     0.29329,     0.29429,      0.2953,      0.2963,      0.2973,      0.2983,      0.2993,      0.3003,      0.3013,      0.3023,      0.3033,      0.3043,     0.30531,     0.30631,     0.30731,     0.30831,     0.30931,     0.31031,     0.31131,\n",
              "           0.31231,     0.31331,     0.31431,     0.31532,     0.31632,     0.31732,     0.31832,     0.31932,     0.32032,     0.32132,     0.32232,     0.32332,     0.32432,     0.32533,     0.32633,     0.32733,     0.32833,     0.32933,     0.33033,     0.33133,     0.33233,     0.33333,     0.33433,     0.33534,\n",
              "           0.33634,     0.33734,     0.33834,     0.33934,     0.34034,     0.34134,     0.34234,     0.34334,     0.34434,     0.34535,     0.34635,     0.34735,     0.34835,     0.34935,     0.35035,     0.35135,     0.35235,     0.35335,     0.35435,     0.35536,     0.35636,     0.35736,     0.35836,     0.35936,\n",
              "           0.36036,     0.36136,     0.36236,     0.36336,     0.36436,     0.36537,     0.36637,     0.36737,     0.36837,     0.36937,     0.37037,     0.37137,     0.37237,     0.37337,     0.37437,     0.37538,     0.37638,     0.37738,     0.37838,     0.37938,     0.38038,     0.38138,     0.38238,     0.38338,\n",
              "           0.38438,     0.38539,     0.38639,     0.38739,     0.38839,     0.38939,     0.39039,     0.39139,     0.39239,     0.39339,     0.39439,      0.3954,      0.3964,      0.3974,      0.3984,      0.3994,      0.4004,      0.4014,      0.4024,      0.4034,      0.4044,     0.40541,     0.40641,     0.40741,\n",
              "           0.40841,     0.40941,     0.41041,     0.41141,     0.41241,     0.41341,     0.41441,     0.41542,     0.41642,     0.41742,     0.41842,     0.41942,     0.42042,     0.42142,     0.42242,     0.42342,     0.42442,     0.42543,     0.42643,     0.42743,     0.42843,     0.42943,     0.43043,     0.43143,\n",
              "           0.43243,     0.43343,     0.43443,     0.43544,     0.43644,     0.43744,     0.43844,     0.43944,     0.44044,     0.44144,     0.44244,     0.44344,     0.44444,     0.44545,     0.44645,     0.44745,     0.44845,     0.44945,     0.45045,     0.45145,     0.45245,     0.45345,     0.45445,     0.45546,\n",
              "           0.45646,     0.45746,     0.45846,     0.45946,     0.46046,     0.46146,     0.46246,     0.46346,     0.46446,     0.46547,     0.46647,     0.46747,     0.46847,     0.46947,     0.47047,     0.47147,     0.47247,     0.47347,     0.47447,     0.47548,     0.47648,     0.47748,     0.47848,     0.47948,\n",
              "           0.48048,     0.48148,     0.48248,     0.48348,     0.48448,     0.48549,     0.48649,     0.48749,     0.48849,     0.48949,     0.49049,     0.49149,     0.49249,     0.49349,     0.49449,      0.4955,      0.4965,      0.4975,      0.4985,      0.4995,      0.5005,      0.5015,      0.5025,      0.5035,\n",
              "            0.5045,     0.50551,     0.50651,     0.50751,     0.50851,     0.50951,     0.51051,     0.51151,     0.51251,     0.51351,     0.51451,     0.51552,     0.51652,     0.51752,     0.51852,     0.51952,     0.52052,     0.52152,     0.52252,     0.52352,     0.52452,     0.52553,     0.52653,     0.52753,\n",
              "           0.52853,     0.52953,     0.53053,     0.53153,     0.53253,     0.53353,     0.53453,     0.53554,     0.53654,     0.53754,     0.53854,     0.53954,     0.54054,     0.54154,     0.54254,     0.54354,     0.54454,     0.54555,     0.54655,     0.54755,     0.54855,     0.54955,     0.55055,     0.55155,\n",
              "           0.55255,     0.55355,     0.55455,     0.55556,     0.55656,     0.55756,     0.55856,     0.55956,     0.56056,     0.56156,     0.56256,     0.56356,     0.56456,     0.56557,     0.56657,     0.56757,     0.56857,     0.56957,     0.57057,     0.57157,     0.57257,     0.57357,     0.57457,     0.57558,\n",
              "           0.57658,     0.57758,     0.57858,     0.57958,     0.58058,     0.58158,     0.58258,     0.58358,     0.58458,     0.58559,     0.58659,     0.58759,     0.58859,     0.58959,     0.59059,     0.59159,     0.59259,     0.59359,     0.59459,      0.5956,      0.5966,      0.5976,      0.5986,      0.5996,\n",
              "            0.6006,      0.6016,      0.6026,      0.6036,      0.6046,     0.60561,     0.60661,     0.60761,     0.60861,     0.60961,     0.61061,     0.61161,     0.61261,     0.61361,     0.61461,     0.61562,     0.61662,     0.61762,     0.61862,     0.61962,     0.62062,     0.62162,     0.62262,     0.62362,\n",
              "           0.62462,     0.62563,     0.62663,     0.62763,     0.62863,     0.62963,     0.63063,     0.63163,     0.63263,     0.63363,     0.63463,     0.63564,     0.63664,     0.63764,     0.63864,     0.63964,     0.64064,     0.64164,     0.64264,     0.64364,     0.64464,     0.64565,     0.64665,     0.64765,\n",
              "           0.64865,     0.64965,     0.65065,     0.65165,     0.65265,     0.65365,     0.65465,     0.65566,     0.65666,     0.65766,     0.65866,     0.65966,     0.66066,     0.66166,     0.66266,     0.66366,     0.66466,     0.66567,     0.66667,     0.66767,     0.66867,     0.66967,     0.67067,     0.67167,\n",
              "           0.67267,     0.67367,     0.67467,     0.67568,     0.67668,     0.67768,     0.67868,     0.67968,     0.68068,     0.68168,     0.68268,     0.68368,     0.68468,     0.68569,     0.68669,     0.68769,     0.68869,     0.68969,     0.69069,     0.69169,     0.69269,     0.69369,     0.69469,      0.6957,\n",
              "            0.6967,      0.6977,      0.6987,      0.6997,      0.7007,      0.7017,      0.7027,      0.7037,      0.7047,     0.70571,     0.70671,     0.70771,     0.70871,     0.70971,     0.71071,     0.71171,     0.71271,     0.71371,     0.71471,     0.71572,     0.71672,     0.71772,     0.71872,     0.71972,\n",
              "           0.72072,     0.72172,     0.72272,     0.72372,     0.72472,     0.72573,     0.72673,     0.72773,     0.72873,     0.72973,     0.73073,     0.73173,     0.73273,     0.73373,     0.73473,     0.73574,     0.73674,     0.73774,     0.73874,     0.73974,     0.74074,     0.74174,     0.74274,     0.74374,\n",
              "           0.74474,     0.74575,     0.74675,     0.74775,     0.74875,     0.74975,     0.75075,     0.75175,     0.75275,     0.75375,     0.75475,     0.75576,     0.75676,     0.75776,     0.75876,     0.75976,     0.76076,     0.76176,     0.76276,     0.76376,     0.76476,     0.76577,     0.76677,     0.76777,\n",
              "           0.76877,     0.76977,     0.77077,     0.77177,     0.77277,     0.77377,     0.77477,     0.77578,     0.77678,     0.77778,     0.77878,     0.77978,     0.78078,     0.78178,     0.78278,     0.78378,     0.78478,     0.78579,     0.78679,     0.78779,     0.78879,     0.78979,     0.79079,     0.79179,\n",
              "           0.79279,     0.79379,     0.79479,      0.7958,      0.7968,      0.7978,      0.7988,      0.7998,      0.8008,      0.8018,      0.8028,      0.8038,      0.8048,     0.80581,     0.80681,     0.80781,     0.80881,     0.80981,     0.81081,     0.81181,     0.81281,     0.81381,     0.81481,     0.81582,\n",
              "           0.81682,     0.81782,     0.81882,     0.81982,     0.82082,     0.82182,     0.82282,     0.82382,     0.82482,     0.82583,     0.82683,     0.82783,     0.82883,     0.82983,     0.83083,     0.83183,     0.83283,     0.83383,     0.83483,     0.83584,     0.83684,     0.83784,     0.83884,     0.83984,\n",
              "           0.84084,     0.84184,     0.84284,     0.84384,     0.84484,     0.84585,     0.84685,     0.84785,     0.84885,     0.84985,     0.85085,     0.85185,     0.85285,     0.85385,     0.85485,     0.85586,     0.85686,     0.85786,     0.85886,     0.85986,     0.86086,     0.86186,     0.86286,     0.86386,\n",
              "           0.86486,     0.86587,     0.86687,     0.86787,     0.86887,     0.86987,     0.87087,     0.87187,     0.87287,     0.87387,     0.87487,     0.87588,     0.87688,     0.87788,     0.87888,     0.87988,     0.88088,     0.88188,     0.88288,     0.88388,     0.88488,     0.88589,     0.88689,     0.88789,\n",
              "           0.88889,     0.88989,     0.89089,     0.89189,     0.89289,     0.89389,     0.89489,      0.8959,      0.8969,      0.8979,      0.8989,      0.8999,      0.9009,      0.9019,      0.9029,      0.9039,      0.9049,     0.90591,     0.90691,     0.90791,     0.90891,     0.90991,     0.91091,     0.91191,\n",
              "           0.91291,     0.91391,     0.91491,     0.91592,     0.91692,     0.91792,     0.91892,     0.91992,     0.92092,     0.92192,     0.92292,     0.92392,     0.92492,     0.92593,     0.92693,     0.92793,     0.92893,     0.92993,     0.93093,     0.93193,     0.93293,     0.93393,     0.93493,     0.93594,\n",
              "           0.93694,     0.93794,     0.93894,     0.93994,     0.94094,     0.94194,     0.94294,     0.94394,     0.94494,     0.94595,     0.94695,     0.94795,     0.94895,     0.94995,     0.95095,     0.95195,     0.95295,     0.95395,     0.95495,     0.95596,     0.95696,     0.95796,     0.95896,     0.95996,\n",
              "           0.96096,     0.96196,     0.96296,     0.96396,     0.96496,     0.96597,     0.96697,     0.96797,     0.96897,     0.96997,     0.97097,     0.97197,     0.97297,     0.97397,     0.97497,     0.97598,     0.97698,     0.97798,     0.97898,     0.97998,     0.98098,     0.98198,     0.98298,     0.98398,\n",
              "           0.98498,     0.98599,     0.98699,     0.98799,     0.98899,     0.98999,     0.99099,     0.99199,     0.99299,     0.99399,     0.99499,       0.996,       0.997,       0.998,       0.999,           1]), array([[          1,           1,           1, ...,  0.00063903,  0.00031952,           0],\n",
              "       [          1,           1,           1, ...,   0.0027019,   0.0013509,           0]]), 'Recall', 'Precision'], [array([          0,    0.001001,    0.002002,    0.003003,    0.004004,    0.005005,    0.006006,    0.007007,    0.008008,    0.009009,     0.01001,    0.011011,    0.012012,    0.013013,    0.014014,    0.015015,    0.016016,    0.017017,    0.018018,    0.019019,     0.02002,    0.021021,    0.022022,    0.023023,\n",
              "          0.024024,    0.025025,    0.026026,    0.027027,    0.028028,    0.029029,     0.03003,    0.031031,    0.032032,    0.033033,    0.034034,    0.035035,    0.036036,    0.037037,    0.038038,    0.039039,     0.04004,    0.041041,    0.042042,    0.043043,    0.044044,    0.045045,    0.046046,    0.047047,\n",
              "          0.048048,    0.049049,     0.05005,    0.051051,    0.052052,    0.053053,    0.054054,    0.055055,    0.056056,    0.057057,    0.058058,    0.059059,     0.06006,    0.061061,    0.062062,    0.063063,    0.064064,    0.065065,    0.066066,    0.067067,    0.068068,    0.069069,     0.07007,    0.071071,\n",
              "          0.072072,    0.073073,    0.074074,    0.075075,    0.076076,    0.077077,    0.078078,    0.079079,     0.08008,    0.081081,    0.082082,    0.083083,    0.084084,    0.085085,    0.086086,    0.087087,    0.088088,    0.089089,     0.09009,    0.091091,    0.092092,    0.093093,    0.094094,    0.095095,\n",
              "          0.096096,    0.097097,    0.098098,    0.099099,      0.1001,      0.1011,      0.1021,      0.1031,      0.1041,     0.10511,     0.10611,     0.10711,     0.10811,     0.10911,     0.11011,     0.11111,     0.11211,     0.11311,     0.11411,     0.11512,     0.11612,     0.11712,     0.11812,     0.11912,\n",
              "           0.12012,     0.12112,     0.12212,     0.12312,     0.12412,     0.12513,     0.12613,     0.12713,     0.12813,     0.12913,     0.13013,     0.13113,     0.13213,     0.13313,     0.13413,     0.13514,     0.13614,     0.13714,     0.13814,     0.13914,     0.14014,     0.14114,     0.14214,     0.14314,\n",
              "           0.14414,     0.14515,     0.14615,     0.14715,     0.14815,     0.14915,     0.15015,     0.15115,     0.15215,     0.15315,     0.15415,     0.15516,     0.15616,     0.15716,     0.15816,     0.15916,     0.16016,     0.16116,     0.16216,     0.16316,     0.16416,     0.16517,     0.16617,     0.16717,\n",
              "           0.16817,     0.16917,     0.17017,     0.17117,     0.17217,     0.17317,     0.17417,     0.17518,     0.17618,     0.17718,     0.17818,     0.17918,     0.18018,     0.18118,     0.18218,     0.18318,     0.18418,     0.18519,     0.18619,     0.18719,     0.18819,     0.18919,     0.19019,     0.19119,\n",
              "           0.19219,     0.19319,     0.19419,      0.1952,      0.1962,      0.1972,      0.1982,      0.1992,      0.2002,      0.2012,      0.2022,      0.2032,      0.2042,     0.20521,     0.20621,     0.20721,     0.20821,     0.20921,     0.21021,     0.21121,     0.21221,     0.21321,     0.21421,     0.21522,\n",
              "           0.21622,     0.21722,     0.21822,     0.21922,     0.22022,     0.22122,     0.22222,     0.22322,     0.22422,     0.22523,     0.22623,     0.22723,     0.22823,     0.22923,     0.23023,     0.23123,     0.23223,     0.23323,     0.23423,     0.23524,     0.23624,     0.23724,     0.23824,     0.23924,\n",
              "           0.24024,     0.24124,     0.24224,     0.24324,     0.24424,     0.24525,     0.24625,     0.24725,     0.24825,     0.24925,     0.25025,     0.25125,     0.25225,     0.25325,     0.25425,     0.25526,     0.25626,     0.25726,     0.25826,     0.25926,     0.26026,     0.26126,     0.26226,     0.26326,\n",
              "           0.26426,     0.26527,     0.26627,     0.26727,     0.26827,     0.26927,     0.27027,     0.27127,     0.27227,     0.27327,     0.27427,     0.27528,     0.27628,     0.27728,     0.27828,     0.27928,     0.28028,     0.28128,     0.28228,     0.28328,     0.28428,     0.28529,     0.28629,     0.28729,\n",
              "           0.28829,     0.28929,     0.29029,     0.29129,     0.29229,     0.29329,     0.29429,      0.2953,      0.2963,      0.2973,      0.2983,      0.2993,      0.3003,      0.3013,      0.3023,      0.3033,      0.3043,     0.30531,     0.30631,     0.30731,     0.30831,     0.30931,     0.31031,     0.31131,\n",
              "           0.31231,     0.31331,     0.31431,     0.31532,     0.31632,     0.31732,     0.31832,     0.31932,     0.32032,     0.32132,     0.32232,     0.32332,     0.32432,     0.32533,     0.32633,     0.32733,     0.32833,     0.32933,     0.33033,     0.33133,     0.33233,     0.33333,     0.33433,     0.33534,\n",
              "           0.33634,     0.33734,     0.33834,     0.33934,     0.34034,     0.34134,     0.34234,     0.34334,     0.34434,     0.34535,     0.34635,     0.34735,     0.34835,     0.34935,     0.35035,     0.35135,     0.35235,     0.35335,     0.35435,     0.35536,     0.35636,     0.35736,     0.35836,     0.35936,\n",
              "           0.36036,     0.36136,     0.36236,     0.36336,     0.36436,     0.36537,     0.36637,     0.36737,     0.36837,     0.36937,     0.37037,     0.37137,     0.37237,     0.37337,     0.37437,     0.37538,     0.37638,     0.37738,     0.37838,     0.37938,     0.38038,     0.38138,     0.38238,     0.38338,\n",
              "           0.38438,     0.38539,     0.38639,     0.38739,     0.38839,     0.38939,     0.39039,     0.39139,     0.39239,     0.39339,     0.39439,      0.3954,      0.3964,      0.3974,      0.3984,      0.3994,      0.4004,      0.4014,      0.4024,      0.4034,      0.4044,     0.40541,     0.40641,     0.40741,\n",
              "           0.40841,     0.40941,     0.41041,     0.41141,     0.41241,     0.41341,     0.41441,     0.41542,     0.41642,     0.41742,     0.41842,     0.41942,     0.42042,     0.42142,     0.42242,     0.42342,     0.42442,     0.42543,     0.42643,     0.42743,     0.42843,     0.42943,     0.43043,     0.43143,\n",
              "           0.43243,     0.43343,     0.43443,     0.43544,     0.43644,     0.43744,     0.43844,     0.43944,     0.44044,     0.44144,     0.44244,     0.44344,     0.44444,     0.44545,     0.44645,     0.44745,     0.44845,     0.44945,     0.45045,     0.45145,     0.45245,     0.45345,     0.45445,     0.45546,\n",
              "           0.45646,     0.45746,     0.45846,     0.45946,     0.46046,     0.46146,     0.46246,     0.46346,     0.46446,     0.46547,     0.46647,     0.46747,     0.46847,     0.46947,     0.47047,     0.47147,     0.47247,     0.47347,     0.47447,     0.47548,     0.47648,     0.47748,     0.47848,     0.47948,\n",
              "           0.48048,     0.48148,     0.48248,     0.48348,     0.48448,     0.48549,     0.48649,     0.48749,     0.48849,     0.48949,     0.49049,     0.49149,     0.49249,     0.49349,     0.49449,      0.4955,      0.4965,      0.4975,      0.4985,      0.4995,      0.5005,      0.5015,      0.5025,      0.5035,\n",
              "            0.5045,     0.50551,     0.50651,     0.50751,     0.50851,     0.50951,     0.51051,     0.51151,     0.51251,     0.51351,     0.51451,     0.51552,     0.51652,     0.51752,     0.51852,     0.51952,     0.52052,     0.52152,     0.52252,     0.52352,     0.52452,     0.52553,     0.52653,     0.52753,\n",
              "           0.52853,     0.52953,     0.53053,     0.53153,     0.53253,     0.53353,     0.53453,     0.53554,     0.53654,     0.53754,     0.53854,     0.53954,     0.54054,     0.54154,     0.54254,     0.54354,     0.54454,     0.54555,     0.54655,     0.54755,     0.54855,     0.54955,     0.55055,     0.55155,\n",
              "           0.55255,     0.55355,     0.55455,     0.55556,     0.55656,     0.55756,     0.55856,     0.55956,     0.56056,     0.56156,     0.56256,     0.56356,     0.56456,     0.56557,     0.56657,     0.56757,     0.56857,     0.56957,     0.57057,     0.57157,     0.57257,     0.57357,     0.57457,     0.57558,\n",
              "           0.57658,     0.57758,     0.57858,     0.57958,     0.58058,     0.58158,     0.58258,     0.58358,     0.58458,     0.58559,     0.58659,     0.58759,     0.58859,     0.58959,     0.59059,     0.59159,     0.59259,     0.59359,     0.59459,      0.5956,      0.5966,      0.5976,      0.5986,      0.5996,\n",
              "            0.6006,      0.6016,      0.6026,      0.6036,      0.6046,     0.60561,     0.60661,     0.60761,     0.60861,     0.60961,     0.61061,     0.61161,     0.61261,     0.61361,     0.61461,     0.61562,     0.61662,     0.61762,     0.61862,     0.61962,     0.62062,     0.62162,     0.62262,     0.62362,\n",
              "           0.62462,     0.62563,     0.62663,     0.62763,     0.62863,     0.62963,     0.63063,     0.63163,     0.63263,     0.63363,     0.63463,     0.63564,     0.63664,     0.63764,     0.63864,     0.63964,     0.64064,     0.64164,     0.64264,     0.64364,     0.64464,     0.64565,     0.64665,     0.64765,\n",
              "           0.64865,     0.64965,     0.65065,     0.65165,     0.65265,     0.65365,     0.65465,     0.65566,     0.65666,     0.65766,     0.65866,     0.65966,     0.66066,     0.66166,     0.66266,     0.66366,     0.66466,     0.66567,     0.66667,     0.66767,     0.66867,     0.66967,     0.67067,     0.67167,\n",
              "           0.67267,     0.67367,     0.67467,     0.67568,     0.67668,     0.67768,     0.67868,     0.67968,     0.68068,     0.68168,     0.68268,     0.68368,     0.68468,     0.68569,     0.68669,     0.68769,     0.68869,     0.68969,     0.69069,     0.69169,     0.69269,     0.69369,     0.69469,      0.6957,\n",
              "            0.6967,      0.6977,      0.6987,      0.6997,      0.7007,      0.7017,      0.7027,      0.7037,      0.7047,     0.70571,     0.70671,     0.70771,     0.70871,     0.70971,     0.71071,     0.71171,     0.71271,     0.71371,     0.71471,     0.71572,     0.71672,     0.71772,     0.71872,     0.71972,\n",
              "           0.72072,     0.72172,     0.72272,     0.72372,     0.72472,     0.72573,     0.72673,     0.72773,     0.72873,     0.72973,     0.73073,     0.73173,     0.73273,     0.73373,     0.73473,     0.73574,     0.73674,     0.73774,     0.73874,     0.73974,     0.74074,     0.74174,     0.74274,     0.74374,\n",
              "           0.74474,     0.74575,     0.74675,     0.74775,     0.74875,     0.74975,     0.75075,     0.75175,     0.75275,     0.75375,     0.75475,     0.75576,     0.75676,     0.75776,     0.75876,     0.75976,     0.76076,     0.76176,     0.76276,     0.76376,     0.76476,     0.76577,     0.76677,     0.76777,\n",
              "           0.76877,     0.76977,     0.77077,     0.77177,     0.77277,     0.77377,     0.77477,     0.77578,     0.77678,     0.77778,     0.77878,     0.77978,     0.78078,     0.78178,     0.78278,     0.78378,     0.78478,     0.78579,     0.78679,     0.78779,     0.78879,     0.78979,     0.79079,     0.79179,\n",
              "           0.79279,     0.79379,     0.79479,      0.7958,      0.7968,      0.7978,      0.7988,      0.7998,      0.8008,      0.8018,      0.8028,      0.8038,      0.8048,     0.80581,     0.80681,     0.80781,     0.80881,     0.80981,     0.81081,     0.81181,     0.81281,     0.81381,     0.81481,     0.81582,\n",
              "           0.81682,     0.81782,     0.81882,     0.81982,     0.82082,     0.82182,     0.82282,     0.82382,     0.82482,     0.82583,     0.82683,     0.82783,     0.82883,     0.82983,     0.83083,     0.83183,     0.83283,     0.83383,     0.83483,     0.83584,     0.83684,     0.83784,     0.83884,     0.83984,\n",
              "           0.84084,     0.84184,     0.84284,     0.84384,     0.84484,     0.84585,     0.84685,     0.84785,     0.84885,     0.84985,     0.85085,     0.85185,     0.85285,     0.85385,     0.85485,     0.85586,     0.85686,     0.85786,     0.85886,     0.85986,     0.86086,     0.86186,     0.86286,     0.86386,\n",
              "           0.86486,     0.86587,     0.86687,     0.86787,     0.86887,     0.86987,     0.87087,     0.87187,     0.87287,     0.87387,     0.87487,     0.87588,     0.87688,     0.87788,     0.87888,     0.87988,     0.88088,     0.88188,     0.88288,     0.88388,     0.88488,     0.88589,     0.88689,     0.88789,\n",
              "           0.88889,     0.88989,     0.89089,     0.89189,     0.89289,     0.89389,     0.89489,      0.8959,      0.8969,      0.8979,      0.8989,      0.8999,      0.9009,      0.9019,      0.9029,      0.9039,      0.9049,     0.90591,     0.90691,     0.90791,     0.90891,     0.90991,     0.91091,     0.91191,\n",
              "           0.91291,     0.91391,     0.91491,     0.91592,     0.91692,     0.91792,     0.91892,     0.91992,     0.92092,     0.92192,     0.92292,     0.92392,     0.92492,     0.92593,     0.92693,     0.92793,     0.92893,     0.92993,     0.93093,     0.93193,     0.93293,     0.93393,     0.93493,     0.93594,\n",
              "           0.93694,     0.93794,     0.93894,     0.93994,     0.94094,     0.94194,     0.94294,     0.94394,     0.94494,     0.94595,     0.94695,     0.94795,     0.94895,     0.94995,     0.95095,     0.95195,     0.95295,     0.95395,     0.95495,     0.95596,     0.95696,     0.95796,     0.95896,     0.95996,\n",
              "           0.96096,     0.96196,     0.96296,     0.96396,     0.96496,     0.96597,     0.96697,     0.96797,     0.96897,     0.96997,     0.97097,     0.97197,     0.97297,     0.97397,     0.97497,     0.97598,     0.97698,     0.97798,     0.97898,     0.97998,     0.98098,     0.98198,     0.98298,     0.98398,\n",
              "           0.98498,     0.98599,     0.98699,     0.98799,     0.98899,     0.98999,     0.99099,     0.99199,     0.99299,     0.99399,     0.99499,       0.996,       0.997,       0.998,       0.999,           1]), array([[   0.097377,     0.09747,     0.14649, ...,           0,           0,           0],\n",
              "       [    0.19066,     0.19066,     0.25254, ...,           0,           0,           0]]), 'Confidence', 'F1'], [array([          0,    0.001001,    0.002002,    0.003003,    0.004004,    0.005005,    0.006006,    0.007007,    0.008008,    0.009009,     0.01001,    0.011011,    0.012012,    0.013013,    0.014014,    0.015015,    0.016016,    0.017017,    0.018018,    0.019019,     0.02002,    0.021021,    0.022022,    0.023023,\n",
              "          0.024024,    0.025025,    0.026026,    0.027027,    0.028028,    0.029029,     0.03003,    0.031031,    0.032032,    0.033033,    0.034034,    0.035035,    0.036036,    0.037037,    0.038038,    0.039039,     0.04004,    0.041041,    0.042042,    0.043043,    0.044044,    0.045045,    0.046046,    0.047047,\n",
              "          0.048048,    0.049049,     0.05005,    0.051051,    0.052052,    0.053053,    0.054054,    0.055055,    0.056056,    0.057057,    0.058058,    0.059059,     0.06006,    0.061061,    0.062062,    0.063063,    0.064064,    0.065065,    0.066066,    0.067067,    0.068068,    0.069069,     0.07007,    0.071071,\n",
              "          0.072072,    0.073073,    0.074074,    0.075075,    0.076076,    0.077077,    0.078078,    0.079079,     0.08008,    0.081081,    0.082082,    0.083083,    0.084084,    0.085085,    0.086086,    0.087087,    0.088088,    0.089089,     0.09009,    0.091091,    0.092092,    0.093093,    0.094094,    0.095095,\n",
              "          0.096096,    0.097097,    0.098098,    0.099099,      0.1001,      0.1011,      0.1021,      0.1031,      0.1041,     0.10511,     0.10611,     0.10711,     0.10811,     0.10911,     0.11011,     0.11111,     0.11211,     0.11311,     0.11411,     0.11512,     0.11612,     0.11712,     0.11812,     0.11912,\n",
              "           0.12012,     0.12112,     0.12212,     0.12312,     0.12412,     0.12513,     0.12613,     0.12713,     0.12813,     0.12913,     0.13013,     0.13113,     0.13213,     0.13313,     0.13413,     0.13514,     0.13614,     0.13714,     0.13814,     0.13914,     0.14014,     0.14114,     0.14214,     0.14314,\n",
              "           0.14414,     0.14515,     0.14615,     0.14715,     0.14815,     0.14915,     0.15015,     0.15115,     0.15215,     0.15315,     0.15415,     0.15516,     0.15616,     0.15716,     0.15816,     0.15916,     0.16016,     0.16116,     0.16216,     0.16316,     0.16416,     0.16517,     0.16617,     0.16717,\n",
              "           0.16817,     0.16917,     0.17017,     0.17117,     0.17217,     0.17317,     0.17417,     0.17518,     0.17618,     0.17718,     0.17818,     0.17918,     0.18018,     0.18118,     0.18218,     0.18318,     0.18418,     0.18519,     0.18619,     0.18719,     0.18819,     0.18919,     0.19019,     0.19119,\n",
              "           0.19219,     0.19319,     0.19419,      0.1952,      0.1962,      0.1972,      0.1982,      0.1992,      0.2002,      0.2012,      0.2022,      0.2032,      0.2042,     0.20521,     0.20621,     0.20721,     0.20821,     0.20921,     0.21021,     0.21121,     0.21221,     0.21321,     0.21421,     0.21522,\n",
              "           0.21622,     0.21722,     0.21822,     0.21922,     0.22022,     0.22122,     0.22222,     0.22322,     0.22422,     0.22523,     0.22623,     0.22723,     0.22823,     0.22923,     0.23023,     0.23123,     0.23223,     0.23323,     0.23423,     0.23524,     0.23624,     0.23724,     0.23824,     0.23924,\n",
              "           0.24024,     0.24124,     0.24224,     0.24324,     0.24424,     0.24525,     0.24625,     0.24725,     0.24825,     0.24925,     0.25025,     0.25125,     0.25225,     0.25325,     0.25425,     0.25526,     0.25626,     0.25726,     0.25826,     0.25926,     0.26026,     0.26126,     0.26226,     0.26326,\n",
              "           0.26426,     0.26527,     0.26627,     0.26727,     0.26827,     0.26927,     0.27027,     0.27127,     0.27227,     0.27327,     0.27427,     0.27528,     0.27628,     0.27728,     0.27828,     0.27928,     0.28028,     0.28128,     0.28228,     0.28328,     0.28428,     0.28529,     0.28629,     0.28729,\n",
              "           0.28829,     0.28929,     0.29029,     0.29129,     0.29229,     0.29329,     0.29429,      0.2953,      0.2963,      0.2973,      0.2983,      0.2993,      0.3003,      0.3013,      0.3023,      0.3033,      0.3043,     0.30531,     0.30631,     0.30731,     0.30831,     0.30931,     0.31031,     0.31131,\n",
              "           0.31231,     0.31331,     0.31431,     0.31532,     0.31632,     0.31732,     0.31832,     0.31932,     0.32032,     0.32132,     0.32232,     0.32332,     0.32432,     0.32533,     0.32633,     0.32733,     0.32833,     0.32933,     0.33033,     0.33133,     0.33233,     0.33333,     0.33433,     0.33534,\n",
              "           0.33634,     0.33734,     0.33834,     0.33934,     0.34034,     0.34134,     0.34234,     0.34334,     0.34434,     0.34535,     0.34635,     0.34735,     0.34835,     0.34935,     0.35035,     0.35135,     0.35235,     0.35335,     0.35435,     0.35536,     0.35636,     0.35736,     0.35836,     0.35936,\n",
              "           0.36036,     0.36136,     0.36236,     0.36336,     0.36436,     0.36537,     0.36637,     0.36737,     0.36837,     0.36937,     0.37037,     0.37137,     0.37237,     0.37337,     0.37437,     0.37538,     0.37638,     0.37738,     0.37838,     0.37938,     0.38038,     0.38138,     0.38238,     0.38338,\n",
              "           0.38438,     0.38539,     0.38639,     0.38739,     0.38839,     0.38939,     0.39039,     0.39139,     0.39239,     0.39339,     0.39439,      0.3954,      0.3964,      0.3974,      0.3984,      0.3994,      0.4004,      0.4014,      0.4024,      0.4034,      0.4044,     0.40541,     0.40641,     0.40741,\n",
              "           0.40841,     0.40941,     0.41041,     0.41141,     0.41241,     0.41341,     0.41441,     0.41542,     0.41642,     0.41742,     0.41842,     0.41942,     0.42042,     0.42142,     0.42242,     0.42342,     0.42442,     0.42543,     0.42643,     0.42743,     0.42843,     0.42943,     0.43043,     0.43143,\n",
              "           0.43243,     0.43343,     0.43443,     0.43544,     0.43644,     0.43744,     0.43844,     0.43944,     0.44044,     0.44144,     0.44244,     0.44344,     0.44444,     0.44545,     0.44645,     0.44745,     0.44845,     0.44945,     0.45045,     0.45145,     0.45245,     0.45345,     0.45445,     0.45546,\n",
              "           0.45646,     0.45746,     0.45846,     0.45946,     0.46046,     0.46146,     0.46246,     0.46346,     0.46446,     0.46547,     0.46647,     0.46747,     0.46847,     0.46947,     0.47047,     0.47147,     0.47247,     0.47347,     0.47447,     0.47548,     0.47648,     0.47748,     0.47848,     0.47948,\n",
              "           0.48048,     0.48148,     0.48248,     0.48348,     0.48448,     0.48549,     0.48649,     0.48749,     0.48849,     0.48949,     0.49049,     0.49149,     0.49249,     0.49349,     0.49449,      0.4955,      0.4965,      0.4975,      0.4985,      0.4995,      0.5005,      0.5015,      0.5025,      0.5035,\n",
              "            0.5045,     0.50551,     0.50651,     0.50751,     0.50851,     0.50951,     0.51051,     0.51151,     0.51251,     0.51351,     0.51451,     0.51552,     0.51652,     0.51752,     0.51852,     0.51952,     0.52052,     0.52152,     0.52252,     0.52352,     0.52452,     0.52553,     0.52653,     0.52753,\n",
              "           0.52853,     0.52953,     0.53053,     0.53153,     0.53253,     0.53353,     0.53453,     0.53554,     0.53654,     0.53754,     0.53854,     0.53954,     0.54054,     0.54154,     0.54254,     0.54354,     0.54454,     0.54555,     0.54655,     0.54755,     0.54855,     0.54955,     0.55055,     0.55155,\n",
              "           0.55255,     0.55355,     0.55455,     0.55556,     0.55656,     0.55756,     0.55856,     0.55956,     0.56056,     0.56156,     0.56256,     0.56356,     0.56456,     0.56557,     0.56657,     0.56757,     0.56857,     0.56957,     0.57057,     0.57157,     0.57257,     0.57357,     0.57457,     0.57558,\n",
              "           0.57658,     0.57758,     0.57858,     0.57958,     0.58058,     0.58158,     0.58258,     0.58358,     0.58458,     0.58559,     0.58659,     0.58759,     0.58859,     0.58959,     0.59059,     0.59159,     0.59259,     0.59359,     0.59459,      0.5956,      0.5966,      0.5976,      0.5986,      0.5996,\n",
              "            0.6006,      0.6016,      0.6026,      0.6036,      0.6046,     0.60561,     0.60661,     0.60761,     0.60861,     0.60961,     0.61061,     0.61161,     0.61261,     0.61361,     0.61461,     0.61562,     0.61662,     0.61762,     0.61862,     0.61962,     0.62062,     0.62162,     0.62262,     0.62362,\n",
              "           0.62462,     0.62563,     0.62663,     0.62763,     0.62863,     0.62963,     0.63063,     0.63163,     0.63263,     0.63363,     0.63463,     0.63564,     0.63664,     0.63764,     0.63864,     0.63964,     0.64064,     0.64164,     0.64264,     0.64364,     0.64464,     0.64565,     0.64665,     0.64765,\n",
              "           0.64865,     0.64965,     0.65065,     0.65165,     0.65265,     0.65365,     0.65465,     0.65566,     0.65666,     0.65766,     0.65866,     0.65966,     0.66066,     0.66166,     0.66266,     0.66366,     0.66466,     0.66567,     0.66667,     0.66767,     0.66867,     0.66967,     0.67067,     0.67167,\n",
              "           0.67267,     0.67367,     0.67467,     0.67568,     0.67668,     0.67768,     0.67868,     0.67968,     0.68068,     0.68168,     0.68268,     0.68368,     0.68468,     0.68569,     0.68669,     0.68769,     0.68869,     0.68969,     0.69069,     0.69169,     0.69269,     0.69369,     0.69469,      0.6957,\n",
              "            0.6967,      0.6977,      0.6987,      0.6997,      0.7007,      0.7017,      0.7027,      0.7037,      0.7047,     0.70571,     0.70671,     0.70771,     0.70871,     0.70971,     0.71071,     0.71171,     0.71271,     0.71371,     0.71471,     0.71572,     0.71672,     0.71772,     0.71872,     0.71972,\n",
              "           0.72072,     0.72172,     0.72272,     0.72372,     0.72472,     0.72573,     0.72673,     0.72773,     0.72873,     0.72973,     0.73073,     0.73173,     0.73273,     0.73373,     0.73473,     0.73574,     0.73674,     0.73774,     0.73874,     0.73974,     0.74074,     0.74174,     0.74274,     0.74374,\n",
              "           0.74474,     0.74575,     0.74675,     0.74775,     0.74875,     0.74975,     0.75075,     0.75175,     0.75275,     0.75375,     0.75475,     0.75576,     0.75676,     0.75776,     0.75876,     0.75976,     0.76076,     0.76176,     0.76276,     0.76376,     0.76476,     0.76577,     0.76677,     0.76777,\n",
              "           0.76877,     0.76977,     0.77077,     0.77177,     0.77277,     0.77377,     0.77477,     0.77578,     0.77678,     0.77778,     0.77878,     0.77978,     0.78078,     0.78178,     0.78278,     0.78378,     0.78478,     0.78579,     0.78679,     0.78779,     0.78879,     0.78979,     0.79079,     0.79179,\n",
              "           0.79279,     0.79379,     0.79479,      0.7958,      0.7968,      0.7978,      0.7988,      0.7998,      0.8008,      0.8018,      0.8028,      0.8038,      0.8048,     0.80581,     0.80681,     0.80781,     0.80881,     0.80981,     0.81081,     0.81181,     0.81281,     0.81381,     0.81481,     0.81582,\n",
              "           0.81682,     0.81782,     0.81882,     0.81982,     0.82082,     0.82182,     0.82282,     0.82382,     0.82482,     0.82583,     0.82683,     0.82783,     0.82883,     0.82983,     0.83083,     0.83183,     0.83283,     0.83383,     0.83483,     0.83584,     0.83684,     0.83784,     0.83884,     0.83984,\n",
              "           0.84084,     0.84184,     0.84284,     0.84384,     0.84484,     0.84585,     0.84685,     0.84785,     0.84885,     0.84985,     0.85085,     0.85185,     0.85285,     0.85385,     0.85485,     0.85586,     0.85686,     0.85786,     0.85886,     0.85986,     0.86086,     0.86186,     0.86286,     0.86386,\n",
              "           0.86486,     0.86587,     0.86687,     0.86787,     0.86887,     0.86987,     0.87087,     0.87187,     0.87287,     0.87387,     0.87487,     0.87588,     0.87688,     0.87788,     0.87888,     0.87988,     0.88088,     0.88188,     0.88288,     0.88388,     0.88488,     0.88589,     0.88689,     0.88789,\n",
              "           0.88889,     0.88989,     0.89089,     0.89189,     0.89289,     0.89389,     0.89489,      0.8959,      0.8969,      0.8979,      0.8989,      0.8999,      0.9009,      0.9019,      0.9029,      0.9039,      0.9049,     0.90591,     0.90691,     0.90791,     0.90891,     0.90991,     0.91091,     0.91191,\n",
              "           0.91291,     0.91391,     0.91491,     0.91592,     0.91692,     0.91792,     0.91892,     0.91992,     0.92092,     0.92192,     0.92292,     0.92392,     0.92492,     0.92593,     0.92693,     0.92793,     0.92893,     0.92993,     0.93093,     0.93193,     0.93293,     0.93393,     0.93493,     0.93594,\n",
              "           0.93694,     0.93794,     0.93894,     0.93994,     0.94094,     0.94194,     0.94294,     0.94394,     0.94494,     0.94595,     0.94695,     0.94795,     0.94895,     0.94995,     0.95095,     0.95195,     0.95295,     0.95395,     0.95495,     0.95596,     0.95696,     0.95796,     0.95896,     0.95996,\n",
              "           0.96096,     0.96196,     0.96296,     0.96396,     0.96496,     0.96597,     0.96697,     0.96797,     0.96897,     0.96997,     0.97097,     0.97197,     0.97297,     0.97397,     0.97497,     0.97598,     0.97698,     0.97798,     0.97898,     0.97998,     0.98098,     0.98198,     0.98298,     0.98398,\n",
              "           0.98498,     0.98599,     0.98699,     0.98799,     0.98899,     0.98999,     0.99099,     0.99199,     0.99299,     0.99399,     0.99499,       0.996,       0.997,       0.998,       0.999,           1]), array([[   0.051692,    0.051744,    0.080492, ...,           1,           1,           1],\n",
              "       [    0.10633,     0.10633,     0.14648, ...,           1,           1,           1]]), 'Confidence', 'Precision'], [array([          0,    0.001001,    0.002002,    0.003003,    0.004004,    0.005005,    0.006006,    0.007007,    0.008008,    0.009009,     0.01001,    0.011011,    0.012012,    0.013013,    0.014014,    0.015015,    0.016016,    0.017017,    0.018018,    0.019019,     0.02002,    0.021021,    0.022022,    0.023023,\n",
              "          0.024024,    0.025025,    0.026026,    0.027027,    0.028028,    0.029029,     0.03003,    0.031031,    0.032032,    0.033033,    0.034034,    0.035035,    0.036036,    0.037037,    0.038038,    0.039039,     0.04004,    0.041041,    0.042042,    0.043043,    0.044044,    0.045045,    0.046046,    0.047047,\n",
              "          0.048048,    0.049049,     0.05005,    0.051051,    0.052052,    0.053053,    0.054054,    0.055055,    0.056056,    0.057057,    0.058058,    0.059059,     0.06006,    0.061061,    0.062062,    0.063063,    0.064064,    0.065065,    0.066066,    0.067067,    0.068068,    0.069069,     0.07007,    0.071071,\n",
              "          0.072072,    0.073073,    0.074074,    0.075075,    0.076076,    0.077077,    0.078078,    0.079079,     0.08008,    0.081081,    0.082082,    0.083083,    0.084084,    0.085085,    0.086086,    0.087087,    0.088088,    0.089089,     0.09009,    0.091091,    0.092092,    0.093093,    0.094094,    0.095095,\n",
              "          0.096096,    0.097097,    0.098098,    0.099099,      0.1001,      0.1011,      0.1021,      0.1031,      0.1041,     0.10511,     0.10611,     0.10711,     0.10811,     0.10911,     0.11011,     0.11111,     0.11211,     0.11311,     0.11411,     0.11512,     0.11612,     0.11712,     0.11812,     0.11912,\n",
              "           0.12012,     0.12112,     0.12212,     0.12312,     0.12412,     0.12513,     0.12613,     0.12713,     0.12813,     0.12913,     0.13013,     0.13113,     0.13213,     0.13313,     0.13413,     0.13514,     0.13614,     0.13714,     0.13814,     0.13914,     0.14014,     0.14114,     0.14214,     0.14314,\n",
              "           0.14414,     0.14515,     0.14615,     0.14715,     0.14815,     0.14915,     0.15015,     0.15115,     0.15215,     0.15315,     0.15415,     0.15516,     0.15616,     0.15716,     0.15816,     0.15916,     0.16016,     0.16116,     0.16216,     0.16316,     0.16416,     0.16517,     0.16617,     0.16717,\n",
              "           0.16817,     0.16917,     0.17017,     0.17117,     0.17217,     0.17317,     0.17417,     0.17518,     0.17618,     0.17718,     0.17818,     0.17918,     0.18018,     0.18118,     0.18218,     0.18318,     0.18418,     0.18519,     0.18619,     0.18719,     0.18819,     0.18919,     0.19019,     0.19119,\n",
              "           0.19219,     0.19319,     0.19419,      0.1952,      0.1962,      0.1972,      0.1982,      0.1992,      0.2002,      0.2012,      0.2022,      0.2032,      0.2042,     0.20521,     0.20621,     0.20721,     0.20821,     0.20921,     0.21021,     0.21121,     0.21221,     0.21321,     0.21421,     0.21522,\n",
              "           0.21622,     0.21722,     0.21822,     0.21922,     0.22022,     0.22122,     0.22222,     0.22322,     0.22422,     0.22523,     0.22623,     0.22723,     0.22823,     0.22923,     0.23023,     0.23123,     0.23223,     0.23323,     0.23423,     0.23524,     0.23624,     0.23724,     0.23824,     0.23924,\n",
              "           0.24024,     0.24124,     0.24224,     0.24324,     0.24424,     0.24525,     0.24625,     0.24725,     0.24825,     0.24925,     0.25025,     0.25125,     0.25225,     0.25325,     0.25425,     0.25526,     0.25626,     0.25726,     0.25826,     0.25926,     0.26026,     0.26126,     0.26226,     0.26326,\n",
              "           0.26426,     0.26527,     0.26627,     0.26727,     0.26827,     0.26927,     0.27027,     0.27127,     0.27227,     0.27327,     0.27427,     0.27528,     0.27628,     0.27728,     0.27828,     0.27928,     0.28028,     0.28128,     0.28228,     0.28328,     0.28428,     0.28529,     0.28629,     0.28729,\n",
              "           0.28829,     0.28929,     0.29029,     0.29129,     0.29229,     0.29329,     0.29429,      0.2953,      0.2963,      0.2973,      0.2983,      0.2993,      0.3003,      0.3013,      0.3023,      0.3033,      0.3043,     0.30531,     0.30631,     0.30731,     0.30831,     0.30931,     0.31031,     0.31131,\n",
              "           0.31231,     0.31331,     0.31431,     0.31532,     0.31632,     0.31732,     0.31832,     0.31932,     0.32032,     0.32132,     0.32232,     0.32332,     0.32432,     0.32533,     0.32633,     0.32733,     0.32833,     0.32933,     0.33033,     0.33133,     0.33233,     0.33333,     0.33433,     0.33534,\n",
              "           0.33634,     0.33734,     0.33834,     0.33934,     0.34034,     0.34134,     0.34234,     0.34334,     0.34434,     0.34535,     0.34635,     0.34735,     0.34835,     0.34935,     0.35035,     0.35135,     0.35235,     0.35335,     0.35435,     0.35536,     0.35636,     0.35736,     0.35836,     0.35936,\n",
              "           0.36036,     0.36136,     0.36236,     0.36336,     0.36436,     0.36537,     0.36637,     0.36737,     0.36837,     0.36937,     0.37037,     0.37137,     0.37237,     0.37337,     0.37437,     0.37538,     0.37638,     0.37738,     0.37838,     0.37938,     0.38038,     0.38138,     0.38238,     0.38338,\n",
              "           0.38438,     0.38539,     0.38639,     0.38739,     0.38839,     0.38939,     0.39039,     0.39139,     0.39239,     0.39339,     0.39439,      0.3954,      0.3964,      0.3974,      0.3984,      0.3994,      0.4004,      0.4014,      0.4024,      0.4034,      0.4044,     0.40541,     0.40641,     0.40741,\n",
              "           0.40841,     0.40941,     0.41041,     0.41141,     0.41241,     0.41341,     0.41441,     0.41542,     0.41642,     0.41742,     0.41842,     0.41942,     0.42042,     0.42142,     0.42242,     0.42342,     0.42442,     0.42543,     0.42643,     0.42743,     0.42843,     0.42943,     0.43043,     0.43143,\n",
              "           0.43243,     0.43343,     0.43443,     0.43544,     0.43644,     0.43744,     0.43844,     0.43944,     0.44044,     0.44144,     0.44244,     0.44344,     0.44444,     0.44545,     0.44645,     0.44745,     0.44845,     0.44945,     0.45045,     0.45145,     0.45245,     0.45345,     0.45445,     0.45546,\n",
              "           0.45646,     0.45746,     0.45846,     0.45946,     0.46046,     0.46146,     0.46246,     0.46346,     0.46446,     0.46547,     0.46647,     0.46747,     0.46847,     0.46947,     0.47047,     0.47147,     0.47247,     0.47347,     0.47447,     0.47548,     0.47648,     0.47748,     0.47848,     0.47948,\n",
              "           0.48048,     0.48148,     0.48248,     0.48348,     0.48448,     0.48549,     0.48649,     0.48749,     0.48849,     0.48949,     0.49049,     0.49149,     0.49249,     0.49349,     0.49449,      0.4955,      0.4965,      0.4975,      0.4985,      0.4995,      0.5005,      0.5015,      0.5025,      0.5035,\n",
              "            0.5045,     0.50551,     0.50651,     0.50751,     0.50851,     0.50951,     0.51051,     0.51151,     0.51251,     0.51351,     0.51451,     0.51552,     0.51652,     0.51752,     0.51852,     0.51952,     0.52052,     0.52152,     0.52252,     0.52352,     0.52452,     0.52553,     0.52653,     0.52753,\n",
              "           0.52853,     0.52953,     0.53053,     0.53153,     0.53253,     0.53353,     0.53453,     0.53554,     0.53654,     0.53754,     0.53854,     0.53954,     0.54054,     0.54154,     0.54254,     0.54354,     0.54454,     0.54555,     0.54655,     0.54755,     0.54855,     0.54955,     0.55055,     0.55155,\n",
              "           0.55255,     0.55355,     0.55455,     0.55556,     0.55656,     0.55756,     0.55856,     0.55956,     0.56056,     0.56156,     0.56256,     0.56356,     0.56456,     0.56557,     0.56657,     0.56757,     0.56857,     0.56957,     0.57057,     0.57157,     0.57257,     0.57357,     0.57457,     0.57558,\n",
              "           0.57658,     0.57758,     0.57858,     0.57958,     0.58058,     0.58158,     0.58258,     0.58358,     0.58458,     0.58559,     0.58659,     0.58759,     0.58859,     0.58959,     0.59059,     0.59159,     0.59259,     0.59359,     0.59459,      0.5956,      0.5966,      0.5976,      0.5986,      0.5996,\n",
              "            0.6006,      0.6016,      0.6026,      0.6036,      0.6046,     0.60561,     0.60661,     0.60761,     0.60861,     0.60961,     0.61061,     0.61161,     0.61261,     0.61361,     0.61461,     0.61562,     0.61662,     0.61762,     0.61862,     0.61962,     0.62062,     0.62162,     0.62262,     0.62362,\n",
              "           0.62462,     0.62563,     0.62663,     0.62763,     0.62863,     0.62963,     0.63063,     0.63163,     0.63263,     0.63363,     0.63463,     0.63564,     0.63664,     0.63764,     0.63864,     0.63964,     0.64064,     0.64164,     0.64264,     0.64364,     0.64464,     0.64565,     0.64665,     0.64765,\n",
              "           0.64865,     0.64965,     0.65065,     0.65165,     0.65265,     0.65365,     0.65465,     0.65566,     0.65666,     0.65766,     0.65866,     0.65966,     0.66066,     0.66166,     0.66266,     0.66366,     0.66466,     0.66567,     0.66667,     0.66767,     0.66867,     0.66967,     0.67067,     0.67167,\n",
              "           0.67267,     0.67367,     0.67467,     0.67568,     0.67668,     0.67768,     0.67868,     0.67968,     0.68068,     0.68168,     0.68268,     0.68368,     0.68468,     0.68569,     0.68669,     0.68769,     0.68869,     0.68969,     0.69069,     0.69169,     0.69269,     0.69369,     0.69469,      0.6957,\n",
              "            0.6967,      0.6977,      0.6987,      0.6997,      0.7007,      0.7017,      0.7027,      0.7037,      0.7047,     0.70571,     0.70671,     0.70771,     0.70871,     0.70971,     0.71071,     0.71171,     0.71271,     0.71371,     0.71471,     0.71572,     0.71672,     0.71772,     0.71872,     0.71972,\n",
              "           0.72072,     0.72172,     0.72272,     0.72372,     0.72472,     0.72573,     0.72673,     0.72773,     0.72873,     0.72973,     0.73073,     0.73173,     0.73273,     0.73373,     0.73473,     0.73574,     0.73674,     0.73774,     0.73874,     0.73974,     0.74074,     0.74174,     0.74274,     0.74374,\n",
              "           0.74474,     0.74575,     0.74675,     0.74775,     0.74875,     0.74975,     0.75075,     0.75175,     0.75275,     0.75375,     0.75475,     0.75576,     0.75676,     0.75776,     0.75876,     0.75976,     0.76076,     0.76176,     0.76276,     0.76376,     0.76476,     0.76577,     0.76677,     0.76777,\n",
              "           0.76877,     0.76977,     0.77077,     0.77177,     0.77277,     0.77377,     0.77477,     0.77578,     0.77678,     0.77778,     0.77878,     0.77978,     0.78078,     0.78178,     0.78278,     0.78378,     0.78478,     0.78579,     0.78679,     0.78779,     0.78879,     0.78979,     0.79079,     0.79179,\n",
              "           0.79279,     0.79379,     0.79479,      0.7958,      0.7968,      0.7978,      0.7988,      0.7998,      0.8008,      0.8018,      0.8028,      0.8038,      0.8048,     0.80581,     0.80681,     0.80781,     0.80881,     0.80981,     0.81081,     0.81181,     0.81281,     0.81381,     0.81481,     0.81582,\n",
              "           0.81682,     0.81782,     0.81882,     0.81982,     0.82082,     0.82182,     0.82282,     0.82382,     0.82482,     0.82583,     0.82683,     0.82783,     0.82883,     0.82983,     0.83083,     0.83183,     0.83283,     0.83383,     0.83483,     0.83584,     0.83684,     0.83784,     0.83884,     0.83984,\n",
              "           0.84084,     0.84184,     0.84284,     0.84384,     0.84484,     0.84585,     0.84685,     0.84785,     0.84885,     0.84985,     0.85085,     0.85185,     0.85285,     0.85385,     0.85485,     0.85586,     0.85686,     0.85786,     0.85886,     0.85986,     0.86086,     0.86186,     0.86286,     0.86386,\n",
              "           0.86486,     0.86587,     0.86687,     0.86787,     0.86887,     0.86987,     0.87087,     0.87187,     0.87287,     0.87387,     0.87487,     0.87588,     0.87688,     0.87788,     0.87888,     0.87988,     0.88088,     0.88188,     0.88288,     0.88388,     0.88488,     0.88589,     0.88689,     0.88789,\n",
              "           0.88889,     0.88989,     0.89089,     0.89189,     0.89289,     0.89389,     0.89489,      0.8959,      0.8969,      0.8979,      0.8989,      0.8999,      0.9009,      0.9019,      0.9029,      0.9039,      0.9049,     0.90591,     0.90691,     0.90791,     0.90891,     0.90991,     0.91091,     0.91191,\n",
              "           0.91291,     0.91391,     0.91491,     0.91592,     0.91692,     0.91792,     0.91892,     0.91992,     0.92092,     0.92192,     0.92292,     0.92392,     0.92492,     0.92593,     0.92693,     0.92793,     0.92893,     0.92993,     0.93093,     0.93193,     0.93293,     0.93393,     0.93493,     0.93594,\n",
              "           0.93694,     0.93794,     0.93894,     0.93994,     0.94094,     0.94194,     0.94294,     0.94394,     0.94494,     0.94595,     0.94695,     0.94795,     0.94895,     0.94995,     0.95095,     0.95195,     0.95295,     0.95395,     0.95495,     0.95596,     0.95696,     0.95796,     0.95896,     0.95996,\n",
              "           0.96096,     0.96196,     0.96296,     0.96396,     0.96496,     0.96597,     0.96697,     0.96797,     0.96897,     0.96997,     0.97097,     0.97197,     0.97297,     0.97397,     0.97497,     0.97598,     0.97698,     0.97798,     0.97898,     0.97998,     0.98098,     0.98198,     0.98298,     0.98398,\n",
              "           0.98498,     0.98599,     0.98699,     0.98799,     0.98899,     0.98999,     0.99099,     0.99199,     0.99299,     0.99399,     0.99499,       0.996,       0.997,       0.998,       0.999,           1]), array([[    0.83806,     0.83806,     0.81377, ...,           0,           0,           0],\n",
              "       [    0.92121,     0.92121,     0.91515, ...,           0,           0,           0]]), 'Confidence', 'Recall']]\n",
              "fitness: np.float64(0.49734634974579434)\n",
              "keys: ['metrics/precision(B)', 'metrics/recall(B)', 'metrics/mAP50(B)', 'metrics/mAP50-95(B)']\n",
              "maps: array([     0.4435,     0.50253])\n",
              "names: {0: 'graffiti', 1: 'pothole'}\n",
              "plot: True\n",
              "results_dict: {'metrics/precision(B)': np.float64(0.8284776854382874), 'metrics/recall(B)': np.float64(0.6197521776469145), 'metrics/mAP50(B)': np.float64(0.7163088674333006), 'metrics/mAP50-95(B)': np.float64(0.47301718111384916), 'fitness': np.float64(0.49734634974579434)}\n",
              "save_dir: PosixPath('bitstone-train/yolov8n-graffiti-pothole')\n",
              "speed: {'preprocess': 1.172130367942335, 'inference': 4.792382216616637, 'loss': 0.0009152878240831762, 'postprocess': 2.248766655787111}\n",
              "task: 'detect'"
            ]
          },
          "metadata": {},
          "execution_count": 11
        }
      ]
    }
  ]
}